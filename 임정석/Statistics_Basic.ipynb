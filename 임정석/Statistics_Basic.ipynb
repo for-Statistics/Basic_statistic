{
  "nbformat": 4,
  "nbformat_minor": 0,
  "metadata": {
    "colab": {
      "name": "Statistics_Basic.ipynb",
      "provenance": [],
      "toc_visible": true
    },
    "kernelspec": {
      "name": "python3",
      "display_name": "Python 3"
    },
    "language_info": {
      "name": "python"
    }
  },
  "cells": [
    {
      "cell_type": "markdown",
      "metadata": {
        "id": "amNxbRsdVXgc"
      },
      "source": [
        "< 기초통계 >"
      ]
    },
    {
      "cell_type": "code",
      "metadata": {
        "id": "n35oauLfPUNz"
      },
      "source": [
        "# 필요한 csv파일 불러오기\n",
        "import pandas as pd\n",
        "import matplotlib.pyplot as plt\n",
        "\n",
        "#state = pd.read_csv('/content/state.csv')\n",
        "#kc_tax = pd.read_csv('/content/kc_tax.csv')\n",
        "#airline_stats = pd.read_csv('/content/airline_stats.csv')\n",
        "#loans_income = pd.read_csv('/content/loans_income.csv')"
      ],
      "execution_count": 3,
      "outputs": []
    },
    {
      "cell_type": "markdown",
      "metadata": {
        "id": "3T9eb2tGVaGI"
      },
      "source": [
        "# CH1. 탐색적 데이터분석"
      ]
    },
    {
      "cell_type": "markdown",
      "metadata": {
        "id": "Pc8KooRKZ3ob"
      },
      "source": [
        "![](https://images.velog.io/images/ljs7463/post/ff724f1c-8cc1-4afc-a3b7-0b653910e1ec/crowd-1699137_640.jpg)"
      ]
    },
    {
      "cell_type": "markdown",
      "metadata": {
        "id": "Wlg1wVXRVyJk"
      },
      "source": [
        "# 데이터의 종류\n",
        "\n",
        "## 1. 범주형(Categorical)\n",
        "### - 명목형(Nominal) : 순서가 없고, 셀 수 있다.\n",
        "         (Ex) 성별(남 or 여), 성공여부, 혈액형)/ one-hot encoding사용\n",
        "### - 순서형(Oridinal) : 카테고리들이 순서가 있다. \n",
        "\t     (Ex) 만족도조사(매우만족, 만족, 보통, 불만족, 매우불만족)/ LabelEncoding사용\n",
        "## 2. 수치형(Numerical)\n",
        "### - 이산형(Discrete data) : 수치적 의미를 가지지만 소수점X(counted)\n",
        "\t     (Ex) 주사위가 2가 나올 횟수 1번,2번/ 사람이 1명 2명)\n",
        "### - 연속형(Continuous data) : 셀수없고 측정가능한 데이터(소수점 가능,measured)\n",
        "\t     (Ex) 측정해서 나온데이터 : 키, 몸무게 -> 180.1, 180.2, 180.3....)\n",
        "        \n",
        "\n",
        "### 연속성 데이터 설명\n",
        "- 이산데이터와 달리 Group을 지어서 Table을 만들어야한다.\n",
        "\n",
        "179(cm) - 1명\n",
        "179.1   - 3명\n",
        "179.2   - 2명\n",
        "179.3   - 1명\n",
        ".\n",
        ".\n",
        ".\n",
        ".\n",
        "180.1   - 1명\n",
        "\n",
        "위와 같은 데이터가 있을때 한 데이터 마다 따로 계산을 하는것이 아닌\n",
        "그룹화 시킨다. \n",
        "- 179 ~ 180 : 1명\n",
        "- 180 ~ 181 : 3명 \n",
        "\n",
        "위와같은것은 표로 만들게 되면 빈도표/ 빈도분포표(Frequency Table)이라고 부른다.\n",
        "\n",
        "\n",
        "### 주의해야 할 것\n",
        "서울을 1, 부산을 2, 대구를 3으로 했을때는 \n",
        "1, 2, 3은 카테고리컬 데이터로 볼 수 있다. 즉, 숫자라고 numerical data가 아니다.\n",
        "\n",
        "---"
      ]
    },
    {
      "cell_type": "markdown",
      "metadata": {
        "id": "67SOqXtnWRcA"
      },
      "source": [
        "## 💡 위치 추정\n",
        "데이터를 살펴보는 기초 단계중 하나는 각 feature(변수)의 대푯값을 구하는 것이다. 이는 곧 값이 어디쯤 위치하는지(중심경향성)를 나타내는 추정값이다.\n",
        "\n",
        "- 평균 : 모든 값들의 합을 개수로 나눈 값\n",
        "- 가중평균 : 가중치를 곱한 값의 총합을 가중치의 총합으로 나눈 값\n",
        "- 중간값 : 데이터에서 가장 가운데 위치한 값\n",
        "- 백분위수(percentile) : 전체 데이터의 X%를 아래에 두는 값\n",
        "Ex) 1사분면 : 하위 25%\n",
        "- 가중 중간값 : 데이터를 정렬한 후, 각 가중치 값을 위에서부터 더할 때, 총합의 중간이 위치하는 데이터 값\n",
        "- 절사평균 : 정해진 개수의 극단값을 제외한 나머지 값들의 평균\n",
        "- 로버스트하다(robust) : 극단값들에 민감하지 않다는 것을 의미한다.\n",
        "- 특잇값 : 대부분의 값과 매우 다른 데이터 값"
      ]
    },
    {
      "cell_type": "markdown",
      "metadata": {
        "id": "Zb6qhw7dWgYs"
      },
      "source": [
        "### 📈 평균 \n",
        "- 평균은 가장 기본적이면서 친숙한 위치 추정 방법이다. 평균은 모든 값의 총합을 개수로 나눈 값이다.\n",
        "- 코드로는 mean()을 사용해서 평균을 구할 수 있다.\n",
        "- 극단값에 민감하다."
      ]
    },
    {
      "cell_type": "markdown",
      "metadata": {
        "id": "xok4NwJyWgWH"
      },
      "source": [
        "### 📈 절사평균 \n",
        "- 평균을 조금 변형한 것 중 하나로서 값들을 크기순서로 정렬을 한 후, 양 끝에서 일정 개수의 값들을 삭제한 뒤 남은 값들을 가지고 구한 평균을 말한다.\n",
        "- 즉, 절사평균은 극단값의 영향을 제거한다는 것이다. 양 극단값을 제거함으로서 좀 더 이상치의 영향을 덜 받아 로버스트하게 된다.\n",
        "- 코드로는 먼저 from scipy import stats로 메소드를 불러오고 stats.trim_mean()을 통해 구할 수 있습니다. 이때 또 넣어주어야 할 값이 각 끝에 빼줄 값의 크기를 부여 해 주어야한다.  stats.trim_mean(fruits['apple'], 0.1 ) 이런식으로 뒤에 0.1을 넣으면 위,아래 10%를 뜻한다."
      ]
    },
    {
      "cell_type": "code",
      "metadata": {
        "colab": {
          "base_uri": "https://localhost:8080/",
          "height": 363
        },
        "id": "G7eqXxpRWkbR",
        "outputId": "002d8afa-509f-4736-e767-d95981b60c27"
      },
      "source": [
        "from scipy import stats\n",
        "df = pd.DataFrame({'House' :[1,2,51,52,53,54,55,99,100,50000],\n",
        "                   'Car' : [0,0,1,1,1,1,1,1,1,3]})\n",
        "df"
      ],
      "execution_count": null,
      "outputs": [
        {
          "output_type": "execute_result",
          "data": {
            "text/html": [
              "<div>\n",
              "<style scoped>\n",
              "    .dataframe tbody tr th:only-of-type {\n",
              "        vertical-align: middle;\n",
              "    }\n",
              "\n",
              "    .dataframe tbody tr th {\n",
              "        vertical-align: top;\n",
              "    }\n",
              "\n",
              "    .dataframe thead th {\n",
              "        text-align: right;\n",
              "    }\n",
              "</style>\n",
              "<table border=\"1\" class=\"dataframe\">\n",
              "  <thead>\n",
              "    <tr style=\"text-align: right;\">\n",
              "      <th></th>\n",
              "      <th>House</th>\n",
              "      <th>Car</th>\n",
              "    </tr>\n",
              "  </thead>\n",
              "  <tbody>\n",
              "    <tr>\n",
              "      <th>0</th>\n",
              "      <td>1</td>\n",
              "      <td>0</td>\n",
              "    </tr>\n",
              "    <tr>\n",
              "      <th>1</th>\n",
              "      <td>2</td>\n",
              "      <td>0</td>\n",
              "    </tr>\n",
              "    <tr>\n",
              "      <th>2</th>\n",
              "      <td>51</td>\n",
              "      <td>1</td>\n",
              "    </tr>\n",
              "    <tr>\n",
              "      <th>3</th>\n",
              "      <td>52</td>\n",
              "      <td>1</td>\n",
              "    </tr>\n",
              "    <tr>\n",
              "      <th>4</th>\n",
              "      <td>53</td>\n",
              "      <td>1</td>\n",
              "    </tr>\n",
              "    <tr>\n",
              "      <th>5</th>\n",
              "      <td>54</td>\n",
              "      <td>1</td>\n",
              "    </tr>\n",
              "    <tr>\n",
              "      <th>6</th>\n",
              "      <td>55</td>\n",
              "      <td>1</td>\n",
              "    </tr>\n",
              "    <tr>\n",
              "      <th>7</th>\n",
              "      <td>99</td>\n",
              "      <td>1</td>\n",
              "    </tr>\n",
              "    <tr>\n",
              "      <th>8</th>\n",
              "      <td>100</td>\n",
              "      <td>1</td>\n",
              "    </tr>\n",
              "    <tr>\n",
              "      <th>9</th>\n",
              "      <td>50000</td>\n",
              "      <td>3</td>\n",
              "    </tr>\n",
              "  </tbody>\n",
              "</table>\n",
              "</div>"
            ],
            "text/plain": [
              "   House  Car\n",
              "0      1    0\n",
              "1      2    0\n",
              "2     51    1\n",
              "3     52    1\n",
              "4     53    1\n",
              "5     54    1\n",
              "6     55    1\n",
              "7     99    1\n",
              "8    100    1\n",
              "9  50000    3"
            ]
          },
          "metadata": {},
          "execution_count": 19
        }
      ]
    },
    {
      "cell_type": "code",
      "metadata": {
        "colab": {
          "base_uri": "https://localhost:8080/"
        },
        "id": "HVD2K6hcXQOr",
        "outputId": "92e9641a-4fe2-418b-9f54-bc9ad89fcf2c"
      },
      "source": [
        "df['House'].mean()  # 평균"
      ],
      "execution_count": null,
      "outputs": [
        {
          "output_type": "execute_result",
          "data": {
            "text/plain": [
              "5046.7"
            ]
          },
          "metadata": {},
          "execution_count": 20
        }
      ]
    },
    {
      "cell_type": "code",
      "metadata": {
        "colab": {
          "base_uri": "https://localhost:8080/"
        },
        "id": "Zey3AkmcXQLz",
        "outputId": "b7d1356e-5a70-4d99-a3a2-550d670e8e43"
      },
      "source": [
        "import pandas as pd\n",
        "from scipy.stats import trim_mean\n",
        "trim_mean(df['House'],0.1) # 절사평균(10%)"
      ],
      "execution_count": null,
      "outputs": [
        {
          "output_type": "execute_result",
          "data": {
            "text/plain": [
              "58.25"
            ]
          },
          "metadata": {},
          "execution_count": 21
        }
      ]
    },
    {
      "cell_type": "markdown",
      "metadata": {
        "id": "mqGiHwVTWgTg"
      },
      "source": [
        "### 📈 가중평균\n",
        "- 또 다른 종류의 평균으로, 각 데이터에 사용자가 지정한 가중치(w)를 곱한 값들의 총합을 다시 가중치의 총합으로 나누어준 가중평균이 있다.\n",
        "- 가중평균을 사용하는 이유는 센서를 통해 데이터의 평균을 낸다고 가정했을때 특정 하나의 센서가 다른 센서들에 비해 정확도가 떨어질 경우에는 떨어지는 해당 센서에서 나오는 데이터는 낮은 가중치를 주는것이다\n",
        "- 또 다른 예로 데이터를 수집할때 여러 대조군에서 수집한다고 가정하자, 이때 특정 A의 그룹은 데이터가 작아 수집되는 데이터 양이 적은데 이때 소수그룹에는 좀 더 높은 가중치를 적용할 필요가 있다.(반드시 그런것은 아니다.)"
      ]
    },
    {
      "cell_type": "code",
      "metadata": {
        "colab": {
          "base_uri": "https://localhost:8080/"
        },
        "id": "Cr0A_G45VZ-s",
        "outputId": "3e752eec-4c13-445e-a29c-5766f49a6b9c"
      },
      "source": [
        "import numpy as np\n",
        "np.average(df['House'], weights = df['Car']) # 가중평균구하기"
      ],
      "execution_count": null,
      "outputs": [
        {
          "output_type": "execute_result",
          "data": {
            "text/plain": [
              "15046.4"
            ]
          },
          "metadata": {},
          "execution_count": 22
        }
      ]
    },
    {
      "cell_type": "markdown",
      "metadata": {
        "id": "3z51NguiXfQa"
      },
      "source": [
        "평균 : 5046.7/ 절사평균 : 58.25/ 가중평균 15046.4"
      ]
    },
    {
      "cell_type": "markdown",
      "metadata": {
        "id": "2wvS7rlwXiNH"
      },
      "source": [
        "### 📈 중간값\n",
        "- 데이터를 길게 정렬했을 때, 한가운데 위치하는 값을 중간값이라고 한다. 모든 관측지를 다 사용하는 평균과는 다르게 중간값은 정렬된 데이터의 가운데에 위치한 값들만으로 결정된다. \n",
        "- 위와 같은 이유로 중간값이 잘 사용되지 않을것 같지만 데이터에 민감한(이상치 영향등)평균보다 중간값이 위치 추정에 오히려 더 유리할 수 있다.\n",
        "- 예를 들어 서울의 A동네에 있는 주민들의 평균연봉 데이터를 가지고 있다고 가정할때, 해당 동네에 대기업 회장이 살고 있을 경우 평균의 데이터는 매우 다르게 나타날 것이다. 하지만 만약 중간값을 사용한다면 대기업 회장이 얼마를 벌고 있는지와 상관없이 중간값은 매우 비슷하게 나올 것이다."
      ]
    },
    {
      "cell_type": "markdown",
      "metadata": {
        "id": "nC9XJTUAXjPc"
      },
      "source": [
        "### 📈 가중 중간값\n",
        "- 가중평균을 사용하는 것과 마찬가지로 가중 중간값 역시 사용할 수 있다. 어떤 위치를 기준으로 상위 절반의 가중치의 합이 하위 절반의 가중치의 합과 동일한 위치의 값이 된다. 중간값과 마찬가지로 가중 중간값 역시 특잇값에 로버스트하다."
      ]
    },
    {
      "cell_type": "code",
      "metadata": {
        "colab": {
          "base_uri": "https://localhost:8080/"
        },
        "id": "uAU-SFNRVZ8W",
        "outputId": "a156c4fe-fe3c-4e90-fb0b-38fda7b23b0a"
      },
      "source": [
        "df['House'].median() # 중간값"
      ],
      "execution_count": null,
      "outputs": [
        {
          "output_type": "execute_result",
          "data": {
            "text/plain": [
              "53.5"
            ]
          },
          "metadata": {},
          "execution_count": 24
        }
      ]
    },
    {
      "cell_type": "code",
      "metadata": {
        "id": "894_zPPVZIYS"
      },
      "source": [
        "!pip install wquantiles"
      ],
      "execution_count": null,
      "outputs": []
    },
    {
      "cell_type": "code",
      "metadata": {
        "colab": {
          "base_uri": "https://localhost:8080/"
        },
        "id": "2xRMHizFVZ5v",
        "outputId": "985303fe-6c7b-4115-978f-6a7765389e14"
      },
      "source": [
        "import wquantiles\n",
        "wquantiles.median(df['House'],weights = df['Car']) # 가중 중간값"
      ],
      "execution_count": null,
      "outputs": [
        {
          "output_type": "execute_result",
          "data": {
            "text/plain": [
              "76.99999999999999"
            ]
          },
          "metadata": {},
          "execution_count": 25
        }
      ]
    },
    {
      "cell_type": "markdown",
      "metadata": {
        "id": "GLG9zb1ZXrB9"
      },
      "source": [
        "### 📈 특잇값, 이상값\n",
        "- 데이터 분석을 하다보면 가끔 이 특잇값은 유익한 정보를 제공하기도 하고, 때로는 골칫거리가 되기도 한다. 하지만 이와 반대로, 이상검출에서는 대부분의 정상적인 데이터보다는 예외적으로 측정된 특잇값이 바로 주된 관심의 대상이 될 수 있다."
      ]
    },
    {
      "cell_type": "markdown",
      "metadata": {
        "id": "_eJtgBEOXrkY"
      },
      "source": [
        "### 🎓 로버스트하다(robust) \n",
        "- 극단값들에 민감하지 않다는 것을 의미한다.\n",
        "\n",
        "---\n"
      ]
    },
    {
      "cell_type": "markdown",
      "metadata": {
        "id": "NZQM780PX49d"
      },
      "source": [
        "## 💡 변이 추정\n",
        "- 변이 추정은 **데이터 값이 얼마나 밀집해 있는지 혹은 퍼져 있는지를 나타내는 산포도**를 나타낸다."
      ]
    },
    {
      "cell_type": "markdown",
      "metadata": {
        "id": "_R98BATgX46O"
      },
      "source": [
        "### 📈 편차(deviation)\n",
        "- 관측값과 위치 추정값 사이의 차이\n",
        "- 쉽게 말하면 회귀식에서 실제 관측값과 우리가 추정하는 값의 차이를 뜻한다.\n",
        "\n",
        "### 📈 평균절대편차\n",
        "- 변이를 측정하는 한 가지 방법은 편차들의 대푯값을 추정것인데 편차의 경우 음수와 양수가 있고, 편차의 합은 항상 0이 되기때문에 편차에 절대값을 주고 이의 평균을 구하는것이다. 이것이 평균절대편차이다.\n",
        "- 평균과의 편차의 절대값의 평균을 말한다.\n",
        "- 평균 구하기 -> 각 측정값들의 평균으로부터 얼마나 떨어져있는지 구하고 절대값 씌우기(절대편차) -> 모든 편차 더하기 -> (편차의합) / (측정값의 개수) \n",
        "\n",
        "\n",
        "**(가장 유명하고 자주쓰이는 추정 방법은 제곱편차를 이용한 분산과 표준편차이다)**\n",
        "\n",
        "### 📈 분산\n",
        "- 분산이란 내가 가진 자료(데이터)가 평균값을 중심으로 퍼져있는 거리를 말한다.\n",
        "- 평균과의 편차를 제곱한 값들의 합을 n-1로 나눈 값. n은 데이터 개수/ **(편차제곱의합)/(n-1)**\n",
        "- 분자를 \"제곱합\" 분모를 \"자유도\"라고 한다.\n",
        "- n-1로 나누어 주는 이유는 분자에서 평균값을 빼 주었기 때문에 평균을 빼고 나눠어 줘서 n-1이다.\n",
        "\n",
        "\n",
        "\n",
        "### 📈 표준편차\n",
        "- 분산과 의미가 같지만 Scale의 차이가 있다.\n",
        "- 표준편차는 분산의 제곱근이다.(분산의 루트)\n",
        "- 분산의 경우 제곱의 합이기 때문에 값이 커지게 된다, 따라서 값의 크기를 루트를 씌워 작게 만드는것이 표준편차이고 의미는 분산과 같다고 볼 수 있다.\n",
        "- 루트를 통해 기존의 데이터와 같은 척도(scale)에 있기 때문에 분산보다 훨씬 해석하기가 쉽다\n",
        "- 실제로 더 수식이 복잡한 표준편차를 평균절대편차보다 더 선호하는 이유는 수학적인 관점으로 제곱을 하는값이 절대값을 한 값보다 통계모델을 다루는데 편리하기 때문이다.\n",
        "\n",
        "\n",
        "**(분산, 표준편차, 평균절대편차 모두 Outlier(특잇값, 극단값)에 로버스트하지 않다.  그 중에서도 분산과 표준편차는 제곱편차를 이용하는 계산이므로 더욱 특잇값에 민감하다.)**\n",
        "\n",
        "\n",
        "### 📈 중간값의 중위절대편차(MAD)\n",
        "- 중간값과의 편차의 절댓값의 중간값(median(abs(관측값-중앙값)))\n",
        "- 편차 값이 테일의 극값의(극단값)의 영향을 적게 받아야 하는경우 평균편차 대신 중앙값 절대 편차를 사용하게 된다.(중앙값이 평균보다 테일 값의 영향을 적게 받기 때문이다.)"
      ]
    },
    {
      "cell_type": "code",
      "metadata": {
        "colab": {
          "base_uri": "https://localhost:8080/"
        },
        "id": "rMSMdGQlYHNB",
        "outputId": "2703c45b-affd-40a5-836d-09962e623c05"
      },
      "source": [
        "# statsmodels Downloads\n",
        "!pip install statsmodels"
      ],
      "execution_count": null,
      "outputs": [
        {
          "output_type": "stream",
          "name": "stdout",
          "text": [
            "Requirement already satisfied: statsmodels in /usr/local/lib/python3.7/dist-packages (0.10.2)\n",
            "Requirement already satisfied: scipy>=0.18 in /usr/local/lib/python3.7/dist-packages (from statsmodels) (1.4.1)\n",
            "Requirement already satisfied: pandas>=0.19 in /usr/local/lib/python3.7/dist-packages (from statsmodels) (1.1.5)\n",
            "Requirement already satisfied: numpy>=1.11 in /usr/local/lib/python3.7/dist-packages (from statsmodels) (1.19.5)\n",
            "Requirement already satisfied: patsy>=0.4.0 in /usr/local/lib/python3.7/dist-packages (from statsmodels) (0.5.1)\n",
            "Requirement already satisfied: python-dateutil>=2.7.3 in /usr/local/lib/python3.7/dist-packages (from pandas>=0.19->statsmodels) (2.8.2)\n",
            "Requirement already satisfied: pytz>=2017.2 in /usr/local/lib/python3.7/dist-packages (from pandas>=0.19->statsmodels) (2018.9)\n",
            "Requirement already satisfied: six in /usr/local/lib/python3.7/dist-packages (from patsy>=0.4.0->statsmodels) (1.15.0)\n"
          ]
        }
      ]
    },
    {
      "cell_type": "code",
      "metadata": {
        "id": "q_srFO6nYN8a"
      },
      "source": [
        "# import\n",
        "from statsmodels import robust"
      ],
      "execution_count": null,
      "outputs": []
    },
    {
      "cell_type": "code",
      "metadata": {
        "colab": {
          "base_uri": "https://localhost:8080/",
          "height": 300
        },
        "id": "ppwi_yvGYQ2R",
        "outputId": "d0dfa65f-dc81-4c88-d7e5-cd1fb6a30682"
      },
      "source": [
        "# make DataFrame\n",
        "state = pd.DataFrame({'State':['Alabama', 'Alaska', 'Arizona', 'Arkansas', 'California', 'Colorado', 'Connecticut', 'Delaware'],\n",
        "              'Population':[4779736, 710231, 6392017, 2915918, 37253956, 5029196, 3574097, 897934],\n",
        "              'Murder': [5.7, 5.6, 4.7, 5.6, 4.4, 2.8, 2.4, 5.8],\n",
        "              'Abbreviation':['AL', 'AK', 'AZ', 'AR', 'CA', 'CO', 'CT', 'DE']})\n",
        "state"
      ],
      "execution_count": null,
      "outputs": [
        {
          "output_type": "execute_result",
          "data": {
            "text/html": [
              "<div>\n",
              "<style scoped>\n",
              "    .dataframe tbody tr th:only-of-type {\n",
              "        vertical-align: middle;\n",
              "    }\n",
              "\n",
              "    .dataframe tbody tr th {\n",
              "        vertical-align: top;\n",
              "    }\n",
              "\n",
              "    .dataframe thead th {\n",
              "        text-align: right;\n",
              "    }\n",
              "</style>\n",
              "<table border=\"1\" class=\"dataframe\">\n",
              "  <thead>\n",
              "    <tr style=\"text-align: right;\">\n",
              "      <th></th>\n",
              "      <th>State</th>\n",
              "      <th>Population</th>\n",
              "      <th>Murder</th>\n",
              "      <th>Abbreviation</th>\n",
              "    </tr>\n",
              "  </thead>\n",
              "  <tbody>\n",
              "    <tr>\n",
              "      <th>0</th>\n",
              "      <td>Alabama</td>\n",
              "      <td>4779736</td>\n",
              "      <td>5.7</td>\n",
              "      <td>AL</td>\n",
              "    </tr>\n",
              "    <tr>\n",
              "      <th>1</th>\n",
              "      <td>Alaska</td>\n",
              "      <td>710231</td>\n",
              "      <td>5.6</td>\n",
              "      <td>AK</td>\n",
              "    </tr>\n",
              "    <tr>\n",
              "      <th>2</th>\n",
              "      <td>Arizona</td>\n",
              "      <td>6392017</td>\n",
              "      <td>4.7</td>\n",
              "      <td>AZ</td>\n",
              "    </tr>\n",
              "    <tr>\n",
              "      <th>3</th>\n",
              "      <td>Arkansas</td>\n",
              "      <td>2915918</td>\n",
              "      <td>5.6</td>\n",
              "      <td>AR</td>\n",
              "    </tr>\n",
              "    <tr>\n",
              "      <th>4</th>\n",
              "      <td>California</td>\n",
              "      <td>37253956</td>\n",
              "      <td>4.4</td>\n",
              "      <td>CA</td>\n",
              "    </tr>\n",
              "    <tr>\n",
              "      <th>5</th>\n",
              "      <td>Colorado</td>\n",
              "      <td>5029196</td>\n",
              "      <td>2.8</td>\n",
              "      <td>CO</td>\n",
              "    </tr>\n",
              "    <tr>\n",
              "      <th>6</th>\n",
              "      <td>Connecticut</td>\n",
              "      <td>3574097</td>\n",
              "      <td>2.4</td>\n",
              "      <td>CT</td>\n",
              "    </tr>\n",
              "    <tr>\n",
              "      <th>7</th>\n",
              "      <td>Delaware</td>\n",
              "      <td>897934</td>\n",
              "      <td>5.8</td>\n",
              "      <td>DE</td>\n",
              "    </tr>\n",
              "  </tbody>\n",
              "</table>\n",
              "</div>"
            ],
            "text/plain": [
              "         State  Population  Murder Abbreviation\n",
              "0      Alabama     4779736     5.7           AL\n",
              "1       Alaska      710231     5.6           AK\n",
              "2      Arizona     6392017     4.7           AZ\n",
              "3     Arkansas     2915918     5.6           AR\n",
              "4   California    37253956     4.4           CA\n",
              "5     Colorado     5029196     2.8           CO\n",
              "6  Connecticut     3574097     2.4           CT\n",
              "7     Delaware      897934     5.8           DE"
            ]
          },
          "metadata": {},
          "execution_count": 29
        }
      ]
    },
    {
      "cell_type": "code",
      "metadata": {
        "colab": {
          "base_uri": "https://localhost:8080/"
        },
        "id": "Us7CSwa2YcTo",
        "outputId": "7b3c9d24-c516-42dc-eb4d-2faba5d90252"
      },
      "source": [
        "# 분산\n",
        "state['Population'].var()"
      ],
      "execution_count": null,
      "outputs": [
        {
          "output_type": "execute_result",
          "data": {
            "text/plain": [
              "146549069168147.7"
            ]
          },
          "metadata": {},
          "execution_count": 34
        }
      ]
    },
    {
      "cell_type": "code",
      "metadata": {
        "colab": {
          "base_uri": "https://localhost:8080/"
        },
        "id": "r7VNul3ZYZb6",
        "outputId": "4f0d0926-540f-4875-a5b9-419f64600339"
      },
      "source": [
        "# 표준편차\n",
        "state['Population'].std()"
      ],
      "execution_count": null,
      "outputs": [
        {
          "output_type": "execute_result",
          "data": {
            "text/plain": [
              "12105745.29585633"
            ]
          },
          "metadata": {},
          "execution_count": 35
        }
      ]
    },
    {
      "cell_type": "code",
      "metadata": {
        "colab": {
          "base_uri": "https://localhost:8080/"
        },
        "id": "w1ikqWLNYUFX",
        "outputId": "23879ebd-9fa4-4daa-c15d-46f493a5b8eb"
      },
      "source": [
        "# MAD구하기\n",
        "robust.scale.mad(state['Population'])"
      ],
      "execution_count": null,
      "outputs": [
        {
          "output_type": "execute_result",
          "data": {
            "text/plain": [
              "2576836.044572552"
            ]
          },
          "metadata": {},
          "execution_count": 36
        }
      ]
    },
    {
      "cell_type": "markdown",
      "metadata": {
        "id": "W-7D-GMbYyKc"
      },
      "source": [
        "실제로 해당데이터의 표준편차는 12105745.29585633 으로 MAD가 훨씬 robust한 결과를 얻는것을 알 수 있다."
      ]
    },
    {
      "cell_type": "markdown",
      "metadata": {
        "id": "htUXw2LiY1tH"
      },
      "source": [
        "### 📈 범위\n",
        "- 데이터의 최댓값과 최솟값의 차이\n",
        "\n",
        "\n",
        "### 📈 사분위 범위(IQR)\n",
        "- 변이를 측정하는 가장 대표적인 방법인 사분위 범위는 25번째 백분위수와 75번째 백분위수의 차이를 보는 것이다.\n",
        "- 75번째 백분위수와 25번째 백분위수 사이의 차이를 말한다."
      ]
    },
    {
      "cell_type": "code",
      "metadata": {
        "colab": {
          "base_uri": "https://localhost:8080/"
        },
        "id": "aIKHiEp6Y3Cu",
        "outputId": "772e9e51-ce81-4432-db45-4f496620a96a"
      },
      "source": [
        "state = pd.DataFrame({'State':['Alabama', 'Alaska', 'Arizona', 'Arkansas', 'California', 'Colorado', 'Connecticut', 'Delaware'],\n",
        "              'Population':[4779736, 710231, 6392017, 2915918, 37253956, 5029196, 3574097, 897934],\n",
        "              'Murder': [5.7, 5.6, 4.7, 5.6, 4.4, 2.8, 2.4, 5.8],\n",
        "              'Abbreviation':['AL', 'AK', 'AZ', 'AR', 'CA', 'CO', 'CT', 'DE']})\n",
        "              \n",
        "state['Population'].quantile(0.75) - state['Population'].quantile(0.25)"
      ],
      "execution_count": null,
      "outputs": [
        {
          "output_type": "execute_result",
          "data": {
            "text/plain": [
              "2958479.25"
            ]
          },
          "metadata": {},
          "execution_count": 39
        }
      ]
    },
    {
      "cell_type": "markdown",
      "metadata": {
        "id": "C5fpWsL4X43z"
      },
      "source": [
        "### 📈 순서통계량 \n",
        "- 최소에서 최대까지 정렬된 데이터 값에 따른 계량형\n",
        "\n",
        "\n",
        "### 변이를 측정하는방법\n",
        "- 변이를 측정하는 가장 대표적인 방법은 사분위범위(IQR)라는, 25번째 백분위수와 75번째 백분위수의 차이를 보는 것이다.\n",
        "- 이는 양 끝의 일정값을 제거하고 보기때문에 이상값의 영향을 덜 받게된다.\n",
        "- IQR을 파이썬 에서 사용할때는 IQR()함수를 사용하면 된다.\n",
        "- 혹은 .quantile(0.75) - .quantile(0.25) 를 통해 계산도 가능하다.\n",
        "\n",
        "**(정리 : 분산과 표준편차는 변이 측정에 있어서 주로 사용하는 방법이나 특잇값(outlier)에 민감하다는 단점때문에 중간값과 백분위수로부터 평균절대편차와, 중간값의 중위절대편차를 구하는 것이 좀 더 robust하다.)**"
      ]
    },
    {
      "cell_type": "markdown",
      "metadata": {
        "id": "qad-xmUXTPIc"
      },
      "source": [
        "## 💡 분포탐색하기"
      ]
    },
    {
      "cell_type": "markdown",
      "metadata": {
        "id": "BTosORByN_mp"
      },
      "source": [
        "### 📈 용어 정리\n",
        "- Boxplot(상자그림) : 데이터 분포를 시각화하기 위한 그림\n",
        "- 도수분포표 : 어떤 구간에 해당하는 수치 데이터 값들의 빈도를 나타내는 기록\n",
        "- 히스토그램(histogram) : x축은 구간들을, y축은 빈도수를 나타내는 도수 테이블의 그림(막대그래프와 시각적으로 비슷하지만 혼동해서는 안된다, 추후에 설명예정), 히스토그램의 구간은 동일한 크기를 갖는다.\n",
        "- 밀도 그림(density plot) : 히스토그램을 부드러운 곡선으로 나타낸 그림(커널밀도추정을 주로 사용한다, 판다스에서는 density = True를통해 그려줄 수 있다.), 밀도 는 일반 히스토그램과 y축 값이 다르다. 히스토그램의 경우 y축은 개수를 나타내지만, 밀도 그림에서는 비율을 나타낸다."
      ]
    },
    {
      "cell_type": "markdown",
      "metadata": {
        "id": "sHHNq9SbOYGV"
      },
      "source": [
        "### 📈 백분위수와 Box-plot(상자그림)\n",
        "- 백분위수는 분포의 꼬리 부분을 묘사하는 데 제격이다.\n",
        "- quantile을 통해 쉽게 사분위수를 구할 수 있다."
      ]
    },
    {
      "cell_type": "code",
      "metadata": {
        "id": "T1rZl4GBOF1e",
        "colab": {
          "base_uri": "https://localhost:8080/"
        },
        "outputId": "f8443c82-5049-441a-a1e2-8fc72cd2545a"
      },
      "source": [
        "import pandas as pd\n",
        "num = pd.Series([2, 3, 4, 5, 6, 7])\n",
        "\n",
        "Q1 = num.quantile(.25) # Q1의 값\n",
        "Q2 = num.quantile(.50) # Q2의 값\n",
        "Q3 = num.quantile(.75) # Q3의 값\n",
        "print('Q1: ',Q1)\n",
        "print('Q2: ',Q2)\n",
        "print('Q3: ',Q3)"
      ],
      "execution_count": null,
      "outputs": [
        {
          "output_type": "stream",
          "name": "stdout",
          "text": [
            "Q1:  3.25\n",
            "Q2:  4.5\n",
            "Q3:  5.75\n"
          ]
        }
      ]
    },
    {
      "cell_type": "code",
      "metadata": {
        "id": "DODrHD06OcpR",
        "colab": {
          "base_uri": "https://localhost:8080/",
          "height": 297
        },
        "outputId": "6ae31558-0a04-414d-f1c6-c8dd6bab4bb7"
      },
      "source": [
        "# 코드는 내코드가 아니기 때문에 보지말고 출력문만 확인\n",
        "import matplotlib.pyplot as plt\n",
        "ax = (state['Population']/1_000_000).plot.box(figsize=(3, 4))\n",
        "ax.set_ylabel('Population (millions)')\n",
        "\n",
        "plt.tight_layout()\n",
        "plt.show()"
      ],
      "execution_count": null,
      "outputs": [
        {
          "output_type": "display_data",
          "data": {
            "image/png": "[encoded data removed]",
            "text/plain": [
              "<Figure size 216x288 with 1 Axes>"
            ]
          },
          "metadata": {
            "needs_background": "light"
          }
        }
      ]
    },
    {
      "cell_type": "markdown",
      "metadata": {
        "id": "21F-OdFjP5rn"
      },
      "source": [
        "- 인구수가 높은 이상치가 있음을 한눈에 파악할 수 있다.\n",
        "- 상자부분의 위쪽과 아래쪽은 각각 75%, 25% 백분위수를 나타낸다, 중간값은 상자안에 있는 굵은 수평선으로 표시한다.\n",
        "- 이상치의 기준은 Q1 - (IQR x 1.5), Q3 + (IQR x 1.5) 이다.\n",
        "- 구간의 크기는 다르지만 각 구간에 포함된 데이터의 수가 같다!(중요)"
      ]
    },
    {
      "cell_type": "markdown",
      "metadata": {
        "id": "8vnjLcPKQGZX"
      },
      "source": [
        "### 📈 도수분포표와 히스토그램\n",
        "- 도수분포표는 변수의 범위를 **동일한 크기의 구간으로 나눈** 다음, 각 구간마다 몇개의 변숫값이 존재하는지를 보여주기 위해 사용된다.\n",
        "- 도수분포표 예시\n",
        "\n",
        "|키(cm)|명수|\n",
        "|-|-|\n",
        "|160cm 이하 |3명|\n",
        "|160 ~ 165cm 이하|5명|\n",
        "|165 ~ 170cm 이하|10명|"
      ]
    },
    {
      "cell_type": "markdown",
      "metadata": {
        "id": "NYMVxYOEQMbX"
      },
      "source": [
        "- cut함수를 사용하여 구간에 매핑할 수 있다. 이후 value_counts()메서들 랏용하여 빈도 테이블을 구한다."
      ]
    },
    {
      "cell_type": "code",
      "metadata": {
        "id": "VC-pvUImQL5A",
        "colab": {
          "base_uri": "https://localhost:8080/"
        },
        "outputId": "52fc935d-f6ce-463a-cff8-e20bbc53179d"
      },
      "source": [
        "mapping = pd.cut(state['Population'],10)\n",
        "mapping.value_counts()"
      ],
      "execution_count": null,
      "outputs": [
        {
          "output_type": "execute_result",
          "data": {
            "text/plain": [
              "(526935.67, 4232659.0]      24\n",
              "(4232659.0, 7901692.0]      14\n",
              "(7901692.0, 11570725.0]      6\n",
              "(11570725.0, 15239758.0]     2\n",
              "(33584923.0, 37253956.0]     1\n",
              "(22577824.0, 26246857.0]     1\n",
              "(18908791.0, 22577824.0]     1\n",
              "(15239758.0, 18908791.0]     1\n",
              "(29915890.0, 33584923.0]     0\n",
              "(26246857.0, 29915890.0]     0\n",
              "Name: Population, dtype: int64"
            ]
          },
          "metadata": {},
          "execution_count": 6
        }
      ]
    },
    {
      "cell_type": "markdown",
      "metadata": {
        "id": "PTdei7WyQcnz"
      },
      "source": [
        "- 빈구간이 생길 수 있는데 이는 중요한 정보가 될 수 있다.\n",
        "- 구간의 크기를 바꿔보는 것도 유용한 정보를 얻는 좋은 방법이다. \n",
        "- 만약 크기가 너무 크면, 분포를 나타내는 중요한 특징을 놓칠 수 있다. \n",
        "- 반대로 너무 작아도, 결과가 너무 쪼개져 더 큰 그림을 볼 수 없게된다."
      ]
    },
    {
      "cell_type": "markdown",
      "metadata": {
        "id": "aBur3BDZQyc_"
      },
      "source": [
        "**( 중요!! : 도수분포표와 백분위수 모두 구간을 나눠서 데이터를 살펴보는 접근방법이다. 사분위수의 경우 같은 수의 데이터가 포함되도록, 즉 서로 크기가 다르게 구간을 나누는 것이며, 도수분포표는 구간의 크기가 같도록, 즉 구간안에 데이터의 수는 다를수 있다.)**"
      ]
    },
    {
      "cell_type": "markdown",
      "metadata": {
        "id": "vgGloZhhRJeN"
      },
      "source": [
        "- 히스토그램은 바로 이 **도수분포표**를 식각화하는 방법이다. X축에는 구간들을 표시하고 y축에는 해당 구간별 데이터의 개수를 포함한다.\n",
        "- python의 경우 histplot을 통해서 만들 수 있고 bins를 이용하여 구간의 수를 핸들링 할 수 있다.\n",
        "- 히스토그램은 그래프에 빈구간이 있을 수 있으며, 구간은 도수분포표의 시각화방법이므로 동일하다, 또한 구간의 수는 사용자가 결정할 수 있으며, 막대들은 데이터가 비어있지 않는 한 붙어있다."
      ]
    },
    {
      "cell_type": "markdown",
      "metadata": {
        "id": "yavjauAkRrAj"
      },
      "source": [
        "> **도수분포표 = 히스토그램**\n",
        "\n",
        ">**백분위수 = 박스그림**\n",
        "\n"
      ]
    },
    {
      "cell_type": "code",
      "metadata": {
        "id": "Ty0uTqDQSCUF",
        "colab": {
          "base_uri": "https://localhost:8080/",
          "height": 297
        },
        "outputId": "7fadfb99-382c-48d6-ef86-abb35d2171ed"
      },
      "source": [
        "import seaborn as sns\n",
        "sns.histplot(state['Population'],bins = 9)"
      ],
      "execution_count": null,
      "outputs": [
        {
          "output_type": "execute_result",
          "data": {
            "text/plain": [
              "<matplotlib.axes._subplots.AxesSubplot at 0x7f49376ec990>"
            ]
          },
          "metadata": {},
          "execution_count": 10
        },
        {
          "output_type": "display_data",
          "data": {
            "image/png": "[encoded data removed]",
            "text/plain": [
              "<Figure size 432x288 with 1 Axes>"
            ]
          },
          "metadata": {
            "needs_background": "light"
          }
        }
      ]
    },
    {
      "cell_type": "markdown",
      "metadata": {
        "id": "93coItC1RJZD"
      },
      "source": [
        "### 📈 밀도 그림과 추정\n",
        "- 밀도그림의 경우 데이터의 분포를 연속된 선으로 보여준다. 즉, 히스토그램의 부드러운 버전이라고 볼 수 있다. \n",
        "- python에서는 histplot에서 파라미터로 density = True 를 넣어주면 완성하게 된다.\n",
        "- 히스토그램과 이 밀도 그림과의 가장 큰 차이는 바로 y축 값의 단위입니다. 히스토그램과 다른게 밀도그림에서는 개수가 아닌 비율로 표시가 됩니다."
      ]
    },
    {
      "cell_type": "code",
      "metadata": {
        "id": "xWwORwUTPk3K",
        "colab": {
          "base_uri": "https://localhost:8080/",
          "height": 297
        },
        "outputId": "0eb4a7ef-b593-401f-a334-0dfdcb4a5ad3"
      },
      "source": [
        "import seaborn as sns\n",
        "sns.histplot(state['Population'],bins = 9, kde = True)"
      ],
      "execution_count": null,
      "outputs": [
        {
          "output_type": "execute_result",
          "data": {
            "text/plain": [
              "<matplotlib.axes._subplots.AxesSubplot at 0x7f49374f0810>"
            ]
          },
          "metadata": {},
          "execution_count": 12
        },
        {
          "output_type": "display_data",
          "data": {
            "image/png": "[encoded data removed]",
            "text/plain": [
              "<Figure size 432x288 with 1 Axes>"
            ]
          },
          "metadata": {
            "needs_background": "light"
          }
        }
      ]
    },
    {
      "cell_type": "markdown",
      "metadata": {
        "id": "DniiO9FzTV7L"
      },
      "source": [
        "## 💡이진 데이터와 범주 데이터 탐색"
      ]
    },
    {
      "cell_type": "markdown",
      "metadata": {
        "id": "CoTD6e9MTav2"
      },
      "source": [
        "### 📈 용어 정리\n",
        "- 최빈값(mode)  : 데이터에서 가장 자주 등장하는 범주 혹은 값\n",
        "- 기댓값(expected value) : 범주에 해당하는 어떤 수치가 있을 떄, 범주의 출현 확률(probability)에 따른 평균\n",
        "- 막대도표(bar chart) : 각 범주의 빈도수 혹은 비율을 막대로 나타낸 그림\n",
        "- 파이그림(pie chart) : 각 범주의 빈도수 혹은 비율을 원의 부채꼴 모양으로 나타낸 그림"
      ]
    },
    {
      "cell_type": "markdown",
      "metadata": {
        "id": "J7x6rnhTTnOz"
      },
      "source": [
        "### 📈 막대도표(bar-chart)\n",
        "- 어떤 범주형 자료를 보여줄 때 사용되며 **x축에 각각의 범주를 놓고, y축에 각 범주에 해당하는 횟수 혹은 비율등을 표시한다.**\n",
        "- python에서 사용이 가능하다.\n",
        "- 히스토그램과 다른점은 중간에 틈이 있어 서로 떨어져 있다는 점이다.\n",
        "- 막대도표 대신 파이그림을 사용하기도 하지만, 통계나 데이터 시각화 전문가들은 파이그림이 시각적으로 효과적이지 않다는 이유로 잘 사용하지 않는다.\n",
        "\n",
        "(수치형 데이터를 범주형 데이터로 변환해줌으로서 데이터의 복잡도를 줄여줄 수 있어서 자주 사용되기도 한다. 특히 데이터를 분석할때 피처들 사이의 관계를 알아보기위해 사용하기도 한다.)\n"
      ]
    },
    {
      "cell_type": "markdown",
      "metadata": {
        "id": "ajiuen4tWMVs"
      },
      "source": [
        "### 📈 기댓값(expected value)\n",
        "통계를 배우다 보면, 혹은 데이터 직군을 위해 공부를 하다보면 기대값(expected value)라는 말이 종종 나온다. 이 기댓값은 무엇을 의미하는것일까??\n",
        "\n",
        "- 각 결과가 발생 확률을 곱하고 이 값들을 모두 더하는것이다. 예제로 살펴보자\n",
        "- 한 서비스 이용료가 매달 30만원이고, 나머지 하나는 매달5만원이다. 영업 사원이 고객 명단을 확보하기 위해 무료 세미나를 진행하였다. 그 결과 참석자의 5%정도가 30만원 짜리 상품에, 15% 정도가 5만원 상품에 가입하고, 나머지 80%정도는 어느 것에도 가입하지 않을 것이라고 판단하였다. 상업적인 목적을 위해 이러한 정보에서 기댓값을 뽑아낼 수 있다. 가중치가 해당 확률이 되는 가중평균이 바로 기대값이다.\n",
        "- Expected Value = (0.05)(300) + (0.15)(50) + (0.80)(0) = 22.5\n",
        "- 기댓값은 실제 사업 평가나 자본 예산에 가장 근본적인 토대가 된다.\n"
      ]
    },
    {
      "cell_type": "markdown",
      "metadata": {
        "id": "ZAALBz1xXYui"
      },
      "source": [
        "## 💡 상관관계"
      ]
    },
    {
      "cell_type": "markdown",
      "metadata": {
        "id": "LZVhwrIaXbUs"
      },
      "source": [
        "### 📈 상관관계\n",
        "\n",
        "- 데이터 분석에 있어서 상관관계를 조사하는것은 빼놓을 수 없는 절차중 하나이다.\n",
        "- X가 큰값을 가질 수록 Y도 큰값을 가지거나, X가 작은값을 가질때 Y도 점점 작은값을 가진다면 이를(X와Y는) 양의 상관관계를 가진다고 할 수 있다.\n",
        "- 반대로 X가 큰값을 가질 수록 Y가 작은값을가지거나, 그 반대인 경우는 음의 상관관계를 갖는다고 한다."
      ]
    },
    {
      "cell_type": "markdown",
      "metadata": {
        "id": "lf344qsvXwqn"
      },
      "source": [
        "### 📈 용어 정리\n",
        "- 상관계수(correlation coefficient) : 수치적 변수들 간에 어떤 관계가 있는지를 나타내기 위해 사용되는 **측정량**( 이해가 안되면 바로 밑에 상관관계와 상관계수를 읽으면서보면 이해가 된다.)\n",
        "- 상관행렬(correlation matrix) : 행과 열이 변수들을 의미하는 표를 말하며, 각 셀은 그 행과 열에 해당하는 변수들 간의 상관관계를 의미한다.(파이썬의 히트맵같은 느낌)\n",
        "- 산점도(scatterplot) : x축과 y축이 서로 다른 두 개의 변수를 나타내는 도표"
      ]
    },
    {
      "cell_type": "markdown",
      "metadata": {
        "id": "DYeJRA9AYS2K"
      },
      "source": [
        "### 📈 상관관계와 상관계수\n",
        "- 상관관계를 나타내는 상관계수는 **힘과 방향**을 의미한다.\n",
        "- 먼저 상관계수는 -1 부터 1사이 이다.\n",
        "- 상관계수가 -1 이면 완벽한 음의 상관관계를 가지는 것이다.\n",
        "- 상관계수가 0 이면 아무런 관계가 없는 것이다.\n",
        "- 상관계수가 +1 이면 완벽한 양의 상관관계를 가지는 것이다.\n",
        "- +와 -는 방향이며, 힘은 상관계수의 크기 이다.\n",
        "- 상관계수의 크기 절대값이 1에 가까워질 수록 센것이며, 0에 가까울 수록 약한것이다.\n"
      ]
    },
    {
      "cell_type": "markdown",
      "metadata": {
        "id": "aN731kmrYa4G"
      },
      "source": [
        "### 💼 힘이 세다는 것은 무엇일까??\n",
        "- 산점도 그래프(scatterplot)을 그려봤을때 데이터 들이 서로 가깝게 모여있으면 힘이 센것이고\n",
        "각각 멀리 떨어져있으면 상관관계가 약하기 때문에 0에 가깝다고 할 수 있다.\n",
        "- 추가로, 데이터 들이 모여있는 점들의 모여있는정도가 상관관계인것이지 점이 모여있는것들의 각도는 상관관계랑 관련이없다."
      ]
    },
    {
      "cell_type": "markdown",
      "metadata": {
        "id": "aFRWOg9KYklK"
      },
      "source": [
        "### 💼 상관 관계 != 인과 관계\n",
        "\n",
        "- 관계는 두 변수가 서로 관계가 있는지, 없는지에 대한 것이다.\n",
        "- 관계는 원인과 결과를 가지는 변수의 결과성을 의미한다, 즉 한변수가 원인이고, 다른변수가 결과이다.\n"
      ]
    },
    {
      "cell_type": "markdown",
      "metadata": {
        "id": "v1C0iGJUYrKc"
      },
      "source": [
        "### 💼 피어슨의 상관계수\n",
        "- 피어슨 상관계수를 계산하려면 변수 1과 변수2 각각의 평균으로부터의 편차들을 서로 곱한 값들의 평균을 각 변수의 표준편차의 곱으로 나눠준다.\n",
        "- n이 아닌 n-1로 나누어 주는것을 기억하자"
      ]
    },
    {
      "cell_type": "markdown",
      "metadata": {
        "id": "poPVaqEUYtfE"
      },
      "source": [
        "### 💼 주의사항\n",
        "- 만약에 변수들이 선형적인 관계를 갖지 않을 경우 상관계수는 더 이상 유용한 지표가 아니다."
      ]
    },
    {
      "cell_type": "markdown",
      "metadata": {
        "id": "e6NrSmTkYuA3"
      },
      "source": [
        "### 📈 상관관계 \n",
        "- seaborn의 heatmap을 이용하여 상관관게를 시각화 할 수 있다.\n",
        "- 평균과 표준편차와 같이, 상관계수는 데이터의 특잇값에 민감하다. 이러한 클래식한 상관계수를 대체할 수 있는 로버스트한 방법이 패키지로 존재하는데 사이킷런의 모듈 **sklearn.covariance** 이다."
      ]
    },
    {
      "cell_type": "markdown",
      "metadata": {
        "id": "4HLU9eKKZTLC"
      },
      "source": [
        "## 💡두 개 이상의 변수 탐색하기"
      ]
    },
    {
      "cell_type": "markdown",
      "metadata": {
        "id": "J1GbAFzZZZRJ"
      },
      "source": [
        "> **평균과 분산**과 같이 익숙한 추정값들은 한 번에 하나의 변수를 다룬다(**일변량 분석**), **상관분석**은 두 변수(이변량 분석)를 비교할 때 중요한 방법이다. 이번에는 이에 관한 추정법과 도표를 살펴보고 셋 이상의 변수(**다변량분석**)을 다루는 방법을 살펴볼 것이다. "
      ]
    },
    {
      "cell_type": "markdown",
      "metadata": {
        "id": "5Um9BCIPZtBp"
      },
      "source": [
        "### 📈 용어정리\n",
        "- 분할표(contingency table) : 두 가지 이상의 범주형 변수의 빈도수를 기록한 표\n",
        "- 육각형 구간 : 두 변수를 육각형 모양의 구간으로 나눈 그림\n",
        "- 등고 도표(contour plot) : 지도상에 같은 높이의 지점을 등고선으로 나타내는 것처럼, 두 변수의 밀도를 등고선으로 표시한 도표\n",
        "- 바이올린 도표(violin plot) : 상자그림과 비슷하지만 밀도추정을 함께 보여준다."
      ]
    },
    {
      "cell_type": "markdown",
      "metadata": {
        "id": "sOQ1GcCEaLZL"
      },
      "source": [
        "### 📈 육각형 구간과 등고선(수치형 변수 대 수치형 변수 시각화)\n",
        "- 산점도(scatter)의 경우 데이터 개수가 상대적으로 적을 때는 시각화 하기 좋다. 하지만 수십, 수백만의 레코드를 나타내기에 점들이 너무 밀집되어 알아보기 어렵다. 따라서 이를 보완하기 위해 나온것이 육각형 구간이다.\n",
        "- 육각형 구간은 점으로 표시하는 대신 기록값을 육각형 모양의 구간들로 나누고 각 구간에 포함된 기록값의 개수에 따라 색깔로 표시한다.\n",
        "- 이렇게 함으로서 상관관계도 파악할 수 있고 밀집의 정도역시 파악하기에 용이하다.\n",
        "- python의 경우 hexbinplot을 이용하여 만들 수 있고 다음과 같은 형태이다."
      ]
    },
    {
      "cell_type": "code",
      "metadata": {
        "id": "MLH9Wlf_bMzJ",
        "colab": {
          "base_uri": "https://localhost:8080/"
        },
        "outputId": "388d5270-f728-4005-9bc9-3fd04fcf9c65"
      },
      "source": [
        "kc_tax0 = kc_tax.loc[(kc_tax.TaxAssessedValue < 750000) & \n",
        "                     (kc_tax.SqFtTotLiving > 100) &\n",
        "                     (kc_tax.SqFtTotLiving < 3500), :]\n",
        "print(kc_tax0.shape)"
      ],
      "execution_count": null,
      "outputs": [
        {
          "output_type": "stream",
          "name": "stdout",
          "text": [
            "(432693, 3)\n"
          ]
        }
      ]
    },
    {
      "cell_type": "code",
      "metadata": {
        "id": "7v-CkXiybrwx",
        "colab": {
          "base_uri": "https://localhost:8080/",
          "height": 297
        },
        "outputId": "8f1db308-8879-4edd-d5cd-7a2d6d82a3e7"
      },
      "source": [
        "ax = kc_tax0.plot.hexbin(x='SqFtTotLiving', y='TaxAssessedValue',\n",
        "                         gridsize=30, sharex=False, figsize=(5, 4))\n",
        "ax.set_xlabel('Finished Square Feet')\n",
        "ax.set_ylabel('Tax Assessed Value')\n",
        "\n",
        "plt.tight_layout()\n",
        "plt.show()"
      ],
      "execution_count": null,
      "outputs": [
        {
          "output_type": "display_data",
          "data": {
            "image/png": "[encoded data removed]",
            "text/plain": [
              "<Figure size 360x288 with 2 Axes>"
            ]
          },
          "metadata": {
            "needs_background": "light"
          }
        }
      ]
    },
    {
      "cell_type": "markdown",
      "metadata": {
        "id": "ALNZ8P3zdBjD"
      },
      "source": [
        "- 두 수치형 변수사이의 관계를 시각화 하기위해 두번째로 산점도 위에 등고선을 사용할 수 있다.\n",
        "- seabron의 kdeplot함수를 이용해서 가능하다."
      ]
    },
    {
      "cell_type": "code",
      "metadata": {
        "id": "iNPbS1IQbs8T",
        "colab": {
          "base_uri": "https://localhost:8080/",
          "height": 297
        },
        "outputId": "0963adf8-8467-45f8-be0e-7a0e65ebbefe"
      },
      "source": [
        "fig, ax = plt.subplots(figsize=(4, 4))\n",
        "sns.kdeplot(data=kc_tax0.sample(10000), x='SqFtTotLiving', y='TaxAssessedValue', ax=ax)\n",
        "ax.set_xlabel('Finished Square Feet')\n",
        "ax.set_ylabel('Tax Assessed Value')\n",
        "\n",
        "plt.tight_layout()\n",
        "plt.show()"
      ],
      "execution_count": null,
      "outputs": [
        {
          "output_type": "display_data",
          "data": {
            "image/png": "[encoded data removed]",
            "text/plain": [
              "<Figure size 288x288 with 1 Axes>"
            ]
          },
          "metadata": {
            "needs_background": "light"
          }
        }
      ]
    },
    {
      "cell_type": "markdown",
      "metadata": {
        "id": "uPiUONXndbzW"
      },
      "source": [
        "### 📈 범주형 변수 대 수치형 변수\n",
        "- 상자그림은 범주형 변수에 따라 분류된 수치형 변수의 분포를 시각화하여 비교하는 간단한 방법이다. 하지만 이 상자그림을 더욱 보완한 형태인 바이올림 도표가 있다.\n",
        "- 바이올린 도표는 y축을 따라 밀도추정 결과를 동시에 시각화 한것이다. 즉, 상자그림에서 보이지 않은 **데이터의 분포를 볼 수 있다**는 것이다.\n",
        "- seaborn의 violinplot메서드를 통해 시각화 할 수 있다.\n",
        "- geom_boxplot함수를 추가한다면 바이올린 도표에 상자그림을 결합할 수 있다."
      ]
    },
    {
      "cell_type": "code",
      "metadata": {
        "id": "wPXvE9-ddE9b",
        "colab": {
          "base_uri": "https://localhost:8080/"
        },
        "outputId": "2617adaa-ee94-4a19-e158-9f2bf442b142"
      },
      "source": [
        "# Table 1-8(1)\n",
        "crosstab = lc_loans.pivot_table(index='grade', columns='status', \n",
        "                                aggfunc=lambda x: len(x), margins=True)\n",
        "\n",
        "\n",
        "# Table 1-8(2)\n",
        "df = crosstab.copy().loc['A':'G',:]\n",
        "df.loc[:,'Charged Off':'Late'] = df.loc[:,'Charged Off':'Late'].div(df['All'], axis=0)\n",
        "df['All'] = df['All'] / sum(df['All'])\n",
        "perc_crosstab = df\n",
        "print(perc_crosstab)"
      ],
      "execution_count": null,
      "outputs": [
        {
          "output_type": "stream",
          "name": "stdout",
          "text": [
            "status  Charged Off   Current  Fully Paid      Late       All\n",
            "grade                                                        \n",
            "A          0.021548  0.690454    0.281528  0.006470  0.160746\n",
            "B          0.040054  0.709013    0.235401  0.015532  0.293529\n",
            "C          0.049828  0.735702    0.191495  0.022974  0.268039\n",
            "D          0.067410  0.717328    0.184189  0.031073  0.164708\n",
            "E          0.081657  0.707936    0.170929  0.039478  0.077177\n",
            "F          0.118258  0.654371    0.180409  0.046962  0.028614\n",
            "G          0.126196  0.614008    0.198396  0.061401  0.007187\n"
          ]
        }
      ]
    },
    {
      "cell_type": "code",
      "metadata": {
        "id": "qDTqQ2sxeKWF",
        "colab": {
          "base_uri": "https://localhost:8080/",
          "height": 369
        },
        "outputId": "13007969-6ced-46ed-8a81-34244bf4616e"
      },
      "source": [
        "fig, ax = plt.subplots(figsize=(5, 5))\n",
        "sns.violinplot(data=airline_stats, x='airline', y='pct_carrier_delay',\n",
        "               ax=ax, inner='quartile', color='white')\n",
        "ax.set_xlabel('')\n",
        "ax.set_ylabel('Daily % of Delayed Flights')\n",
        "\n",
        "plt.tight_layout()\n",
        "plt.show()"
      ],
      "execution_count": null,
      "outputs": [
        {
          "output_type": "display_data",
          "data": {
            "image/png": "[encoded data removed]",
            "text/plain": [
              "<Figure size 360x360 with 1 Axes>"
            ]
          },
          "metadata": {
            "needs_background": "light"
          }
        }
      ]
    },
    {
      "cell_type": "markdown",
      "metadata": {
        "id": "9HvApcmyegnP"
      },
      "source": [
        "### 📈 다변수 시각화하기\n",
        "- python의 facetgrid를 통해 다변수를 시각화 할 수 있다."
      ]
    },
    {
      "cell_type": "code",
      "metadata": {
        "id": "8VAcGOEmeMfE",
        "colab": {
          "base_uri": "https://localhost:8080/",
          "height": 441
        },
        "outputId": "ccea7e46-d692-46ef-8cff-aad5f9dad625"
      },
      "source": [
        "zip_codes = [98188, 98105, 98108, 98126]\n",
        "kc_tax_zip = kc_tax0.loc[kc_tax0.ZipCode.isin(zip_codes),:]\n",
        "kc_tax_zip\n",
        "\n",
        "def hexbin(x, y, color, **kwargs):\n",
        "    cmap = sns.light_palette(color, as_cmap=True)\n",
        "    plt.hexbin(x, y, gridsize=25, cmap=cmap, **kwargs)\n",
        "\n",
        "g = sns.FacetGrid(kc_tax_zip, col='ZipCode', col_wrap=2)\n",
        "g.map(hexbin, 'SqFtTotLiving', 'TaxAssessedValue', \n",
        "      extent=[0, 3500, 0, 700000])\n",
        "g.set_axis_labels('Finished Square Feet', 'Tax Assessed Value')\n",
        "g.set_titles('Zip code {col_name:.0f}')\n",
        "\n",
        "plt.tight_layout()\n",
        "plt.show()"
      ],
      "execution_count": null,
      "outputs": [
        {
          "output_type": "display_data",
          "data": {
            "image/png": "[encoded data removed]",
            "text/plain": [
              "<Figure size 432x432 with 4 Axes>"
            ]
          },
          "metadata": {
            "needs_background": "light"
          }
        }
      ]
    },
    {
      "cell_type": "markdown",
      "metadata": {
        "id": "83f4ZuPBjhuW"
      },
      "source": [
        "# CH2. 데이터와 표본분포\n"
      ]
    },
    {
      "cell_type": "markdown",
      "metadata": {
        "id": "_fkgG6Fbj0CJ"
      },
      "source": [
        "## 💡 표본추출과 편향"
      ]
    },
    {
      "cell_type": "markdown",
      "metadata": {
        "id": "gWqAGP52j_fX"
      },
      "source": [
        "\n",
        "### 📈 용어 정리\n",
        "- N(n) : 모집단(표본)의 크기\n",
        "- 임의표본추출(random sampling) : 무작위로 표본을 추출하는 것\n",
        "- 층화표본추출(stratified sampling) : 모집단을 층으로 나눈 뒤, 각 층에서 무작위로 표본을 추출하는것(중복되지 않은 층, 예를 들어 대한민국의 ~~한 평균을 구한다고 했을때 지역별로 층을 나누는것)\n",
        "- 계층 : 공통된 특징을 가진 모집단의 동종 하위 그룹\n",
        "- 단순임의표본 : 모집단의 층화 없이 임의표본추출로 얻은 표본\n",
        "- 편향 : 계통상의 오류\n",
        "- 표본편향 : 모집단을 잘못 대표하는 표본\n",
        "\n",
        "> **자기선택 표본편향** : 카페나 레스토랑의 리뷰데이터는 무작위로 선정된 것이 아니기 때문에 편향이 되기 쉽다. 예를들어 호텔같은 경우 리뷰를 남긴 사람의 경우 아닌사람들과 달리 특별한 좋은 혹은 나쁜 경험을 했거나, 리뷰어 혹은 체험단의 성격을 지닐 수 있기 때문이다. 이는 표본자체가 편향이 있으며 해당 호텔을 파악하기 위한 지표로서 사용하기에는 어려울 수 있따. 하지만 단순히 시설간의 비교를 할때에는 오히려 신뢰할 만한 자료가 될 수 있다.\n"
      ]
    },
    {
      "cell_type": "markdown",
      "metadata": {
        "id": "ld8BHvgVj_Xl"
      },
      "source": [
        "### 📈 편향\n",
        "- 통계적 편향은 측정 과정 혹은 표본추출 과정에서 발생하는 계통적인 오차를 의미한다.\n",
        "- 통계적 추정결과가 체계적으로 한 쪽으로 치우치는 경향을 보임으로서 발생하는 오차.\n",
        "- 추정결과가 크거나 작아짐에 따라 발생하는 변동오차와는 달리, 추정결과가 한 쪽 방향으로 치우침에 따라 나타나는 오차이다.\n",
        "- **임의표본추출로 인한 오류와 편향에 따른 오류는 신중하게 구분해야한다.**\n",
        "\n",
        "\n"
      ]
    },
    {
      "cell_type": "markdown",
      "metadata": {
        "id": "aIj47T2ZkZGD"
      },
      "source": [
        "### 📈 표본평균과 모평균\n",
        "![](https://images.velog.io/images/ljs7463/post/b924e802-8e50-45a0-8517-d946f2ea6825/bandicam%202021-08-06%2016-57-43-980.jpg)\n",
        "-  위에 있는 기호를 **모집단의 표본평균**의 기호이며 **모집단의 평균은 U**로 표현한다. \n",
        "- 이 둘을 구분하는 이유는 표본에 대한 정보는 관찰을 통해 얻어지고, 모집단에 대한 정보는 주로 작은 표본들로부터 추론을 하기때문에 통계학자들은 구분하는것을 선호한다.\n"
      ]
    },
    {
      "cell_type": "markdown",
      "metadata": {
        "id": "h8sswTD-kZDi"
      },
      "source": [
        "### 📈 선택편향(select bias)\n",
        "- 선택편향은 데이터를 **의식적이든 무의식적이든 선택적으로 고르는 관행**을 뜻한다.(관측 데이터를 선택하는 방식 때문에 생기는 편향)\n",
        "- 이는 오해의 소지가 있거나 단편적인 결론으로 향한다.\n",
        "- 비무작위 표본을 마치 무작위 표본인 것처럼 생각하고 사용할 때 발생하는 오류를 뜻한다.\n",
        "- 쉽게 생각해보면 모아둔 자료들이 랜덤하다고 착각하는것이다.\n",
        "- 다른 예를들어 보면 시장에 바나나를 사러갔는데 수 많은 바나나중 대충 두, 세개를 골랐더니 신선해 보여서 구매를 했더니 세개 모두 신선했을때는 다른것들도 신선할 것이라고 예측한다.\n",
        "- 하지만, 본인이 선택해서 확인한 것이 아닌 과일가게 주인이 두,세개를 보여주는 경우 장사를 하는 입장에서 일부로 좋은상품을 표본으로서 보여줬을 가능성이 있다.\n",
        "- 이러한 경우 가게 주인의 작위성이 들어가고 신뢰가 떨어지게 된다.\n",
        "- 선택편항에는 등장하는 두가지 개념이 있다. **\"데이터 스누핑\"과 \"방대한 검색 효과\" **이다."
      ]
    },
    {
      "cell_type": "markdown",
      "metadata": {
        "id": "Ziay7lp4kZBn"
      },
      "source": [
        "#### 📈 방대한 검색효과 (Vast search effects)\n",
        "- 데이터 과학자들이 걱정하는 선택편향의 한 형태는 존 엘더가 부르는 **방대한 검색효과이다.**\n",
        "- 큰 데이터 집합을 가지고 반복적으로 다른 모델을 만들고 다른 질문을 하다 보면, 언젠가 흥미로운 것을 발견하기 마련이다. 그 결과는 정말로 의미가 있는 것인가? 아니면 우연히 얻은 예외 인가?\n",
        "- 많은 예측 변수를 포함하는 모델링은 일반화가 될 수 있을까??\n",
        "- 예를 들어 내가 복권에 당첨 될 확률은 희박할것이다. 하지만 백만명이 복권을 샀을때 그 중 한명이 복권에 당첨 될 확률은?? 매우 높을것이다\n",
        "- 즉, 데이터를 고문하다보면 어떤 형태로든 자백하게 되는데 과연 이것이 의미있는것일까? 아니면 우연일까?? \n",
        "- 따라서 성능을 검증하기 위해서 **홀드아웃(holdout)데이터 세트를 사용하거나, 목표값섞기(순열검정)을 추천했다**(존 엘더John Elder < 데이터 마이닝 컨설턴트이자 엘더 리서치의 설립자이다. > )\n",
        "- 통계에서 일반적으로 나타나는 선택편향으로는 위에서 언급한 **방대한 검색효과** 뿐만 아니라, **비임의표본추출(non-random-sampling)**, **데이터 체리피킹(선택)**, **특정한 통계적 효과를 강조하는 시간 구간 선택**, **흥미로운 결과가 나올때 실험을 중단하는 것** 등이 포함된다. \n"
      ]
    },
    {
      "cell_type": "markdown",
      "metadata": {
        "id": "grfx1fTokY_B"
      },
      "source": [
        "#### 📈 데이터 스누핑\n",
        "- 어떠한 가설을 세우고 그것을 시험하기 위해서 잘 설계된 실험을 수행한다면, 그 결과에 대해 강하게 확신할 수 있다. 하지만 이런 경우는 드물다. \n",
        "- 보통 가지고 있는 데이터를 먼저 확인한 후 그 안에서 패턴을 찾고자 한다. 하지만, 이것이 참된 패턴인지 그냥 데이터 스누핑을 통해 나온 결과인지 알 수없다.\n",
        "- 즉, 데이터 스누핑이란 흥미로운것이 나올때까지 계속해서 데이터를 뒤지는것이다. \n",
        "- 모델에 환벽히 들어 맞는 패턴이나 규칙을 계속해서 찾는것, 우리는 데이터를 계속해서 고문하다보면 모델에 들어맞는 패턴을 찾는경우가 있지만 이것이 유의미한 패턴인지는 의문이다."
      ]
    },
    {
      "cell_type": "markdown",
      "metadata": {
        "id": "U19uJSE7kY8Z"
      },
      "source": [
        "### 📈 평균으로의 회귀\n",
        "\n",
        "- 주어진 어떤 변수를 연속적으로 측정했을 때 나타는 현상으로서\n",
        "- 예외적인 경우가 관찰되면 그 다음에는 중간 정도의 경우가 관찰되는 경향이 있다는 것이다. 따라서 예외 경우를 너무 특별히 생각하고 의미를 부여하면 선택편향으로 이어질 수 있다.\n",
        "- 예를 들어, 야구 선수가 새로운 팀으로 이적을 했다고 가정하자.\n",
        "- 해당 시즌에 성적은 간단하게 다음과 같은 공식이 적용할것이다.\n",
        "- 성적 = 실력 + 운\n",
        "- 물론 실제로 다양한 복합적인 요소가 있겠지만 예시를 위해 이렇게 예를 들어보았다.\n",
        "- 실력이 10중에 5인 선수이지만 그 해 운이 좋아서 10의 성적을 보여줬다고 하면 이것은 평소 5점의 실력과 다르게 예외값으로 계산이 된다. 그렇다고 해서 이 경우에 너무 의미 부여를 하다가는 선택편향이 발생할 수 있다. \n",
        "- 예외가 발생하였다고 성급하게 어떠한 판단을 하기보다는 데이터를 전체적으로 바라보자!!\n"
      ]
    },
    {
      "cell_type": "markdown",
      "metadata": {
        "id": "1ahyzQ3DkgVZ"
      },
      "source": [
        "### 📈 정리\n",
        "- 가설을 구체적으로 명시하고 임의표본추출 원칙에 따라 데이터를 수집하면 편향을 피할 수 있다.\n",
        "- 모든 형태의 데이터 분석은 데이터수집/분석 프로세스에서 생기는 편향의 위험성을 늘 가지고 있다."
      ]
    },
    {
      "cell_type": "markdown",
      "metadata": {
        "id": "P3rDKej3ojrM"
      },
      "source": [
        "## 💡표준오차 표준편차"
      ]
    },
    {
      "cell_type": "markdown",
      "metadata": {
        "id": "-XoqBaD4oygh"
      },
      "source": [
        "> 통계의 표본분포라는 용어는 하나의 동일한 모집단에서 얻은 여러 샘플에 대한 표본통계량의 분포를 나타낸다."
      ]
    },
    {
      "cell_type": "markdown",
      "metadata": {
        "id": "-7-iXXs7ojob"
      },
      "source": [
        "### 📈 용어정리\n",
        "- 표본통계량(sample statistic) : 더 큰 모집단에서 추출도니 표본 데이터들로부터 얻은 측정 지표\n",
        "- 데이터 분포(data distribution) : 어떤 데이터 집합에서의 각 개별 값의 도수분포(통계학에서 도수분포 또는 빈도분포는 표본의 다양한 산출 분포를 보여준다.)\n",
        "- 표본분포(sampling distribution) : 여러 표본들 혹은 재표본들로부터 얻은 표본 통계량의 도수분포\n",
        "- 중심극한정리(central limit theorem, CLT) : 표본크기가 커질수록 표본분포가 정규분포를 따르는 경향\n",
        "- 표준오차(standard error) : 여러 표본들로부터 얻은 표본통계량의 변량(개별 데이터 값들의 변량을 뜻하는 표준편차와 혼동하지 말 것)\n",
        "\n",
        "> 우리는 표본을 통해서 추정이나 모델을 하기 때문에 어떤 표본을 뽑느냐에 따라 결과가 달라질 수 있다. 즉, 표본의 변동성(sampling variability)이 관심사이다.\n",
        "\n",
        "\n"
      ]
    },
    {
      "cell_type": "markdown",
      "metadata": {
        "id": "z8t_a6i8ojmB"
      },
      "source": [
        "### 📈 표준 편차 \n",
        "- 표준편차는 각 데이터가 평균과 얼마나 차이를 가지느냐를 알려주는 것이다.\n"
      ]
    },
    {
      "cell_type": "markdown",
      "metadata": {
        "id": "y4lmFlL1ojjr"
      },
      "source": [
        "### 📈 표준 오차\n",
        "- 표준오차는 표본평균의 표준편차이다.\n",
        "- 표준오차는 추정량의 정도를 나타내는 측도로서 샘플링을 여러 번 했을 때 각 샘플들의 평균이 전체 평균과 얼마나 차이를 보내는지에 대한 통계량이다.\n",
        "- 즉, 표본이 모집단에서 얼마나 떨어져 있는가를 나타낸다.(표준오차가 작을수록 표본의 대표성이 높다고 할 수 있다.)\n",
        "![](https://images.velog.io/images/ljs7463/post/0f0ded8e-545b-4731-8fcb-a4f0ccf91103/bandicam%202021-08-13%2013-45-00-694.jpg)\n",
        "- 표준오차는 표본 값들의 표준편차s와 표본크기 n을 기반으로 한 통계량을 이용하여 추정할 수 있다.\n",
        "- 위의 수식을 보면 알 수 있듯이 표본의 크기가 커지면 표준오차는 줄어든다.\n",
        "- 이때 표준오차와 표본크기 사이의 관계를 **n제곱근의 법칙**이라고 부르기도 한다.(표준오차를 2배로 줄이려면 표본 크기를 4배를 증가시켜야한다.)\n",
        "- 표준오차는 표본의 크기가 커질수록 줄어든다.\n",
        "\n",
        "\n",
        "정리하면, 표준편차의 경우 하나의 표본안에서 각 데이터들이 그들의 평균과 얼마나 떨어져 있는지를 나타낸 것이며, 표준오차는 여러 표본들을 샘플링(sampling)을 하고 각 샘플들의 평균이 전체 모집단의 평균과 얼마나 차이가 나는지를 보여주는것으로 모집단과의 차이가 적을수록 표본이 모집단을 잘 대표하고 있는 샘플이라고 할 수 있다."
      ]
    },
    {
      "cell_type": "markdown",
      "metadata": {
        "id": "WuFe7_nJojg4"
      },
      "source": [
        "### 📈 표준오차를 측정할 때 고려해야할 사항\n",
        "- 모집단에서 완전히 새로운 샘플들을 많이 수집한다.\n",
        "- 각각의 새 샘플에 대해 통계량(ex)평균)을 계산한다.\n",
        "- 두 번째 에서 얻은 통계량의 표준편차를 계산한다. 이를 표준오차의 추정치로 사용한다.\n",
        "\n",
        "하지만, 실제로 표준오차를 추정하기 위해서 새 샘플을 수집하는 접근 방식은 일반적으로 불가능하다(통계적 낭비 심하다). 하지만 이는 **부트스트랩** 재표본을 사용할 수 있다. \n",
        "\n",
        "부트스트랩은 다음 포스팅에서 다루어보고자 한다."
      ]
    },
    {
      "cell_type": "markdown",
      "metadata": {
        "id": "glCNPui9ojeI"
      },
      "source": [
        "### 📈 정리\n",
        "표준오차는 표본평균의 표준편차이다. 내가 뽑은 표본이 모집단을 얼마나 잘 반영했는지를 알아보기 위해 표준오차를 측정하는데 표본들을 무작정 늘릴수 없으니 부트스트랩 방법을 활용하여 표본을 늘린다."
      ]
    },
    {
      "cell_type": "markdown",
      "metadata": {
        "id": "Vc6go6cEojcB"
      },
      "source": [
        "## 💡 복원추출과 비복원추출"
      ]
    },
    {
      "cell_type": "markdown",
      "metadata": {
        "id": "ibm2gM7NpIP5"
      },
      "source": [
        "```\n",
        "복원추출과 비복원추출을 '대충' 알고 있는경우가 많은것 같다.\n",
        "겉할기 식으로 단어로 부터 추정하는 식으로 익혔다면 이번에 정확한 의미로\n",
        "익혔으면 좋겠다. 물론 나또한 이번 게시물에서 자랑할만큼의 잘 알고있는것이 아니고\n",
        "수많은 구글의 게시글들을 찾아보며 알게 된것을 공유할 뿐이다.\n",
        "```\n",
        "\n",
        "먼저 다음에 질문해보는것이 잘 알고있는지 아닌지 확인해볼 수 있을것 같다.\n",
        "```\n",
        "* 먼저 모집단이 있다고 가정한다.\n",
        "\n",
        "1. 모집단에서 5개의 원소를 한번에 뽑고 A라는 표본으로 한다. 그리고 표본 A를 다시 \n",
        "모집단에 넣은 후 전체 모집단에서 5개의 원소를 한번 더 뽑고 B라는 표본으로 정의한다.\n",
        "\n",
        "2. 모집단에서 5개의 원소를 한번에 뽑고 A라는 표본으로 한다. 그리고 모집단으로 다시 집어넣지 않고 모집단에서 5개의 원소를 뽑아서 B라는 표본으로한다.\n",
        "\n",
        "3. 모집단에서 5개의 원소를 뽑는데 하나를 뽑을때마다 모집단에 돌려놓고 다시 뽑으면서 총 5개를 뽑고 표본 A라고 한다. 해당 과정을 한번 더 반복하고 표본 B라고 한다.\n",
        "```\n",
        "\n",
        "다음 3개의 경우의 수 를 보았을때 어떤것이 복원추출이고 어떤것이 비복원추출에 해당하는 것일까??\n",
        "\n",
        "1번이 복원추출 2번이 비복원추출이라고 생각하시는 분들이 분명히 있을것이다.\n",
        "하지만 복원추출은 3번이다!!"
      ]
    },
    {
      "cell_type": "markdown",
      "metadata": {
        "id": "KShSBfefpIFi"
      },
      "source": [
        "### 📈 복원추출 \n",
        "크기가 n개인 표본을 뽑는데, n개의 원소를 하나씩뽑는데, 원소를 하나 뽑을 때마다 복원하고, 다음 원소를 뽑는다"
      ]
    },
    {
      "cell_type": "markdown",
      "metadata": {
        "id": "B-FQ772FpIDZ"
      },
      "source": [
        "### 📈 비복원추출\n",
        "크기가 n개인 표본을 뽑는데, n개의 원소를 하나씩 뽑는데, 뽑을 때 마다 복원하지 않고 다음 원소를 뽑는다.\n",
        "\n"
      ]
    },
    {
      "cell_type": "markdown",
      "metadata": {
        "id": "wFi7vi99pH8j"
      },
      "source": [
        "### 📈 정리\n",
        "즉, 각각의 원소 하나를 뽑을때마다 복원을 하는지, 하지 않는지가 복원추출이냐, 비복원추출이냐를 구분하게 된다."
      ]
    },
    {
      "cell_type": "markdown",
      "metadata": {
        "id": "Fp7m6zGRpe6g"
      },
      "source": [
        "## 💡 중심극한정리 와 재표본추출"
      ]
    },
    {
      "cell_type": "markdown",
      "metadata": {
        "id": "1jfdtl5rpe4G"
      },
      "source": [
        "### 📈 중심극한정리(Central Limit Theorem, CLT)\n",
        "\n",
        "**모집단이 정규분포가 아니더라도**, 표본의 크기가 충분하고 데이터가 정규성을 크게 이탈하지 않는 경우, 여러 표본에서 추출한 평균은 종모양의 정규곡선을 따른다.\n",
        "\n",
        "- 표본이 아무리 많다고 해도 표본의 평균값이 모집단의 평균값과 같아지지는 않는다.(표본 추출을 할때마다 표본의 평균값이 달라지기 때문)\n",
        "- 모집단의 평균값과같아질수는 없지만 표본의 크기가 커질수록(30개 이상) 표본평균들이 이루는 분포가 정규분포에 가까워진다.\n",
        "- \"모집단의 분포에 상관없이\" 큰 표본들의 표본평균의 분포가 정규분포로 수렴 한다는 점을 이용하여, Z값을 구해 확률값을 구할 수 있게 된다.\n",
        "- 중심극한정리는 가설검정과 신뢰구간의 밑바탕이 되므로 매우 중요하게 다루어진다. 하지만, 형식적인 가설검정이나 신뢰구간이 데이터 과학에서는 그정도로 중요하지않다.\n",
        "- 대부분의 경우 부트스트랩을 사용할 수 있기 때문이다."
      ]
    },
    {
      "cell_type": "markdown",
      "metadata": {
        "id": "O5gJuXfZpe1d"
      },
      "source": [
        "### 📈 재표본추출,Resampling(부트스트래핑, 순열검정)\n",
        "\n",
        "- 재표본 추출은 부트스트랩과 비슷한의미로 사용된다. 보통 재표본추출은 여러 표본이 결합되어 비복원추출을 수행할 수 있는 \"순열과정\"을 포함한다. 부트스트랩은 항상 관측된 데이터로부터 복원추출은 하는것이다.\n",
        "\n",
        "- 통계학에서 재표본추출의 목표는 랜덤한 변동성을 알아보기 위함이다. 재표본추출은 표본을 반복적으로 추출하는것을 의미하며, 이를 적용하면 머신러닝 모델의 정확성을 평가하고, 항샹시킬 수 있다.\n"
      ]
    },
    {
      "cell_type": "markdown",
      "metadata": {
        "id": "gANods8RpezJ"
      },
      "source": [
        "### 📈 부트스트랩(bootstrap)\n",
        "\n",
        "- 통계량이나 모델 파라미터(모수)의 표본분포를 추정하는 쉽고 효과적인 방법은, 현재 있는 표본에서 추가적으로 표본을 복원추출하고 각 표본에 대한 통계량과 모델을 다시 계산하는 것이다. 이러한 절차를 부트스트랩이라고 부르며, 데이터나 표본통계량이 정규분포를 따라야 한다는 가정은 꼭 필요하지 않다.\n",
        "- 부트스트래핑을 하면 한 개 밖에 없었던 우리의 sample data set을 n개의 sample data set을 가지고 있는것과 같은 효과를 누릴 수 있게 한다.\n",
        "- 부트스트래핑은 정규분포를 따르지않고, 데이터셋의 분포가 고르지 않은경우에 사용할 수 있다는 장점이 있다.\n",
        "- 방법 : 모집단에서 하나의 샘플데이터를 뽑아온다 -> 샘플데이터에서 복원추출하여 반복해서 샘플을만든다.\n",
        "-> 재표본추출된 표본의 평균을 기록한다. -> 이를 반복한다.(중복허용=복원추출)\n",
        "- 반복횟수가 많을수록 표준오차나 신뢰구간에 대한 추정이 더 정확해진다.\n",
        "\n",
        "- 부트스트래핑을 사용하는 이유는 많은 통계적 실험에서는 정규성을 가정하고 사용을 하게된다. 부트스트래핑을 이용하게되면 적은 데이터라도 정규분포를 형성시키기 충분한 데이터를 만들 수 있기 때문에 모집단의 평균을 추정할 수 있다.\n",
        "- 즉, 자료가 충분하지 않을때는, 부트스트래핑을 통해 데이터를 일시적으로 늘여서 표준오차를 통해 표본의 변동성을 측정한다.\n",
        "- 1개의 샘플평균은 별로 의미가 없지만 1000개 이상 부트스트래핑한 평균은 모집단의 평균을 추정가능.\n",
        "- 여러 부트스트랩 표본들로부터 얻은 예측값을 모아서 결론을 만드는것(배깅)이 단일 모델을 사용하는것 보다 좋다.\n",
        "- **부트스트랩은 표본크기가 작은 것을 보완하기 위한것이 아니다. 새 데이터를 만드는 것도 아니며 기존 데이터 집합의 빈 곳을 채우는것도 아니다. 모집단에서 추가적으로 표본을 뽑는다고 할 때, 그 표본이 얼마나 원래 표본과 비슷할지를 알려줄 뿐이다.**"
      ]
    },
    {
      "cell_type": "code",
      "metadata": {
        "id": "NQfItrbssmtR",
        "colab": {
          "base_uri": "https://localhost:8080/"
        },
        "outputId": "469c9189-ecac-47c2-d440-8c81255f5351"
      },
      "source": [
        "from sklearn.utils import resample\n",
        "results = []\n",
        "for nrepeat in range(1000):\n",
        "  sample = resample(loans_income)\n",
        "  results.append(sample.median())\n",
        "\n",
        "results = pd.Series(results)\n",
        "print('Bootstrap Statistics:')\n",
        "print(f'original:{loans_income.median()}')\n",
        "print(f'bias : {results.mean() - loans_income.median()}')\n",
        "print(f'std. error: {results.std()}')"
      ],
      "execution_count": null,
      "outputs": [
        {
          "output_type": "stream",
          "name": "stdout",
          "text": [
            "Bootstrap Statistics:\n",
            "original:x    62000.0\n",
            "dtype: float64\n",
            "bias : x   -84.308\n",
            "dtype: float64\n",
            "std. error: 232.93128733731893\n"
          ]
        }
      ]
    },
    {
      "cell_type": "code",
      "metadata": {
        "id": "aXG_-vOOzq2g",
        "colab": {
          "base_uri": "https://localhost:8080/",
          "height": 283
        },
        "outputId": "999ce21c-0c98-43aa-c202-8d40679c78a0"
      },
      "source": [
        "import seaborn as sns\n",
        "sns.histplot(loans_income)"
      ],
      "execution_count": null,
      "outputs": [
        {
          "output_type": "execute_result",
          "data": {
            "text/plain": [
              "<matplotlib.axes._subplots.AxesSubplot at 0x7f812e7760d0>"
            ]
          },
          "metadata": {},
          "execution_count": 8
        },
        {
          "output_type": "display_data",
          "data": {
            "image/png": "[encoded data removed]",
            "text/plain": [
              "<Figure size 432x288 with 1 Axes>"
            ]
          },
          "metadata": {
            "needs_background": "light"
          }
        }
      ]
    },
    {
      "cell_type": "markdown",
      "metadata": {
        "id": "aFy_BeOVpewf"
      },
      "source": [
        "### 📈 순열검정(permutation test)\n",
        "\n",
        "- 무작위 순열검정 : 두 개 이상의 표본을 함께 결합하여 관측값들을 무작위로 재표본으로 추출하는과정\n",
        "- 과정\n",
        "1. 여러 그룹의 결과를 단일 데이터 집합으로 결합한다.\n",
        "2. 결합된 데이터를 잘 섞은 후, 그룹A와 동일한 크기의 표본을 무작위로 (비복원)추출한다.\n",
        "3. 나머지 데이터에서 그룹 B와 동일한 크기의 샘플을 무작위로 (비복원)추출한다.\n",
        "4. 지금 추출한 재표본에 대해 모두 다시 계산하고 기록한다.\n",
        "5. 1 ~ 4 의 과정을 R번 반복하여 검정통계량의 순열 분포를 얻는다.\n",
        "\n",
        "-기존 그룹의 차이와 순열 과정에서 얻은 집합의 차이를 비교해보자.\n",
        "만약, 기존 차이가 순열로 나온 차이의 집합 안에 들어가 있다면 어떠한 것도 증명할 수가 없다.( 우연히 일어날 수 있음 )하지만, 기존 차이가 순열 분포의 바깥에 있다면, 우연 때문이 아니라고 결론 내릴 수 있다.\n",
        "즉, 통계적으로 유의미하다."
      ]
    },
    {
      "cell_type": "markdown",
      "metadata": {
        "id": "EmICJAbEpet3"
      },
      "source": [
        "#### 📈 순열검정의 변종 \n",
        "\n",
        "1. 전체순열검정 : 데이터를 무작위로 섞고 나누는 과정에서 나눌 수 있는 모든 가능한 조합을 찾는다.\n",
        "따라서 샘플 크기가 비교적 작을 때만 실용적이다. 셔플링을 많이 반복할수록, 임의순열검정 결과는 전체순열검정 결과와 유사하게 근접한다. '유의미하다'라는 결론이 아닌 더 정확한 결론을 보장하는 통계적 속성이 있어서 '정확검정'이라고도 한다.\n",
        "\n",
        " \n",
        " \n",
        "\n",
        "2. 부트스트랩 순열검정 : 무작위 순열검정의 2,3단계에서 비복원으로 하던 것을 복원 추출로 수행한다.\n",
        "이는 리샘플링 과정에서 모집단 개체를 선택할 때, 개체가 다시 그룹에 할당될 때에도 임의성을 보장한다.\n",
        "하지만, 이를 구별하는 일이 복잡하고, 데이터 과학에서 별로 실용적이지 않다."
      ]
    },
    {
      "cell_type": "markdown",
      "metadata": {
        "id": "npk7Wgk9perm"
      },
      "source": [
        "## 💡 신뢰구간(Confidence interval)"
      ]
    },
    {
      "cell_type": "markdown",
      "metadata": {
        "id": "X8131klVRuNx"
      },
      "source": [
        "### 📈 들어가기 앞서\n",
        "사람들은 불확실성에 대해 자연스러운 반감을 가지고 있는경우가 많다. 특히 전문가들은 '잘 모른다'와 같은 표현을 사용하는 것을 꺼려한다. 사람들은 불확실성을 인정하면서도, 그것이 어떤 단일 수치(점추정)로 제시될때, 추정치에 대한 과도한 믿을을 가진다. 이때 단일 수치가 아닌 어떠한 범위로서 추정치를 제시함으로서 이러한 경향을 막을 수 있다. 이것이 신뢰구간을 표현하는 이유중 하나일 것이다. 먼저, 신뢰구간은 통계적 샘플링에 근거한다."
      ]
    },
    {
      "cell_type": "markdown",
      "metadata": {
        "id": "IgAZaspHRvTE"
      },
      "source": [
        "### 📈 신뢰구간(Confidence interval)\n",
        "#### 📈 95% 신뢰구간이란?\n",
        "100번의 반복 샘플링을 통해 얻은 평균과 편차로 계산한 100개의 신뢰구간중 5개는 실제로 모평균(u,뮤)을 포함하고 있지않는다, 혹은 표본을 통해 얻은 95% 신뢰구간에 실제 모평균이 포함되지 않을 확률이 5%이다. \n",
        "\n",
        "이때, 95%를 신뢰수준(Confidence Level)이라고 하고 \"신뢰수준이 95%이다.\"라고 말할 수 있다.\n",
        "\n",
        "> 신뢰구간이란 모수의 참값이 추정한 구간 안에 포함될 것으로 믿어지는 미리 정해놓은 확신의 정도를 신뢰수준(Confidence Level)이라 한다.\n",
        "\n",
        "![](https://images.velog.io/images/ljs7463/post/07a11b85-a255-4b4c-9ced-76b84debe05c/%EC%8B%A0%EB%A2%B0%EA%B5%AC%EA%B0%84.jpg)\n",
        "\n",
        "신뢰구간에 대해 그림을 그려보면 위와 같은 모습이다.\n",
        "\n",
        "이해를 돕기 위해 예시를 하나 들어보고자 한다. 대한민국 남성의 키의 평균을 구해보고자 한다. 하지만 모집단인 대한민국 성인 남성의 키를 모두 측정하는 것은 불가능 하기때문에 여러가지 sampling방법중 하나를 사용하여 sample을 구해서 대표 해보고자 한다. \n",
        "\n",
        "특별시, 광역시 에서 100명의 성인 남성들을 뽑아 측정한 결과 평균이 170 ~ 180 이라는 결과가 나왔다고 한다. 하지만 sample로 뽑힌 성인 남성 중에서는 195 cm의 키를 보유한 남성도 있을것이다. 반대로 150cm인 남성또한 존재할 수 있다. 이때 신뢰구간을 95%를 잡았다는것은 모든 샘플데이터에서 95%는 포함이 되고 5%는 포함이 되지않는다는 것을 말한다. \n",
        "\n",
        "150cm, 195cm와 같이 한쪽으로 많이 치우친 값들의 경우 5%에 포함될 확률이 높은것이다. 이는 실제로 sampling을 해봐야 알겠지만 임의로 잡은 평균이 170~180 이라고 가정했을때 150cm과 195cm의 경우를 5%라고 가정해보자.\n",
        "\n",
        "위의 예시에서 정한 95%의 범위안에 든다면 통계적으로 유의하다고 말할 수 있는 수치이며, 양쪽의 총 5%의 구간은 통계적으로 유의하지 않을 확률이 높다라고 말할 수 있다."
      ]
    },
    {
      "cell_type": "markdown",
      "metadata": {
        "id": "VgzJNmxRRvKE"
      },
      "source": [
        "### 📈 표본의 크기와 신뢰수준의 관계\n",
        "\n",
        "만약에 표본을 각 특별시, 광역시에서 10명의 사람을 뽑아서 키의 평균이 170 ~172cm가 나왔다고 가정을 해보자. 과연 믿음직 할까?? 별로 믿음직하지 않을것이다. 그런데 만약 50명씩 뽑아서 165에서 175가 나왔다고 해보자. 이것은 좀 더 믿음직하다. 그렇다면 마지막으로 10명씩 뽑아서 키의 평균이 150 ~ 190 이라고 하면 어떨까요?? 이것은 훨씬 믿음직 할 것입니다. 하지만 이것은 정보량이 없습니다. 따라서 우리는 구간을 줄이고 싶을것입니다.\n",
        "\n",
        "구간을 줄이려면 샘플사이즈를 늘려야지 가능하다. 즉 우리가 165 ~ 175라고 말하고 싶으면 표본의 크기를 100명, 200명, 300명 이렇게 늘려야한다. 즉, 표본크기는 신뢰수준과 밀접한 관계가 있는 것이다. \n",
        "\n",
        "신뢰수준의 개념을 예시로 한번 더 이해해보자!! 우리가 여론조사를 했다고 가정해 보자.\n",
        "A후보의 지지율이 40%이고 ±3%라고 하자. 그렇다면 A후보의 실제 지지율이 37% ~ 43%사이에 놓여있을것입니다. 그런데 이것이 항상 성립하는것이 아니라 이러한 여론조사를 **백번, 천번, 만번 반복했을때** 95번은 참값을 포함할것이고 5번은 틀릴 수 있을것이다 라고 했을때 신뢰수준이 95%이다 라고 할 수 있다. 여기서 5번의 예로는 해당 지지자를 싫어하는 사람들이 sample에 많이 들어갔을 수도 있는 경우를 말한다.따라서 샘플 사이즈를 늘려야 신뢰수준을 늘릴 수 있는것이다. \n",
        "\n",
        "정리해보면 신뢰수준이 95%라고 동일했을때, 샘플수가 많으면 키의 평균이 165 ~ 175cm라고 이야기 할 수 있지만 샘플수가 10명을 조사한것이라면 150 ~195cm구간으로 늘릴 수 밖에 없는것이다./ 표본이 작을수록 구간이 넓어진다(즉, 불확실성이 더 커진다)"
      ]
    },
    {
      "cell_type": "markdown",
      "metadata": {
        "id": "xXgg2z1TRvF2"
      },
      "source": [
        "### 📈 표본크기 N과 관심있는 표본 통계량이 주어졌을때, 부트스트랩 신뢰구간을 구하는 방법\n",
        "1. 데이터에서 복원추출 방식으로 크기 n인 표본을 뽑는다(재표본추출)\n",
        "2. 재표본추출한 표본에 대해 원하는 통계량을 기록한다.\n",
        "3. 1 ~ 2 단계를 R번 반복한다.\n",
        "4. x% 신뢰구간을 구하기 위해, R개의 재표본 결과의 분포 양쪽 끝에서 [(100 - x)/2] % 만큼 잘라낸다.\n",
        "5. 절단한 점들은 x% 부트스트랩 신뢰구간의 양 끝점이다.\n",
        "\n",
        ">부트스트랩은 대부분의 통계량 혹은 모델 파라미터에 대한 신뢰구간을 생성하는 데 사용할 수 있는 일반적인 기법이다.\n"
      ]
    },
    {
      "cell_type": "markdown",
      "metadata": {
        "id": "0qPGOpiMRvDN"
      },
      "source": [
        "## 💡 대표값의 함정"
      ]
    },
    {
      "cell_type": "markdown",
      "metadata": {
        "id": "J_KchKORRvAc"
      },
      "source": [
        "### 📈 앤스컴 콰르텟\n",
        "\n",
        "기술통계에서는 많은 대표값들이 존재한다. 하지만, 이 대표값으로만 의미를 뽑아내려다 보면 전체적인 그림을 보지 못할 수 있습니다. 이를 설명하는데 대표적인 것이 **앤스컴 콰르텟** 입니다.\n",
        "\n",
        "\n",
        "앤스컴 콰르텟이란 통계학자가 발견한 네 개의 데이터셋을 뜻한다. \n",
        "실제로 코렙으로 만들어 보았다.\n",
        "\n",
        "```python\n",
        "# 데이터 불러오기\n",
        "import pandas as pd\n",
        "import seaborn as sns\n",
        "import matplotlib.pyplot as plt\n",
        "\n",
        "df = sns.load_dataset('anscombe')  \n",
        "\n",
        "data1 = df[df['dataset']=='I']\n",
        "data2 = df[df['dataset']=='II']\n",
        "data3 = df[df['dataset']=='III']\n",
        "data4 = df[df['dataset']=='IV']\n",
        "\n",
        "print(data1.describe())\n",
        "print(data2.describe())\n",
        "print(data3.describe())\n",
        "print(data4.describe())\n",
        "```\n",
        "```python\n",
        ">>> 출력\n",
        "               x          y\n",
        "count  11.000000  11.000000\n",
        "mean    9.000000   7.500909\n",
        "std     3.316625   2.031568\n",
        "min     4.000000   4.260000\n",
        "25%     6.500000   6.315000\n",
        "50%     9.000000   7.580000\n",
        "75%    11.500000   8.570000\n",
        "max    14.000000  10.840000\n",
        "               x          y\n",
        "count  11.000000  11.000000\n",
        "mean    9.000000   7.500909\n",
        "std     3.316625   2.031657\n",
        "min     4.000000   3.100000\n",
        "25%     6.500000   6.695000\n",
        "50%     9.000000   8.140000\n",
        "75%    11.500000   8.950000\n",
        "max    14.000000   9.260000\n",
        "               x          y\n",
        "count  11.000000  11.000000\n",
        "mean    9.000000   7.500000\n",
        "std     3.316625   2.030424\n",
        "min     4.000000   5.390000\n",
        "25%     6.500000   6.250000\n",
        "50%     9.000000   7.110000\n",
        "75%    11.500000   7.980000\n",
        "max    14.000000  12.740000\n",
        "               x          y\n",
        "count  11.000000  11.000000\n",
        "mean    9.000000   7.500909\n",
        "std     3.316625   2.030579\n",
        "min     8.000000   5.250000\n",
        "25%     8.000000   6.170000\n",
        "50%     8.000000   7.040000\n",
        "75%     8.000000   8.190000\n",
        "max    19.000000  12.500000\n",
        "```\n",
        "출력된 정보를 보았을때는 4개의 데이터 셋이 모두 비슷해보인데 하지만 이를 regplot으로 시각화 해보겠다.\n",
        "```python\n",
        "# 시간이 없어 지저분하지만 하나하나 만들었다.\n",
        "\n",
        "fig, ax =plt.subplots(2,2,figsize =(12,6))\n",
        "\n",
        "sns.regplot(\n",
        "    data=data1,\n",
        "    x='x',\n",
        "    y='y',\n",
        "    ax = ax[0,0]\n",
        "    )\n",
        "    \n",
        "sns.regplot(\n",
        "    data=data2,\n",
        "    x='x',\n",
        "    y='y',\n",
        "    ax = ax[0,1]\n",
        "    )\n",
        "    \n",
        "sns.regplot(\n",
        "    data=data3,\n",
        "    x='x',\n",
        "    y='y',\n",
        "    ax = ax[1,0]\n",
        "    )\n",
        "    \n",
        "sns.regplot(\n",
        "    data=data4,\n",
        "    x='x',\n",
        "    y='y',\n",
        "    ax = ax[1,1]\n",
        "    )\n",
        "    \n",
        "plt.show()\n",
        "\n",
        "```\n",
        "![](https://images.velog.io/images/ljs7463/post/48d6e302-dd85-44a3-93fb-c364023b5614/image.png)\n",
        "\n",
        "출력 결과는 위의 그림과 같다. \n",
        "\n",
        "보는것처럼 4개가 전부 다르다는것을 알 수 있다. 충격적인 결과이다.\n",
        "\n",
        "이를 보고 대표값에 맹신하여 과도한 집착은 오히려 함정에 빠질 수 있다는 교훈을 남겨주었다.\n",
        "\n",
        "\n"
      ]
    },
    {
      "cell_type": "markdown",
      "metadata": {
        "id": "v_MA90y1Ru-E"
      },
      "source": [
        "## 💡 정규분포"
      ]
    },
    {
      "cell_type": "markdown",
      "metadata": {
        "id": "6kKFXgiPh0AT"
      },
      "source": [
        "### 📈 용어정리\n",
        "- 오차 : 데이터 포인트와 예측값 혹은 평균 사이의 차이\n",
        "- 표준화(정규화)하다 : 평균을 빼고 표준편차로 나눈다.\n",
        "- z 점수(z-score)  : 개별 데이터 포인트를 정규화한 결과\n",
        "- 표준정규분포(standard normal distribution) : 평균 = 0, 표준편차 =1인 정규분포\n",
        "- QQ그림 : 표본분포가 특정 분포(예 : 정규분포)에 얼마나 가까운지를 보여주는 그림\n"
      ]
    },
    {
      "cell_type": "markdown",
      "metadata": {
        "id": "eME6Y6plh2z2"
      },
      "source": [
        "### 📈 정규분포\n",
        "\n",
        "- 종 모양의 정규분포는 전통적인 통계의 상징이다. 표본통계량 분포가 보통 어떤 일정한 모양이 있다는 사실은 이 분포를 근사화하는 수학 공식을 개발하는 데 강력한 도구가 되었다. "
      ]
    },
    {
      "cell_type": "markdown",
      "metadata": {
        "id": "sHzlHRSph2vV"
      },
      "source": [
        "### 📈 정규화와 표준화\n",
        "\n",
        "<정규화>\n",
        "- 데이터 분포를 특정 구간으로 바꾸는 척도법이다.(0~1, -1~1)\n",
        "- 데이터 군 내에서 특정 데이터가 가지는 위치를 볼때 사용된다.\n",
        "- 식 = (측정값 - 최소값) / (최대값 - 최소값)\n",
        "\n",
        "<표준화>\n",
        "- 데이터를 0을(평균) 중심으로 양쪽으로 데이터를 분포시키는 방법(표준화를 하게 되면 각 데이터들은 평균을 기준으로 얼마나 떨어져 있는지를 나타내는 값으로 변환된다)\n",
        "- 평균0 표준편차가 1\n",
        "- 식(z-score표준화) : (측정값 - 평균) / (표준편차)"
      ]
    },
    {
      "cell_type": "markdown",
      "metadata": {
        "id": "-AU9ypkchz9j"
      },
      "source": [
        "### 📈 표준정규분포와 QQ-plot(QQ그림)\n",
        "- 표준정규분포는 x축의 단위가 평균의 표준편차로 표현되는 정규분포를 말한다. 데이터를 표준정규분포와 비교하려면 데이터에서 평균을 뺀 다음 표준편차로 나누면 된다(표준화). 그리고 이렇게 변환된 값을 Z-score 라고 하며, 정규분포를 z분포 라고 한다.\n",
        "- QQ그림은 표본이 특정분포(예 : 정규분포)에 얼마나 가까운 형태인지 시각적으로 확인하기 위해서 사용된다. \n",
        "- z-score를 오름차순으로 정렬후 각 값의 z-score를 y축에 표시하고 정규분포에서의 해당 분위수를 x축에 표시한다. \n",
        "- 점들이 대략 대각선 위에 놓인다면 표본분포가 정규분포에 가까운것으로 간주할 수 있다.\n",
        "- python에서는 scipy.stats.probplot을 통해 QQ-plot을 만들 수 있다."
      ]
    },
    {
      "cell_type": "code",
      "metadata": {
        "id": "ojVkjbcJjvDv",
        "colab": {
          "base_uri": "https://localhost:8080/",
          "height": 1000
        },
        "outputId": "f8f4e299-a3a9-47e6-f4f8-0e5c92bfd082"
      },
      "source": [
        "import scipy.stats as stats\n",
        "fig, ax = plt.subplots(figsize = (4, 4))\n",
        "norm_sample = stats.norm.rvs(size = 100)\n",
        "stats.probplot(norm_sample, plot = ax)"
      ],
      "execution_count": 6,
      "outputs": [
        {
          "output_type": "execute_result",
          "data": {
            "text/plain": [
              "((array([-2.46203784, -2.12570747, -1.93122778, -1.79044653, -1.67819304,\n",
              "         -1.58381122, -1.50174123, -1.42869743, -1.36256869, -1.30191411,\n",
              "         -1.24570419, -1.19317644, -1.14374949, -1.09696931, -1.05247413,\n",
              "         -1.00997067, -0.96921765, -0.93001393, -0.89218993, -0.85560121,\n",
              "         -0.82012357, -0.78564937, -0.75208458, -0.71934648, -0.68736185,\n",
              "         -0.65606548, -0.62539893, -0.59530962, -0.56574992, -0.53667655,\n",
              "         -0.50804994, -0.47983378, -0.45199463, -0.42450149, -0.39732558,\n",
              "         -0.37044003, -0.34381966, -0.31744076, -0.29128096, -0.26531902,\n",
              "         -0.23953472, -0.21390872, -0.18842244, -0.16305799, -0.13779803,\n",
              "         -0.1126257 , -0.08752455, -0.06247843, -0.03747145, -0.01248789,\n",
              "          0.01248789,  0.03747145,  0.06247843,  0.08752455,  0.1126257 ,\n",
              "          0.13779803,  0.16305799,  0.18842244,  0.21390872,  0.23953472,\n",
              "          0.26531902,  0.29128096,  0.31744076,  0.34381966,  0.37044003,\n",
              "          0.39732558,  0.42450149,  0.45199463,  0.47983378,  0.50804994,\n",
              "          0.53667655,  0.56574992,  0.59530962,  0.62539893,  0.65606548,\n",
              "          0.68736185,  0.71934648,  0.75208458,  0.78564937,  0.82012357,\n",
              "          0.85560121,  0.89218993,  0.93001393,  0.96921765,  1.00997067,\n",
              "          1.05247413,  1.09696931,  1.14374949,  1.19317644,  1.24570419,\n",
              "          1.30191411,  1.36256869,  1.42869743,  1.50174123,  1.58381122,\n",
              "          1.67819304,  1.79044653,  1.93122778,  2.12570747,  2.46203784]),\n",
              "  array([-3.11411001, -2.68921538, -1.99079242, -1.55378299, -1.44038947,\n",
              "         -1.37062155, -1.36732629, -1.21227562, -1.03771585, -1.02694237,\n",
              "         -1.0198556 , -0.98644512, -0.91595899, -0.86566992, -0.83110207,\n",
              "         -0.77228832, -0.72456078, -0.67532081, -0.65978351, -0.64101447,\n",
              "         -0.62574909, -0.61573205, -0.59617671, -0.56659223, -0.55271689,\n",
              "         -0.54798335, -0.54401658, -0.52749875, -0.51929489, -0.47323859,\n",
              "         -0.47237902, -0.46637001, -0.45174181, -0.44890871, -0.42423366,\n",
              "         -0.39544933, -0.35335582, -0.33003681, -0.28644237, -0.2536014 ,\n",
              "         -0.24376578, -0.22687572, -0.19207638, -0.17976225, -0.10443808,\n",
              "         -0.0754233 , -0.05074125, -0.04596428,  0.01174632,  0.01271545,\n",
              "          0.01938117,  0.02643421,  0.04533989,  0.05877846,  0.07794537,\n",
              "          0.09007539,  0.09090959,  0.1079469 ,  0.15170314,  0.16008214,\n",
              "          0.17216992,  0.18955662,  0.20681509,  0.27937344,  0.29694041,\n",
              "          0.29733629,  0.32008996,  0.35536041,  0.37958582,  0.3857341 ,\n",
              "          0.40212528,  0.46544159,  0.50067412,  0.50120793,  0.52938859,\n",
              "          0.58538633,  0.58554732,  0.58800501,  0.60282985,  0.63726708,\n",
              "          0.6876394 ,  0.77258462,  0.8073083 ,  0.82608874,  0.87422357,\n",
              "          0.89464201,  0.93089938,  0.98501716,  1.01627469,  1.12121402,\n",
              "          1.47393789,  1.59203076,  1.60537781,  1.62158047,  1.70706662,\n",
              "          1.81588652,  1.87485305,  2.0570433 ,  2.19534543,  3.35856577])),\n",
              " (0.9839604823378824, 0.018857360201455235, 0.9826088898958591))"
            ]
          },
          "metadata": {},
          "execution_count": 6
        },
        {
          "output_type": "display_data",
          "data": {
            "image/png": "[encoded data removed]",
            "text/plain": [
              "<Figure size 288x288 with 1 Axes>"
            ]
          },
          "metadata": {
            "needs_background": "light"
          }
        }
      ]
    },
    {
      "cell_type": "markdown",
      "metadata": {
        "id": "8LR6O2Bzh73_"
      },
      "source": [
        "** 주의할점 **\n",
        "데이터를 z-score로 변환(즉, 데이터를 표준화 또는 정규화)한다고 해서 데이터가 정규분포가 되는 것은 아니다. 단지 비교를 목적으로 데이털르 표준정규분포와 같은 척도로 만드는 것 뿐이다."
      ]
    },
    {
      "cell_type": "markdown",
      "metadata": {
        "id": "BGkCroGz7IcU"
      },
      "source": [
        "## 💡 스튜던트의 t분포"
      ]
    },
    {
      "cell_type": "markdown",
      "metadata": {
        "id": "6M2-DUg094Ik"
      },
      "source": [
        "### 📈 용어정리\n",
        "- n : 표본크기\n",
        "- 자유도 : 다른 표본크기, 통계량, 그룹의 수에 따라 t분포를 조절하는 변수\n"
      ]
    },
    {
      "cell_type": "markdown",
      "metadata": {
        "id": "eXb3c2BX94DV"
      },
      "source": [
        "### 📈 스튜던트의 t분포\n",
        "- t분포는 정규분포와 생김새가 비슷하지만, 꼬리 부분이 약간 더 두껍고 길다. t분포는 표본통계량의 분포를 설명하는 데 광범위하게 사용된다. 표본 평균의 분포는 일반적으로 t분포와 같은 모양이며, 표본크기에 따라 다른 계열의 t분포가 있다. 표본이 클수록 더 정규분포를 닮은 t분포가 형성된다.\n",
        "\n",
        "- x축에 표준화된 결과(z-score)를, y축에 빈도를 나타내는 도표를 만들었다.\n",
        "- 신뢰구간이 90% 일때 t분포의 양쪽 끝에서 5%를 잘라내는 t통계량을 의미한다.\n",
        "- **표본평균**, **두 표본평균간의 차이**, **회귀 파라미터**, 그 외 다른 통계량들의 분포를 구할 때  t분포를 사용한다.\n",
        "- 표본통계량의 상태를 묘사할 때 t 분포의 정확도는 표본에 대한 통계량의 분포가 정규분포를 따른다는 조건을 필요로 한다. \n",
        "- 원래 모집단이 정규분포를 따르지 않을 때 조차도, 표본통계량은 보통 정규분포를 따르는 것으로 나타났다(t분포가 널리 적용되는 이유)\n",
        "- 이는 중심극한정리로 인해 그렇다."
      ]
    },
    {
      "cell_type": "code",
      "metadata": {
        "id": "nc6i2qjESmGu"
      },
      "source": [
        ""
      ],
      "execution_count": null,
      "outputs": []
    }
  ]
}