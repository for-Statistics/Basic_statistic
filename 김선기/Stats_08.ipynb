{
  "nbformat": 4,
  "nbformat_minor": 0,
  "metadata": {
    "colab": {
      "name": "Stats_08.ipynb",
      "provenance": [],
      "authorship_tag": "ABX9TyMRC9BoIyJY+CZu0EicwNha",
      "include_colab_link": true
    },
    "kernelspec": {
      "name": "python3",
      "display_name": "Python 3"
    },
    "language_info": {
      "name": "python"
    }
  },
  "cells": [
    {
      "cell_type": "markdown",
      "metadata": {
        "id": "view-in-github",
        "colab_type": "text"
      },
      "source": [
        "<a href=\"https://colab.research.google.com/github/skdding3/Basic_statistic/blob/main/%EA%B9%80%EC%84%A0%EA%B8%B0/Stats_08.ipynb\" target=\"_parent\"><img src=\"https://colab.research.google.com/assets/colab-badge.svg\" alt=\"Open In Colab\"/></a>"
      ]
    },
    {
      "cell_type": "code",
      "execution_count": null,
      "metadata": {
        "colab": {
          "base_uri": "https://localhost:8080/",
          "height": 973
        },
        "id": "IzkdKzKOc_Wi",
        "outputId": "d030dc8a-7eae-4dfd-be0f-deb8aa8b3300"
      },
      "outputs": [
        {
          "output_type": "stream",
          "name": "stdout",
          "text": [
            "[[0.47071758]\n",
            " [0.83883122]\n",
            " [0.6075542 ]\n",
            " [0.7444081 ]\n",
            " [0.93864622]\n",
            " [0.87768809]\n",
            " [0.0720503 ]\n",
            " [0.24090147]\n",
            " [0.37994548]\n",
            " [0.79591559]\n",
            " [0.5138442 ]\n",
            " [0.66918233]\n",
            " [0.91245628]\n",
            " [0.89610293]\n",
            " [0.01753207]\n",
            " [0.16130869]\n",
            " [0.41156358]\n",
            " [0.33212113]\n",
            " [0.75599861]\n",
            " [0.06425016]] [[4.3535879 ]\n",
            " [6.19415612]\n",
            " [5.037771  ]\n",
            " [5.7220405 ]\n",
            " [6.69323112]\n",
            " [6.38844044]\n",
            " [2.36025151]\n",
            " [3.20450735]\n",
            " [3.8997274 ]\n",
            " [5.97957796]\n",
            " [4.56922101]\n",
            " [5.34591163]\n",
            " [6.5622814 ]\n",
            " [6.48051467]\n",
            " [2.08766035]\n",
            " [2.80654346]\n",
            " [4.0578179 ]\n",
            " [3.66060566]\n",
            " [5.77999304]\n",
            " [2.3212508 ]]\n"
          ]
        },
        {
          "output_type": "display_data",
          "data": {
            "image/png": "[encoded data removed]",
            "text/plain": [
              "<Figure size 432x288 with 1 Axes>"
            ]
          },
          "metadata": {
            "needs_background": "light"
          }
        }
      ],
      "source": [
        "# 단순 선형 회귀 \n",
        "\n",
        "import matplotlib.pyplot as plt\n",
        "import numpy as np\n",
        "\n",
        "x = np.random.rand(20,1)\n",
        "y = 5 * x + 2\n",
        "\n",
        "plt.scatter(x,y, marker ='+')\n",
        "print(x,y)\n",
        "plt.show()"
      ]
    },
    {
      "cell_type": "code",
      "source": [
        "import matplotlib.pyplot as plt\n",
        "import numpy as np\n",
        "# x라는 리스트 생성, 리스트에는 0이상 1미만 20*5 배열 생성\n",
        "x = np.random.rand(20,5)\n",
        "x = x*10\n",
        "y = 5*x + 10\n",
        "\n",
        "# graph mark +\n",
        "plt.scatter(x,y,marker = '+')\n",
        "\n",
        "print(x,y)\n",
        "plt.show()"
      ],
      "metadata": {
        "colab": {
          "base_uri": "https://localhost:8080/",
          "height": 967
        },
        "id": "nRC0la72hhla",
        "outputId": "a6517f68-c6ec-426e-90d5-1be3feac88aa"
      },
      "execution_count": 1,
      "outputs": [
        {
          "output_type": "stream",
          "name": "stdout",
          "text": [
            "[[7.05696002 8.92859061 6.93478235 4.88181188 1.87898759]\n",
            " [6.61533927 6.81639903 2.24199111 1.81764662 5.65058053]\n",
            " [1.51250814 5.73102751 2.14278605 6.16890208 6.89569491]\n",
            " [9.36279628 6.0501523  0.87803401 9.81692426 1.90797944]\n",
            " [0.50492447 7.50216709 1.90593115 7.45695763 4.80437679]\n",
            " [1.60962211 6.58660299 9.19054583 0.12967722 1.17473751]\n",
            " [8.64477361 1.58642599 0.77370464 3.61790016 1.48571068]\n",
            " [5.39207254 7.38642671 1.12466258 2.376555   3.9548468 ]\n",
            " [3.94552454 0.41755844 9.93205765 9.0795882  5.15198965]\n",
            " [1.44243205 9.55019338 3.90643819 6.29643048 4.49477669]\n",
            " [4.65796423 5.14386687 7.51551544 8.19696745 9.73144222]\n",
            " [9.31557728 3.48845778 0.50782513 8.6856455  3.52911858]\n",
            " [2.43308952 6.42528053 6.10547909 9.01574746 1.810637  ]\n",
            " [2.91963334 8.67604759 8.97073801 7.52790334 8.71402913]\n",
            " [9.71669049 4.63982463 4.63902831 7.33675826 8.00520569]\n",
            " [3.96454133 9.60093864 3.80545983 4.03479295 4.08590432]\n",
            " [9.26561767 5.43446857 5.81302553 4.50871286 1.2634696 ]\n",
            " [5.43645832 6.40902448 0.54151028 9.69588356 1.8457621 ]\n",
            " [9.77175454 9.49981953 0.91561622 8.47929126 6.78844777]\n",
            " [9.99447049 7.33245992 1.6802425  1.57440523 8.5745731 ]] [[45.28480008 54.64295306 44.67391174 34.40905941 19.39493794]\n",
            " [43.07669636 44.08199516 21.20995555 19.08823311 38.25290265]\n",
            " [17.56254068 38.65513753 20.71393025 40.84451039 44.47847454]\n",
            " [56.81398141 40.25076149 14.39017007 59.08462129 19.53989718]\n",
            " [12.52462236 47.51083545 19.52965574 47.28478813 34.02188394]\n",
            " [18.04811057 42.93301497 55.95272917 10.6483861  15.87368755]\n",
            " [53.22386806 17.93212993 13.86852321 28.08950078 17.42855338]\n",
            " [36.96036268 46.93213356 15.6233129  21.88277502 29.77423399]\n",
            " [29.72762268 12.08779221 59.66028825 55.39794101 35.75994827]\n",
            " [17.21216027 57.75096689 29.53219095 41.4821524  32.47388344]\n",
            " [33.28982117 35.71933435 47.57757721 50.98483724 58.6572111 ]\n",
            " [56.57788639 27.44228892 12.53912564 53.42822752 27.64559292]\n",
            " [22.16544758 42.12640266 40.52739546 55.07873728 19.05318499]\n",
            " [24.59816669 53.38023793 54.85369006 47.6395167  53.57014564]\n",
            " [58.58345246 33.19912317 33.19514154 46.68379129 50.02602843]\n",
            " [29.82270666 58.00469321 29.02729913 30.17396474 30.42952159]\n",
            " [56.32808837 37.17234286 39.06512765 32.54356432 16.31734798]\n",
            " [37.18229161 42.04512239 12.70755139 58.47941781 19.22881048]\n",
            " [58.85877271 57.49909767 14.57808108 52.39645631 43.94223887]\n",
            " [59.97235244 46.66229959 18.40121251 17.87202613 52.8728655 ]]\n"
          ]
        },
        {
          "output_type": "display_data",
          "data": {
            "image/png": "[encoded data removed]",
            "text/plain": [
              "<Figure size 432x288 with 1 Axes>"
            ]
          },
          "metadata": {
            "needs_background": "light"
          }
        }
      ]
    },
    {
      "cell_type": "markdown",
      "source": [
        "x값 - 100개 (0에서 10사이의 값)\n",
        "\n",
        "x값을 가지고 y식을 만들어 보자\n",
        "\n",
        "만들고자 하는 식: y=5*x+10"
      ],
      "metadata": {
        "id": "O7AM13y0i5Hn"
      }
    },
    {
      "cell_type": "code",
      "source": [
        "# 회귀식 만들기\n",
        "\n",
        "from sklearn.linear_model import LinearRegression\n",
        "import matplotlib.pyplot as plt\n",
        "import numpy as np\n",
        "import sklearn\n",
        "\n",
        "x = np.random.rand(20,1)\n",
        "x = x*10\n",
        "y = 5*x + 10\n",
        "\n",
        "model = LinearRegression()\n",
        "model.fit(x,y)\n",
        "\n",
        "print('기울기 a :', model.coef_)\n",
        "print('y절편 b :', model.intercept_)\n",
        "print('\\n')"
      ],
      "metadata": {
        "colab": {
          "base_uri": "https://localhost:8080/"
        },
        "id": "_NdQENzAiGVu",
        "outputId": "3685216d-4574-43e1-cc0a-de0eafa27fdf"
      },
      "execution_count": 2,
      "outputs": [
        {
          "output_type": "stream",
          "name": "stdout",
          "text": [
            "기울기 a : [[5.]]\n",
            "y절편 b : [10.]\n",
            "\n",
            "\n"
          ]
        }
      ]
    },
    {
      "cell_type": "code",
      "source": [
        "# y값에 오차를 추가 (오차는 3정도)\n",
        "\n",
        "from sklearn.linear_model import LinearRegression\n",
        "import matplotlib.pyplot as plt\n",
        "import numpy as np\n",
        "import sklearn\n",
        "\n",
        "x = np.random.rand(20,1)\n",
        "x = x*10\n",
        "y = 5*x + 10\n",
        "# -> y값 오차 3 추가\n",
        "y = y+3*np.random.rand(20,1)\n",
        "\n",
        "model = LinearRegression()\n",
        "model.fit(x,y)\n",
        "# y_p를 만들어서 예측을 진행\n",
        "y_p = model.predict(x)\n",
        "\n",
        "print('기울기 a :', model.coef_)\n",
        "print('y절편 b :', model.intercept_)\n",
        "plt.scatter(x,y,marker = '+')\n",
        "plt.scatter(x,y_p,marker = 'o')\n",
        "plt.show()"
      ],
      "metadata": {
        "colab": {
          "base_uri": "https://localhost:8080/",
          "height": 301
        },
        "id": "yAd7jX52jOav",
        "outputId": "93da6c02-960e-4c1d-c1ea-e743a57816e3"
      },
      "execution_count": 4,
      "outputs": [
        {
          "output_type": "stream",
          "name": "stdout",
          "text": [
            "기울기 a : [[4.95522529]]\n",
            "y절편 b : [11.70965404]\n"
          ]
        },
        {
          "output_type": "display_data",
          "data": {
            "image/png": "[encoded data removed]",
            "text/plain": [
              "<Figure size 432x288 with 1 Axes>"
            ]
          },
          "metadata": {
            "needs_background": "light"
          }
        }
      ]
    }
  ]
}