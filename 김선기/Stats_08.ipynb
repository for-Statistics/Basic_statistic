{
  "nbformat": 4,
  "nbformat_minor": 0,
  "metadata": {
    "colab": {
      "name": "Stats_08.ipynb",
      "provenance": [],
      "authorship_tag": "ABX9TyP44n9/hTsZmCs8RWYBalyM",
      "include_colab_link": true
    },
    "kernelspec": {
      "name": "python3",
      "display_name": "Python 3"
    },
    "language_info": {
      "name": "python"
    }
  },
  "cells": [
    {
      "cell_type": "markdown",
      "metadata": {
        "id": "view-in-github",
        "colab_type": "text"
      },
      "source": [
        "<a href=\"https://colab.research.google.com/github/skdding3/Basic_statistic/blob/main/%EA%B9%80%EC%84%A0%EA%B8%B0/Stats_08.ipynb\" target=\"_parent\"><img src=\"https://colab.research.google.com/assets/colab-badge.svg\" alt=\"Open In Colab\"/></a>"
      ]
    },
    {
      "cell_type": "code",
      "execution_count": null,
      "metadata": {
        "colab": {
          "base_uri": "https://localhost:8080/",
          "height": 973
        },
        "id": "IzkdKzKOc_Wi",
        "outputId": "d030dc8a-7eae-4dfd-be0f-deb8aa8b3300"
      },
      "outputs": [
        {
          "output_type": "stream",
          "name": "stdout",
          "text": [
            "[[0.47071758]\n",
            " [0.83883122]\n",
            " [0.6075542 ]\n",
            " [0.7444081 ]\n",
            " [0.93864622]\n",
            " [0.87768809]\n",
            " [0.0720503 ]\n",
            " [0.24090147]\n",
            " [0.37994548]\n",
            " [0.79591559]\n",
            " [0.5138442 ]\n",
            " [0.66918233]\n",
            " [0.91245628]\n",
            " [0.89610293]\n",
            " [0.01753207]\n",
            " [0.16130869]\n",
            " [0.41156358]\n",
            " [0.33212113]\n",
            " [0.75599861]\n",
            " [0.06425016]] [[4.3535879 ]\n",
            " [6.19415612]\n",
            " [5.037771  ]\n",
            " [5.7220405 ]\n",
            " [6.69323112]\n",
            " [6.38844044]\n",
            " [2.36025151]\n",
            " [3.20450735]\n",
            " [3.8997274 ]\n",
            " [5.97957796]\n",
            " [4.56922101]\n",
            " [5.34591163]\n",
            " [6.5622814 ]\n",
            " [6.48051467]\n",
            " [2.08766035]\n",
            " [2.80654346]\n",
            " [4.0578179 ]\n",
            " [3.66060566]\n",
            " [5.77999304]\n",
            " [2.3212508 ]]\n"
          ]
        },
        {
          "output_type": "display_data",
          "data": {
            "image/png": "[encoded data removed]",
            "text/plain": [
              "<Figure size 432x288 with 1 Axes>"
            ]
          },
          "metadata": {
            "needs_background": "light"
          }
        }
      ],
      "source": [
        "# 단순 선형 회귀 \n",
        "\n",
        "import matplotlib.pyplot as plt\n",
        "import numpy as np\n",
        "\n",
        "x = np.random.rand(20,1)\n",
        "y = 5 * x + 2\n",
        "\n",
        "plt.scatter(x,y, marker ='+')\n",
        "print(x,y)\n",
        "plt.show()"
      ]
    },
    {
      "cell_type": "code",
      "source": [
        "import matplotlib.pyplot as plt\n",
        "import numpy as np\n",
        "# x라는 리스트 생성, 리스트에는 0이상 1미만 20*5 배열 생성\n",
        "x = np.random.rand(20,5)\n",
        "x = x*10\n",
        "y = 5*x + 10\n",
        "\n",
        "# graph mark +\n",
        "plt.scatter(x,y,marker = '+')\n",
        "\n",
        "print(x,y)\n",
        "plt.show()"
      ],
      "metadata": {
        "colab": {
          "base_uri": "https://localhost:8080/",
          "height": 967
        },
        "id": "nRC0la72hhla",
        "outputId": "a6517f68-c6ec-426e-90d5-1be3feac88aa"
      },
      "execution_count": 1,
      "outputs": [
        {
          "output_type": "stream",
          "name": "stdout",
          "text": [
            "[[7.05696002 8.92859061 6.93478235 4.88181188 1.87898759]\n",
            " [6.61533927 6.81639903 2.24199111 1.81764662 5.65058053]\n",
            " [1.51250814 5.73102751 2.14278605 6.16890208 6.89569491]\n",
            " [9.36279628 6.0501523  0.87803401 9.81692426 1.90797944]\n",
            " [0.50492447 7.50216709 1.90593115 7.45695763 4.80437679]\n",
            " [1.60962211 6.58660299 9.19054583 0.12967722 1.17473751]\n",
            " [8.64477361 1.58642599 0.77370464 3.61790016 1.48571068]\n",
            " [5.39207254 7.38642671 1.12466258 2.376555   3.9548468 ]\n",
            " [3.94552454 0.41755844 9.93205765 9.0795882  5.15198965]\n",
            " [1.44243205 9.55019338 3.90643819 6.29643048 4.49477669]\n",
            " [4.65796423 5.14386687 7.51551544 8.19696745 9.73144222]\n",
            " [9.31557728 3.48845778 0.50782513 8.6856455  3.52911858]\n",
            " [2.43308952 6.42528053 6.10547909 9.01574746 1.810637  ]\n",
            " [2.91963334 8.67604759 8.97073801 7.52790334 8.71402913]\n",
            " [9.71669049 4.63982463 4.63902831 7.33675826 8.00520569]\n",
            " [3.96454133 9.60093864 3.80545983 4.03479295 4.08590432]\n",
            " [9.26561767 5.43446857 5.81302553 4.50871286 1.2634696 ]\n",
            " [5.43645832 6.40902448 0.54151028 9.69588356 1.8457621 ]\n",
            " [9.77175454 9.49981953 0.91561622 8.47929126 6.78844777]\n",
            " [9.99447049 7.33245992 1.6802425  1.57440523 8.5745731 ]] [[45.28480008 54.64295306 44.67391174 34.40905941 19.39493794]\n",
            " [43.07669636 44.08199516 21.20995555 19.08823311 38.25290265]\n",
            " [17.56254068 38.65513753 20.71393025 40.84451039 44.47847454]\n",
            " [56.81398141 40.25076149 14.39017007 59.08462129 19.53989718]\n",
            " [12.52462236 47.51083545 19.52965574 47.28478813 34.02188394]\n",
            " [18.04811057 42.93301497 55.95272917 10.6483861  15.87368755]\n",
            " [53.22386806 17.93212993 13.86852321 28.08950078 17.42855338]\n",
            " [36.96036268 46.93213356 15.6233129  21.88277502 29.77423399]\n",
            " [29.72762268 12.08779221 59.66028825 55.39794101 35.75994827]\n",
            " [17.21216027 57.75096689 29.53219095 41.4821524  32.47388344]\n",
            " [33.28982117 35.71933435 47.57757721 50.98483724 58.6572111 ]\n",
            " [56.57788639 27.44228892 12.53912564 53.42822752 27.64559292]\n",
            " [22.16544758 42.12640266 40.52739546 55.07873728 19.05318499]\n",
            " [24.59816669 53.38023793 54.85369006 47.6395167  53.57014564]\n",
            " [58.58345246 33.19912317 33.19514154 46.68379129 50.02602843]\n",
            " [29.82270666 58.00469321 29.02729913 30.17396474 30.42952159]\n",
            " [56.32808837 37.17234286 39.06512765 32.54356432 16.31734798]\n",
            " [37.18229161 42.04512239 12.70755139 58.47941781 19.22881048]\n",
            " [58.85877271 57.49909767 14.57808108 52.39645631 43.94223887]\n",
            " [59.97235244 46.66229959 18.40121251 17.87202613 52.8728655 ]]\n"
          ]
        },
        {
          "output_type": "display_data",
          "data": {
            "image/png": "[encoded data removed]",
            "text/plain": [
              "<Figure size 432x288 with 1 Axes>"
            ]
          },
          "metadata": {
            "needs_background": "light"
          }
        }
      ]
    },
    {
      "cell_type": "markdown",
      "source": [
        "x값 - 100개 (0에서 10사이의 값)\n",
        "\n",
        "x값을 가지고 y식을 만들어 보자\n",
        "\n",
        "만들고자 하는 식: y=5*x+10"
      ],
      "metadata": {
        "id": "O7AM13y0i5Hn"
      }
    },
    {
      "cell_type": "code",
      "source": [
        "# 회귀식 만들기\n",
        "\n",
        "from sklearn.linear_model import LinearRegression\n",
        "import matplotlib.pyplot as plt\n",
        "import numpy as np\n",
        "import sklearn\n",
        "\n",
        "x = np.random.rand(20,1)\n",
        "x = x*10\n",
        "y = 5*x + 10\n",
        "\n",
        "model = LinearRegression()\n",
        "model.fit(x,y)\n",
        "\n",
        "print('기울기 a :', model.coef_)\n",
        "print('y절편 b :', model.intercept_)\n",
        "print('\\n')"
      ],
      "metadata": {
        "colab": {
          "base_uri": "https://localhost:8080/"
        },
        "id": "_NdQENzAiGVu",
        "outputId": "3685216d-4574-43e1-cc0a-de0eafa27fdf"
      },
      "execution_count": 2,
      "outputs": [
        {
          "output_type": "stream",
          "name": "stdout",
          "text": [
            "기울기 a : [[5.]]\n",
            "y절편 b : [10.]\n",
            "\n",
            "\n"
          ]
        }
      ]
    },
    {
      "cell_type": "code",
      "source": [
        "# y값에 오차를 추가 (오차는 3정도)\n",
        "\n",
        "from sklearn.linear_model import LinearRegression\n",
        "import matplotlib.pyplot as plt\n",
        "import numpy as np\n",
        "import sklearn\n",
        "\n",
        "x = np.random.rand(20,1)\n",
        "x = x*10\n",
        "y = 5*x + 10\n",
        "# -> y값 오차 3 추가\n",
        "y = y+3*np.random.rand(20,1)\n",
        "\n",
        "model = LinearRegression()\n",
        "model.fit(x,y)\n",
        "# y_p를 만들어서 예측을 진행\n",
        "y_p = model.predict(x)\n",
        "\n",
        "print('기울기 a :', model.coef_)\n",
        "print('y절편 b :', model.intercept_)\n",
        "plt.scatter(x,y,marker = '+')\n",
        "plt.scatter(x,y_p,marker = 'o')\n",
        "plt.show()"
      ],
      "metadata": {
        "colab": {
          "base_uri": "https://localhost:8080/",
          "height": 301
        },
        "id": "yAd7jX52jOav",
        "outputId": "93da6c02-960e-4c1d-c1ea-e743a57816e3"
      },
      "execution_count": 4,
      "outputs": [
        {
          "output_type": "stream",
          "name": "stdout",
          "text": [
            "기울기 a : [[4.95522529]]\n",
            "y절편 b : [11.70965404]\n"
          ]
        },
        {
          "output_type": "display_data",
          "data": {
            "image/png": "[encoded data removed]",
            "text/plain": [
              "<Figure size 432x288 with 1 Axes>"
            ]
          },
          "metadata": {
            "needs_background": "light"
          }
        }
      ]
    },
    {
      "cell_type": "code",
      "source": [
        "# import pandas as pd\n",
        "\n",
        "# df = pd.DataFrame({'Lot_Size':[80,30,50,90,70,60,120,x]\n",
        "#                   ,'Work_hours':[399,121,221,376,361]})\n",
        "\n",
        "# df\n",
        "\n",
        "import pandas as pd\n",
        "\n",
        "df = pd.read_csv('https://blog.kakaocdn.net/dn/Zmwjc/btqIObxq70C/YW1YyTssgyAtkI0XdYi4kk/toluca_company_dataset.csv?attach=1&knm=tfile.csv')\n",
        "\n",
        "df.head()"
      ],
      "metadata": {
        "colab": {
          "base_uri": "https://localhost:8080/",
          "height": 204
        },
        "id": "OtBOz8eutLyr",
        "outputId": "87f90826-bca1-49e0-ec9d-76417aacf7fb"
      },
      "execution_count": 23,
      "outputs": [
        {
          "output_type": "execute_result",
          "data": {
            "text/html": [
              "\n",
              "  <div id=\"df-ee8c6463-a667-4f1f-b3c6-df6a8dc0b678\">\n",
              "    <div class=\"colab-df-container\">\n",
              "      <div>\n",
              "<style scoped>\n",
              "    .dataframe tbody tr th:only-of-type {\n",
              "        vertical-align: middle;\n",
              "    }\n",
              "\n",
              "    .dataframe tbody tr th {\n",
              "        vertical-align: top;\n",
              "    }\n",
              "\n",
              "    .dataframe thead th {\n",
              "        text-align: right;\n",
              "    }\n",
              "</style>\n",
              "<table border=\"1\" class=\"dataframe\">\n",
              "  <thead>\n",
              "    <tr style=\"text-align: right;\">\n",
              "      <th></th>\n",
              "      <th>Lot_size</th>\n",
              "      <th>Work_hours</th>\n",
              "    </tr>\n",
              "  </thead>\n",
              "  <tbody>\n",
              "    <tr>\n",
              "      <th>0</th>\n",
              "      <td>80</td>\n",
              "      <td>399</td>\n",
              "    </tr>\n",
              "    <tr>\n",
              "      <th>1</th>\n",
              "      <td>30</td>\n",
              "      <td>121</td>\n",
              "    </tr>\n",
              "    <tr>\n",
              "      <th>2</th>\n",
              "      <td>50</td>\n",
              "      <td>221</td>\n",
              "    </tr>\n",
              "    <tr>\n",
              "      <th>3</th>\n",
              "      <td>90</td>\n",
              "      <td>376</td>\n",
              "    </tr>\n",
              "    <tr>\n",
              "      <th>4</th>\n",
              "      <td>70</td>\n",
              "      <td>361</td>\n",
              "    </tr>\n",
              "  </tbody>\n",
              "</table>\n",
              "</div>\n",
              "      <button class=\"colab-df-convert\" onclick=\"convertToInteractive('df-ee8c6463-a667-4f1f-b3c6-df6a8dc0b678')\"\n",
              "              title=\"Convert this dataframe to an interactive table.\"\n",
              "              style=\"display:none;\">\n",
              "        \n",
              "  <svg xmlns=\"http://www.w3.org/2000/svg\" height=\"24px\"viewBox=\"0 0 24 24\"\n",
              "       width=\"24px\">\n",
              "    <path d=\"M0 0h24v24H0V0z\" fill=\"none\"/>\n",
              "    <path d=\"M18.56 5.44l.94 2.06.94-2.06 2.06-.94-2.06-.94-.94-2.06-.94 2.06-2.06.94zm-11 1L8.5 8.5l.94-2.06 2.06-.94-2.06-.94L8.5 2.5l-.94 2.06-2.06.94zm10 10l.94 2.06.94-2.06 2.06-.94-2.06-.94-.94-2.06-.94 2.06-2.06.94z\"/><path d=\"M17.41 7.96l-1.37-1.37c-.4-.4-.92-.59-1.43-.59-.52 0-1.04.2-1.43.59L10.3 9.45l-7.72 7.72c-.78.78-.78 2.05 0 2.83L4 21.41c.39.39.9.59 1.41.59.51 0 1.02-.2 1.41-.59l7.78-7.78 2.81-2.81c.8-.78.8-2.07 0-2.86zM5.41 20L4 18.59l7.72-7.72 1.47 1.35L5.41 20z\"/>\n",
              "  </svg>\n",
              "      </button>\n",
              "      \n",
              "  <style>\n",
              "    .colab-df-container {\n",
              "      display:flex;\n",
              "      flex-wrap:wrap;\n",
              "      gap: 12px;\n",
              "    }\n",
              "\n",
              "    .colab-df-convert {\n",
              "      background-color: #E8F0FE;\n",
              "      border: none;\n",
              "      border-radius: 50%;\n",
              "      cursor: pointer;\n",
              "      display: none;\n",
              "      fill: #1967D2;\n",
              "      height: 32px;\n",
              "      padding: 0 0 0 0;\n",
              "      width: 32px;\n",
              "    }\n",
              "\n",
              "    .colab-df-convert:hover {\n",
              "      background-color: #E2EBFA;\n",
              "      box-shadow: 0px 1px 2px rgba(60, 64, 67, 0.3), 0px 1px 3px 1px rgba(60, 64, 67, 0.15);\n",
              "      fill: #174EA6;\n",
              "    }\n",
              "\n",
              "    [theme=dark] .colab-df-convert {\n",
              "      background-color: #3B4455;\n",
              "      fill: #D2E3FC;\n",
              "    }\n",
              "\n",
              "    [theme=dark] .colab-df-convert:hover {\n",
              "      background-color: #434B5C;\n",
              "      box-shadow: 0px 1px 3px 1px rgba(0, 0, 0, 0.15);\n",
              "      filter: drop-shadow(0px 1px 2px rgba(0, 0, 0, 0.3));\n",
              "      fill: #FFFFFF;\n",
              "    }\n",
              "  </style>\n",
              "\n",
              "      <script>\n",
              "        const buttonEl =\n",
              "          document.querySelector('#df-ee8c6463-a667-4f1f-b3c6-df6a8dc0b678 button.colab-df-convert');\n",
              "        buttonEl.style.display =\n",
              "          google.colab.kernel.accessAllowed ? 'block' : 'none';\n",
              "\n",
              "        async function convertToInteractive(key) {\n",
              "          const element = document.querySelector('#df-ee8c6463-a667-4f1f-b3c6-df6a8dc0b678');\n",
              "          const dataTable =\n",
              "            await google.colab.kernel.invokeFunction('convertToInteractive',\n",
              "                                                     [key], {});\n",
              "          if (!dataTable) return;\n",
              "\n",
              "          const docLinkHtml = 'Like what you see? Visit the ' +\n",
              "            '<a target=\"_blank\" href=https://colab.research.google.com/notebooks/data_table.ipynb>data table notebook</a>'\n",
              "            + ' to learn more about interactive tables.';\n",
              "          element.innerHTML = '';\n",
              "          dataTable['output_type'] = 'display_data';\n",
              "          await google.colab.output.renderOutput(dataTable, element);\n",
              "          const docLink = document.createElement('div');\n",
              "          docLink.innerHTML = docLinkHtml;\n",
              "          element.appendChild(docLink);\n",
              "        }\n",
              "      </script>\n",
              "    </div>\n",
              "  </div>\n",
              "  "
            ],
            "text/plain": [
              "   Lot_size  Work_hours\n",
              "0        80         399\n",
              "1        30         121\n",
              "2        50         221\n",
              "3        90         376\n",
              "4        70         361"
            ]
          },
          "metadata": {},
          "execution_count": 23
        }
      ]
    },
    {
      "cell_type": "code",
      "source": [
        "# Visualization\n",
        "\n",
        "fig = plt.figure(figsize = (8,8))\n",
        "\n",
        "#원 데이터 산포도\n",
        "plt.scatter(df['Lot_size'],df['Work_hours'])\n",
        "\n",
        "plt.xlabel('Lot Size')\n",
        "plt.ylabel('Work Hours')\n",
        "plt.show()"
      ],
      "metadata": {
        "colab": {
          "base_uri": "https://localhost:8080/",
          "height": 497
        },
        "id": "FU6K72gYuUKY",
        "outputId": "bb46c553-0798-4f01-dff9-e388177a8555"
      },
      "execution_count": 13,
      "outputs": [
        {
          "output_type": "display_data",
          "data": {
            "image/png": "[encoded data removed]",
            "text/plain": [
              "<Figure size 576x576 with 1 Axes>"
            ]
          },
          "metadata": {
            "needs_background": "light"
          }
        }
      ]
    },
    {
      "cell_type": "code",
      "source": [
        "from statsmodels.formula.api import ols\n",
        "from sklearn.linear_model import LinearRegression\n",
        "\n",
        "\n",
        "# ols('반응변수 ~ 설명변수 1 + 설명변수 2 + ...' , data = df).fit()\n",
        "fit = ols('Work_hours ~ Lot_size', data = df).fit()"
      ],
      "metadata": {
        "colab": {
          "base_uri": "https://localhost:8080/"
        },
        "id": "3J1FJTKKv8eN",
        "outputId": "86b24f21-a236-482e-b333-2dd6d92b6042"
      },
      "execution_count": 16,
      "outputs": [
        {
          "output_type": "stream",
          "name": "stderr",
          "text": [
            "/usr/local/lib/python3.7/dist-packages/statsmodels/tools/_testing.py:19: FutureWarning: pandas.util.testing is deprecated. Use the functions in the public API at pandas.testing instead.\n",
            "  import pandas.util.testing as tm\n"
          ]
        }
      ]
    },
    {
      "cell_type": "code",
      "source": [
        "fit.summary()"
      ],
      "metadata": {
        "colab": {
          "base_uri": "https://localhost:8080/",
          "height": 444
        },
        "id": "EKq1HRfVwVUK",
        "outputId": "d10049f2-278d-4a7c-ba19-1407ac23d02b"
      },
      "execution_count": 17,
      "outputs": [
        {
          "output_type": "execute_result",
          "data": {
            "text/html": [
              "<table class=\"simpletable\">\n",
              "<caption>OLS Regression Results</caption>\n",
              "<tr>\n",
              "  <th>Dep. Variable:</th>       <td>Work_hours</td>    <th>  R-squared:         </th> <td>   0.822</td>\n",
              "</tr>\n",
              "<tr>\n",
              "  <th>Model:</th>                   <td>OLS</td>       <th>  Adj. R-squared:    </th> <td>   0.814</td>\n",
              "</tr>\n",
              "<tr>\n",
              "  <th>Method:</th>             <td>Least Squares</td>  <th>  F-statistic:       </th> <td>   105.9</td>\n",
              "</tr>\n",
              "<tr>\n",
              "  <th>Date:</th>             <td>Sat, 05 Feb 2022</td> <th>  Prob (F-statistic):</th> <td>4.45e-10</td>\n",
              "</tr>\n",
              "<tr>\n",
              "  <th>Time:</th>                 <td>07:20:26</td>     <th>  Log-Likelihood:    </th> <td> -131.64</td>\n",
              "</tr>\n",
              "<tr>\n",
              "  <th>No. Observations:</th>      <td>    25</td>      <th>  AIC:               </th> <td>   267.3</td>\n",
              "</tr>\n",
              "<tr>\n",
              "  <th>Df Residuals:</th>          <td>    23</td>      <th>  BIC:               </th> <td>   269.7</td>\n",
              "</tr>\n",
              "<tr>\n",
              "  <th>Df Model:</th>              <td>     1</td>      <th>                     </th>     <td> </td>   \n",
              "</tr>\n",
              "<tr>\n",
              "  <th>Covariance Type:</th>      <td>nonrobust</td>    <th>                     </th>     <td> </td>   \n",
              "</tr>\n",
              "</table>\n",
              "<table class=\"simpletable\">\n",
              "<tr>\n",
              "      <td></td>         <th>coef</th>     <th>std err</th>      <th>t</th>      <th>P>|t|</th>  <th>[0.025</th>    <th>0.975]</th>  \n",
              "</tr>\n",
              "<tr>\n",
              "  <th>Intercept</th> <td>   62.3659</td> <td>   26.177</td> <td>    2.382</td> <td> 0.026</td> <td>    8.214</td> <td>  116.518</td>\n",
              "</tr>\n",
              "<tr>\n",
              "  <th>Lot_size</th>  <td>    3.5702</td> <td>    0.347</td> <td>   10.290</td> <td> 0.000</td> <td>    2.852</td> <td>    4.288</td>\n",
              "</tr>\n",
              "</table>\n",
              "<table class=\"simpletable\">\n",
              "<tr>\n",
              "  <th>Omnibus:</th>       <td> 0.608</td> <th>  Durbin-Watson:     </th> <td>   1.432</td>\n",
              "</tr>\n",
              "<tr>\n",
              "  <th>Prob(Omnibus):</th> <td> 0.738</td> <th>  Jarque-Bera (JB):  </th> <td>   0.684</td>\n",
              "</tr>\n",
              "<tr>\n",
              "  <th>Skew:</th>          <td> 0.298</td> <th>  Prob(JB):          </th> <td>   0.710</td>\n",
              "</tr>\n",
              "<tr>\n",
              "  <th>Kurtosis:</th>      <td> 2.450</td> <th>  Cond. No.          </th> <td>    202.</td>\n",
              "</tr>\n",
              "</table><br/><br/>Warnings:<br/>[1] Standard Errors assume that the covariance matrix of the errors is correctly specified."
            ],
            "text/plain": [
              "<class 'statsmodels.iolib.summary.Summary'>\n",
              "\"\"\"\n",
              "                            OLS Regression Results                            \n",
              "==============================================================================\n",
              "Dep. Variable:             Work_hours   R-squared:                       0.822\n",
              "Model:                            OLS   Adj. R-squared:                  0.814\n",
              "Method:                 Least Squares   F-statistic:                     105.9\n",
              "Date:                Sat, 05 Feb 2022   Prob (F-statistic):           4.45e-10\n",
              "Time:                        07:20:26   Log-Likelihood:                -131.64\n",
              "No. Observations:                  25   AIC:                             267.3\n",
              "Df Residuals:                      23   BIC:                             269.7\n",
              "Df Model:                           1                                         \n",
              "Covariance Type:            nonrobust                                         \n",
              "==============================================================================\n",
              "                 coef    std err          t      P>|t|      [0.025      0.975]\n",
              "------------------------------------------------------------------------------\n",
              "Intercept     62.3659     26.177      2.382      0.026       8.214     116.518\n",
              "Lot_size       3.5702      0.347     10.290      0.000       2.852       4.288\n",
              "==============================================================================\n",
              "Omnibus:                        0.608   Durbin-Watson:                   1.432\n",
              "Prob(Omnibus):                  0.738   Jarque-Bera (JB):                0.684\n",
              "Skew:                           0.298   Prob(JB):                        0.710\n",
              "Kurtosis:                       2.450   Cond. No.                         202.\n",
              "==============================================================================\n",
              "\n",
              "Warnings:\n",
              "[1] Standard Errors assume that the covariance matrix of the errors is correctly specified.\n",
              "\"\"\""
            ]
          },
          "metadata": {},
          "execution_count": 17
        }
      ]
    },
    {
      "cell_type": "code",
      "source": [
        "# 절편항을 제외한 값\n",
        "\n",
        "fit = ols('Work_hours ~ Lot_size -1', data = df).fit()\n",
        "\n",
        "fit.summary()"
      ],
      "metadata": {
        "colab": {
          "base_uri": "https://localhost:8080/",
          "height": 423
        },
        "id": "S3U89epQzY-A",
        "outputId": "6754b8ba-92e1-4f13-9701-455ffae750f0"
      },
      "execution_count": 18,
      "outputs": [
        {
          "output_type": "execute_result",
          "data": {
            "text/html": [
              "<table class=\"simpletable\">\n",
              "<caption>OLS Regression Results</caption>\n",
              "<tr>\n",
              "  <th>Dep. Variable:</th>       <td>Work_hours</td>    <th>  R-squared (uncentered):</th>      <td>   0.975</td>\n",
              "</tr>\n",
              "<tr>\n",
              "  <th>Model:</th>                   <td>OLS</td>       <th>  Adj. R-squared (uncentered):</th> <td>   0.974</td>\n",
              "</tr>\n",
              "<tr>\n",
              "  <th>Method:</th>             <td>Least Squares</td>  <th>  F-statistic:       </th>          <td>   939.8</td>\n",
              "</tr>\n",
              "<tr>\n",
              "  <th>Date:</th>             <td>Sat, 05 Feb 2022</td> <th>  Prob (F-statistic):</th>          <td>9.26e-21</td>\n",
              "</tr>\n",
              "<tr>\n",
              "  <th>Time:</th>                 <td>07:34:12</td>     <th>  Log-Likelihood:    </th>          <td> -134.39</td>\n",
              "</tr>\n",
              "<tr>\n",
              "  <th>No. Observations:</th>      <td>    25</td>      <th>  AIC:               </th>          <td>   270.8</td>\n",
              "</tr>\n",
              "<tr>\n",
              "  <th>Df Residuals:</th>          <td>    24</td>      <th>  BIC:               </th>          <td>   272.0</td>\n",
              "</tr>\n",
              "<tr>\n",
              "  <th>Df Model:</th>              <td>     1</td>      <th>                     </th>              <td> </td>   \n",
              "</tr>\n",
              "<tr>\n",
              "  <th>Covariance Type:</th>      <td>nonrobust</td>    <th>                     </th>              <td> </td>   \n",
              "</tr>\n",
              "</table>\n",
              "<table class=\"simpletable\">\n",
              "<tr>\n",
              "      <td></td>        <th>coef</th>     <th>std err</th>      <th>t</th>      <th>P>|t|</th>  <th>[0.025</th>    <th>0.975]</th>  \n",
              "</tr>\n",
              "<tr>\n",
              "  <th>Lot_size</th> <td>    4.3372</td> <td>    0.141</td> <td>   30.657</td> <td> 0.000</td> <td>    4.045</td> <td>    4.629</td>\n",
              "</tr>\n",
              "</table>\n",
              "<table class=\"simpletable\">\n",
              "<tr>\n",
              "  <th>Omnibus:</th>       <td> 1.955</td> <th>  Durbin-Watson:     </th> <td>   1.592</td>\n",
              "</tr>\n",
              "<tr>\n",
              "  <th>Prob(Omnibus):</th> <td> 0.376</td> <th>  Jarque-Bera (JB):  </th> <td>   1.222</td>\n",
              "</tr>\n",
              "<tr>\n",
              "  <th>Skew:</th>          <td> 0.542</td> <th>  Prob(JB):          </th> <td>   0.543</td>\n",
              "</tr>\n",
              "<tr>\n",
              "  <th>Kurtosis:</th>      <td> 3.008</td> <th>  Cond. No.          </th> <td>    1.00</td>\n",
              "</tr>\n",
              "</table><br/><br/>Warnings:<br/>[1] Standard Errors assume that the covariance matrix of the errors is correctly specified."
            ],
            "text/plain": [
              "<class 'statsmodels.iolib.summary.Summary'>\n",
              "\"\"\"\n",
              "                                 OLS Regression Results                                \n",
              "=======================================================================================\n",
              "Dep. Variable:             Work_hours   R-squared (uncentered):                   0.975\n",
              "Model:                            OLS   Adj. R-squared (uncentered):              0.974\n",
              "Method:                 Least Squares   F-statistic:                              939.8\n",
              "Date:                Sat, 05 Feb 2022   Prob (F-statistic):                    9.26e-21\n",
              "Time:                        07:34:12   Log-Likelihood:                         -134.39\n",
              "No. Observations:                  25   AIC:                                      270.8\n",
              "Df Residuals:                      24   BIC:                                      272.0\n",
              "Df Model:                           1                                                  \n",
              "Covariance Type:            nonrobust                                                  \n",
              "==============================================================================\n",
              "                 coef    std err          t      P>|t|      [0.025      0.975]\n",
              "------------------------------------------------------------------------------\n",
              "Lot_size       4.3372      0.141     30.657      0.000       4.045       4.629\n",
              "==============================================================================\n",
              "Omnibus:                        1.955   Durbin-Watson:                   1.592\n",
              "Prob(Omnibus):                  0.376   Jarque-Bera (JB):                1.222\n",
              "Skew:                           0.542   Prob(JB):                        0.543\n",
              "Kurtosis:                       3.008   Cond. No.                         1.00\n",
              "==============================================================================\n",
              "\n",
              "Warnings:\n",
              "[1] Standard Errors assume that the covariance matrix of the errors is correctly specified.\n",
              "\"\"\""
            ]
          },
          "metadata": {},
          "execution_count": 18
        }
      ]
    },
    {
      "cell_type": "code",
      "source": [
        "fit = ols('Work_hours ~ Lot_size', data = df).fit()\n",
        "\n",
        "\n",
        "# 추정치\n",
        "fit.fittedvalues"
      ],
      "metadata": {
        "colab": {
          "base_uri": "https://localhost:8080/"
        },
        "id": "rQWHmQYM0mBn",
        "outputId": "5a935fe0-d382-4729-8c74-21613512e762"
      },
      "execution_count": 27,
      "outputs": [
        {
          "output_type": "execute_result",
          "data": {
            "text/plain": [
              "0     347.982020\n",
              "1     169.471919\n",
              "2     240.875960\n",
              "3     383.684040\n",
              "4     312.280000\n",
              "5     276.577980\n",
              "6     490.790101\n",
              "7     347.982020\n",
              "8     419.386061\n",
              "9     240.875960\n",
              "10    205.173939\n",
              "11    312.280000\n",
              "12    383.684040\n",
              "13    133.769899\n",
              "14    455.088081\n",
              "15    419.386061\n",
              "16    169.471919\n",
              "17    240.875960\n",
              "18    383.684040\n",
              "19    455.088081\n",
              "20    169.471919\n",
              "21    383.684040\n",
              "22    205.173939\n",
              "23    347.982020\n",
              "24    312.280000\n",
              "dtype: float64"
            ]
          },
          "metadata": {},
          "execution_count": 27
        }
      ]
    },
    {
      "cell_type": "code",
      "source": [
        "#잔차\n",
        "\n",
        "fit.resid"
      ],
      "metadata": {
        "colab": {
          "base_uri": "https://localhost:8080/"
        },
        "id": "NNSif_NJ1JpY",
        "outputId": "9bbe5a5f-1629-41f9-f7a1-f7fdd6413ac6"
      },
      "execution_count": 29,
      "outputs": [
        {
          "output_type": "execute_result",
          "data": {
            "text/plain": [
              "0      51.017980\n",
              "1     -48.471919\n",
              "2     -19.875960\n",
              "3      -7.684040\n",
              "4      48.720000\n",
              "5     -52.577980\n",
              "6      55.209899\n",
              "7       4.017980\n",
              "8     -66.386061\n",
              "9     -83.875960\n",
              "10    -45.173939\n",
              "11    -60.280000\n",
              "12      5.315960\n",
              "13    -20.769899\n",
              "14    -20.088081\n",
              "15      0.613939\n",
              "16     42.528081\n",
              "17     27.124040\n",
              "18     -6.684040\n",
              "19    -34.088081\n",
              "20    103.528081\n",
              "21     84.315960\n",
              "22     38.826061\n",
              "23     -5.982020\n",
              "24     10.720000\n",
              "dtype: float64"
            ]
          },
          "metadata": {},
          "execution_count": 29
        }
      ]
    },
    {
      "cell_type": "code",
      "source": [
        "# 예측값\n",
        "\n",
        "fit.predict(exog=dict(Lot_size=[50]))"
      ],
      "metadata": {
        "colab": {
          "base_uri": "https://localhost:8080/"
        },
        "id": "9fKzGcfR1TtL",
        "outputId": "351193ff-25f8-42e8-d48b-1c8cee5f6090"
      },
      "execution_count": 32,
      "outputs": [
        {
          "output_type": "execute_result",
          "data": {
            "text/plain": [
              "0    240.87596\n",
              "dtype: float64"
            ]
          },
          "metadata": {},
          "execution_count": 32
        }
      ]
    }
  ]
}