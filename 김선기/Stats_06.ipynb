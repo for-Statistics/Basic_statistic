{
  "nbformat": 4,
  "nbformat_minor": 0,
  "metadata": {
    "colab": {
      "name": "Stats 06.ipynb",
      "provenance": [],
      "authorship_tag": "ABX9TyPJ13lQm6oYdCbtqF7L8WeG",
      "include_colab_link": true
    },
    "kernelspec": {
      "name": "python3",
      "display_name": "Python 3"
    },
    "language_info": {
      "name": "python"
    }
  },
  "cells": [
    {
      "cell_type": "markdown",
      "metadata": {
        "id": "view-in-github",
        "colab_type": "text"
      },
      "source": [
        "<a href=\"https://colab.research.google.com/github/skdding3/Basic_statistic/blob/main/%EA%B9%80%EC%84%A0%EA%B8%B0/Stats_06.ipynb\" target=\"_parent\"><img src=\"https://colab.research.google.com/assets/colab-badge.svg\" alt=\"Open In Colab\"/></a>"
      ]
    },
    {
      "cell_type": "markdown",
      "source": [
        "관측 값보다 큰 상관 계수를 몇번이나 얻는가."
      ],
      "metadata": {
        "id": "4AbCMowHXL-8"
      }
    },
    {
      "cell_type": "code",
      "execution_count": 3,
      "metadata": {
        "colab": {
          "base_uri": "https://localhost:8080/"
        },
        "id": "u-ixeCh-Wp6u",
        "outputId": "2562b386-db5c-41ba-9bad-d7e51902484a"
      },
      "outputs": [
        {
          "output_type": "stream",
          "name": "stdout",
          "text": [
            "Observed pearson R: 0.81\n",
            "P value: 0.09\n"
          ]
        }
      ],
      "source": [
        "import numpy as np\n",
        "from mlxtend.evaluate import permutation_test\n",
        "\n",
        "x = np.array([1, 2, 3, 4, 5, 6])\n",
        "y = np.array([2, 4, 1, 5, 6, 7])\n",
        "\n",
        "print('Observed pearson R: %.2f' % np.corrcoef(x, y)[1][0])\n",
        "\n",
        "\n",
        "p_value = permutation_test(x, y,\n",
        "                           method='exact',\n",
        "                           func=lambda x, y: np.corrcoef(x, y)[1][0],\n",
        "                           seed=0)\n",
        "print('P value: %.2f' % p_value)"
      ]
    },
    {
      "cell_type": "markdown",
      "source": [
        "1980년과 1990년 호수의 깊이가 크게 다르지 않다는 귀무 가설을 테스트"
      ],
      "metadata": {
        "id": "zcS_AHONYDLU"
      }
    },
    {
      "cell_type": "code",
      "source": [
        "from mlxtend.evaluate import permutation_test\n",
        "\n",
        "lakes_1980 = [3.67, 1.72, 3.46, 2.60, 2.03, 2.10, 3.01]\n",
        "lakes_1990 = [2.11, 1.79, 2.71, 1.89, 1.69, 1.71, 2.01]\n",
        "\n",
        "p_value = permutation_test(\n",
        "    lakes_1980, lakes_1990, method= \"approximate\", seed=0, num_rounds=100000\n",
        ")\n",
        "\n",
        "print('P value: %.3f' % p_value)"
      ],
      "metadata": {
        "colab": {
          "base_uri": "https://localhost:8080/"
        },
        "id": "ObntU8YWXU_j",
        "outputId": "0e96baa1-62d4-44b7-f50d-a5b72f8c6b2a"
      },
      "execution_count": 35,
      "outputs": [
        {
          "output_type": "stream",
          "name": "stdout",
          "text": [
            "P value: 0.054\n"
          ]
        }
      ]
    },
    {
      "cell_type": "markdown",
      "source": [
        "P_value"
      ],
      "metadata": {
        "id": "VNHrfTwFa715"
      }
    },
    {
      "cell_type": "code",
      "source": [
        "import statsmodels.formula.api as smf\n",
        "from sklearn.datasets import load_boston\n",
        "import pandas as pd\n",
        "\n",
        "\n",
        "boston = load_boston()\n",
        "boston_data = pd.DataFrame(boston.data, columns=boston.feature_names)\n",
        "boston_data['MEDV'] = boston.target\n",
        "\n",
        "res = smf.ols(formula='MEDV ~CRIM + ZN + CHAS + NOX + RM + AGE + DIS + RAD + TAX + PTRATIO + B + LSTAT', data=boston_data).fit()\n",
        "print(res.summary())"
      ],
      "metadata": {
        "colab": {
          "base_uri": "https://localhost:8080/"
        },
        "id": "1wwVZ1B7a6yJ",
        "outputId": "a75dade0-2d34-438a-bd53-99cd777f9f91"
      },
      "execution_count": 23,
      "outputs": [
        {
          "output_type": "stream",
          "name": "stdout",
          "text": [
            "                            OLS Regression Results                            \n",
            "==============================================================================\n",
            "Dep. Variable:                   MEDV   R-squared:                       0.741\n",
            "Model:                            OLS   Adj. R-squared:                  0.734\n",
            "Method:                 Least Squares   F-statistic:                     117.3\n",
            "Date:                Mon, 20 Dec 2021   Prob (F-statistic):          6.42e-136\n",
            "Time:                        01:19:25   Log-Likelihood:                -1498.9\n",
            "No. Observations:                 506   AIC:                             3024.\n",
            "Df Residuals:                     493   BIC:                             3079.\n",
            "Df Model:                          12                                         \n",
            "Covariance Type:            nonrobust                                         \n",
            "==============================================================================\n",
            "                 coef    std err          t      P>|t|      [0.025      0.975]\n",
            "------------------------------------------------------------------------------\n",
            "Intercept     36.3639      5.091      7.143      0.000      26.361      46.366\n",
            "CRIM          -0.1084      0.033     -3.304      0.001      -0.173      -0.044\n",
            "ZN             0.0459      0.014      3.368      0.001       0.019       0.073\n",
            "CHAS           2.7164      0.856      3.173      0.002       1.034       4.399\n",
            "NOX          -17.4295      3.681     -4.735      0.000     -24.662     -10.197\n",
            "RM             3.7970      0.416      9.132      0.000       2.980       4.614\n",
            "AGE            0.0007      0.013      0.053      0.958      -0.025       0.027\n",
            "DIS           -1.4896      0.195     -7.648      0.000      -1.872      -1.107\n",
            "RAD            0.2999      0.064      4.710      0.000       0.175       0.425\n",
            "TAX           -0.0118      0.003     -3.489      0.001      -0.018      -0.005\n",
            "PTRATIO       -0.9471      0.130     -7.308      0.000      -1.202      -0.692\n",
            "B              0.0093      0.003      3.461      0.001       0.004       0.015\n",
            "LSTAT         -0.5235      0.051    -10.361      0.000      -0.623      -0.424\n",
            "==============================================================================\n",
            "Omnibus:                      178.124   Durbin-Watson:                   1.079\n",
            "Prob(Omnibus):                  0.000   Jarque-Bera (JB):              784.481\n",
            "Skew:                           1.521   Prob(JB):                    4.49e-171\n",
            "Kurtosis:                       8.287   Cond. No.                     1.50e+04\n",
            "==============================================================================\n",
            "\n",
            "Warnings:\n",
            "[1] Standard Errors assume that the covariance matrix of the errors is correctly specified.\n",
            "[2] The condition number is large, 1.5e+04. This might indicate that there are\n",
            "strong multicollinearity or other numerical problems.\n"
          ]
        },
        {
          "output_type": "stream",
          "name": "stderr",
          "text": [
            "/usr/local/lib/python3.7/dist-packages/sklearn/utils/deprecation.py:87: FutureWarning: Function load_boston is deprecated; `load_boston` is deprecated in 1.0 and will be removed in 1.2.\n",
            "\n",
            "    The Boston housing prices dataset has an ethical problem. You can refer to\n",
            "    the documentation of this function for further details.\n",
            "\n",
            "    The scikit-learn maintainers therefore strongly discourage the use of this\n",
            "    dataset unless the purpose of the code is to study and educate about\n",
            "    ethical issues in data science and machine learning.\n",
            "\n",
            "    In this special case, you can fetch the dataset from the original\n",
            "    source::\n",
            "\n",
            "        import pandas as pd\n",
            "        import numpy as np\n",
            "\n",
            "\n",
            "        data_url = \"http://lib.stat.cmu.edu/datasets/boston\"\n",
            "        raw_df = pd.read_csv(data_url, sep=\"\\s+\", skiprows=22, header=None)\n",
            "        data = np.hstack([raw_df.values[::2, :], raw_df.values[1::2, :2]])\n",
            "        target = raw_df.values[1::2, 2]\n",
            "\n",
            "    Alternative datasets include the California housing dataset (i.e.\n",
            "    :func:`~sklearn.datasets.fetch_california_housing`) and the Ames housing\n",
            "    dataset. You can load the datasets as follows::\n",
            "\n",
            "        from sklearn.datasets import fetch_california_housing\n",
            "        housing = fetch_california_housing()\n",
            "\n",
            "    for the California housing dataset and::\n",
            "\n",
            "        from sklearn.datasets import fetch_openml\n",
            "        housing = fetch_openml(name=\"house_prices\", as_frame=True)\n",
            "\n",
            "    for the Ames housing dataset.\n",
            "    \n",
            "  warnings.warn(msg, category=FutureWarning)\n"
          ]
        }
      ]
    },
    {
      "cell_type": "markdown",
      "source": [
        "통상적으로 0.05이하인 경우 통계적으로 유의하다라고 판단한다. 그런데, 표에서 AGE 값이 0.95다. 이뜻은 AGE 변수는 Target에 영향을 주는 변수라고 볼 수 없다.\n",
        "\n",
        "여기서 해당 변수를 제거하고 다시 OLS모델을 만들면 R-squared가 올라가는 것을 알 수 있는데, 더 성능이 좋은 모델을 만들어짐을 볼 수 있다."
      ],
      "metadata": {
        "id": "8OWYpihCbO-q"
      }
    },
    {
      "cell_type": "markdown",
      "source": [
        "유의수준\n"
      ],
      "metadata": {
        "id": "7RR2o7Dtm4o9"
      }
    },
    {
      "cell_type": "code",
      "source": [
        "import numpy as np\n",
        "\n",
        "dat_M = [117, 108, 105, 89, 101, 93, 96, 108, 108, 94, 93, 112, 92, 91, 100, 96, 120, 86, 96, 95]\n",
        "dat_F = [121, 101, 102, 114, 103, 105, 101, 131, 96, 109, 109, 113, 115, 94, 108, 96, 110, 112, 120, 100]\n",
        "\n",
        "\n",
        "# 두 집단 평균균\n",
        "print('dat_M :',np.mean(dat_M))\n",
        "print('dat_F :',np.mean(dat_F))"
      ],
      "metadata": {
        "colab": {
          "base_uri": "https://localhost:8080/"
        },
        "id": "zRlloMbbm6-t",
        "outputId": "644a0aac-91c8-49e1-d030-f6d7ff73df85"
      },
      "execution_count": 32,
      "outputs": [
        {
          "output_type": "stream",
          "name": "stdout",
          "text": [
            "dat_M : 100.0\n",
            "dat_F : 108.0\n"
          ]
        }
      ]
    },
    {
      "cell_type": "code",
      "source": [
        "import scipy.stats\n",
        "\n",
        "scipy.stats.ttest_ind(dat_M, dat_F, equal_var=False)"
      ],
      "metadata": {
        "colab": {
          "base_uri": "https://localhost:8080/"
        },
        "id": "lp2Pr6nUnpB1",
        "outputId": "e0643aec-2a54-4376-9ea2-d6e12feb38ec"
      },
      "execution_count": 33,
      "outputs": [
        {
          "output_type": "execute_result",
          "data": {
            "text/plain": [
              "Ttest_indResult(statistic=-2.670573872669349, pvalue=0.01108318824471652)"
            ]
          },
          "metadata": {},
          "execution_count": 33
        }
      ]
    },
    {
      "cell_type": "markdown",
      "source": [
        "검증 결과, 두 집단의 평균 차이는 통계적으로 유의미함 (p<0.05)"
      ],
      "metadata": {
        "id": "spqhShfFql0a"
      }
    }
  ]
}