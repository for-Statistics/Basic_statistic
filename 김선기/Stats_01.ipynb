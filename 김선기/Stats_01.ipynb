{
  "nbformat": 4,
  "nbformat_minor": 0,
  "metadata": {
    "colab": {
      "name": "Stats 01.ipynb",
      "provenance": [],
      "authorship_tag": "ABX9TyPTHZtigOHulI5tiMsbZXKr",
      "include_colab_link": true
    },
    "kernelspec": {
      "name": "python3",
      "display_name": "Python 3"
    },
    "language_info": {
      "name": "python"
    }
  },
  "cells": [
    {
      "cell_type": "markdown",
      "metadata": {
        "id": "view-in-github",
        "colab_type": "text"
      },
      "source": [
        "<a href=\"https://colab.research.google.com/github/skdding3/Basic_statistic/blob/main/%EA%B9%80%EC%84%A0%EA%B8%B0/Stats_01.ipynb\" target=\"_parent\"><img src=\"https://colab.research.google.com/assets/colab-badge.svg\" alt=\"Open In Colab\"/></a>"
      ]
    },
    {
      "cell_type": "markdown",
      "metadata": {
        "id": "6xzq-StzMzpP"
      },
      "source": [
        "통계 연습용 신용카드 매출 데이터"
      ]
    },
    {
      "cell_type": "code",
      "metadata": {
        "id": "0OLVCHTDLGl3"
      },
      "source": [
        "import pandas as pd\n",
        "\n",
        "df = pd.read_csv('/content/train.csv')"
      ],
      "execution_count": 25,
      "outputs": []
    },
    {
      "cell_type": "code",
      "metadata": {
        "colab": {
          "base_uri": "https://localhost:8080/",
          "height": 417
        },
        "id": "Z6PR2okVLoYe",
        "outputId": "6225d71b-5672-4488-c9f7-d75f2ef38be4"
      },
      "source": [
        "df"
      ],
      "execution_count": 26,
      "outputs": [
        {
          "output_type": "execute_result",
          "data": {
            "text/html": [
              "<div>\n",
              "<style scoped>\n",
              "    .dataframe tbody tr th:only-of-type {\n",
              "        vertical-align: middle;\n",
              "    }\n",
              "\n",
              "    .dataframe tbody tr th {\n",
              "        vertical-align: top;\n",
              "    }\n",
              "\n",
              "    .dataframe thead th {\n",
              "        text-align: right;\n",
              "    }\n",
              "</style>\n",
              "<table border=\"1\" class=\"dataframe\">\n",
              "  <thead>\n",
              "    <tr style=\"text-align: right;\">\n",
              "      <th></th>\n",
              "      <th>store_id</th>\n",
              "      <th>date</th>\n",
              "      <th>time</th>\n",
              "      <th>card_id</th>\n",
              "      <th>amount</th>\n",
              "      <th>installments</th>\n",
              "      <th>days_of_week</th>\n",
              "      <th>holyday</th>\n",
              "    </tr>\n",
              "  </thead>\n",
              "  <tbody>\n",
              "    <tr>\n",
              "      <th>0</th>\n",
              "      <td>0</td>\n",
              "      <td>2016-12-14</td>\n",
              "      <td>18:05:31</td>\n",
              "      <td>d297bba73f</td>\n",
              "      <td>5</td>\n",
              "      <td>NaN</td>\n",
              "      <td>2</td>\n",
              "      <td>0</td>\n",
              "    </tr>\n",
              "    <tr>\n",
              "      <th>1</th>\n",
              "      <td>0</td>\n",
              "      <td>2016-12-14</td>\n",
              "      <td>18:05:54</td>\n",
              "      <td>d297bba73f</td>\n",
              "      <td>-5</td>\n",
              "      <td>NaN</td>\n",
              "      <td>2</td>\n",
              "      <td>0</td>\n",
              "    </tr>\n",
              "    <tr>\n",
              "      <th>2</th>\n",
              "      <td>0</td>\n",
              "      <td>2016-12-19</td>\n",
              "      <td>12:42:31</td>\n",
              "      <td>0880849c05</td>\n",
              "      <td>144</td>\n",
              "      <td>NaN</td>\n",
              "      <td>0</td>\n",
              "      <td>0</td>\n",
              "    </tr>\n",
              "    <tr>\n",
              "      <th>3</th>\n",
              "      <td>0</td>\n",
              "      <td>2016-12-19</td>\n",
              "      <td>12:48:08</td>\n",
              "      <td>8b4f9e0e95</td>\n",
              "      <td>66</td>\n",
              "      <td>NaN</td>\n",
              "      <td>0</td>\n",
              "      <td>0</td>\n",
              "    </tr>\n",
              "    <tr>\n",
              "      <th>4</th>\n",
              "      <td>0</td>\n",
              "      <td>2016-12-19</td>\n",
              "      <td>13:31:08</td>\n",
              "      <td>7ad237eed0</td>\n",
              "      <td>24</td>\n",
              "      <td>NaN</td>\n",
              "      <td>0</td>\n",
              "      <td>0</td>\n",
              "    </tr>\n",
              "    <tr>\n",
              "      <th>...</th>\n",
              "      <td>...</td>\n",
              "      <td>...</td>\n",
              "      <td>...</td>\n",
              "      <td>...</td>\n",
              "      <td>...</td>\n",
              "      <td>...</td>\n",
              "      <td>...</td>\n",
              "      <td>...</td>\n",
              "    </tr>\n",
              "    <tr>\n",
              "      <th>3362791</th>\n",
              "      <td>1799</td>\n",
              "      <td>2018-07-19</td>\n",
              "      <td>17:58:31</td>\n",
              "      <td>e254bf70d9</td>\n",
              "      <td>600</td>\n",
              "      <td>NaN</td>\n",
              "      <td>3</td>\n",
              "      <td>0</td>\n",
              "    </tr>\n",
              "    <tr>\n",
              "      <th>3362792</th>\n",
              "      <td>1799</td>\n",
              "      <td>2018-07-19</td>\n",
              "      <td>18:54:34</td>\n",
              "      <td>8f41c89891</td>\n",
              "      <td>275</td>\n",
              "      <td>NaN</td>\n",
              "      <td>3</td>\n",
              "      <td>0</td>\n",
              "    </tr>\n",
              "    <tr>\n",
              "      <th>3362793</th>\n",
              "      <td>1799</td>\n",
              "      <td>2018-07-22</td>\n",
              "      <td>14:46:57</td>\n",
              "      <td>aeb64fe1fb</td>\n",
              "      <td>350</td>\n",
              "      <td>NaN</td>\n",
              "      <td>6</td>\n",
              "      <td>0</td>\n",
              "    </tr>\n",
              "    <tr>\n",
              "      <th>3362794</th>\n",
              "      <td>1799</td>\n",
              "      <td>2018-07-25</td>\n",
              "      <td>18:09:13</td>\n",
              "      <td>57932602d6</td>\n",
              "      <td>300</td>\n",
              "      <td>NaN</td>\n",
              "      <td>2</td>\n",
              "      <td>0</td>\n",
              "    </tr>\n",
              "    <tr>\n",
              "      <th>3362795</th>\n",
              "      <td>1799</td>\n",
              "      <td>2018-07-30</td>\n",
              "      <td>10:58:53</td>\n",
              "      <td>42d354807a</td>\n",
              "      <td>325</td>\n",
              "      <td>NaN</td>\n",
              "      <td>0</td>\n",
              "      <td>0</td>\n",
              "    </tr>\n",
              "  </tbody>\n",
              "</table>\n",
              "<p>3362796 rows × 8 columns</p>\n",
              "</div>"
            ],
            "text/plain": [
              "         store_id        date      time  ... installments  days_of_week  holyday\n",
              "0               0  2016-12-14  18:05:31  ...          NaN             2        0\n",
              "1               0  2016-12-14  18:05:54  ...          NaN             2        0\n",
              "2               0  2016-12-19  12:42:31  ...          NaN             0        0\n",
              "3               0  2016-12-19  12:48:08  ...          NaN             0        0\n",
              "4               0  2016-12-19  13:31:08  ...          NaN             0        0\n",
              "...           ...         ...       ...  ...          ...           ...      ...\n",
              "3362791      1799  2018-07-19  17:58:31  ...          NaN             3        0\n",
              "3362792      1799  2018-07-19  18:54:34  ...          NaN             3        0\n",
              "3362793      1799  2018-07-22  14:46:57  ...          NaN             6        0\n",
              "3362794      1799  2018-07-25  18:09:13  ...          NaN             2        0\n",
              "3362795      1799  2018-07-30  10:58:53  ...          NaN             0        0\n",
              "\n",
              "[3362796 rows x 8 columns]"
            ]
          },
          "metadata": {},
          "execution_count": 26
        }
      ]
    },
    {
      "cell_type": "code",
      "metadata": {
        "id": "zRlGN21PLx5e"
      },
      "source": [
        "#amount 매출액, 0보다 작은 음수는 거래 취소(환불)  amount의 단위는 KRW가 아닙니다."
      ],
      "execution_count": 27,
      "outputs": []
    },
    {
      "cell_type": "code",
      "metadata": {
        "colab": {
          "base_uri": "https://localhost:8080/"
        },
        "id": "eK8nOkEeL0Bo",
        "outputId": "1ee5bebb-4484-4fe4-9eaf-cf9a142bc413"
      },
      "source": [
        "df['amount'].mean() #평균"
      ],
      "execution_count": 28,
      "outputs": [
        {
          "output_type": "execute_result",
          "data": {
            "text/plain": [
              "145.96230428488676"
            ]
          },
          "metadata": {},
          "execution_count": 28
        }
      ]
    },
    {
      "cell_type": "code",
      "metadata": {
        "colab": {
          "base_uri": "https://localhost:8080/"
        },
        "id": "xS6BTlgeL3PY",
        "outputId": "59a88a87-0769-45e8-eab0-6529f48cdb2d"
      },
      "source": [
        "df['amount'].median() #중간값"
      ],
      "execution_count": 29,
      "outputs": [
        {
          "output_type": "execute_result",
          "data": {
            "text/plain": [
              "75.0"
            ]
          },
          "metadata": {},
          "execution_count": 29
        }
      ]
    },
    {
      "cell_type": "code",
      "metadata": {
        "colab": {
          "base_uri": "https://localhost:8080/"
        },
        "id": "af4rzz3iL7s2",
        "outputId": "8bc3e1e8-5da9-4570-85af-7895e55f053a"
      },
      "source": [
        "from scipy import stats #절사 평균\n",
        "\n",
        "stats.trim_mean(df['amount'],0.1) # trim_mean에서 0.1은 각 끝에서 10%를 제외"
      ],
      "execution_count": 30,
      "outputs": [
        {
          "output_type": "execute_result",
          "data": {
            "text/plain": [
              "92.44563975380616"
            ]
          },
          "metadata": {},
          "execution_count": 30
        }
      ]
    },
    {
      "cell_type": "code",
      "metadata": {
        "colab": {
          "base_uri": "https://localhost:8080/"
        },
        "id": "oj3th4dWMk5h",
        "outputId": "a75f3513-d473-4120-e823-b7e8b72b9d10"
      },
      "source": [
        "import numpy as np\n",
        "\n",
        "np.average(df['amount'], weights=df['holyday']) #가중 평균 "
      ],
      "execution_count": 31,
      "outputs": [
        {
          "output_type": "execute_result",
          "data": {
            "text/plain": [
              "134.881488440761"
            ]
          },
          "metadata": {},
          "execution_count": 31
        }
      ]
    },
    {
      "cell_type": "code",
      "metadata": {
        "colab": {
          "base_uri": "https://localhost:8080/"
        },
        "id": "mwh3IQgMNqSp",
        "outputId": "32e0a83b-1f19-455f-8e0f-d30ff5f45a6c"
      },
      "source": [
        "pip install wquantiles"
      ],
      "execution_count": 32,
      "outputs": [
        {
          "output_type": "stream",
          "name": "stdout",
          "text": [
            "Requirement already satisfied: wquantiles in /usr/local/lib/python3.7/dist-packages (0.6)\n",
            "Requirement already satisfied: numpy>=1.18 in /usr/local/lib/python3.7/dist-packages (from wquantiles) (1.19.5)\n"
          ]
        }
      ]
    },
    {
      "cell_type": "code",
      "metadata": {
        "colab": {
          "base_uri": "https://localhost:8080/"
        },
        "id": "jATz44M9N4_a",
        "outputId": "2e52c101-becd-49e3-8918-be140d57efb8"
      },
      "source": [
        "import weighted\n",
        "\n",
        "weighted.median(df['amount'], weights=df['holyday']) #가중 중간값 "
      ],
      "execution_count": 33,
      "outputs": [
        {
          "output_type": "execute_result",
          "data": {
            "text/plain": [
              "80.0"
            ]
          },
          "metadata": {},
          "execution_count": 33
        }
      ]
    },
    {
      "cell_type": "code",
      "metadata": {
        "colab": {
          "base_uri": "https://localhost:8080/"
        },
        "id": "donOCXbtOQQz",
        "outputId": "2e81e118-2627-43ee-8d85-c2be8ae377d7"
      },
      "source": [
        "df['amount'].std() #표준편차 "
      ],
      "execution_count": 34,
      "outputs": [
        {
          "output_type": "execute_result",
          "data": {
            "text/plain": [
              "601.730590208499"
            ]
          },
          "metadata": {},
          "execution_count": 34
        }
      ]
    },
    {
      "cell_type": "code",
      "metadata": {
        "colab": {
          "base_uri": "https://localhost:8080/"
        },
        "id": "wzGIxq1eUSzK",
        "outputId": "f797e3de-f1d3-4a11-d3a9-18e81e957020"
      },
      "source": [
        "df['amount'].quantile(0.75) - df['amount'].quantile(0.25) #IQR"
      ],
      "execution_count": 35,
      "outputs": [
        {
          "output_type": "execute_result",
          "data": {
            "text/plain": [
              "118.0"
            ]
          },
          "metadata": {},
          "execution_count": 35
        }
      ]
    },
    {
      "cell_type": "code",
      "metadata": {
        "colab": {
          "base_uri": "https://localhost:8080/"
        },
        "id": "uXv_0rZPUdZd",
        "outputId": "ad6994eb-4925-41c0-f573-4983b7c488d2"
      },
      "source": [
        "from statsmodels import robust\n",
        "robust.mad(df['amount']) #중위절대편차 mad"
      ],
      "execution_count": 37,
      "outputs": [
        {
          "output_type": "execute_result",
          "data": {
            "text/plain": [
              "74.13011092528009"
            ]
          },
          "metadata": {},
          "execution_count": 37
        }
      ]
    }
  ]
}