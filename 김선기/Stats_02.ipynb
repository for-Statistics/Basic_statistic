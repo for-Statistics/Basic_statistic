{
  "nbformat": 4,
  "nbformat_minor": 0,
  "metadata": {
    "colab": {
      "name": "Stats 01.ipynb",
      "provenance": [],
      "mount_file_id": "1QN5rOsgWFpt_KoESa0I1PpB6VIuq45jF",
      "authorship_tag": "ABX9TyOxBn0qa3Aeo9n/xStLoNa6",
      "include_colab_link": true
    },
    "kernelspec": {
      "name": "python3",
      "display_name": "Python 3"
    },
    "language_info": {
      "name": "python"
    }
  },
  "cells": [
    {
      "cell_type": "markdown",
      "metadata": {
        "id": "view-in-github",
        "colab_type": "text"
      },
      "source": [
        "<a href=\"https://colab.research.google.com/github/skdding3/Basic_statistic/blob/main/%EA%B9%80%EC%84%A0%EA%B8%B0/Stats_02.ipynb\" target=\"_parent\"><img src=\"https://colab.research.google.com/assets/colab-badge.svg\" alt=\"Open In Colab\"/></a>"
      ]
    },
    {
      "cell_type": "markdown",
      "metadata": {
        "id": "6xzq-StzMzpP"
      },
      "source": [
        "통계 연습용 신용카드 매출 데이터"
      ]
    },
    {
      "cell_type": "code",
      "metadata": {
        "id": "0OLVCHTDLGl3"
      },
      "source": [
        "import pandas as pd\n",
        "\n",
        "df = pd.read_csv('/content/drive/MyDrive/Data/202111 CreditCard_Data/train.csv')"
      ],
      "execution_count": 152,
      "outputs": []
    },
    {
      "cell_type": "code",
      "metadata": {
        "colab": {
          "base_uri": "https://localhost:8080/",
          "height": 423
        },
        "id": "Z6PR2okVLoYe",
        "outputId": "ddc4aaea-7cfa-4385-cb1e-d217eb6b5226"
      },
      "source": [
        "df"
      ],
      "execution_count": 153,
      "outputs": [
        {
          "output_type": "execute_result",
          "data": {
            "text/html": [
              "<div>\n",
              "<style scoped>\n",
              "    .dataframe tbody tr th:only-of-type {\n",
              "        vertical-align: middle;\n",
              "    }\n",
              "\n",
              "    .dataframe tbody tr th {\n",
              "        vertical-align: top;\n",
              "    }\n",
              "\n",
              "    .dataframe thead th {\n",
              "        text-align: right;\n",
              "    }\n",
              "</style>\n",
              "<table border=\"1\" class=\"dataframe\">\n",
              "  <thead>\n",
              "    <tr style=\"text-align: right;\">\n",
              "      <th></th>\n",
              "      <th>store_id</th>\n",
              "      <th>date</th>\n",
              "      <th>time</th>\n",
              "      <th>card_id</th>\n",
              "      <th>amount</th>\n",
              "      <th>installments</th>\n",
              "      <th>days_of_week</th>\n",
              "      <th>holyday</th>\n",
              "    </tr>\n",
              "  </thead>\n",
              "  <tbody>\n",
              "    <tr>\n",
              "      <th>0</th>\n",
              "      <td>0</td>\n",
              "      <td>2016-12-14</td>\n",
              "      <td>18:05:31</td>\n",
              "      <td>d297bba73f</td>\n",
              "      <td>5</td>\n",
              "      <td>NaN</td>\n",
              "      <td>2</td>\n",
              "      <td>0</td>\n",
              "    </tr>\n",
              "    <tr>\n",
              "      <th>1</th>\n",
              "      <td>0</td>\n",
              "      <td>2016-12-14</td>\n",
              "      <td>18:05:54</td>\n",
              "      <td>d297bba73f</td>\n",
              "      <td>-5</td>\n",
              "      <td>NaN</td>\n",
              "      <td>2</td>\n",
              "      <td>0</td>\n",
              "    </tr>\n",
              "    <tr>\n",
              "      <th>2</th>\n",
              "      <td>0</td>\n",
              "      <td>2016-12-19</td>\n",
              "      <td>12:42:31</td>\n",
              "      <td>0880849c05</td>\n",
              "      <td>144</td>\n",
              "      <td>NaN</td>\n",
              "      <td>0</td>\n",
              "      <td>0</td>\n",
              "    </tr>\n",
              "    <tr>\n",
              "      <th>3</th>\n",
              "      <td>0</td>\n",
              "      <td>2016-12-19</td>\n",
              "      <td>12:48:08</td>\n",
              "      <td>8b4f9e0e95</td>\n",
              "      <td>66</td>\n",
              "      <td>NaN</td>\n",
              "      <td>0</td>\n",
              "      <td>0</td>\n",
              "    </tr>\n",
              "    <tr>\n",
              "      <th>4</th>\n",
              "      <td>0</td>\n",
              "      <td>2016-12-19</td>\n",
              "      <td>13:31:08</td>\n",
              "      <td>7ad237eed0</td>\n",
              "      <td>24</td>\n",
              "      <td>NaN</td>\n",
              "      <td>0</td>\n",
              "      <td>0</td>\n",
              "    </tr>\n",
              "    <tr>\n",
              "      <th>...</th>\n",
              "      <td>...</td>\n",
              "      <td>...</td>\n",
              "      <td>...</td>\n",
              "      <td>...</td>\n",
              "      <td>...</td>\n",
              "      <td>...</td>\n",
              "      <td>...</td>\n",
              "      <td>...</td>\n",
              "    </tr>\n",
              "    <tr>\n",
              "      <th>3362791</th>\n",
              "      <td>1799</td>\n",
              "      <td>2018-07-19</td>\n",
              "      <td>17:58:31</td>\n",
              "      <td>e254bf70d9</td>\n",
              "      <td>600</td>\n",
              "      <td>NaN</td>\n",
              "      <td>3</td>\n",
              "      <td>0</td>\n",
              "    </tr>\n",
              "    <tr>\n",
              "      <th>3362792</th>\n",
              "      <td>1799</td>\n",
              "      <td>2018-07-19</td>\n",
              "      <td>18:54:34</td>\n",
              "      <td>8f41c89891</td>\n",
              "      <td>275</td>\n",
              "      <td>NaN</td>\n",
              "      <td>3</td>\n",
              "      <td>0</td>\n",
              "    </tr>\n",
              "    <tr>\n",
              "      <th>3362793</th>\n",
              "      <td>1799</td>\n",
              "      <td>2018-07-22</td>\n",
              "      <td>14:46:57</td>\n",
              "      <td>aeb64fe1fb</td>\n",
              "      <td>350</td>\n",
              "      <td>NaN</td>\n",
              "      <td>6</td>\n",
              "      <td>0</td>\n",
              "    </tr>\n",
              "    <tr>\n",
              "      <th>3362794</th>\n",
              "      <td>1799</td>\n",
              "      <td>2018-07-25</td>\n",
              "      <td>18:09:13</td>\n",
              "      <td>57932602d6</td>\n",
              "      <td>300</td>\n",
              "      <td>NaN</td>\n",
              "      <td>2</td>\n",
              "      <td>0</td>\n",
              "    </tr>\n",
              "    <tr>\n",
              "      <th>3362795</th>\n",
              "      <td>1799</td>\n",
              "      <td>2018-07-30</td>\n",
              "      <td>10:58:53</td>\n",
              "      <td>42d354807a</td>\n",
              "      <td>325</td>\n",
              "      <td>NaN</td>\n",
              "      <td>0</td>\n",
              "      <td>0</td>\n",
              "    </tr>\n",
              "  </tbody>\n",
              "</table>\n",
              "<p>3362796 rows × 8 columns</p>\n",
              "</div>"
            ],
            "text/plain": [
              "         store_id        date      time  ... installments  days_of_week  holyday\n",
              "0               0  2016-12-14  18:05:31  ...          NaN             2        0\n",
              "1               0  2016-12-14  18:05:54  ...          NaN             2        0\n",
              "2               0  2016-12-19  12:42:31  ...          NaN             0        0\n",
              "3               0  2016-12-19  12:48:08  ...          NaN             0        0\n",
              "4               0  2016-12-19  13:31:08  ...          NaN             0        0\n",
              "...           ...         ...       ...  ...          ...           ...      ...\n",
              "3362791      1799  2018-07-19  17:58:31  ...          NaN             3        0\n",
              "3362792      1799  2018-07-19  18:54:34  ...          NaN             3        0\n",
              "3362793      1799  2018-07-22  14:46:57  ...          NaN             6        0\n",
              "3362794      1799  2018-07-25  18:09:13  ...          NaN             2        0\n",
              "3362795      1799  2018-07-30  10:58:53  ...          NaN             0        0\n",
              "\n",
              "[3362796 rows x 8 columns]"
            ]
          },
          "metadata": {},
          "execution_count": 153
        }
      ]
    },
    {
      "cell_type": "code",
      "metadata": {
        "id": "kYOWvpNdSxKV"
      },
      "source": [
        "df = df.fillna(0)"
      ],
      "execution_count": 154,
      "outputs": []
    },
    {
      "cell_type": "code",
      "metadata": {
        "colab": {
          "base_uri": "https://localhost:8080/"
        },
        "id": "z5wwSe8xS9zs",
        "outputId": "c169eee3-3c25-42b0-e8b4-8e96442f4cfa"
      },
      "source": [
        "df.isnull().sum()"
      ],
      "execution_count": 155,
      "outputs": [
        {
          "output_type": "execute_result",
          "data": {
            "text/plain": [
              "store_id        0\n",
              "date            0\n",
              "time            0\n",
              "card_id         0\n",
              "amount          0\n",
              "installments    0\n",
              "days_of_week    0\n",
              "holyday         0\n",
              "dtype: int64"
            ]
          },
          "metadata": {},
          "execution_count": 155
        }
      ]
    },
    {
      "cell_type": "code",
      "metadata": {
        "id": "zRlGN21PLx5e"
      },
      "source": [
        "#amount 매출액, 0보다 작은 음수는 거래 취소(환불)  amount의 단위는 KRW가 아닙니다."
      ],
      "execution_count": 156,
      "outputs": []
    },
    {
      "cell_type": "code",
      "metadata": {
        "colab": {
          "base_uri": "https://localhost:8080/"
        },
        "id": "eK8nOkEeL0Bo",
        "outputId": "7da0871e-d246-4397-81a0-a5889cd8f5e6"
      },
      "source": [
        "df['amount'].mean() #평균"
      ],
      "execution_count": 157,
      "outputs": [
        {
          "output_type": "execute_result",
          "data": {
            "text/plain": [
              "145.96230428488676"
            ]
          },
          "metadata": {},
          "execution_count": 157
        }
      ]
    },
    {
      "cell_type": "code",
      "metadata": {
        "colab": {
          "base_uri": "https://localhost:8080/"
        },
        "id": "xS6BTlgeL3PY",
        "outputId": "fedcc6bf-265d-4b57-abc6-3a47e5c754d0"
      },
      "source": [
        "df['amount'].median() #중간값"
      ],
      "execution_count": 158,
      "outputs": [
        {
          "output_type": "execute_result",
          "data": {
            "text/plain": [
              "75.0"
            ]
          },
          "metadata": {},
          "execution_count": 158
        }
      ]
    },
    {
      "cell_type": "code",
      "metadata": {
        "colab": {
          "base_uri": "https://localhost:8080/"
        },
        "id": "af4rzz3iL7s2",
        "outputId": "4389c444-2e3b-440f-9cc8-1c1a12919b44"
      },
      "source": [
        "from scipy import stats #절사 평균\n",
        "\n",
        "stats.trim_mean(df['amount'],0.1) # trim_mean에서 0.1은 각 끝에서 10%를 제외"
      ],
      "execution_count": 159,
      "outputs": [
        {
          "output_type": "execute_result",
          "data": {
            "text/plain": [
              "92.44563975380616"
            ]
          },
          "metadata": {},
          "execution_count": 159
        }
      ]
    },
    {
      "cell_type": "code",
      "metadata": {
        "colab": {
          "base_uri": "https://localhost:8080/"
        },
        "id": "oj3th4dWMk5h",
        "outputId": "dab29416-4eb4-4ad1-869c-01271ba2ba01"
      },
      "source": [
        "import numpy as np\n",
        "\n",
        "np.average(df['amount'], weights=df['holyday']) #가중 평균 "
      ],
      "execution_count": 160,
      "outputs": [
        {
          "output_type": "execute_result",
          "data": {
            "text/plain": [
              "134.881488440761"
            ]
          },
          "metadata": {},
          "execution_count": 160
        }
      ]
    },
    {
      "cell_type": "code",
      "metadata": {
        "colab": {
          "base_uri": "https://localhost:8080/"
        },
        "id": "mwh3IQgMNqSp",
        "outputId": "1bf3f73b-2705-44e6-f109-7ae1f8e8b6cc"
      },
      "source": [
        "pip install wquantiles"
      ],
      "execution_count": 161,
      "outputs": [
        {
          "output_type": "stream",
          "name": "stdout",
          "text": [
            "Requirement already satisfied: wquantiles in /usr/local/lib/python3.7/dist-packages (0.6)\n",
            "Requirement already satisfied: numpy>=1.18 in /usr/local/lib/python3.7/dist-packages (from wquantiles) (1.19.5)\n"
          ]
        }
      ]
    },
    {
      "cell_type": "code",
      "metadata": {
        "colab": {
          "base_uri": "https://localhost:8080/"
        },
        "id": "jATz44M9N4_a",
        "outputId": "0f0f9dea-fff6-4dc4-ac2c-8703800dc0b5"
      },
      "source": [
        "import weighted\n",
        "\n",
        "weighted.median(df['amount'], weights=df['holyday']) #가중 중간값 "
      ],
      "execution_count": 162,
      "outputs": [
        {
          "output_type": "execute_result",
          "data": {
            "text/plain": [
              "80.0"
            ]
          },
          "metadata": {},
          "execution_count": 162
        }
      ]
    },
    {
      "cell_type": "code",
      "metadata": {
        "colab": {
          "base_uri": "https://localhost:8080/"
        },
        "id": "donOCXbtOQQz",
        "outputId": "0f125c9f-95dd-472b-dd1d-39f08c363873"
      },
      "source": [
        "df['amount'].std() #표준편차 "
      ],
      "execution_count": 163,
      "outputs": [
        {
          "output_type": "execute_result",
          "data": {
            "text/plain": [
              "601.730590208499"
            ]
          },
          "metadata": {},
          "execution_count": 163
        }
      ]
    },
    {
      "cell_type": "code",
      "metadata": {
        "colab": {
          "base_uri": "https://localhost:8080/"
        },
        "id": "wzGIxq1eUSzK",
        "outputId": "36dd12fa-dc91-4617-d538-37286e59bf53"
      },
      "source": [
        "df['amount'].quantile(0.75) - df['amount'].quantile(0.25) #IQR"
      ],
      "execution_count": 164,
      "outputs": [
        {
          "output_type": "execute_result",
          "data": {
            "text/plain": [
              "118.0"
            ]
          },
          "metadata": {},
          "execution_count": 164
        }
      ]
    },
    {
      "cell_type": "code",
      "metadata": {
        "colab": {
          "base_uri": "https://localhost:8080/"
        },
        "id": "uXv_0rZPUdZd",
        "outputId": "e96104c3-b416-4b96-d549-a40ad281b132"
      },
      "source": [
        "from statsmodels import robust\n",
        "robust.mad(df['amount']) #중위절대편차 mad"
      ],
      "execution_count": 165,
      "outputs": [
        {
          "output_type": "execute_result",
          "data": {
            "text/plain": [
              "74.13011092528009"
            ]
          },
          "metadata": {},
          "execution_count": 165
        }
      ]
    },
    {
      "cell_type": "code",
      "metadata": {
        "colab": {
          "base_uri": "https://localhost:8080/"
        },
        "id": "yj6WT2ZAKu9I",
        "outputId": "f89a97a0-d0e5-456f-d134-c4c553310ebe"
      },
      "source": [
        "df['amount'].quantile([0.05, 0.25, 0.5, 0.75, 0.95]) #amount (매출액) 백분위수 표기"
      ],
      "execution_count": 166,
      "outputs": [
        {
          "output_type": "execute_result",
          "data": {
            "text/plain": [
              "0.05     10.0\n",
              "0.25     32.0\n",
              "0.50     75.0\n",
              "0.75    150.0\n",
              "0.95    437.0\n",
              "Name: amount, dtype: float64"
            ]
          },
          "metadata": {},
          "execution_count": 166
        }
      ]
    },
    {
      "cell_type": "markdown",
      "metadata": {
        "id": "WFx4XqGNaqvg"
      },
      "source": [
        "박스 플롯 "
      ]
    },
    {
      "cell_type": "code",
      "metadata": {
        "colab": {
          "base_uri": "https://localhost:8080/",
          "height": 283
        },
        "id": "Cd94Xu3GLAkD",
        "outputId": "46b9e0d3-5e8c-4c16-fae1-9794a47f8797"
      },
      "source": [
        "ax = (df['amount']).plot.box()\n",
        "\n",
        "ax.set_ylabel('amount') #이상치값이 너무 커서 박스플롯이 그려지지 않는경우가 존재한다."
      ],
      "execution_count": 167,
      "outputs": [
        {
          "output_type": "execute_result",
          "data": {
            "text/plain": [
              "Text(0, 0.5, 'amount')"
            ]
          },
          "metadata": {},
          "execution_count": 167
        },
        {
          "output_type": "display_data",
          "data": {
            "image/png": "[encoded data removed]",
            "text/plain": [
              "<Figure size 432x288 with 1 Axes>"
            ]
          },
          "metadata": {
            "needs_background": "light"
          }
        }
      ]
    },
    {
      "cell_type": "code",
      "metadata": {
        "colab": {
          "base_uri": "https://localhost:8080/",
          "height": 284
        },
        "id": "VJiEF1ZtN75z",
        "outputId": "a4b0f762-1f9b-43f1-e649-1d3648bf1b65"
      },
      "source": [
        "ax = (df['days_of_week']).plot.box()\n",
        "\n",
        "ax.set_ylabel('days_of_week') #요일, 월요일이 0, 일요일은 6"
      ],
      "execution_count": 168,
      "outputs": [
        {
          "output_type": "execute_result",
          "data": {
            "text/plain": [
              "Text(0, 0.5, 'days_of_week')"
            ]
          },
          "metadata": {},
          "execution_count": 168
        },
        {
          "output_type": "display_data",
          "data": {
            "image/png": "[encoded data removed]",
            "text/plain": [
              "<Figure size 432x288 with 1 Axes>"
            ]
          },
          "metadata": {
            "needs_background": "light"
          }
        }
      ]
    },
    {
      "cell_type": "code",
      "metadata": {
        "colab": {
          "base_uri": "https://localhost:8080/"
        },
        "id": "R4of0TgjNQNX",
        "outputId": "a5ab5f12-7af7-40c5-e10d-d25290efdd8f"
      },
      "source": [
        "import numpy as np\n",
        "\n",
        "df_amount = np.log1p(df['amount']) #스케일 변환 (로그 대입) , 하지만 스케일링에 따라 다른 방법이 차용될 수있음."
      ],
      "execution_count": 169,
      "outputs": [
        {
          "output_type": "stream",
          "name": "stderr",
          "text": [
            "/usr/local/lib/python3.7/dist-packages/pandas/core/series.py:726: RuntimeWarning: divide by zero encountered in log1p\n",
            "  result = getattr(ufunc, method)(*inputs, **kwargs)\n",
            "/usr/local/lib/python3.7/dist-packages/pandas/core/series.py:726: RuntimeWarning: invalid value encountered in log1p\n",
            "  result = getattr(ufunc, method)(*inputs, **kwargs)\n"
          ]
        }
      ]
    },
    {
      "cell_type": "code",
      "metadata": {
        "colab": {
          "base_uri": "https://localhost:8080/",
          "height": 265
        },
        "id": "NHI5-ExzP7Fo",
        "outputId": "d1cc1ef9-4204-48ae-bdff-ad46d3733b1b"
      },
      "source": [
        "ax = (df_amount).plot.box()"
      ],
      "execution_count": 170,
      "outputs": [
        {
          "output_type": "display_data",
          "data": {
            "image/png": "[encoded data removed]",
            "text/plain": [
              "<Figure size 432x288 with 1 Axes>"
            ]
          },
          "metadata": {
            "needs_background": "light"
          }
        }
      ]
    },
    {
      "cell_type": "code",
      "metadata": {
        "colab": {
          "base_uri": "https://localhost:8080/",
          "height": 265
        },
        "id": "QClBJuQYM3UG",
        "outputId": "e6d13586-0d1d-41cc-dff9-708c8a35957d"
      },
      "source": [
        "import seaborn as sns\n",
        "import matplotlib.pyplot as plt\n",
        "sns.boxplot(data = df_amount)\n",
        "\n",
        "plt.show() #스케일 변환후 박스플롯 시각화 (seaborn 적용용)"
      ],
      "execution_count": 171,
      "outputs": [
        {
          "output_type": "display_data",
          "data": {
            "image/png": "[encoded data removed]",
            "text/plain": [
              "<Figure size 432x288 with 1 Axes>"
            ]
          },
          "metadata": {
            "needs_background": "light"
          }
        }
      ]
    },
    {
      "cell_type": "markdown",
      "metadata": {
        "id": "Ha3r3WNbamCm"
      },
      "source": [
        "히스토그램"
      ]
    },
    {
      "cell_type": "code",
      "metadata": {
        "colab": {
          "base_uri": "https://localhost:8080/"
        },
        "id": "UMYhQ0wCSfGq",
        "outputId": "3906cf6b-535b-4c45-c8b2-3a022c10fc69"
      },
      "source": [
        "df['installments'].value_counts()"
      ],
      "execution_count": 172,
      "outputs": [
        {
          "output_type": "execute_result",
          "data": {
            "text/plain": [
              "0.0     3345936\n",
              "3.0       10686\n",
              "2.0        3431\n",
              "5.0        1220\n",
              "6.0         647\n",
              "10.0        252\n",
              "4.0         209\n",
              "12.0        206\n",
              "24.0         96\n",
              "8.0          32\n",
              "7.0          28\n",
              "9.0          25\n",
              "18.0         11\n",
              "20.0          6\n",
              "36.0          5\n",
              "22.0          4\n",
              "15.0          2\n",
              "Name: installments, dtype: int64"
            ]
          },
          "metadata": {},
          "execution_count": 172
        }
      ]
    },
    {
      "cell_type": "code",
      "metadata": {
        "colab": {
          "base_uri": "https://localhost:8080/"
        },
        "id": "1jZbOdg7Ovgy",
        "outputId": "482e79ad-7a3b-4857-b80a-a751ff64327e"
      },
      "source": [
        "binnedday = pd.cut(df['installments'],36)\n",
        "\n",
        "binnedday.value_counts() #할부 개월수 빈도  이상과 미만 앞에 수치를 기준으로 해석 (구간화가 되었기때문에 표기가 범위로 해석)"
      ],
      "execution_count": 173,
      "outputs": [
        {
          "output_type": "execute_result",
          "data": {
            "text/plain": [
              "(-0.036, 1.0]    3345936\n",
              "(2.0, 3.0]         10686\n",
              "(1.0, 2.0]          3431\n",
              "(4.0, 5.0]          1220\n",
              "(5.0, 6.0]           647\n",
              "(9.0, 10.0]          252\n",
              "(3.0, 4.0]           209\n",
              "(11.0, 12.0]         206\n",
              "(23.0, 24.0]          96\n",
              "(7.0, 8.0]            32\n",
              "(6.0, 7.0]            28\n",
              "(8.0, 9.0]            25\n",
              "(17.0, 18.0]          11\n",
              "(19.0, 20.0]           6\n",
              "(35.0, 36.0]           5\n",
              "(21.0, 22.0]           4\n",
              "(14.0, 15.0]           2\n",
              "(25.0, 26.0]           0\n",
              "(33.0, 34.0]           0\n",
              "(32.0, 33.0]           0\n",
              "(31.0, 32.0]           0\n",
              "(30.0, 31.0]           0\n",
              "(29.0, 30.0]           0\n",
              "(28.0, 29.0]           0\n",
              "(27.0, 28.0]           0\n",
              "(26.0, 27.0]           0\n",
              "(22.0, 23.0]           0\n",
              "(10.0, 11.0]           0\n",
              "(12.0, 13.0]           0\n",
              "(13.0, 14.0]           0\n",
              "(15.0, 16.0]           0\n",
              "(16.0, 17.0]           0\n",
              "(34.0, 35.0]           0\n",
              "(18.0, 19.0]           0\n",
              "(20.0, 21.0]           0\n",
              "(24.0, 25.0]           0\n",
              "Name: installments, dtype: int64"
            ]
          },
          "metadata": {},
          "execution_count": 173
        }
      ]
    },
    {
      "cell_type": "code",
      "metadata": {
        "colab": {
          "base_uri": "https://localhost:8080/",
          "height": 423
        },
        "id": "932qF5NpVoda",
        "outputId": "ccb0e65b-8a7d-4ccd-fd9d-78eac0c480d9"
      },
      "source": [
        "df_ins = pd.read_csv('/content/drive/MyDrive/Data/202111 CreditCard_Data/train.csv')\n",
        "\n",
        "df_ins"
      ],
      "execution_count": 174,
      "outputs": [
        {
          "output_type": "execute_result",
          "data": {
            "text/html": [
              "<div>\n",
              "<style scoped>\n",
              "    .dataframe tbody tr th:only-of-type {\n",
              "        vertical-align: middle;\n",
              "    }\n",
              "\n",
              "    .dataframe tbody tr th {\n",
              "        vertical-align: top;\n",
              "    }\n",
              "\n",
              "    .dataframe thead th {\n",
              "        text-align: right;\n",
              "    }\n",
              "</style>\n",
              "<table border=\"1\" class=\"dataframe\">\n",
              "  <thead>\n",
              "    <tr style=\"text-align: right;\">\n",
              "      <th></th>\n",
              "      <th>store_id</th>\n",
              "      <th>date</th>\n",
              "      <th>time</th>\n",
              "      <th>card_id</th>\n",
              "      <th>amount</th>\n",
              "      <th>installments</th>\n",
              "      <th>days_of_week</th>\n",
              "      <th>holyday</th>\n",
              "    </tr>\n",
              "  </thead>\n",
              "  <tbody>\n",
              "    <tr>\n",
              "      <th>0</th>\n",
              "      <td>0</td>\n",
              "      <td>2016-12-14</td>\n",
              "      <td>18:05:31</td>\n",
              "      <td>d297bba73f</td>\n",
              "      <td>5</td>\n",
              "      <td>NaN</td>\n",
              "      <td>2</td>\n",
              "      <td>0</td>\n",
              "    </tr>\n",
              "    <tr>\n",
              "      <th>1</th>\n",
              "      <td>0</td>\n",
              "      <td>2016-12-14</td>\n",
              "      <td>18:05:54</td>\n",
              "      <td>d297bba73f</td>\n",
              "      <td>-5</td>\n",
              "      <td>NaN</td>\n",
              "      <td>2</td>\n",
              "      <td>0</td>\n",
              "    </tr>\n",
              "    <tr>\n",
              "      <th>2</th>\n",
              "      <td>0</td>\n",
              "      <td>2016-12-19</td>\n",
              "      <td>12:42:31</td>\n",
              "      <td>0880849c05</td>\n",
              "      <td>144</td>\n",
              "      <td>NaN</td>\n",
              "      <td>0</td>\n",
              "      <td>0</td>\n",
              "    </tr>\n",
              "    <tr>\n",
              "      <th>3</th>\n",
              "      <td>0</td>\n",
              "      <td>2016-12-19</td>\n",
              "      <td>12:48:08</td>\n",
              "      <td>8b4f9e0e95</td>\n",
              "      <td>66</td>\n",
              "      <td>NaN</td>\n",
              "      <td>0</td>\n",
              "      <td>0</td>\n",
              "    </tr>\n",
              "    <tr>\n",
              "      <th>4</th>\n",
              "      <td>0</td>\n",
              "      <td>2016-12-19</td>\n",
              "      <td>13:31:08</td>\n",
              "      <td>7ad237eed0</td>\n",
              "      <td>24</td>\n",
              "      <td>NaN</td>\n",
              "      <td>0</td>\n",
              "      <td>0</td>\n",
              "    </tr>\n",
              "    <tr>\n",
              "      <th>...</th>\n",
              "      <td>...</td>\n",
              "      <td>...</td>\n",
              "      <td>...</td>\n",
              "      <td>...</td>\n",
              "      <td>...</td>\n",
              "      <td>...</td>\n",
              "      <td>...</td>\n",
              "      <td>...</td>\n",
              "    </tr>\n",
              "    <tr>\n",
              "      <th>3362791</th>\n",
              "      <td>1799</td>\n",
              "      <td>2018-07-19</td>\n",
              "      <td>17:58:31</td>\n",
              "      <td>e254bf70d9</td>\n",
              "      <td>600</td>\n",
              "      <td>NaN</td>\n",
              "      <td>3</td>\n",
              "      <td>0</td>\n",
              "    </tr>\n",
              "    <tr>\n",
              "      <th>3362792</th>\n",
              "      <td>1799</td>\n",
              "      <td>2018-07-19</td>\n",
              "      <td>18:54:34</td>\n",
              "      <td>8f41c89891</td>\n",
              "      <td>275</td>\n",
              "      <td>NaN</td>\n",
              "      <td>3</td>\n",
              "      <td>0</td>\n",
              "    </tr>\n",
              "    <tr>\n",
              "      <th>3362793</th>\n",
              "      <td>1799</td>\n",
              "      <td>2018-07-22</td>\n",
              "      <td>14:46:57</td>\n",
              "      <td>aeb64fe1fb</td>\n",
              "      <td>350</td>\n",
              "      <td>NaN</td>\n",
              "      <td>6</td>\n",
              "      <td>0</td>\n",
              "    </tr>\n",
              "    <tr>\n",
              "      <th>3362794</th>\n",
              "      <td>1799</td>\n",
              "      <td>2018-07-25</td>\n",
              "      <td>18:09:13</td>\n",
              "      <td>57932602d6</td>\n",
              "      <td>300</td>\n",
              "      <td>NaN</td>\n",
              "      <td>2</td>\n",
              "      <td>0</td>\n",
              "    </tr>\n",
              "    <tr>\n",
              "      <th>3362795</th>\n",
              "      <td>1799</td>\n",
              "      <td>2018-07-30</td>\n",
              "      <td>10:58:53</td>\n",
              "      <td>42d354807a</td>\n",
              "      <td>325</td>\n",
              "      <td>NaN</td>\n",
              "      <td>0</td>\n",
              "      <td>0</td>\n",
              "    </tr>\n",
              "  </tbody>\n",
              "</table>\n",
              "<p>3362796 rows × 8 columns</p>\n",
              "</div>"
            ],
            "text/plain": [
              "         store_id        date      time  ... installments  days_of_week  holyday\n",
              "0               0  2016-12-14  18:05:31  ...          NaN             2        0\n",
              "1               0  2016-12-14  18:05:54  ...          NaN             2        0\n",
              "2               0  2016-12-19  12:42:31  ...          NaN             0        0\n",
              "3               0  2016-12-19  12:48:08  ...          NaN             0        0\n",
              "4               0  2016-12-19  13:31:08  ...          NaN             0        0\n",
              "...           ...         ...       ...  ...          ...           ...      ...\n",
              "3362791      1799  2018-07-19  17:58:31  ...          NaN             3        0\n",
              "3362792      1799  2018-07-19  18:54:34  ...          NaN             3        0\n",
              "3362793      1799  2018-07-22  14:46:57  ...          NaN             6        0\n",
              "3362794      1799  2018-07-25  18:09:13  ...          NaN             2        0\n",
              "3362795      1799  2018-07-30  10:58:53  ...          NaN             0        0\n",
              "\n",
              "[3362796 rows x 8 columns]"
            ]
          },
          "metadata": {},
          "execution_count": 174
        }
      ]
    },
    {
      "cell_type": "code",
      "metadata": {
        "colab": {
          "base_uri": "https://localhost:8080/"
        },
        "id": "jGrLmhzYVvmC",
        "outputId": "bfdf3302-b314-46e0-d39d-236b3f1ae12c"
      },
      "source": [
        "df_ins = df_ins['installments'].dropna() #할부 안한개월수 제거거\n",
        "\n",
        "df_ins"
      ],
      "execution_count": 178,
      "outputs": [
        {
          "output_type": "execute_result",
          "data": {
            "text/plain": [
              "152        3.0\n",
              "155        3.0\n",
              "206        2.0\n",
              "311        3.0\n",
              "651        3.0\n",
              "          ... \n",
              "3362429    3.0\n",
              "3362486    3.0\n",
              "3362514    2.0\n",
              "3362701    3.0\n",
              "3362740    2.0\n",
              "Name: installments, Length: 16860, dtype: float64"
            ]
          },
          "metadata": {},
          "execution_count": 178
        }
      ]
    },
    {
      "cell_type": "code",
      "metadata": {
        "colab": {
          "base_uri": "https://localhost:8080/"
        },
        "id": "s2c_vOmyYz5S",
        "outputId": "c671d5e7-d1aa-4fcb-e6dc-01f5451a3caa"
      },
      "source": [
        "df_ins.value_counts()"
      ],
      "execution_count": 184,
      "outputs": [
        {
          "output_type": "execute_result",
          "data": {
            "text/plain": [
              "3.0     10686\n",
              "2.0      3431\n",
              "5.0      1220\n",
              "6.0       647\n",
              "10.0      252\n",
              "4.0       209\n",
              "12.0      206\n",
              "24.0       96\n",
              "8.0        32\n",
              "7.0        28\n",
              "9.0        25\n",
              "18.0       11\n",
              "20.0        6\n",
              "36.0        5\n",
              "22.0        4\n",
              "15.0        2\n",
              "Name: installments, dtype: int64"
            ]
          },
          "metadata": {},
          "execution_count": 184
        }
      ]
    },
    {
      "cell_type": "code",
      "metadata": {
        "colab": {
          "base_uri": "https://localhost:8080/",
          "height": 297
        },
        "id": "2P2PSEylZW7f",
        "outputId": "6ebbeba0-a40d-4b69-9a35-48a1652198d3"
      },
      "source": [
        "ax = (df_ins).plot.hist(figsize = (4,4))\n",
        "\n",
        "ax.set_xlabel('installments')"
      ],
      "execution_count": 198,
      "outputs": [
        {
          "output_type": "execute_result",
          "data": {
            "text/plain": [
              "Text(0.5, 0, 'installments')"
            ]
          },
          "metadata": {},
          "execution_count": 198
        },
        {
          "output_type": "display_data",
          "data": {
            "image/png": "[encoded data removed]",
            "text/plain": [
              "<Figure size 288x288 with 1 Axes>"
            ]
          },
          "metadata": {
            "needs_background": "light"
          }
        }
      ]
    },
    {
      "cell_type": "code",
      "metadata": {
        "colab": {
          "base_uri": "https://localhost:8080/",
          "height": 298
        },
        "id": "qC2avA1NQiuK",
        "outputId": "d2205017-3fa2-477c-84cc-5c396f5dad59"
      },
      "source": [
        "ax = (df['days_of_week']).plot.hist(figsize = (4,4))\n",
        "\n",
        "ax.set_xlabel('days_of_week')"
      ],
      "execution_count": 194,
      "outputs": [
        {
          "output_type": "execute_result",
          "data": {
            "text/plain": [
              "Text(0.5, 0, 'days_of_week')"
            ]
          },
          "metadata": {},
          "execution_count": 194
        },
        {
          "output_type": "display_data",
          "data": {
            "image/png": "[encoded data removed]",
            "text/plain": [
              "<Figure size 288x288 with 1 Axes>"
            ]
          },
          "metadata": {
            "needs_background": "light"
          }
        }
      ]
    },
    {
      "cell_type": "markdown",
      "metadata": {
        "id": "yCkF1PG1bd2I"
      },
      "source": [
        "커널밀도추정 "
      ]
    },
    {
      "cell_type": "code",
      "metadata": {
        "colab": {
          "base_uri": "https://localhost:8080/",
          "height": 297
        },
        "id": "NkbRR_13RE3_",
        "outputId": "eecb9065-4f9e-486c-c388-e370e4f611cf"
      },
      "source": [
        "ax = df_ins.plot.hist(density = True, xlim=[0,36], bins=range(1,12))\n",
        "df_ins.plot.density(ax=ax)\n",
        "\n",
        "ax.set_xlabel('installments')"
      ],
      "execution_count": 203,
      "outputs": [
        {
          "output_type": "execute_result",
          "data": {
            "text/plain": [
              "Text(0.5, 0, 'installments')"
            ]
          },
          "metadata": {},
          "execution_count": 203
        },
        {
          "output_type": "display_data",
          "data": {
            "image/png": "[encoded data removed]",
            "text/plain": [
              "<Figure size 432x288 with 1 Axes>"
            ]
          },
          "metadata": {
            "needs_background": "light"
          }
        }
      ]
    },
    {
      "cell_type": "code",
      "metadata": {
        "id": "DHSQVfmZdP2-"
      },
      "source": [
        ""
      ],
      "execution_count": null,
      "outputs": []
    }
  ]
}