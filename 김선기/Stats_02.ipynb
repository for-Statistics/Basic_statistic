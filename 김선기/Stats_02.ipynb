{
  "nbformat": 4,
  "nbformat_minor": 0,
  "metadata": {
    "colab": {
      "name": "Stats 01.ipynb",
      "provenance": [],
      "mount_file_id": "1QN5rOsgWFpt_KoESa0I1PpB6VIuq45jF",
      "authorship_tag": "ABX9TyN7TWjWlox42A/yxoqdTjia",
      "include_colab_link": true
    },
    "kernelspec": {
      "name": "python3",
      "display_name": "Python 3"
    },
    "language_info": {
      "name": "python"
    }
  },
  "cells": [
    {
      "cell_type": "markdown",
      "metadata": {
        "id": "view-in-github",
        "colab_type": "text"
      },
      "source": [
        "<a href=\"https://colab.research.google.com/github/skdding3/Basic_statistic/blob/main/%EA%B9%80%EC%84%A0%EA%B8%B0/Stats_02.ipynb\" target=\"_parent\"><img src=\"https://colab.research.google.com/assets/colab-badge.svg\" alt=\"Open In Colab\"/></a>"
      ]
    },
    {
      "cell_type": "markdown",
      "metadata": {
        "id": "6xzq-StzMzpP"
      },
      "source": [
        "통계 연습용 신용카드 매출 데이터"
      ]
    },
    {
      "cell_type": "code",
      "metadata": {
        "id": "0OLVCHTDLGl3"
      },
      "source": [
        "import pandas as pd\n",
        "\n",
        "df = pd.read_csv('/content/drive/MyDrive/Data/202111 CreditCard_Data/train.csv')"
      ],
      "execution_count": 1,
      "outputs": []
    },
    {
      "cell_type": "code",
      "metadata": {
        "colab": {
          "base_uri": "https://localhost:8080/",
          "height": 423
        },
        "id": "Z6PR2okVLoYe",
        "outputId": "1e10d76f-0c62-48f4-bce6-69e327cac5ed"
      },
      "source": [
        "df"
      ],
      "execution_count": 2,
      "outputs": [
        {
          "output_type": "execute_result",
          "data": {
            "text/html": [
              "<div>\n",
              "<style scoped>\n",
              "    .dataframe tbody tr th:only-of-type {\n",
              "        vertical-align: middle;\n",
              "    }\n",
              "\n",
              "    .dataframe tbody tr th {\n",
              "        vertical-align: top;\n",
              "    }\n",
              "\n",
              "    .dataframe thead th {\n",
              "        text-align: right;\n",
              "    }\n",
              "</style>\n",
              "<table border=\"1\" class=\"dataframe\">\n",
              "  <thead>\n",
              "    <tr style=\"text-align: right;\">\n",
              "      <th></th>\n",
              "      <th>store_id</th>\n",
              "      <th>date</th>\n",
              "      <th>time</th>\n",
              "      <th>card_id</th>\n",
              "      <th>amount</th>\n",
              "      <th>installments</th>\n",
              "      <th>days_of_week</th>\n",
              "      <th>holyday</th>\n",
              "    </tr>\n",
              "  </thead>\n",
              "  <tbody>\n",
              "    <tr>\n",
              "      <th>0</th>\n",
              "      <td>0</td>\n",
              "      <td>2016-12-14</td>\n",
              "      <td>18:05:31</td>\n",
              "      <td>d297bba73f</td>\n",
              "      <td>5</td>\n",
              "      <td>NaN</td>\n",
              "      <td>2</td>\n",
              "      <td>0</td>\n",
              "    </tr>\n",
              "    <tr>\n",
              "      <th>1</th>\n",
              "      <td>0</td>\n",
              "      <td>2016-12-14</td>\n",
              "      <td>18:05:54</td>\n",
              "      <td>d297bba73f</td>\n",
              "      <td>-5</td>\n",
              "      <td>NaN</td>\n",
              "      <td>2</td>\n",
              "      <td>0</td>\n",
              "    </tr>\n",
              "    <tr>\n",
              "      <th>2</th>\n",
              "      <td>0</td>\n",
              "      <td>2016-12-19</td>\n",
              "      <td>12:42:31</td>\n",
              "      <td>0880849c05</td>\n",
              "      <td>144</td>\n",
              "      <td>NaN</td>\n",
              "      <td>0</td>\n",
              "      <td>0</td>\n",
              "    </tr>\n",
              "    <tr>\n",
              "      <th>3</th>\n",
              "      <td>0</td>\n",
              "      <td>2016-12-19</td>\n",
              "      <td>12:48:08</td>\n",
              "      <td>8b4f9e0e95</td>\n",
              "      <td>66</td>\n",
              "      <td>NaN</td>\n",
              "      <td>0</td>\n",
              "      <td>0</td>\n",
              "    </tr>\n",
              "    <tr>\n",
              "      <th>4</th>\n",
              "      <td>0</td>\n",
              "      <td>2016-12-19</td>\n",
              "      <td>13:31:08</td>\n",
              "      <td>7ad237eed0</td>\n",
              "      <td>24</td>\n",
              "      <td>NaN</td>\n",
              "      <td>0</td>\n",
              "      <td>0</td>\n",
              "    </tr>\n",
              "    <tr>\n",
              "      <th>...</th>\n",
              "      <td>...</td>\n",
              "      <td>...</td>\n",
              "      <td>...</td>\n",
              "      <td>...</td>\n",
              "      <td>...</td>\n",
              "      <td>...</td>\n",
              "      <td>...</td>\n",
              "      <td>...</td>\n",
              "    </tr>\n",
              "    <tr>\n",
              "      <th>3362791</th>\n",
              "      <td>1799</td>\n",
              "      <td>2018-07-19</td>\n",
              "      <td>17:58:31</td>\n",
              "      <td>e254bf70d9</td>\n",
              "      <td>600</td>\n",
              "      <td>NaN</td>\n",
              "      <td>3</td>\n",
              "      <td>0</td>\n",
              "    </tr>\n",
              "    <tr>\n",
              "      <th>3362792</th>\n",
              "      <td>1799</td>\n",
              "      <td>2018-07-19</td>\n",
              "      <td>18:54:34</td>\n",
              "      <td>8f41c89891</td>\n",
              "      <td>275</td>\n",
              "      <td>NaN</td>\n",
              "      <td>3</td>\n",
              "      <td>0</td>\n",
              "    </tr>\n",
              "    <tr>\n",
              "      <th>3362793</th>\n",
              "      <td>1799</td>\n",
              "      <td>2018-07-22</td>\n",
              "      <td>14:46:57</td>\n",
              "      <td>aeb64fe1fb</td>\n",
              "      <td>350</td>\n",
              "      <td>NaN</td>\n",
              "      <td>6</td>\n",
              "      <td>0</td>\n",
              "    </tr>\n",
              "    <tr>\n",
              "      <th>3362794</th>\n",
              "      <td>1799</td>\n",
              "      <td>2018-07-25</td>\n",
              "      <td>18:09:13</td>\n",
              "      <td>57932602d6</td>\n",
              "      <td>300</td>\n",
              "      <td>NaN</td>\n",
              "      <td>2</td>\n",
              "      <td>0</td>\n",
              "    </tr>\n",
              "    <tr>\n",
              "      <th>3362795</th>\n",
              "      <td>1799</td>\n",
              "      <td>2018-07-30</td>\n",
              "      <td>10:58:53</td>\n",
              "      <td>42d354807a</td>\n",
              "      <td>325</td>\n",
              "      <td>NaN</td>\n",
              "      <td>0</td>\n",
              "      <td>0</td>\n",
              "    </tr>\n",
              "  </tbody>\n",
              "</table>\n",
              "<p>3362796 rows × 8 columns</p>\n",
              "</div>"
            ],
            "text/plain": [
              "         store_id        date      time  ... installments  days_of_week  holyday\n",
              "0               0  2016-12-14  18:05:31  ...          NaN             2        0\n",
              "1               0  2016-12-14  18:05:54  ...          NaN             2        0\n",
              "2               0  2016-12-19  12:42:31  ...          NaN             0        0\n",
              "3               0  2016-12-19  12:48:08  ...          NaN             0        0\n",
              "4               0  2016-12-19  13:31:08  ...          NaN             0        0\n",
              "...           ...         ...       ...  ...          ...           ...      ...\n",
              "3362791      1799  2018-07-19  17:58:31  ...          NaN             3        0\n",
              "3362792      1799  2018-07-19  18:54:34  ...          NaN             3        0\n",
              "3362793      1799  2018-07-22  14:46:57  ...          NaN             6        0\n",
              "3362794      1799  2018-07-25  18:09:13  ...          NaN             2        0\n",
              "3362795      1799  2018-07-30  10:58:53  ...          NaN             0        0\n",
              "\n",
              "[3362796 rows x 8 columns]"
            ]
          },
          "metadata": {},
          "execution_count": 2
        }
      ]
    },
    {
      "cell_type": "code",
      "metadata": {
        "id": "kYOWvpNdSxKV"
      },
      "source": [
        "df = df.fillna(0)"
      ],
      "execution_count": 3,
      "outputs": []
    },
    {
      "cell_type": "code",
      "metadata": {
        "colab": {
          "base_uri": "https://localhost:8080/"
        },
        "id": "z5wwSe8xS9zs",
        "outputId": "4ae9b618-310d-4e83-a7b9-a90e8aa2cc6f"
      },
      "source": [
        "df.isnull().sum()"
      ],
      "execution_count": 4,
      "outputs": [
        {
          "output_type": "execute_result",
          "data": {
            "text/plain": [
              "store_id        0\n",
              "date            0\n",
              "time            0\n",
              "card_id         0\n",
              "amount          0\n",
              "installments    0\n",
              "days_of_week    0\n",
              "holyday         0\n",
              "dtype: int64"
            ]
          },
          "metadata": {},
          "execution_count": 4
        }
      ]
    },
    {
      "cell_type": "code",
      "metadata": {
        "id": "zRlGN21PLx5e"
      },
      "source": [
        "#amount 매출액, 0보다 작은 음수는 거래 취소(환불)  amount의 단위는 KRW가 아닙니다."
      ],
      "execution_count": 5,
      "outputs": []
    },
    {
      "cell_type": "code",
      "metadata": {
        "colab": {
          "base_uri": "https://localhost:8080/"
        },
        "id": "eK8nOkEeL0Bo",
        "outputId": "fe7b7124-0f2f-4773-a5e7-96e0a2e3fd78"
      },
      "source": [
        "df['amount'].mean() #평균"
      ],
      "execution_count": 6,
      "outputs": [
        {
          "output_type": "execute_result",
          "data": {
            "text/plain": [
              "145.96230428488676"
            ]
          },
          "metadata": {},
          "execution_count": 6
        }
      ]
    },
    {
      "cell_type": "code",
      "metadata": {
        "colab": {
          "base_uri": "https://localhost:8080/"
        },
        "id": "xS6BTlgeL3PY",
        "outputId": "a457d0f7-8b41-45f6-e6e7-779255b0fc05"
      },
      "source": [
        "df['amount'].median() #중간값"
      ],
      "execution_count": 7,
      "outputs": [
        {
          "output_type": "execute_result",
          "data": {
            "text/plain": [
              "75.0"
            ]
          },
          "metadata": {},
          "execution_count": 7
        }
      ]
    },
    {
      "cell_type": "code",
      "metadata": {
        "colab": {
          "base_uri": "https://localhost:8080/"
        },
        "id": "af4rzz3iL7s2",
        "outputId": "58a8e4a0-1393-4fe1-be59-19bed9a9b9da"
      },
      "source": [
        "from scipy import stats #절사 평균\n",
        "\n",
        "stats.trim_mean(df['amount'],0.1) # trim_mean에서 0.1은 각 끝에서 10%를 제외"
      ],
      "execution_count": 8,
      "outputs": [
        {
          "output_type": "execute_result",
          "data": {
            "text/plain": [
              "92.44563975380616"
            ]
          },
          "metadata": {},
          "execution_count": 8
        }
      ]
    },
    {
      "cell_type": "code",
      "metadata": {
        "colab": {
          "base_uri": "https://localhost:8080/"
        },
        "id": "oj3th4dWMk5h",
        "outputId": "389dc185-272e-4a32-e8dd-6886f79c9662"
      },
      "source": [
        "import numpy as np\n",
        "\n",
        "np.average(df['amount'], weights=df['holyday']) #가중 평균 "
      ],
      "execution_count": 9,
      "outputs": [
        {
          "output_type": "execute_result",
          "data": {
            "text/plain": [
              "134.881488440761"
            ]
          },
          "metadata": {},
          "execution_count": 9
        }
      ]
    },
    {
      "cell_type": "code",
      "metadata": {
        "colab": {
          "base_uri": "https://localhost:8080/"
        },
        "id": "mwh3IQgMNqSp",
        "outputId": "06f417d3-653b-42ba-f284-fccc533c7a76"
      },
      "source": [
        "pip install wquantiles"
      ],
      "execution_count": 10,
      "outputs": [
        {
          "output_type": "stream",
          "name": "stdout",
          "text": [
            "Collecting wquantiles\n",
            "  Downloading wquantiles-0.6-py3-none-any.whl (3.3 kB)\n",
            "Requirement already satisfied: numpy>=1.18 in /usr/local/lib/python3.7/dist-packages (from wquantiles) (1.19.5)\n",
            "Installing collected packages: wquantiles\n",
            "Successfully installed wquantiles-0.6\n"
          ]
        }
      ]
    },
    {
      "cell_type": "code",
      "metadata": {
        "colab": {
          "base_uri": "https://localhost:8080/"
        },
        "id": "jATz44M9N4_a",
        "outputId": "814bd141-e4e9-4193-ae45-9299128f1506"
      },
      "source": [
        "import weighted\n",
        "\n",
        "weighted.median(df['amount'], weights=df['holyday']) #가중 중간값 "
      ],
      "execution_count": 11,
      "outputs": [
        {
          "output_type": "execute_result",
          "data": {
            "text/plain": [
              "80.0"
            ]
          },
          "metadata": {},
          "execution_count": 11
        }
      ]
    },
    {
      "cell_type": "code",
      "metadata": {
        "colab": {
          "base_uri": "https://localhost:8080/"
        },
        "id": "donOCXbtOQQz",
        "outputId": "156670e6-df19-4921-d288-463542d266b8"
      },
      "source": [
        "df['amount'].std() #표준편차 "
      ],
      "execution_count": 12,
      "outputs": [
        {
          "output_type": "execute_result",
          "data": {
            "text/plain": [
              "601.730590208499"
            ]
          },
          "metadata": {},
          "execution_count": 12
        }
      ]
    },
    {
      "cell_type": "code",
      "metadata": {
        "colab": {
          "base_uri": "https://localhost:8080/"
        },
        "id": "wzGIxq1eUSzK",
        "outputId": "b24dee03-c16b-4e1b-eeaa-5f6ca3429d78"
      },
      "source": [
        "df['amount'].quantile(0.75) - df['amount'].quantile(0.25) #IQR"
      ],
      "execution_count": 13,
      "outputs": [
        {
          "output_type": "execute_result",
          "data": {
            "text/plain": [
              "118.0"
            ]
          },
          "metadata": {},
          "execution_count": 13
        }
      ]
    },
    {
      "cell_type": "code",
      "metadata": {
        "colab": {
          "base_uri": "https://localhost:8080/"
        },
        "id": "uXv_0rZPUdZd",
        "outputId": "9d2ae18d-d2b5-4f35-f68a-9380898a09ab"
      },
      "source": [
        "from statsmodels import robust\n",
        "robust.mad(df['amount']) #중위절대편차 mad"
      ],
      "execution_count": 14,
      "outputs": [
        {
          "output_type": "stream",
          "name": "stderr",
          "text": [
            "/usr/local/lib/python3.7/dist-packages/statsmodels/tools/_testing.py:19: FutureWarning: pandas.util.testing is deprecated. Use the functions in the public API at pandas.testing instead.\n",
            "  import pandas.util.testing as tm\n"
          ]
        },
        {
          "output_type": "execute_result",
          "data": {
            "text/plain": [
              "74.13011092528009"
            ]
          },
          "metadata": {},
          "execution_count": 14
        }
      ]
    },
    {
      "cell_type": "code",
      "metadata": {
        "colab": {
          "base_uri": "https://localhost:8080/"
        },
        "id": "yj6WT2ZAKu9I",
        "outputId": "c6049865-3794-44b6-9b7f-b9e8144a2622"
      },
      "source": [
        "df['amount'].quantile([0.05, 0.25, 0.5, 0.75, 0.95]) #amount (매출액) 백분위수 표기"
      ],
      "execution_count": 15,
      "outputs": [
        {
          "output_type": "execute_result",
          "data": {
            "text/plain": [
              "0.05     10.0\n",
              "0.25     32.0\n",
              "0.50     75.0\n",
              "0.75    150.0\n",
              "0.95    437.0\n",
              "Name: amount, dtype: float64"
            ]
          },
          "metadata": {},
          "execution_count": 15
        }
      ]
    },
    {
      "cell_type": "markdown",
      "metadata": {
        "id": "WFx4XqGNaqvg"
      },
      "source": [
        "박스 플롯 "
      ]
    },
    {
      "cell_type": "code",
      "metadata": {
        "colab": {
          "base_uri": "https://localhost:8080/",
          "height": 283
        },
        "id": "Cd94Xu3GLAkD",
        "outputId": "46120746-4232-4d8d-9916-a63ff4cc3499"
      },
      "source": [
        "ax = (df['amount']).plot.box()\n",
        "\n",
        "ax.set_ylabel('amount') #이상치값이 너무 커서 박스플롯이 그려지지 않는경우가 존재한다."
      ],
      "execution_count": 16,
      "outputs": [
        {
          "output_type": "execute_result",
          "data": {
            "text/plain": [
              "Text(0, 0.5, 'amount')"
            ]
          },
          "metadata": {},
          "execution_count": 16
        },
        {
          "output_type": "display_data",
          "data": {
            "image/png": "[encoded data removed]",
            "text/plain": [
              "<Figure size 432x288 with 1 Axes>"
            ]
          },
          "metadata": {
            "needs_background": "light"
          }
        }
      ]
    },
    {
      "cell_type": "code",
      "metadata": {
        "colab": {
          "base_uri": "https://localhost:8080/",
          "height": 284
        },
        "id": "VJiEF1ZtN75z",
        "outputId": "3f08a152-178b-4044-f419-e2d51d1f9058"
      },
      "source": [
        "ax = (df['days_of_week']).plot.box()\n",
        "\n",
        "ax.set_ylabel('days_of_week') #요일, 월요일이 0, 일요일은 6"
      ],
      "execution_count": 17,
      "outputs": [
        {
          "output_type": "execute_result",
          "data": {
            "text/plain": [
              "Text(0, 0.5, 'days_of_week')"
            ]
          },
          "metadata": {},
          "execution_count": 17
        },
        {
          "output_type": "display_data",
          "data": {
            "image/png": "[encoded data removed]",
            "text/plain": [
              "<Figure size 432x288 with 1 Axes>"
            ]
          },
          "metadata": {
            "needs_background": "light"
          }
        }
      ]
    },
    {
      "cell_type": "code",
      "metadata": {
        "colab": {
          "base_uri": "https://localhost:8080/"
        },
        "id": "R4of0TgjNQNX",
        "outputId": "ef52be82-12bb-43cd-def0-fa7cc90f8ef7"
      },
      "source": [
        "import numpy as np\n",
        "\n",
        "df_amount = np.log1p(df['amount']) #스케일 변환 (로그 대입) , 하지만 스케일링에 따라 다른 방법이 차용될 수있음."
      ],
      "execution_count": 18,
      "outputs": [
        {
          "output_type": "stream",
          "name": "stderr",
          "text": [
            "/usr/local/lib/python3.7/dist-packages/pandas/core/series.py:726: RuntimeWarning: divide by zero encountered in log1p\n",
            "  result = getattr(ufunc, method)(*inputs, **kwargs)\n",
            "/usr/local/lib/python3.7/dist-packages/pandas/core/series.py:726: RuntimeWarning: invalid value encountered in log1p\n",
            "  result = getattr(ufunc, method)(*inputs, **kwargs)\n"
          ]
        }
      ]
    },
    {
      "cell_type": "code",
      "metadata": {
        "colab": {
          "base_uri": "https://localhost:8080/",
          "height": 265
        },
        "id": "NHI5-ExzP7Fo",
        "outputId": "6203cea4-0dcd-4d09-8d60-79b4ff701930"
      },
      "source": [
        "ax = (df_amount).plot.box()"
      ],
      "execution_count": 19,
      "outputs": [
        {
          "output_type": "display_data",
          "data": {
            "image/png": "[encoded data removed]",
            "text/plain": [
              "<Figure size 432x288 with 1 Axes>"
            ]
          },
          "metadata": {
            "needs_background": "light"
          }
        }
      ]
    },
    {
      "cell_type": "code",
      "metadata": {
        "colab": {
          "base_uri": "https://localhost:8080/",
          "height": 265
        },
        "id": "QClBJuQYM3UG",
        "outputId": "d85caec6-5188-4a45-99db-b781372660c8"
      },
      "source": [
        "import seaborn as sns\n",
        "import matplotlib.pyplot as plt\n",
        "sns.boxplot(data = df_amount)\n",
        "\n",
        "plt.show() #스케일 변환후 박스플롯 시각화 (seaborn 적용용)"
      ],
      "execution_count": 20,
      "outputs": [
        {
          "output_type": "display_data",
          "data": {
            "image/png": "[encoded data removed]",
            "text/plain": [
              "<Figure size 432x288 with 1 Axes>"
            ]
          },
          "metadata": {
            "needs_background": "light"
          }
        }
      ]
    },
    {
      "cell_type": "markdown",
      "metadata": {
        "id": "Ha3r3WNbamCm"
      },
      "source": [
        "히스토그램"
      ]
    },
    {
      "cell_type": "code",
      "metadata": {
        "colab": {
          "base_uri": "https://localhost:8080/"
        },
        "id": "UMYhQ0wCSfGq",
        "outputId": "567c4c7b-39c1-4de3-bb98-5e1f707992c5"
      },
      "source": [
        "df['installments'].value_counts()"
      ],
      "execution_count": 21,
      "outputs": [
        {
          "output_type": "execute_result",
          "data": {
            "text/plain": [
              "0.0     3345936\n",
              "3.0       10686\n",
              "2.0        3431\n",
              "5.0        1220\n",
              "6.0         647\n",
              "10.0        252\n",
              "4.0         209\n",
              "12.0        206\n",
              "24.0         96\n",
              "8.0          32\n",
              "7.0          28\n",
              "9.0          25\n",
              "18.0         11\n",
              "20.0          6\n",
              "36.0          5\n",
              "22.0          4\n",
              "15.0          2\n",
              "Name: installments, dtype: int64"
            ]
          },
          "metadata": {},
          "execution_count": 21
        }
      ]
    },
    {
      "cell_type": "code",
      "metadata": {
        "colab": {
          "base_uri": "https://localhost:8080/"
        },
        "id": "1jZbOdg7Ovgy",
        "outputId": "72f29f62-f6bd-4672-ab33-2ef48a6e281b"
      },
      "source": [
        "binnedday = pd.cut(df['installments'],36)\n",
        "\n",
        "binnedday.value_counts() #할부 개월수 빈도  이상과 미만 앞에 수치를 기준으로 해석 (구간화가 되었기때문에 표기가 범위로 해석)"
      ],
      "execution_count": 22,
      "outputs": [
        {
          "output_type": "execute_result",
          "data": {
            "text/plain": [
              "(-0.036, 1.0]    3345936\n",
              "(2.0, 3.0]         10686\n",
              "(1.0, 2.0]          3431\n",
              "(4.0, 5.0]          1220\n",
              "(5.0, 6.0]           647\n",
              "(9.0, 10.0]          252\n",
              "(3.0, 4.0]           209\n",
              "(11.0, 12.0]         206\n",
              "(23.0, 24.0]          96\n",
              "(7.0, 8.0]            32\n",
              "(6.0, 7.0]            28\n",
              "(8.0, 9.0]            25\n",
              "(17.0, 18.0]          11\n",
              "(19.0, 20.0]           6\n",
              "(35.0, 36.0]           5\n",
              "(21.0, 22.0]           4\n",
              "(14.0, 15.0]           2\n",
              "(25.0, 26.0]           0\n",
              "(33.0, 34.0]           0\n",
              "(32.0, 33.0]           0\n",
              "(31.0, 32.0]           0\n",
              "(30.0, 31.0]           0\n",
              "(29.0, 30.0]           0\n",
              "(28.0, 29.0]           0\n",
              "(27.0, 28.0]           0\n",
              "(26.0, 27.0]           0\n",
              "(22.0, 23.0]           0\n",
              "(10.0, 11.0]           0\n",
              "(12.0, 13.0]           0\n",
              "(13.0, 14.0]           0\n",
              "(15.0, 16.0]           0\n",
              "(16.0, 17.0]           0\n",
              "(34.0, 35.0]           0\n",
              "(18.0, 19.0]           0\n",
              "(20.0, 21.0]           0\n",
              "(24.0, 25.0]           0\n",
              "Name: installments, dtype: int64"
            ]
          },
          "metadata": {},
          "execution_count": 22
        }
      ]
    },
    {
      "cell_type": "code",
      "metadata": {
        "colab": {
          "base_uri": "https://localhost:8080/",
          "height": 423
        },
        "id": "932qF5NpVoda",
        "outputId": "56ea65c6-f9b4-4992-9f8a-62d611991076"
      },
      "source": [
        "df_ins = pd.read_csv('/content/drive/MyDrive/Data/202111 CreditCard_Data/train.csv')\n",
        "\n",
        "df_ins"
      ],
      "execution_count": 23,
      "outputs": [
        {
          "output_type": "execute_result",
          "data": {
            "text/html": [
              "<div>\n",
              "<style scoped>\n",
              "    .dataframe tbody tr th:only-of-type {\n",
              "        vertical-align: middle;\n",
              "    }\n",
              "\n",
              "    .dataframe tbody tr th {\n",
              "        vertical-align: top;\n",
              "    }\n",
              "\n",
              "    .dataframe thead th {\n",
              "        text-align: right;\n",
              "    }\n",
              "</style>\n",
              "<table border=\"1\" class=\"dataframe\">\n",
              "  <thead>\n",
              "    <tr style=\"text-align: right;\">\n",
              "      <th></th>\n",
              "      <th>store_id</th>\n",
              "      <th>date</th>\n",
              "      <th>time</th>\n",
              "      <th>card_id</th>\n",
              "      <th>amount</th>\n",
              "      <th>installments</th>\n",
              "      <th>days_of_week</th>\n",
              "      <th>holyday</th>\n",
              "    </tr>\n",
              "  </thead>\n",
              "  <tbody>\n",
              "    <tr>\n",
              "      <th>0</th>\n",
              "      <td>0</td>\n",
              "      <td>2016-12-14</td>\n",
              "      <td>18:05:31</td>\n",
              "      <td>d297bba73f</td>\n",
              "      <td>5</td>\n",
              "      <td>NaN</td>\n",
              "      <td>2</td>\n",
              "      <td>0</td>\n",
              "    </tr>\n",
              "    <tr>\n",
              "      <th>1</th>\n",
              "      <td>0</td>\n",
              "      <td>2016-12-14</td>\n",
              "      <td>18:05:54</td>\n",
              "      <td>d297bba73f</td>\n",
              "      <td>-5</td>\n",
              "      <td>NaN</td>\n",
              "      <td>2</td>\n",
              "      <td>0</td>\n",
              "    </tr>\n",
              "    <tr>\n",
              "      <th>2</th>\n",
              "      <td>0</td>\n",
              "      <td>2016-12-19</td>\n",
              "      <td>12:42:31</td>\n",
              "      <td>0880849c05</td>\n",
              "      <td>144</td>\n",
              "      <td>NaN</td>\n",
              "      <td>0</td>\n",
              "      <td>0</td>\n",
              "    </tr>\n",
              "    <tr>\n",
              "      <th>3</th>\n",
              "      <td>0</td>\n",
              "      <td>2016-12-19</td>\n",
              "      <td>12:48:08</td>\n",
              "      <td>8b4f9e0e95</td>\n",
              "      <td>66</td>\n",
              "      <td>NaN</td>\n",
              "      <td>0</td>\n",
              "      <td>0</td>\n",
              "    </tr>\n",
              "    <tr>\n",
              "      <th>4</th>\n",
              "      <td>0</td>\n",
              "      <td>2016-12-19</td>\n",
              "      <td>13:31:08</td>\n",
              "      <td>7ad237eed0</td>\n",
              "      <td>24</td>\n",
              "      <td>NaN</td>\n",
              "      <td>0</td>\n",
              "      <td>0</td>\n",
              "    </tr>\n",
              "    <tr>\n",
              "      <th>...</th>\n",
              "      <td>...</td>\n",
              "      <td>...</td>\n",
              "      <td>...</td>\n",
              "      <td>...</td>\n",
              "      <td>...</td>\n",
              "      <td>...</td>\n",
              "      <td>...</td>\n",
              "      <td>...</td>\n",
              "    </tr>\n",
              "    <tr>\n",
              "      <th>3362791</th>\n",
              "      <td>1799</td>\n",
              "      <td>2018-07-19</td>\n",
              "      <td>17:58:31</td>\n",
              "      <td>e254bf70d9</td>\n",
              "      <td>600</td>\n",
              "      <td>NaN</td>\n",
              "      <td>3</td>\n",
              "      <td>0</td>\n",
              "    </tr>\n",
              "    <tr>\n",
              "      <th>3362792</th>\n",
              "      <td>1799</td>\n",
              "      <td>2018-07-19</td>\n",
              "      <td>18:54:34</td>\n",
              "      <td>8f41c89891</td>\n",
              "      <td>275</td>\n",
              "      <td>NaN</td>\n",
              "      <td>3</td>\n",
              "      <td>0</td>\n",
              "    </tr>\n",
              "    <tr>\n",
              "      <th>3362793</th>\n",
              "      <td>1799</td>\n",
              "      <td>2018-07-22</td>\n",
              "      <td>14:46:57</td>\n",
              "      <td>aeb64fe1fb</td>\n",
              "      <td>350</td>\n",
              "      <td>NaN</td>\n",
              "      <td>6</td>\n",
              "      <td>0</td>\n",
              "    </tr>\n",
              "    <tr>\n",
              "      <th>3362794</th>\n",
              "      <td>1799</td>\n",
              "      <td>2018-07-25</td>\n",
              "      <td>18:09:13</td>\n",
              "      <td>57932602d6</td>\n",
              "      <td>300</td>\n",
              "      <td>NaN</td>\n",
              "      <td>2</td>\n",
              "      <td>0</td>\n",
              "    </tr>\n",
              "    <tr>\n",
              "      <th>3362795</th>\n",
              "      <td>1799</td>\n",
              "      <td>2018-07-30</td>\n",
              "      <td>10:58:53</td>\n",
              "      <td>42d354807a</td>\n",
              "      <td>325</td>\n",
              "      <td>NaN</td>\n",
              "      <td>0</td>\n",
              "      <td>0</td>\n",
              "    </tr>\n",
              "  </tbody>\n",
              "</table>\n",
              "<p>3362796 rows × 8 columns</p>\n",
              "</div>"
            ],
            "text/plain": [
              "         store_id        date      time  ... installments  days_of_week  holyday\n",
              "0               0  2016-12-14  18:05:31  ...          NaN             2        0\n",
              "1               0  2016-12-14  18:05:54  ...          NaN             2        0\n",
              "2               0  2016-12-19  12:42:31  ...          NaN             0        0\n",
              "3               0  2016-12-19  12:48:08  ...          NaN             0        0\n",
              "4               0  2016-12-19  13:31:08  ...          NaN             0        0\n",
              "...           ...         ...       ...  ...          ...           ...      ...\n",
              "3362791      1799  2018-07-19  17:58:31  ...          NaN             3        0\n",
              "3362792      1799  2018-07-19  18:54:34  ...          NaN             3        0\n",
              "3362793      1799  2018-07-22  14:46:57  ...          NaN             6        0\n",
              "3362794      1799  2018-07-25  18:09:13  ...          NaN             2        0\n",
              "3362795      1799  2018-07-30  10:58:53  ...          NaN             0        0\n",
              "\n",
              "[3362796 rows x 8 columns]"
            ]
          },
          "metadata": {},
          "execution_count": 23
        }
      ]
    },
    {
      "cell_type": "code",
      "metadata": {
        "colab": {
          "base_uri": "https://localhost:8080/"
        },
        "id": "jGrLmhzYVvmC",
        "outputId": "b590cf83-691d-452e-f068-3bce1f5dfc72"
      },
      "source": [
        "df_ins = df_ins['installments'].dropna() #할부 안한개월수 제거거\n",
        "\n",
        "df_ins"
      ],
      "execution_count": 24,
      "outputs": [
        {
          "output_type": "execute_result",
          "data": {
            "text/plain": [
              "152        3.0\n",
              "155        3.0\n",
              "206        2.0\n",
              "311        3.0\n",
              "651        3.0\n",
              "          ... \n",
              "3362429    3.0\n",
              "3362486    3.0\n",
              "3362514    2.0\n",
              "3362701    3.0\n",
              "3362740    2.0\n",
              "Name: installments, Length: 16860, dtype: float64"
            ]
          },
          "metadata": {},
          "execution_count": 24
        }
      ]
    },
    {
      "cell_type": "code",
      "metadata": {
        "colab": {
          "base_uri": "https://localhost:8080/"
        },
        "id": "s2c_vOmyYz5S",
        "outputId": "e75f693d-a3f7-4ab5-9185-b5603893cc08"
      },
      "source": [
        "df_ins.value_counts()"
      ],
      "execution_count": 25,
      "outputs": [
        {
          "output_type": "execute_result",
          "data": {
            "text/plain": [
              "3.0     10686\n",
              "2.0      3431\n",
              "5.0      1220\n",
              "6.0       647\n",
              "10.0      252\n",
              "4.0       209\n",
              "12.0      206\n",
              "24.0       96\n",
              "8.0        32\n",
              "7.0        28\n",
              "9.0        25\n",
              "18.0       11\n",
              "20.0        6\n",
              "36.0        5\n",
              "22.0        4\n",
              "15.0        2\n",
              "Name: installments, dtype: int64"
            ]
          },
          "metadata": {},
          "execution_count": 25
        }
      ]
    },
    {
      "cell_type": "code",
      "metadata": {
        "colab": {
          "base_uri": "https://localhost:8080/",
          "height": 297
        },
        "id": "2P2PSEylZW7f",
        "outputId": "3ba9c78a-0553-4b04-c7cc-7a0f094d0603"
      },
      "source": [
        "ax = (df_ins).plot.hist(figsize = (4,4))\n",
        "\n",
        "ax.set_xlabel('installments')"
      ],
      "execution_count": 26,
      "outputs": [
        {
          "output_type": "execute_result",
          "data": {
            "text/plain": [
              "Text(0.5, 0, 'installments')"
            ]
          },
          "metadata": {},
          "execution_count": 26
        },
        {
          "output_type": "display_data",
          "data": {
            "image/png": "[encoded data removed]",
            "text/plain": [
              "<Figure size 288x288 with 1 Axes>"
            ]
          },
          "metadata": {
            "needs_background": "light"
          }
        }
      ]
    },
    {
      "cell_type": "code",
      "metadata": {
        "colab": {
          "base_uri": "https://localhost:8080/",
          "height": 298
        },
        "id": "qC2avA1NQiuK",
        "outputId": "cab2ea84-e4ba-435e-d760-5caea384b53d"
      },
      "source": [
        "ax = (df['days_of_week']).plot.hist(figsize = (4,4))\n",
        "\n",
        "ax.set_xlabel('days_of_week')"
      ],
      "execution_count": 27,
      "outputs": [
        {
          "output_type": "execute_result",
          "data": {
            "text/plain": [
              "Text(0.5, 0, 'days_of_week')"
            ]
          },
          "metadata": {},
          "execution_count": 27
        },
        {
          "output_type": "display_data",
          "data": {
            "image/png": "[encoded data removed]",
            "text/plain": [
              "<Figure size 288x288 with 1 Axes>"
            ]
          },
          "metadata": {
            "needs_background": "light"
          }
        }
      ]
    },
    {
      "cell_type": "markdown",
      "metadata": {
        "id": "yCkF1PG1bd2I"
      },
      "source": [
        "커널밀도추정 "
      ]
    },
    {
      "cell_type": "code",
      "metadata": {
        "colab": {
          "base_uri": "https://localhost:8080/",
          "height": 297
        },
        "id": "NkbRR_13RE3_",
        "outputId": "fc85f93d-26e3-435f-9a9e-6261b5eb5077"
      },
      "source": [
        "ax = df_ins.plot.hist(density = True, xlim=[0,36], bins=range(1,12))\n",
        "df_ins.plot.density(ax=ax)\n",
        "\n",
        "ax.set_xlabel('installments')"
      ],
      "execution_count": 28,
      "outputs": [
        {
          "output_type": "execute_result",
          "data": {
            "text/plain": [
              "Text(0.5, 0, 'installments')"
            ]
          },
          "metadata": {},
          "execution_count": 28
        },
        {
          "output_type": "display_data",
          "data": {
            "image/png": "[encoded data removed]",
            "text/plain": [
              "<Figure size 432x288 with 1 Axes>"
            ]
          },
          "metadata": {
            "needs_background": "light"
          }
        }
      ]
    },
    {
      "cell_type": "code",
      "metadata": {
        "id": "DHSQVfmZdP2-",
        "colab": {
          "base_uri": "https://localhost:8080/",
          "height": 295
        },
        "outputId": "e8ed9d17-b583-4acb-a389-943bede84451"
      },
      "source": [
        "ax = df['amount'].head(10).transpose().plot.bar(figsize=(4,4), legend=False)\n",
        "\n",
        "ax.set_xlabel('store_index')\n",
        "ax.set_ylabel('amount')\n",
        "plt.legend()"
      ],
      "execution_count": 29,
      "outputs": [
        {
          "output_type": "execute_result",
          "data": {
            "text/plain": [
              "<matplotlib.legend.Legend at 0x7f9b4a1fd0d0>"
            ]
          },
          "metadata": {},
          "execution_count": 29
        },
        {
          "output_type": "display_data",
          "data": {
            "image/png": "[encoded data removed]",
            "text/plain": [
              "<Figure size 288x288 with 1 Axes>"
            ]
          },
          "metadata": {
            "needs_background": "light"
          }
        }
      ]
    },
    {
      "cell_type": "markdown",
      "metadata": {
        "id": "UUxUALEzEJpX"
      },
      "source": [
        "상관관계"
      ]
    },
    {
      "cell_type": "code",
      "metadata": {
        "colab": {
          "base_uri": "https://localhost:8080/",
          "height": 206
        },
        "id": "LEONZvqkDzAZ",
        "outputId": "d9113068-9896-42c8-a0d0-441d30d9ac6c"
      },
      "source": [
        "df.corr(method = 'pearson' or 'spearman' or 'kendall')"
      ],
      "execution_count": 30,
      "outputs": [
        {
          "output_type": "execute_result",
          "data": {
            "text/html": [
              "<div>\n",
              "<style scoped>\n",
              "    .dataframe tbody tr th:only-of-type {\n",
              "        vertical-align: middle;\n",
              "    }\n",
              "\n",
              "    .dataframe tbody tr th {\n",
              "        vertical-align: top;\n",
              "    }\n",
              "\n",
              "    .dataframe thead th {\n",
              "        text-align: right;\n",
              "    }\n",
              "</style>\n",
              "<table border=\"1\" class=\"dataframe\">\n",
              "  <thead>\n",
              "    <tr style=\"text-align: right;\">\n",
              "      <th></th>\n",
              "      <th>store_id</th>\n",
              "      <th>amount</th>\n",
              "      <th>installments</th>\n",
              "      <th>days_of_week</th>\n",
              "      <th>holyday</th>\n",
              "    </tr>\n",
              "  </thead>\n",
              "  <tbody>\n",
              "    <tr>\n",
              "      <th>store_id</th>\n",
              "      <td>1.000000</td>\n",
              "      <td>0.017302</td>\n",
              "      <td>0.004979</td>\n",
              "      <td>0.008063</td>\n",
              "      <td>0.004428</td>\n",
              "    </tr>\n",
              "    <tr>\n",
              "      <th>amount</th>\n",
              "      <td>0.017302</td>\n",
              "      <td>1.000000</td>\n",
              "      <td>0.189700</td>\n",
              "      <td>-0.004116</td>\n",
              "      <td>-0.003965</td>\n",
              "    </tr>\n",
              "    <tr>\n",
              "      <th>installments</th>\n",
              "      <td>0.004979</td>\n",
              "      <td>0.189700</td>\n",
              "      <td>1.000000</td>\n",
              "      <td>-0.005068</td>\n",
              "      <td>-0.001157</td>\n",
              "    </tr>\n",
              "    <tr>\n",
              "      <th>days_of_week</th>\n",
              "      <td>0.008063</td>\n",
              "      <td>-0.004116</td>\n",
              "      <td>-0.005068</td>\n",
              "      <td>1.000000</td>\n",
              "      <td>-0.097881</td>\n",
              "    </tr>\n",
              "    <tr>\n",
              "      <th>holyday</th>\n",
              "      <td>0.004428</td>\n",
              "      <td>-0.003965</td>\n",
              "      <td>-0.001157</td>\n",
              "      <td>-0.097881</td>\n",
              "      <td>1.000000</td>\n",
              "    </tr>\n",
              "  </tbody>\n",
              "</table>\n",
              "</div>"
            ],
            "text/plain": [
              "              store_id    amount  installments  days_of_week   holyday\n",
              "store_id      1.000000  0.017302      0.004979      0.008063  0.004428\n",
              "amount        0.017302  1.000000      0.189700     -0.004116 -0.003965\n",
              "installments  0.004979  0.189700      1.000000     -0.005068 -0.001157\n",
              "days_of_week  0.008063 -0.004116     -0.005068      1.000000 -0.097881\n",
              "holyday       0.004428 -0.003965     -0.001157     -0.097881  1.000000"
            ]
          },
          "metadata": {},
          "execution_count": 30
        }
      ]
    },
    {
      "cell_type": "code",
      "metadata": {
        "colab": {
          "base_uri": "https://localhost:8080/",
          "height": 903
        },
        "id": "hh8EKwYYEK43",
        "outputId": "b312c887-3376-43f7-e34a-4b666a657c2e"
      },
      "source": [
        "# 산점 행렬도 (SPM : Scatter Plot Matrix)\n",
        "sns.pairplot(df)\n",
        "plt.show()"
      ],
      "execution_count": 32,
      "outputs": [
        {
          "output_type": "display_data",
          "data": {
            "image/png": "[encoded data removed]",
            "text/plain": [
              "<Figure size 900x900 with 30 Axes>"
            ]
          },
          "metadata": {
            "needs_background": "light"
          }
        }
      ]
    },
    {
      "cell_type": "code",
      "metadata": {
        "colab": {
          "base_uri": "https://localhost:8080/",
          "height": 335
        },
        "id": "x2ZLpeCWHkS_",
        "outputId": "2986248f-ef03-4895-fc2b-08fd14e09289"
      },
      "source": [
        "ax = df.plot.hexbin(x = 'store_id', y = 'installments',\n",
        "                    gridsize=20, sharex=False, figsize=(6,5))"
      ],
      "execution_count": 48,
      "outputs": [
        {
          "output_type": "display_data",
          "data": {
            "image/png": "[encoded data removed]",
            "text/plain": [
              "<Figure size 432x360 with 2 Axes>"
            ]
          },
          "metadata": {
            "needs_background": "light"
          }
        }
      ]
    },
    {
      "cell_type": "code",
      "metadata": {
        "id": "8FqHWcQ8UfuP"
      },
      "source": [
        ""
      ],
      "execution_count": null,
      "outputs": []
    }
  ]
}