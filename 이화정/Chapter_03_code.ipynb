{
 "cells": [
  {
   "cell_type": "code",
   "execution_count": 28,
   "metadata": {},
   "outputs": [],
   "source": [
    "import random\n",
    "import pandas as pd\n",
    "import numpy as np\n",
    "import matplotlib.pylab as plt"
   ]
  },
  {
   "cell_type": "code",
   "execution_count": 7,
   "metadata": {},
   "outputs": [],
   "source": [
    "session_times = pd.read_csv('data/web_page_data.csv')"
   ]
  },
  {
   "cell_type": "markdown",
   "metadata": {},
   "source": [
    "### 재표본추출 - 순열검정"
   ]
  },
  {
   "cell_type": "code",
   "execution_count": 6,
   "metadata": {},
   "outputs": [
    {
     "data": {
      "image/png": "[encoded data removed]",
      "text/plain": [
       "<Figure size 432x288 with 1 Axes>"
      ]
     },
     "metadata": {
      "needs_background": "light"
     },
     "output_type": "display_data"
    }
   ],
   "source": [
    "ax = session_times.boxplot(by='Page', column='Time')\n",
    "ax.set_xlabel('')\n",
    "ax.set_ylabel('Time (in seconds)')\n",
    "plt.suptitle('')\n",
    "plt.show()"
   ]
  },
  {
   "cell_type": "markdown",
   "metadata": {},
   "source": [
    "페이지 b가 방문객들을 더 오래 붙잡는 것으로 보인다."
   ]
  },
  {
   "cell_type": "code",
   "execution_count": 8,
   "metadata": {},
   "outputs": [
    {
     "name": "stdout",
     "output_type": "stream",
     "text": [
      "0.35666666666666713\n"
     ]
    }
   ],
   "source": [
    "# 각 페이지별 시간에 대한 평균을 비교한 것이다. b페이지가 a와 비교했을때, 세션시간이 더 길다. \n",
    "mean_a = session_times[session_times.Page == 'Page A'].Time.mean()\n",
    "mean_b = session_times[session_times.Page == 'Page B'].Time.mean()\n",
    "print(mean_b - mean_a)"
   ]
  },
  {
   "cell_type": "markdown",
   "metadata": {},
   "source": [
    "위에서 나온 차이가 실제적으로 우연인지, 아님 통계적으로 중요한것인지 판단하기 위해 순열검정을 적용한다."
   ]
  },
  {
   "cell_type": "code",
   "execution_count": 11,
   "metadata": {},
   "outputs": [
    {
     "name": "stdout",
     "output_type": "stream",
     "text": [
      "-0.010190476190476527\n"
     ]
    }
   ],
   "source": [
    "# 페이지 a와 페이지b를 랜덤하게 할당한다.\n",
    "# perm_fun 함수는 비복원추출방식으로 nB개의 표본을 추출하고 그룹 Bdp 에 할당한다 그리고 나머지 nA개는 그룹 A에 할당한다.\n",
    "# 이때 두평균의 차이를 결과로 반환한다. \n",
    "\n",
    "def perm_fun(x, nA, nB):\n",
    "    n = nA + nB\n",
    "    idx_B = set(random.sample(range(n),nB))\n",
    "    idx_A = set(range(n)) - idx_B\n",
    "    return x.loc[idx_B].mean() - x.loc[idx_A].mean()\n",
    "    \n",
    "nA = session_times[session_times.Page == 'Page A'].shape[0]\n",
    "nB = session_times[session_times.Page == 'Page B'].shape[0]\n",
    "print(perm_fun(session_times.Time, nA, nB))"
   ]
  },
  {
   "cell_type": "code",
   "execution_count": 25,
   "metadata": {},
   "outputs": [
    {
     "data": {
      "image/png": "[encoded data removed]",
      "text/plain": [
       "<Figure size 576x360 with 1 Axes>"
      ]
     },
     "metadata": {
      "needs_background": "light"
     },
     "output_type": "display_data"
    }
   ],
   "source": [
    "# 위에서 구한 코드를 바탕으로 1000번 반복. \n",
    "# 실제 관찰된 세션시간의 차이가 가끔 수직선을 넘어가는 것을 확인 된다.\n",
    "\n",
    "random.seed(1)\n",
    "perm_diffs = [perm_fun(session_times.Time, nA, nB) for _ in range(1000)]\n",
    "\n",
    "fig, ax = plt.subplots(figsize=(8, 5))\n",
    "ax.hist(perm_diffs, bins=11, rwidth=0.9, color = 'lightcoral')\n",
    "ax.axvline(x = mean_b - mean_a, color='black', lw=2) # 실제 관찰된 세션 시간의 차이 0.356\n",
    "ax.set_xlabel('Session time differences (in seconds)')\n",
    "ax.set_ylabel('Frequency')\n",
    "\n",
    "plt.tight_layout()\n",
    "plt.show()"
   ]
  },
  {
   "cell_type": "code",
   "execution_count": 47,
   "metadata": {},
   "outputs": [
    {
     "name": "stdout",
     "output_type": "stream",
     "text": [
      "실제 값보다  12.1 % 더 넘었다.\n"
     ]
    }
   ],
   "source": [
    "temp = [ 1 if p > (mean_b - mean_a) else 0 for p in perm_diffs]\n",
    "print('실제 값보다 ', (sum(temp) / 1000) * 100 ,'% 더 넘었다.')"
   ]
  },
  {
   "cell_type": "markdown",
   "metadata": {},
   "source": [
    "이는 페이지 A와 페이지 B사이의 세션 시간의 차이가 확률 분포의 범위 내에 있음을 의미하고 따라서 차이는 통계적으로 유의하지 않다. "
   ]
  },
  {
   "cell_type": "markdown",
   "metadata": {},
   "source": [
    "### p값"
   ]
  },
  {
   "cell_type": "code",
   "execution_count": 53,
   "metadata": {},
   "outputs": [
    {
     "data": {
      "text/html": [
       "<div>\n",
       "<style scoped>\n",
       "    .dataframe tbody tr th:only-of-type {\n",
       "        vertical-align: middle;\n",
       "    }\n",
       "\n",
       "    .dataframe tbody tr th {\n",
       "        vertical-align: top;\n",
       "    }\n",
       "\n",
       "    .dataframe thead th {\n",
       "        text-align: right;\n",
       "    }\n",
       "</style>\n",
       "<table border=\"1\" class=\"dataframe\">\n",
       "  <thead>\n",
       "    <tr style=\"text-align: right;\">\n",
       "      <th></th>\n",
       "      <th>가격 A</th>\n",
       "      <th>가격  B</th>\n",
       "    </tr>\n",
       "  </thead>\n",
       "  <tbody>\n",
       "    <tr>\n",
       "      <th>전환</th>\n",
       "      <td>200</td>\n",
       "      <td>182</td>\n",
       "    </tr>\n",
       "    <tr>\n",
       "      <th>미전환</th>\n",
       "      <td>23739</td>\n",
       "      <td>22588</td>\n",
       "    </tr>\n",
       "  </tbody>\n",
       "</table>\n",
       "</div>"
      ],
      "text/plain": [
       "      가격 A  가격  B\n",
       "전환     200    182\n",
       "미전환  23739  22588"
      ]
     },
     "execution_count": 53,
     "metadata": {},
     "output_type": "execute_result"
    }
   ],
   "source": [
    "example = pd.DataFrame({'가격 A' :[ 200 , 23739], '가격  B': [182 , 22588] },\n",
    "             index = ['전환', '미전환'])\n",
    "example"
   ]
  },
  {
   "cell_type": "markdown",
   "metadata": {},
   "source": [
    "가격 A는 가격 B보다 0.0368% 더 나은 전환결과를 보여준다. 데이터가 많고 전환의 갯수가 차이가 많이 날때는 유의미 할 수 있지만, 위의 결과처럼 빅데이터일 경우여도 전환율이 너무 낮을 경우 ( 200개밖에 안됨) 우연일지에 대한 고민을 해봐야한다."
   ]
  },
  {
   "cell_type": "code",
   "execution_count": 56,
   "metadata": {
    "scrolled": true
   },
   "outputs": [
    {
     "name": "stdout",
     "output_type": "stream",
     "text": [
      "Observed difference: 0.0368%\n"
     ]
    },
    {
     "data": {
      "image/png": "[encoded data removed]",
      "text/plain": [
       "<Figure size 576x360 with 1 Axes>"
      ]
     },
     "metadata": {
      "needs_background": "light"
     },
     "output_type": "display_data"
    }
   ],
   "source": [
    "# 1. 순열검정\n",
    "\n",
    "random.seed(1)\n",
    "obs_pct_diff = 100 * (200 / 23739 - 182 / 22588)\n",
    "print(f'Observed difference: {obs_pct_diff:.4f}%')\n",
    "conversion = [0] * 45945\n",
    "conversion.extend([1] * 382)\n",
    "conversion = pd.Series(conversion)\n",
    "\n",
    "perm_diffs = [100 * perm_fun(conversion, 23739, 22588) \n",
    "              for _ in range(1000)]\n",
    "\n",
    "fig, ax = plt.subplots(figsize=(8, 5))\n",
    "ax.hist(perm_diffs, bins=11, rwidth=0.9, color = 'lightslategray')\n",
    "ax.axvline(x=obs_pct_diff, color='black', lw=2)\n",
    "ax.text(0.06, 200, 'Observed\\ndifference', bbox={'facecolor':'white'})\n",
    "ax.set_xlabel('Conversion rate (percent)')\n",
    "ax.set_ylabel('Frequency')\n",
    "\n",
    "plt.tight_layout()\n",
    "plt.show()"
   ]
  },
  {
   "cell_type": "markdown",
   "metadata": {},
   "source": [
    "1,000개의 재표본추출 결과를 보여준다. 이 경우 0.0268%의 차이는 랜덤 변이의 범위내에 있다. 따라서 통계적으로 유의하지 않다. "
   ]
  },
  {
   "cell_type": "code",
   "execution_count": 57,
   "metadata": {},
   "outputs": [
    {
     "data": {
      "text/plain": [
       "0.332"
      ]
     },
     "execution_count": 57,
     "metadata": {},
     "output_type": "execute_result"
    }
   ],
   "source": [
    "np.mean([diff > obs_pct_diff for diff in perm_diffs])"
   ]
  },
  {
   "cell_type": "markdown",
   "metadata": {},
   "source": [
    "p 값은 0.332이다. 즉, 우연히 얻은 결과의 30%정도가 관찰한 것과 비슷한 정도로 예외적인 결과를 얻을 것으로 기대된다."
   ]
  },
  {
   "cell_type": "markdown",
   "metadata": {},
   "source": [
    "### 이항분포의 정규근사법 - P값"
   ]
  },
  {
   "cell_type": "code",
   "execution_count": 58,
   "metadata": {},
   "outputs": [
    {
     "name": "stdout",
     "output_type": "stream",
     "text": [
      "p-value for single sided test: 0.3498\n"
     ]
    }
   ],
   "source": [
    "from scipy import stats\n",
    "\n",
    "survivors = np.array([[200, 23739 - 200], [182, 22588 - 182]])\n",
    "chi2, p_value, df, _ = stats.chi2_contingency(survivors)\n",
    "\n",
    "print(f'p-value for single sided test: {p_value / 2:.4f}')"
   ]
  },
  {
   "cell_type": "code",
   "execution_count": null,
   "metadata": {},
   "outputs": [],
   "source": []
  }
 ],
 "metadata": {
  "kernelspec": {
   "display_name": "Python 3",
   "language": "python",
   "name": "python3"
  },
  "language_info": {
   "codemirror_mode": {
    "name": "ipython",
    "version": 3
   },
   "file_extension": ".py",
   "mimetype": "text/x-python",
   "name": "python",
   "nbconvert_exporter": "python",
   "pygments_lexer": "ipython3",
   "version": "3.7.6"
  }
 },
 "nbformat": 4,
 "nbformat_minor": 4
}
