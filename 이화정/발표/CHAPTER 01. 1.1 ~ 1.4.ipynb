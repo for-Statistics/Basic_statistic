{
 "cells": [
  {
   "cell_type": "markdown",
   "metadata": {},
   "source": [
    "### 데이터 설명\n",
    "\n",
    "- 기간 :2018년 9월 9일 ~ 2020년 11월 8일\n",
    "- 한 시간 간격의 사용자 행동 데이터\n",
    "- columns : 사용자 수, 세션 수, 신규 방문자 수, 페이지 뷰 수\n",
    "\n",
    "    - 세션수는 사이트의 모든 사용자가 시작한 개별 세션 수를 나타냅니다.사용자가 사이트를 방문한 후 30분 이상 어떤 작업도 수행하지 않은 경우 이후에 발생한 모든 작업은 새로운 세션으로 간주됩니다. 사용자가 사이트를 떠났다가 30분 내에 다시 방문하면 해당 방문은 원래 세션의 일부로 기록됩니다. 언제든지 최초 세션의 방문자는 새로운 세션 및 새로운 사용자로 간주됩니다. 이 기간에 동일한 사용자가 추가로 발생시키는 세션은 추가 세션으로 집계되지만, 추가 사용자로는 집계되지 않습니다.\n"
   ]
  },
  {
   "cell_type": "code",
   "execution_count": 24,
   "metadata": {},
   "outputs": [],
   "source": [
    "import pandas as pd\n",
    "import numpy as np\n",
    "train = pd.read_csv('dacon_data/train.csv', encoding = 'euc-kr')\n",
    "info_user = pd.read_csv('dacon_data/info_user.csv', encoding = 'euc-kr',index_col ='Unnamed: 0')"
   ]
  },
  {
   "cell_type": "code",
   "execution_count": 7,
   "metadata": {},
   "outputs": [
    {
     "data": {
      "text/html": [
       "<div>\n",
       "<style scoped>\n",
       "    .dataframe tbody tr th:only-of-type {\n",
       "        vertical-align: middle;\n",
       "    }\n",
       "\n",
       "    .dataframe tbody tr th {\n",
       "        vertical-align: top;\n",
       "    }\n",
       "\n",
       "    .dataframe thead th {\n",
       "        text-align: right;\n",
       "    }\n",
       "</style>\n",
       "<table border=\"1\" class=\"dataframe\">\n",
       "  <thead>\n",
       "    <tr style=\"text-align: right;\">\n",
       "      <th></th>\n",
       "      <th>id</th>\n",
       "      <th>c_time</th>\n",
       "      <th>entered_competition_cnt</th>\n",
       "      <th>code_share_cnt</th>\n",
       "      <th>talk_board_cnt</th>\n",
       "      <th>country_code</th>\n",
       "      <th>python_level</th>\n",
       "      <th>ds_level</th>\n",
       "    </tr>\n",
       "  </thead>\n",
       "  <tbody>\n",
       "    <tr>\n",
       "      <th>0.0</th>\n",
       "      <td>15994.0</td>\n",
       "      <td>2017-05-02 23:58</td>\n",
       "      <td>94.0</td>\n",
       "      <td>306.0</td>\n",
       "      <td>477.0</td>\n",
       "      <td>82.0</td>\n",
       "      <td>1.0</td>\n",
       "      <td>1.0</td>\n",
       "    </tr>\n",
       "    <tr>\n",
       "      <th>1.0</th>\n",
       "      <td>19195.0</td>\n",
       "      <td>2018-08-08 18:21</td>\n",
       "      <td>1.0</td>\n",
       "      <td>0.0</td>\n",
       "      <td>0.0</td>\n",
       "      <td>82.0</td>\n",
       "      <td>1.0</td>\n",
       "      <td>1.0</td>\n",
       "    </tr>\n",
       "    <tr>\n",
       "      <th>2.0</th>\n",
       "      <td>16339.0</td>\n",
       "      <td>2018-08-08 19:57</td>\n",
       "      <td>1.0</td>\n",
       "      <td>0.0</td>\n",
       "      <td>0.0</td>\n",
       "      <td>82.0</td>\n",
       "      <td>1.0</td>\n",
       "      <td>1.0</td>\n",
       "    </tr>\n",
       "    <tr>\n",
       "      <th>3.0</th>\n",
       "      <td>7290.0</td>\n",
       "      <td>2018-08-08 19:59</td>\n",
       "      <td>0.0</td>\n",
       "      <td>0.0</td>\n",
       "      <td>0.0</td>\n",
       "      <td>82.0</td>\n",
       "      <td>1.0</td>\n",
       "      <td>1.0</td>\n",
       "    </tr>\n",
       "    <tr>\n",
       "      <th>4.0</th>\n",
       "      <td>21287.0</td>\n",
       "      <td>2018-08-08 20:26</td>\n",
       "      <td>0.0</td>\n",
       "      <td>0.0</td>\n",
       "      <td>0.0</td>\n",
       "      <td>82.0</td>\n",
       "      <td>1.0</td>\n",
       "      <td>1.0</td>\n",
       "    </tr>\n",
       "    <tr>\n",
       "      <th>...</th>\n",
       "      <td>...</td>\n",
       "      <td>...</td>\n",
       "      <td>...</td>\n",
       "      <td>...</td>\n",
       "      <td>...</td>\n",
       "      <td>...</td>\n",
       "      <td>...</td>\n",
       "      <td>...</td>\n",
       "    </tr>\n",
       "    <tr>\n",
       "      <th>21687.0</th>\n",
       "      <td>11584.0</td>\n",
       "      <td>2020-12-08 22:53</td>\n",
       "      <td>1.0</td>\n",
       "      <td>0.0</td>\n",
       "      <td>0.0</td>\n",
       "      <td>82.0</td>\n",
       "      <td>1.0</td>\n",
       "      <td>1.0</td>\n",
       "    </tr>\n",
       "    <tr>\n",
       "      <th>21688.0</th>\n",
       "      <td>6337.0</td>\n",
       "      <td>2020-12-08 22:54</td>\n",
       "      <td>1.0</td>\n",
       "      <td>0.0</td>\n",
       "      <td>0.0</td>\n",
       "      <td>82.0</td>\n",
       "      <td>1.0</td>\n",
       "      <td>1.0</td>\n",
       "    </tr>\n",
       "    <tr>\n",
       "      <th>21689.0</th>\n",
       "      <td>2505.0</td>\n",
       "      <td>2020-12-08 23:07</td>\n",
       "      <td>1.0</td>\n",
       "      <td>0.0</td>\n",
       "      <td>0.0</td>\n",
       "      <td>82.0</td>\n",
       "      <td>1.0</td>\n",
       "      <td>1.0</td>\n",
       "    </tr>\n",
       "    <tr>\n",
       "      <th>21690.0</th>\n",
       "      <td>14182.0</td>\n",
       "      <td>2020-12-08 23:09</td>\n",
       "      <td>1.0</td>\n",
       "      <td>0.0</td>\n",
       "      <td>0.0</td>\n",
       "      <td>82.0</td>\n",
       "      <td>1.0</td>\n",
       "      <td>1.0</td>\n",
       "    </tr>\n",
       "    <tr>\n",
       "      <th>21691.0</th>\n",
       "      <td>8843.0</td>\n",
       "      <td>2020-12-08 23:13</td>\n",
       "      <td>2.0</td>\n",
       "      <td>0.0</td>\n",
       "      <td>0.0</td>\n",
       "      <td>82.0</td>\n",
       "      <td>1.0</td>\n",
       "      <td>1.0</td>\n",
       "    </tr>\n",
       "  </tbody>\n",
       "</table>\n",
       "<p>21692 rows × 8 columns</p>\n",
       "</div>"
      ],
      "text/plain": [
       "              id            c_time  entered_competition_cnt  code_share_cnt  \\\n",
       "0.0      15994.0  2017-05-02 23:58                     94.0           306.0   \n",
       "1.0      19195.0  2018-08-08 18:21                      1.0             0.0   \n",
       "2.0      16339.0  2018-08-08 19:57                      1.0             0.0   \n",
       "3.0       7290.0  2018-08-08 19:59                      0.0             0.0   \n",
       "4.0      21287.0  2018-08-08 20:26                      0.0             0.0   \n",
       "...          ...               ...                      ...             ...   \n",
       "21687.0  11584.0  2020-12-08 22:53                      1.0             0.0   \n",
       "21688.0   6337.0  2020-12-08 22:54                      1.0             0.0   \n",
       "21689.0   2505.0  2020-12-08 23:07                      1.0             0.0   \n",
       "21690.0  14182.0  2020-12-08 23:09                      1.0             0.0   \n",
       "21691.0   8843.0  2020-12-08 23:13                      2.0             0.0   \n",
       "\n",
       "         talk_board_cnt  country_code  python_level  ds_level  \n",
       "0.0               477.0          82.0           1.0       1.0  \n",
       "1.0                 0.0          82.0           1.0       1.0  \n",
       "2.0                 0.0          82.0           1.0       1.0  \n",
       "3.0                 0.0          82.0           1.0       1.0  \n",
       "4.0                 0.0          82.0           1.0       1.0  \n",
       "...                 ...           ...           ...       ...  \n",
       "21687.0             0.0          82.0           1.0       1.0  \n",
       "21688.0             0.0          82.0           1.0       1.0  \n",
       "21689.0             0.0          82.0           1.0       1.0  \n",
       "21690.0             0.0          82.0           1.0       1.0  \n",
       "21691.0             0.0          82.0           1.0       1.0  \n",
       "\n",
       "[21692 rows x 8 columns]"
      ]
     },
     "execution_count": 7,
     "metadata": {},
     "output_type": "execute_result"
    }
   ],
   "source": [
    "info_user[~info_user.id.isnull()]"
   ]
  },
  {
   "cell_type": "markdown",
   "metadata": {},
   "source": [
    "## 1.1 정형화된 데이터의 요소\n",
    "\n",
    "1. 데이터의 종류\n",
    "    1. 수치형 데이터 : 숫자를 이용해 표현할 수 있는 데이터\n",
    "        1. 연속형 데이터 : 일정 범위 안에서 어떤 값이든 취할 수 있는 데이터   Ex, 풍속, 지속시간\n",
    "        2. 이산데이터 : 횟수와 같은 정수값만 취할수있는 데이터                Ex, 사건의 발생빈도\n",
    "    2. 범주형 데이터 : 가능한 범주 안의 값만을 취하는 데이터\n",
    "        1. 이진데이터 : 범주형 데이터 중에서도 두 값중 하나를 갖는 아주 특수한 경우\n",
    "        2. 순서형 데이터 : 범주안의 값들이 순위를 갖는 데이터                 ex, 평점"
   ]
  },
  {
   "cell_type": "markdown",
   "metadata": {},
   "source": [
    "## 1.2. 테이블 데이터\n",
    "- 피처 feature : 일반적으로 테이블의 열을 의미.    \n",
    "- 결과 outcome : 실험이나 연구에서 나오는 결과를 의미\n",
    "- 레코드 record : 테이블의 각 행"
   ]
  },
  {
   "cell_type": "code",
   "execution_count": 8,
   "metadata": {},
   "outputs": [
    {
     "data": {
      "text/html": [
       "<div>\n",
       "<style scoped>\n",
       "    .dataframe tbody tr th:only-of-type {\n",
       "        vertical-align: middle;\n",
       "    }\n",
       "\n",
       "    .dataframe tbody tr th {\n",
       "        vertical-align: top;\n",
       "    }\n",
       "\n",
       "    .dataframe thead th {\n",
       "        text-align: right;\n",
       "    }\n",
       "</style>\n",
       "<table border=\"1\" class=\"dataframe\">\n",
       "  <thead>\n",
       "    <tr style=\"text-align: right;\">\n",
       "      <th></th>\n",
       "      <th>DateTime</th>\n",
       "      <th>사용자</th>\n",
       "      <th>세션</th>\n",
       "      <th>신규방문자</th>\n",
       "      <th>페이지뷰</th>\n",
       "    </tr>\n",
       "  </thead>\n",
       "  <tbody>\n",
       "    <tr>\n",
       "      <th>0</th>\n",
       "      <td>2018-09-09 00:00:00</td>\n",
       "      <td>19</td>\n",
       "      <td>19</td>\n",
       "      <td>8</td>\n",
       "      <td>206</td>\n",
       "    </tr>\n",
       "    <tr>\n",
       "      <th>1</th>\n",
       "      <td>2018-09-09 01:00:00</td>\n",
       "      <td>20</td>\n",
       "      <td>19</td>\n",
       "      <td>9</td>\n",
       "      <td>259</td>\n",
       "    </tr>\n",
       "    <tr>\n",
       "      <th>2</th>\n",
       "      <td>2018-09-09 02:00:00</td>\n",
       "      <td>12</td>\n",
       "      <td>9</td>\n",
       "      <td>1</td>\n",
       "      <td>48</td>\n",
       "    </tr>\n",
       "    <tr>\n",
       "      <th>3</th>\n",
       "      <td>2018-09-09 03:00:00</td>\n",
       "      <td>10</td>\n",
       "      <td>10</td>\n",
       "      <td>2</td>\n",
       "      <td>102</td>\n",
       "    </tr>\n",
       "    <tr>\n",
       "      <th>4</th>\n",
       "      <td>2018-09-09 04:00:00</td>\n",
       "      <td>6</td>\n",
       "      <td>5</td>\n",
       "      <td>3</td>\n",
       "      <td>18</td>\n",
       "    </tr>\n",
       "    <tr>\n",
       "      <th>...</th>\n",
       "      <td>...</td>\n",
       "      <td>...</td>\n",
       "      <td>...</td>\n",
       "      <td>...</td>\n",
       "      <td>...</td>\n",
       "    </tr>\n",
       "    <tr>\n",
       "      <th>19003</th>\n",
       "      <td>2020-11-08 19:00:00</td>\n",
       "      <td>124</td>\n",
       "      <td>123</td>\n",
       "      <td>19</td>\n",
       "      <td>3128</td>\n",
       "    </tr>\n",
       "    <tr>\n",
       "      <th>19004</th>\n",
       "      <td>2020-11-08 20:00:00</td>\n",
       "      <td>166</td>\n",
       "      <td>159</td>\n",
       "      <td>29</td>\n",
       "      <td>4864</td>\n",
       "    </tr>\n",
       "    <tr>\n",
       "      <th>19005</th>\n",
       "      <td>2020-11-08 21:00:00</td>\n",
       "      <td>184</td>\n",
       "      <td>173</td>\n",
       "      <td>32</td>\n",
       "      <td>3426</td>\n",
       "    </tr>\n",
       "    <tr>\n",
       "      <th>19006</th>\n",
       "      <td>2020-11-08 22:00:00</td>\n",
       "      <td>163</td>\n",
       "      <td>155</td>\n",
       "      <td>34</td>\n",
       "      <td>2845</td>\n",
       "    </tr>\n",
       "    <tr>\n",
       "      <th>19007</th>\n",
       "      <td>2020-11-08 23:00:00</td>\n",
       "      <td>160</td>\n",
       "      <td>152</td>\n",
       "      <td>33</td>\n",
       "      <td>3293</td>\n",
       "    </tr>\n",
       "  </tbody>\n",
       "</table>\n",
       "<p>19008 rows × 5 columns</p>\n",
       "</div>"
      ],
      "text/plain": [
       "                  DateTime  사용자   세션  신규방문자  페이지뷰\n",
       "0      2018-09-09 00:00:00   19   19      8   206\n",
       "1      2018-09-09 01:00:00   20   19      9   259\n",
       "2      2018-09-09 02:00:00   12    9      1    48\n",
       "3      2018-09-09 03:00:00   10   10      2   102\n",
       "4      2018-09-09 04:00:00    6    5      3    18\n",
       "...                    ...  ...  ...    ...   ...\n",
       "19003  2020-11-08 19:00:00  124  123     19  3128\n",
       "19004  2020-11-08 20:00:00  166  159     29  4864\n",
       "19005  2020-11-08 21:00:00  184  173     32  3426\n",
       "19006  2020-11-08 22:00:00  163  155     34  2845\n",
       "19007  2020-11-08 23:00:00  160  152     33  3293\n",
       "\n",
       "[19008 rows x 5 columns]"
      ]
     },
     "execution_count": 8,
     "metadata": {},
     "output_type": "execute_result"
    }
   ],
   "source": [
    "train"
   ]
  },
  {
   "cell_type": "markdown",
   "metadata": {},
   "source": [
    "## 1.3. 위치 추정\n",
    ": **데이터를 살표보는 가장 기초적인 단계는 각 피처(변수)의 ‘대푯값’을 구하는 것이다.**\n",
    "\n",
    "이는 곧 **대부분의 값이 어디쯤 위치 하는지 (중심경향성)을 나타내는 추정값**이다."
   ]
  },
  {
   "cell_type": "code",
   "execution_count": 11,
   "metadata": {},
   "outputs": [],
   "source": [
    "train['Date'] = train['DateTime'].map(lambda x : str(x)[:10])\n",
    "\n",
    "train_18_0909 = train[train['Date'] == '2018-09-09']\n",
    "train_20_1108 = train[train['Date'] == '2020-11-08']"
   ]
  },
  {
   "cell_type": "code",
   "execution_count": 15,
   "metadata": {},
   "outputs": [
    {
     "data": {
      "text/html": [
       "<div>\n",
       "<style scoped>\n",
       "    .dataframe tbody tr th:only-of-type {\n",
       "        vertical-align: middle;\n",
       "    }\n",
       "\n",
       "    .dataframe tbody tr th {\n",
       "        vertical-align: top;\n",
       "    }\n",
       "\n",
       "    .dataframe thead th {\n",
       "        text-align: right;\n",
       "    }\n",
       "</style>\n",
       "<table border=\"1\" class=\"dataframe\">\n",
       "  <thead>\n",
       "    <tr style=\"text-align: right;\">\n",
       "      <th></th>\n",
       "      <th>DateTime</th>\n",
       "      <th>사용자</th>\n",
       "      <th>세션</th>\n",
       "      <th>신규방문자</th>\n",
       "      <th>페이지뷰</th>\n",
       "      <th>Date</th>\n",
       "    </tr>\n",
       "  </thead>\n",
       "  <tbody>\n",
       "    <tr>\n",
       "      <th>0</th>\n",
       "      <td>2018-09-09 00:00:00</td>\n",
       "      <td>19</td>\n",
       "      <td>19</td>\n",
       "      <td>8</td>\n",
       "      <td>206</td>\n",
       "      <td>2018-09-09</td>\n",
       "    </tr>\n",
       "    <tr>\n",
       "      <th>1</th>\n",
       "      <td>2018-09-09 01:00:00</td>\n",
       "      <td>20</td>\n",
       "      <td>19</td>\n",
       "      <td>9</td>\n",
       "      <td>259</td>\n",
       "      <td>2018-09-09</td>\n",
       "    </tr>\n",
       "    <tr>\n",
       "      <th>2</th>\n",
       "      <td>2018-09-09 02:00:00</td>\n",
       "      <td>12</td>\n",
       "      <td>9</td>\n",
       "      <td>1</td>\n",
       "      <td>48</td>\n",
       "      <td>2018-09-09</td>\n",
       "    </tr>\n",
       "    <tr>\n",
       "      <th>3</th>\n",
       "      <td>2018-09-09 03:00:00</td>\n",
       "      <td>10</td>\n",
       "      <td>10</td>\n",
       "      <td>2</td>\n",
       "      <td>102</td>\n",
       "      <td>2018-09-09</td>\n",
       "    </tr>\n",
       "    <tr>\n",
       "      <th>4</th>\n",
       "      <td>2018-09-09 04:00:00</td>\n",
       "      <td>6</td>\n",
       "      <td>5</td>\n",
       "      <td>3</td>\n",
       "      <td>18</td>\n",
       "      <td>2018-09-09</td>\n",
       "    </tr>\n",
       "  </tbody>\n",
       "</table>\n",
       "</div>"
      ],
      "text/plain": [
       "              DateTime  사용자  세션  신규방문자  페이지뷰        Date\n",
       "0  2018-09-09 00:00:00   19  19      8   206  2018-09-09\n",
       "1  2018-09-09 01:00:00   20  19      9   259  2018-09-09\n",
       "2  2018-09-09 02:00:00   12   9      1    48  2018-09-09\n",
       "3  2018-09-09 03:00:00   10  10      2   102  2018-09-09\n",
       "4  2018-09-09 04:00:00    6   5      3    18  2018-09-09"
      ]
     },
     "execution_count": 15,
     "metadata": {},
     "output_type": "execute_result"
    }
   ],
   "source": [
    "train_18_0909.head()"
   ]
  },
  {
   "cell_type": "code",
   "execution_count": 20,
   "metadata": {},
   "outputs": [
    {
     "data": {
      "text/plain": [
       "24"
      ]
     },
     "execution_count": 20,
     "metadata": {},
     "output_type": "execute_result"
    }
   ],
   "source": [
    "train_18_0909.shape[0]"
   ]
  },
  {
   "cell_type": "markdown",
   "metadata": {},
   "source": [
    "### 1) 평균"
   ]
  },
  {
   "cell_type": "code",
   "execution_count": 18,
   "metadata": {},
   "outputs": [
    {
     "name": "stdout",
     "output_type": "stream",
     "text": [
      "train_18_0909_페이지 뷰 :  76.08333333333333\n",
      "train_20_1108_페이지 뷰 :  2103.5833333333335\n"
     ]
    }
   ],
   "source": [
    "print('train_18_0909_페이지 뷰 : ', train_18_0909['페이지뷰'].mean())\n",
    "print('train_20_1108_페이지 뷰 : ', train_20_1108['페이지뷰'].mean())"
   ]
  },
  {
   "cell_type": "markdown",
   "metadata": {},
   "source": [
    "### 2) 절사 평균\n",
    "값들을 크기 순으로 정렬하여, 정해진 개수의 극단값을 제외한 나머지 값들의 평균이다. 이러한 방식을 통해 평균에 비해 극단값의 영향을 덜 받는다."
   ]
  },
  {
   "cell_type": "code",
   "execution_count": 23,
   "metadata": {},
   "outputs": [
    {
     "name": "stdout",
     "output_type": "stream",
     "text": [
      "train_18_0909_페이지 뷰 :  66.55\n",
      "train_20_1108_페이지 뷰 :  2020.45\n"
     ]
    }
   ],
   "source": [
    "from scipy.stats import trim_mean\n",
    "\n",
    "print('train_18_0909_페이지 뷰 : ', trim_mean(train_18_0909['페이지뷰'], 0.1))\n",
    "print('train_20_1108_페이지 뷰 : ',trim_mean(train_20_1108['페이지뷰'], 0.1))"
   ]
  },
  {
   "cell_type": "markdown",
   "metadata": {},
   "source": [
    "### 다른 방법 : np.quantile()"
   ]
  },
  {
   "cell_type": "code",
   "execution_count": 30,
   "metadata": {},
   "outputs": [],
   "source": [
    "quantile_1 = np.quantile(train_18_0909['페이지뷰'], 0.1) # 0.1 값이 무엇은지 알 수 있음\n",
    "quantile_9 =np.quantile(train_18_0909['페이지뷰'], 0.9)  # 0.1 값이 무엇은지 알 수 있음"
   ]
  },
  {
   "cell_type": "code",
   "execution_count": 33,
   "metadata": {},
   "outputs": [
    {
     "data": {
      "text/plain": [
       "63.888888888888886"
      ]
     },
     "execution_count": 33,
     "metadata": {},
     "output_type": "execute_result"
    }
   ],
   "source": [
    "train_18_0909[(train_18_0909['페이지뷰'] > quantile_1) & ( train_18_0909['페이지뷰'] < quantile_9)]['페이지뷰'].mean()"
   ]
  },
  {
   "cell_type": "markdown",
   "metadata": {},
   "source": [
    "### 3) 가중 평균\n",
    ": 각 데이터 값에  사용자가 지정한 가중치를 곱한 값의 총합(wx)을 가중치의 총합(w)으로 나눈값이다. \n",
    "- 이러한 평균을 사용하는 이유는 데이터를 수집할때, 서로 다른 대조군의 수가 다르기 때문에 이를 보정하는 방법으로 부족한 소수 그룹에 더 높은 가중치를 주는 것이다. "
   ]
  },
  {
   "cell_type": "code",
   "execution_count": 35,
   "metadata": {},
   "outputs": [
    {
     "data": {
      "text/plain": [
       "98.70106761565836"
      ]
     },
     "execution_count": 35,
     "metadata": {},
     "output_type": "execute_result"
    }
   ],
   "source": [
    "np.average(train_18_0909['페이지뷰'], weights=train_18_0909['사용자'])"
   ]
  },
  {
   "cell_type": "markdown",
   "metadata": {},
   "source": [
    "### 4) 중간값\n",
    ": 데이터를 일렬로 정렬했을때, 한 가운데 위치하는 값이다. 이는 평균에 비해 극단값의 영향을 덜 받게 된다."
   ]
  },
  {
   "cell_type": "code",
   "execution_count": 36,
   "metadata": {},
   "outputs": [
    {
     "name": "stdout",
     "output_type": "stream",
     "text": [
      "train_18_0909_페이지 뷰 :  53.0\n",
      "train_20_1108_페이지 뷰 :  1932.0\n"
     ]
    }
   ],
   "source": [
    "print('train_18_0909_페이지 뷰 : ', train_18_0909['페이지뷰'].median())\n",
    "print('train_20_1108_페이지 뷰 : ', train_20_1108['페이지뷰'].median())"
   ]
  },
  {
   "cell_type": "markdown",
   "metadata": {},
   "source": [
    "<aside>\n",
    "💡 결과를 잘못 이해하게 하는 특잇값(극단값)들의 영향을 덜 받은 것을 '로버스트하다' 라고 한다. 이 말은, 모델이나 데이터가 견고하다 라도 생각하면 된다. 즉, 조금더 로버스트한 대표값을 얻기 위해서 평균보다 중간값 혹은 절사 평균 등이 도움이 된다.\n",
    "\n",
    "</aside>"
   ]
  },
  {
   "cell_type": "markdown",
   "metadata": {},
   "source": [
    "## 1.4. 변이 추정"
   ]
  },
  {
   "cell_type": "markdown",
   "metadata": {},
   "source": [
    "**: 변이 ( variability ) 는 데이터의 값이 얼마나 밀집 혹은 퍼져있는지를 나타내는 산포도이다.**\n",
    "\n",
    "**: 중심경향도만으로는 집단에 대한 성격과 분포를 파악하는데 부족하므로, 측정된 데이터가 어떻게 분포하고 있는지에 대해 파악해야 데이터를 제대로 이해할 수 있다.**\n",
    "\n",
    ": 변이 추정은 **편차**를 기본으로 하는데, \n",
    "\n",
    "- 편차란, 관측 데이터와 위치 추정값 사이의 차이이며, 이는 데이터가 중앙값을 주변으로 얼마나 퍼져있는가를 나타낸다."
   ]
  },
  {
   "cell_type": "markdown",
   "metadata": {},
   "source": [
    "### 1) 평균 절대 편차\n",
    "편차의 절댓값의 평균을 구하는 것 \n",
    "\n",
    "$$ \\frac{\\sum_{i=1}^{n} \\left | x_{i} - \\bar{x} \\right|}{n}$$"
   ]
  },
  {
   "cell_type": "code",
   "execution_count": 45,
   "metadata": {},
   "outputs": [
    {
     "data": {
      "text/plain": [
       "53.02083333333335"
      ]
     },
     "execution_count": 45,
     "metadata": {},
     "output_type": "execute_result"
    }
   ],
   "source": [
    "def mean_absolute_deviation(data):\n",
    "    data_mean = data['페이지뷰'].mean()\n",
    "    n = data.shape[0]\n",
    "    return sum(np.absolute(data['페이지뷰'] - data_mean)) / n\n",
    "\n",
    "mean_absolute_deviation(train_18_0909)"
   ]
  },
  {
   "cell_type": "markdown",
   "metadata": {},
   "source": [
    "### 2) 분산과 표준 편차\n",
    ": 분산은 제곱편차의 평균이고, 표준편차는 분산의 제곱근이다. \n",
    "- 표준편차는 분산에서 제곱한 것을 다시 원래의 데이터의 척도(scale)로 돌아가게 해주기 때문에, 해석하기 쉽다.\n",
    "\n",
    "$$분산 = \\frac{\\sum_{i=1}^{n} \\left (  x_{i} - \\bar{x}  \\right )^{2}}{n-1} $$"
   ]
  },
  {
   "cell_type": "code",
   "execution_count": 47,
   "metadata": {},
   "outputs": [
    {
     "name": "stdout",
     "output_type": "stream",
     "text": [
      "분산 :  4429.210144927537\n",
      "표준편차 :  66.55231134173731\n"
     ]
    }
   ],
   "source": [
    "print('분산 : ', train_18_0909['페이지뷰'].var())\n",
    "print('표준편차 : ', train_18_0909['페이지뷰'].std())"
   ]
  },
  {
   "cell_type": "markdown",
   "metadata": {},
   "source": [
    "![https://blog.kakaocdn.net/dn/AbXmU/btqMGeSAB8B/smYy1asxp3d31ssXKFuuoK/img.png](https://blog.kakaocdn.net/dn/AbXmU/btqMGeSAB8B/smYy1asxp3d31ssXKFuuoK/img.png)\n",
    "\n",
    "왼 ) 분산이 큼  오 ) 분산이 작음\n",
    "\n",
    "- 분산이 큼 : 값들이 퍼져있음. 평균이 값들의 특성을 잘 나타낸다고 말하기 어려움\n",
    "- 분산이 작음 : 값들이 모여져있음. 값들이 평균값에 모아져 있음."
   ]
  },
  {
   "cell_type": "markdown",
   "metadata": {},
   "source": [
    "### 3) 중위 절대 편차 ( MAD : Median Absolute Deviation )\n",
    ": 분간, 표준편차, 평균절대편차 모두 로버스트하지 않고 특잇값에 민간하기 때문에 이것을 사용한다.\n",
    "\n",
    "이것은 관측값에서 중앙값을 빼고, 그 차이에 절댓값을 취한 값들의 중앙값을 구하는 것이다."
   ]
  },
  {
   "cell_type": "code",
   "execution_count": 50,
   "metadata": {},
   "outputs": [
    {
     "data": {
      "text/plain": [
       "51.14977653844326"
      ]
     },
     "execution_count": 50,
     "metadata": {},
     "output_type": "execute_result"
    }
   ],
   "source": [
    "from statsmodels import robust\n",
    "\n",
    "robust.scale.mad(train_18_0909['페이지뷰'])"
   ]
  },
  {
   "cell_type": "markdown",
   "metadata": {},
   "source": [
    "> 통계학에서는 표준편차를 평균절대편차 보다 더 선호하는데, 그 이유는 수학적으로 제곱한 값이 절댓값보다 통계모델을 다룬데 더 편리하다는 통계 이론이 뒷받침하고 있어서 라고 한다.또한, 표준편차는 항상 평균절대편차보다 크다. 그리고 평균 절대편차는 중위절대편차보다 크다."
   ]
  },
  {
   "cell_type": "code",
   "execution_count": null,
   "metadata": {},
   "outputs": [],
   "source": []
  }
 ],
 "metadata": {
  "kernelspec": {
   "display_name": "Python 3",
   "language": "python",
   "name": "python3"
  },
  "language_info": {
   "codemirror_mode": {
    "name": "ipython",
    "version": 3
   },
   "file_extension": ".py",
   "mimetype": "text/x-python",
   "name": "python",
   "nbconvert_exporter": "python",
   "pygments_lexer": "ipython3",
   "version": "3.7.6"
  }
 },
 "nbformat": 4,
 "nbformat_minor": 4
}
