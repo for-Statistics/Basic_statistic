{
  "nbformat": 4,
  "nbformat_minor": 0,
  "metadata": {
    "colab": {
      "name": "Stats_09.ipynb",
      "provenance": [],
      "authorship_tag": "ABX9TyP8gcFalA3YXeTovS9zT/z/",
      "include_colab_link": true
    },
    "kernelspec": {
      "name": "python3",
      "display_name": "Python 3"
    },
    "language_info": {
      "name": "python"
    }
  },
  "cells": [
    {
      "cell_type": "markdown",
      "metadata": {
        "id": "view-in-github",
        "colab_type": "text"
      },
      "source": [
        "<a href=\"https://colab.research.google.com/github/skdding3/Basic_statistic/blob/main/Stats_09.ipynb\" target=\"_parent\"><img src=\"https://colab.research.google.com/assets/colab-badge.svg\" alt=\"Open In Colab\"/></a>"
      ]
    },
    {
      "cell_type": "code",
      "execution_count": 6,
      "metadata": {
        "colab": {
          "base_uri": "https://localhost:8080/"
        },
        "id": "wxNuRx-xTSOy",
        "outputId": "4ef5e180-7d75-42c8-f2db-aa6e520cf1e9"
      },
      "outputs": [
        {
          "output_type": "stream",
          "name": "stdout",
          "text": [
            "Help on function add_constant in module statsmodels.tools.tools:\n",
            "\n",
            "add_constant(data, prepend=True, has_constant='skip')\n",
            "    Adds a column of ones to an array\n",
            "    \n",
            "    Parameters\n",
            "    ----------\n",
            "    data : array-like\n",
            "        ``data`` is the column-ordered design matrix\n",
            "    prepend : bool\n",
            "        If true, the constant is in the first column.  Else the constant is\n",
            "        appended (last column).\n",
            "    has_constant : str {'raise', 'add', 'skip'}\n",
            "        Behavior if ``data`` already has a constant. The default will return\n",
            "        data without adding another constant. If 'raise', will raise an\n",
            "        error if a constant is present. Using 'add' will duplicate the\n",
            "        constant, if one is present.\n",
            "    \n",
            "    Returns\n",
            "    -------\n",
            "    data : array, recarray or DataFrame\n",
            "        The original values with a constant (column of ones) as the first or\n",
            "        last column. Returned value depends on input type.\n",
            "    \n",
            "    Notes\n",
            "    -----\n",
            "    When the input is recarray or a pandas Series or DataFrame, the added\n",
            "    column's name is 'const'.\n",
            "\n",
            "/content\n"
          ]
        }
      ],
      "source": [
        "import os\n",
        "import pandas as pd\n",
        "import numpy as np\n",
        "import statsmodels.api as sm\n",
        "from sklearn.model_selection import train_test_split\n",
        "\n",
        "help(sm.add_constant)\n",
        "\n",
        "#현재경로 확인\n",
        "print(os.getcwd())"
      ]
    },
    {
      "cell_type": "code",
      "source": [
        "#데이터불러오기\n",
        "corolia = pd.read_csv(\"/content/ToyotaCorolla.csv\")\n",
        "\n",
        "#데이터확인\n",
        "print(corolia.head())\n",
        "\n"
      ],
      "metadata": {
        "colab": {
          "base_uri": "https://localhost:8080/"
        },
        "id": "3C9mkk3XUQJ_",
        "outputId": "07df7fd4-91a3-406a-adfe-363715218fd1"
      },
      "execution_count": 7,
      "outputs": [
        {
          "output_type": "stream",
          "name": "stdout",
          "text": [
            "   Id                                           Model  ...  Radio_cassette  Tow_Bar\n",
            "0   1   TOYOTA Corolla 2.0 D4D HATCHB TERRA 2/3-Doors  ...               0        0\n",
            "1   2   TOYOTA Corolla 2.0 D4D HATCHB TERRA 2/3-Doors  ...               0        0\n",
            "2   3  ?TOYOTA Corolla 2.0 D4D HATCHB TERRA 2/3-Doors  ...               0        0\n",
            "3   4   TOYOTA Corolla 2.0 D4D HATCHB TERRA 2/3-Doors  ...               0        0\n",
            "4   5     TOYOTA Corolla 2.0 D4D HATCHB SOL 2/3-Doors  ...               0        0\n",
            "\n",
            "[5 rows x 37 columns]\n"
          ]
        }
      ]
    },
    {
      "cell_type": "code",
      "source": [
        "#데이터 수와 변수의 수 확인하기\n",
        "nCar = corolia.shape[0]\n",
        "nVar = corolia.shape[1]\n",
        "\n",
        "print(nCar,nVar)\n",
        "\n",
        "#범주형 변수를 이진형 변수( 0 ,1 )로 변환\n",
        "\n"
      ],
      "metadata": {
        "colab": {
          "base_uri": "https://localhost:8080/"
        },
        "id": "BT7pAR_sUXfK",
        "outputId": "f8005070-711e-46f3-8426-2b1a19700c34"
      },
      "execution_count": 10,
      "outputs": [
        {
          "output_type": "stream",
          "name": "stdout",
          "text": [
            "1436 37\n"
          ]
        }
      ]
    },
    {
      "cell_type": "code",
      "source": [
        "\n",
        "#변수안에 범주형 변수가 있는지 확인\n",
        "print(corolia.Fuel_Type.unique())\n",
        "\n",
        "#가변수 생성\n",
        "dummy_p = np.repeat(0,nCar)\n",
        "dummy_d = np.repeat(0,nCar)\n",
        "dummy_c = np.repeat(0,nCar)\n",
        "\n",
        "#인덱스 슬라이싱 후 1 대입\n",
        "p_idx = np.array(corolia.Fuel_Type==\"Petrol\")\n",
        "d_idx = np.array(corolia.Fuel_Type==\"Diesel\")\n",
        "c_idx = np.array(corolia.Fuel_Type==\"CNG\")\n",
        "\n",
        "#print(p_idx,d_idx,c_idx)\n",
        "\n",
        "dummy_p[p_idx] = 1\n",
        "dummy_d[d_idx] = 1\n",
        "dummy_c[c_idx] = 1\n",
        "\n",
        "#불필요한 변수 제거 및 가변수 추가\n",
        "Fuel = pd.DataFrame({\"Petrol\":dummy_p, \"Diesel\": dummy_d, \"CNG\":dummy_c})\n",
        "\n",
        "print(Fuel)"
      ],
      "metadata": {
        "colab": {
          "base_uri": "https://localhost:8080/"
        },
        "id": "Yc-vOOTMUz6D",
        "outputId": "9dca2358-6d21-41a4-aeee-6c783fd15803"
      },
      "execution_count": 11,
      "outputs": [
        {
          "output_type": "stream",
          "name": "stdout",
          "text": [
            "['Diesel' 'Petrol' 'CNG']\n",
            "      Petrol  Diesel  CNG\n",
            "0          0       1    0\n",
            "1          0       1    0\n",
            "2          0       1    0\n",
            "3          0       1    0\n",
            "4          0       1    0\n",
            "...      ...     ...  ...\n",
            "1431       1       0    0\n",
            "1432       1       0    0\n",
            "1433       1       0    0\n",
            "1434       1       0    0\n",
            "1435       1       0    0\n",
            "\n",
            "[1436 rows x 3 columns]\n"
          ]
        }
      ]
    },
    {
      "cell_type": "code",
      "source": [
        "\n",
        "corolia_ = corolia.drop([\"Id\",\"Model\",\"Fuel_Type\"],axis=1,inplace=False)\n",
        "mlrData = pd.concat((corolia_,Fuel),1)\n",
        "print(mlrData.head())\n",
        "\n",
        "\n",
        "#bias 추가\n",
        "\n",
        "#상수항 추가 ( 상수항 추가는 한번 더 실행시키면 추가가 더 된다 주의!!)\n",
        "mlrData = sm.add_constant(mlrData,has_constant=\"add\")\n",
        "print(mlrData.head())\n",
        "\n"
      ],
      "metadata": {
        "colab": {
          "base_uri": "https://localhost:8080/"
        },
        "id": "5b8dHwGDUcOh",
        "outputId": "e05f9340-52e8-47f5-fee8-c33edde78fa6"
      },
      "execution_count": 4,
      "outputs": [
        {
          "output_type": "stream",
          "name": "stdout",
          "text": [
            "   Price  Age_08_04  Mfg_Month  Mfg_Year  ...  Tow_Bar  Petrol  Diesel  CNG\n",
            "0  13500         23         10      2002  ...        0       0       1    0\n",
            "1  13750         23         10      2002  ...        0       0       1    0\n",
            "2  13950         24          9      2002  ...        0       0       1    0\n",
            "3  14950         26          7      2002  ...        0       0       1    0\n",
            "4  13750         30          3      2002  ...        0       0       1    0\n",
            "\n",
            "[5 rows x 37 columns]\n",
            "   const  Price  Age_08_04  Mfg_Month  ...  Tow_Bar  Petrol  Diesel  CNG\n",
            "0    1.0  13500         23         10  ...        0       0       1    0\n",
            "1    1.0  13750         23         10  ...        0       0       1    0\n",
            "2    1.0  13950         24          9  ...        0       0       1    0\n",
            "3    1.0  14950         26          7  ...        0       0       1    0\n",
            "4    1.0  13750         30          3  ...        0       0       1    0\n",
            "\n",
            "[5 rows x 38 columns]\n"
          ]
        },
        {
          "output_type": "stream",
          "name": "stderr",
          "text": [
            "/usr/local/lib/python3.7/dist-packages/ipykernel_launcher.py:3: FutureWarning: In a future version of pandas all arguments of concat except for the argument 'objs' will be keyword-only\n",
            "  This is separate from the ipykernel package so we can avoid doing imports until\n",
            "/usr/local/lib/python3.7/dist-packages/statsmodels/tsa/tsatools.py:117: FutureWarning: In a future version of pandas all arguments of concat except for the argument 'objs' will be keyword-only\n",
            "  x = pd.concat(x[::order], 1)\n"
          ]
        }
      ]
    },
    {
      "cell_type": "code",
      "source": [
        "#설명변수(X) ,타겟변수(Y) 분리 및 학습데이터와 평가데이터 분할\n",
        "\n",
        "featureColums = list(mlrData.columns.difference([\"Price\"]))\n",
        "\n",
        "x = mlrData[featureColums]\n",
        "y = mlrData.Price\n",
        "\n",
        "trainX ,testX , trainY , testY = train_test_split(x,y,train_size=0.7,test_size=0.3)\n",
        "#print(trainX.shape,testX.shape,trainY.shape,testY.shape)\n",
        "\n",
        "#Train the MLR / 회귀모델적합\n",
        "fullModel = sm.OLS(trainY,trainX)\n",
        "fittedFullModel = fullModel.fit()\n",
        "\n",
        "#R-Squre 가 높고 , 대부분의 변수들이 유의함.\n",
        "#print(fittedFullModel.summary())\n",
        "\n",
        "#VIF를 통한 다중공선성 확인\n",
        "from statsmodels.stats.outliers_influence import variance_inflation_factor\n",
        "\n",
        "vif = pd.DataFrame()\n",
        "vif[\"VIF Factor\"] = [variance_inflation_factor(mlrData.values,i)\n",
        "                     for i in range(mlrData.shape[1])]\n",
        "vif[\"features\"]=mlrData.columns\n",
        "\n",
        "print(vif)\n",
        "\n",
        "#학습데이터의 잔차 확인\n",
        "\n",
        "res = fittedFullModel.resid\n",
        "import matplotlib.pyplot as plt\n",
        "#Q-Q plot # 정규분포확인\n",
        "fig = sm.qqplot(res, fit=True, line='45')\n",
        "plt.show()\n",
        "# residual pattern 확인\n",
        "\n",
        "predY = fittedFullModel.predict(trainX)\n",
        "\n",
        "fig = plt.scatter(predY,res,s=4)\n",
        "plt.xlim(4000,30000)\n",
        "plt.xlim(4000,30000)\n",
        "plt.xlabel('Fitted values')\n",
        "plt.ylabel('Residual')\n",
        "plt.show()\n",
        "\n",
        "#검증 데이터에 대한 예측\n",
        "\n",
        "predY2 = fittedFullModel.predict(testX)\n",
        "\n",
        "plt.plot(np.array(testY-predY2),label=\"predFull\")\n",
        "plt.legend()\n",
        "plt.show()\n",
        "\n",
        "#MSE 값 구하기\n",
        "from sklearn.metrics import mean_squared_error\n",
        "MSE = mean_squared_error(y_true=testY,y_pred=predY2)\n",
        "print(MSE)\n"
      ],
      "metadata": {
        "colab": {
          "base_uri": "https://localhost:8080/",
          "height": 1000
        },
        "id": "DBIQjO5EUhQq",
        "outputId": "e0fc660a-552a-4da0-bb3b-ceee15172101"
      },
      "execution_count": 12,
      "outputs": [
        {
          "output_type": "stream",
          "name": "stderr",
          "text": [
            "/usr/local/lib/python3.7/dist-packages/statsmodels/regression/linear_model.py:1636: RuntimeWarning: divide by zero encountered in double_scalars\n",
            "  return 1 - self.ssr/self.centered_tss\n",
            "/usr/local/lib/python3.7/dist-packages/statsmodels/stats/outliers_influence.py:185: RuntimeWarning: divide by zero encountered in double_scalars\n",
            "  vif = 1. / (1. - r_squared_i)\n"
          ]
        },
        {
          "output_type": "stream",
          "name": "stdout",
          "text": [
            "    VIF Factor          features\n",
            "0     0.000000             const\n",
            "1    10.953474             Price\n",
            "2          inf         Age_08_04\n",
            "3          inf         Mfg_Month\n",
            "4          inf          Mfg_Year\n",
            "5     2.400334                KM\n",
            "6     2.621514                HP\n",
            "7     1.143778         Met_Color\n",
            "8     1.121303         Automatic\n",
            "9     1.258641                cc\n",
            "10    1.352288             Doors\n",
            "11    0.000000         Cylinders\n",
            "12    1.271814             Gears\n",
            "13    5.496805     Quarterly_Tax\n",
            "14    4.487491            Weight\n",
            "15    1.210815     Mfr_Guarantee\n",
            "16    1.392485   BOVAG_Guarantee\n",
            "17    1.573026  Guarantee_Period\n",
            "18    2.276617               ABS\n",
            "19    1.612758          Airbag_1\n",
            "20    3.106933          Airbag_2\n",
            "21    1.846429             Airco\n",
            "22    2.009866   Automatic_airco\n",
            "23    2.647036     Boardcomputer\n",
            "24    1.564446         CD_Player\n",
            "25    4.593157      Central_Lock\n",
            "26    4.676311   Powered_Windows\n",
            "27    1.582829    Power_Steering\n",
            "28   62.344621             Radio\n",
            "29    2.076846         Mistlamps\n",
            "30    1.510131       Sport_Model\n",
            "31    2.702141  Backseat_Divider\n",
            "32    1.349642      Metallic_Rim\n",
            "33   62.172860    Radio_cassette\n",
            "34    1.153760           Tow_Bar\n",
            "35         inf            Petrol\n",
            "36         inf            Diesel\n",
            "37         inf               CNG\n"
          ]
        },
        {
          "output_type": "display_data",
          "data": {
            "image/png": "[encoded data removed]",
            "text/plain": [
              "<Figure size 432x288 with 1 Axes>"
            ]
          },
          "metadata": {
            "needs_background": "light"
          }
        },
        {
          "output_type": "display_data",
          "data": {
            "image/png": "[encoded data removed]",
            "text/plain": [
              "<Figure size 432x288 with 1 Axes>"
            ]
          },
          "metadata": {
            "needs_background": "light"
          }
        },
        {
          "output_type": "display_data",
          "data": {
            "image/png": "[encoded data removed]",
            "text/plain": [
              "<Figure size 432x288 with 1 Axes>"
            ]
          },
          "metadata": {
            "needs_background": "light"
          }
        },
        {
          "output_type": "stream",
          "name": "stdout",
          "text": [
            "1248363.723710299\n"
          ]
        }
      ]
    },
    {
      "cell_type": "code",
      "source": [
        ""
      ],
      "metadata": {
        "colab": {
          "base_uri": "https://localhost:8080/"
        },
        "id": "j5lqi0Y_YmrV",
        "outputId": "fe752fd4-8a30-46de-d121-d439fdef371c"
      },
      "execution_count": 14,
      "outputs": [
        {
          "output_type": "execute_result",
          "data": {
            "text/plain": [
              "<torch._C.Generator at 0x7f86d5bd5810>"
            ]
          },
          "metadata": {},
          "execution_count": 14
        }
      ]
    },
    {
      "cell_type": "code",
      "source": [
        ""
      ],
      "metadata": {
        "id": "OAZzWVPMZAzo"
      },
      "execution_count": null,
      "outputs": []
    }
  ]
}