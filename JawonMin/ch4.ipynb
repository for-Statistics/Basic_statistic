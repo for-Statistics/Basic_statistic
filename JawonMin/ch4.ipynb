{
 "cells": [
  {
   "cell_type": "markdown",
   "id": "d95f5496",
   "metadata": {},
   "source": [
    "# CH4. 회귀와 예측 (Regression and Prediction)"
   ]
  },
  {
   "cell_type": "markdown",
   "id": "55548830",
   "metadata": {},
   "source": [
    "## 4.1 단순선형회귀\n",
    "- 상관관계: 두 변수 사이의 전체적인 관련 강도를 측정하는 것\n",
    "- 회귀: 관련 자체를 <b>정량화</b>하는 방법\n",
    "\n",
    "=============================================================================================================\n",
    "###### 용어정리\n",
    "- 응답변수(반응변수, response variable): 예측하고자 하는 변수(유의어: 종속변수, 변수 $Y$, 목표, 출력)\n",
    "- 독립변수(independent variable): 응답치를 예측하기 위해 사용되는 변수(유의어: 예측변수, 변수 $X$, 피처, 속성)\n",
    "- 레코드(record): 한 특정 경우에 대한 입력과 출력을 담고 있는 벡터(유의어: 행, 사건, 예시(instance), 예제(example))\n",
    "- 절편(intercept): 회귀직선의 절편. 즉, $X=0$일 때 예측값(유의어: $B_0, b_0$)\n",
    "- 회귀계수(regression coefficient): 회귀직선의 기울기(유의어: 기울기(slope), $B_1, b_1$, 모수 추정값, 가중치)\n",
    "- 적합값(fitted value): 회귀선으로부터 얻은 추정치 $\\hat{Y}_i$(유의어: 예측값)\n",
    "- 잔차(residual): 관측값과 적합값의 차이(유의어: 오차)\n",
    "- 최소제곱(least square): 잔차 제곱합을 최소화하여 회귀를 피팅하는 방법(유의어: 보통최소제곱, OLS(Ordinary Least Squares))\n",
    "\n",
    "=============================================================================================================\n",
    "\n",
    "<b>*오차와 잔차*</b>\n",
    "- 오차: 모집단으로부터 추정한 회귀식을 통해 얻은 예측값과 실제값의 차이\n",
    "- 잔차: 표본집단으로부터 추정한 회귀식을 통해 얻은 예측값과 실제값의 차이\n",
    "\n",
    "*참고자료*\n",
    "*https://jangpiano-science.tistory.com/116*"
   ]
  },
  {
   "cell_type": "markdown",
   "id": "476b610f",
   "metadata": {},
   "source": [
    "### 4.1.1 회귀식\n",
    "- 회귀식: $Y = b_0 + b_1X$ \n",
    "- $b_0$: 절편(상수)\n",
    "- $b_1$: 계수(coefficient)\n",
    "- $Y$: 응답변수 혹은 종속변수 / 목표벡터(머신러닝 분야)\n",
    "- $X$: 독립변수 혹은 예측변수 / 피처벡터(머신러닝 분야)"
   ]
  },
  {
   "cell_type": "code",
   "execution_count": 1,
   "id": "4c1d5c7c",
   "metadata": {},
   "outputs": [],
   "source": [
    "import numpy as np\n",
    "import pandas as pd\n",
    "\n",
    "import seaborn as sns\n",
    "import matplotlib.pyplot as plt\n",
    "plt.rcParams['font.family'] = 'Malgun Gothic'\n",
    "\n",
    "from sklearn.linear_model import LinearRegression\n",
    "from sklearn.metrics import r2_score, mean_squared_error\n",
    "\n",
    "import statsmodels.api as sm\n",
    "import statsmodels.formula.api as smf\n",
    "from statsmodels.stats.outliers_influence import OLSInfluence\n",
    "\n",
    "# pip install dmba\n",
    "from dmba import stepwise_selection\n",
    "from dmba import AIC_score\n",
    "\n",
    "# pip install pygam\n",
    "from pygam import LinearGAM, s, l"
   ]
  },
  {
   "cell_type": "code",
   "execution_count": 2,
   "id": "5e0d6bf4",
   "metadata": {},
   "outputs": [
    {
     "data": {
      "text/html": [
       "<div>\n",
       "<style scoped>\n",
       "    .dataframe tbody tr th:only-of-type {\n",
       "        vertical-align: middle;\n",
       "    }\n",
       "\n",
       "    .dataframe tbody tr th {\n",
       "        vertical-align: top;\n",
       "    }\n",
       "\n",
       "    .dataframe thead th {\n",
       "        text-align: right;\n",
       "    }\n",
       "</style>\n",
       "<table border=\"1\" class=\"dataframe\">\n",
       "  <thead>\n",
       "    <tr style=\"text-align: right;\">\n",
       "      <th></th>\n",
       "      <th>PEFR</th>\n",
       "      <th>Exposure</th>\n",
       "    </tr>\n",
       "  </thead>\n",
       "  <tbody>\n",
       "    <tr>\n",
       "      <th>0</th>\n",
       "      <td>390</td>\n",
       "      <td>0</td>\n",
       "    </tr>\n",
       "    <tr>\n",
       "      <th>1</th>\n",
       "      <td>410</td>\n",
       "      <td>0</td>\n",
       "    </tr>\n",
       "    <tr>\n",
       "      <th>2</th>\n",
       "      <td>430</td>\n",
       "      <td>0</td>\n",
       "    </tr>\n",
       "    <tr>\n",
       "      <th>3</th>\n",
       "      <td>460</td>\n",
       "      <td>0</td>\n",
       "    </tr>\n",
       "    <tr>\n",
       "      <th>4</th>\n",
       "      <td>420</td>\n",
       "      <td>1</td>\n",
       "    </tr>\n",
       "    <tr>\n",
       "      <th>...</th>\n",
       "      <td>...</td>\n",
       "      <td>...</td>\n",
       "    </tr>\n",
       "    <tr>\n",
       "      <th>117</th>\n",
       "      <td>450</td>\n",
       "      <td>22</td>\n",
       "    </tr>\n",
       "    <tr>\n",
       "      <th>118</th>\n",
       "      <td>490</td>\n",
       "      <td>22</td>\n",
       "    </tr>\n",
       "    <tr>\n",
       "      <th>119</th>\n",
       "      <td>500</td>\n",
       "      <td>22</td>\n",
       "    </tr>\n",
       "    <tr>\n",
       "      <th>120</th>\n",
       "      <td>370</td>\n",
       "      <td>23</td>\n",
       "    </tr>\n",
       "    <tr>\n",
       "      <th>121</th>\n",
       "      <td>390</td>\n",
       "      <td>23</td>\n",
       "    </tr>\n",
       "  </tbody>\n",
       "</table>\n",
       "<p>122 rows × 2 columns</p>\n",
       "</div>"
      ],
      "text/plain": [
       "     PEFR  Exposure\n",
       "0     390         0\n",
       "1     410         0\n",
       "2     430         0\n",
       "3     460         0\n",
       "4     420         1\n",
       "..    ...       ...\n",
       "117   450        22\n",
       "118   490        22\n",
       "119   500        22\n",
       "120   370        23\n",
       "121   390        23\n",
       "\n",
       "[122 rows x 2 columns]"
      ]
     },
     "execution_count": 2,
     "metadata": {},
     "output_type": "execute_result"
    }
   ],
   "source": [
    "lung = pd.read_csv('C:/data/stats_for_ds/LungDisease.csv'); lung"
   ]
  },
  {
   "cell_type": "code",
   "execution_count": 3,
   "id": "f44eecf7",
   "metadata": {},
   "outputs": [
    {
     "name": "stdout",
     "output_type": "stream",
     "text": [
      "Intercept: 424.583\n",
      "Coefficient Exposure: -4.185\n"
     ]
    }
   ],
   "source": [
    "predictors = ['Exposure'] \n",
    "outcome = 'PEFR'\n",
    "\n",
    "model = LinearRegression()\n",
    "model.fit(lung[predictors], lung[outcome])\n",
    "                                 \n",
    "print(f'Intercept: {model.intercept_:.3f}')\n",
    "print(f'Coefficient Exposure: {model.coef_[0]:.3f}')"
   ]
  },
  {
   "cell_type": "code",
   "execution_count": 4,
   "id": "99d0afe3",
   "metadata": {},
   "outputs": [],
   "source": [
    "# lung['Exposure']과 lung[['Exposure']]의 차이\n",
    "# lung['Exposure']\n",
    "# lung[['Exposure']]"
   ]
  },
  {
   "cell_type": "code",
   "execution_count": 5,
   "id": "fc021800",
   "metadata": {},
   "outputs": [
    {
     "data": {
      "image/png": "[encoded data removed]",
      "text/plain": [
       "<Figure size 288x288 with 1 Axes>"
      ]
     },
     "metadata": {
      "needs_background": "light"
     },
     "output_type": "display_data"
    }
   ],
   "source": [
    "## [그림 4-2] 폐활량 회귀 적합도의 기울기 및 절편\n",
    "fig, ax = plt.subplots(figsize=(4, 4))\n",
    "\n",
    "ax.set_xlim(0, 23)\n",
    "ax.set_ylim(295, 450)\n",
    "ax.set_xlabel('Exposure')\n",
    "ax.set_ylabel('PEFR')\n",
    "ax.plot((0, 23), model.predict([[0], [23]]))\n",
    "ax.text(0.4, model.intercept_, r'$b_0$', size='larger')\n",
    "\n",
    "x = [[7.5], [17.5]]\n",
    "y = model.predict(x)\n",
    "ax.plot((7.5, 7.5, 17.5), (y[0], y[1], y[1]), '--')\n",
    "ax.text(5, np.mean(y), r'$\\Delta Y$', size='larger')\n",
    "ax.text(12, y[1] - 10, r'$\\Delta X$', size='larger')\n",
    "ax.text(12, 390, r'$b_1 = \\frac{\\Delta Y}{\\Delta X}$', size='larger')\n",
    "ax.set_title('폐활량 회귀 적합도의 기울기 및 절편')\n",
    "\n",
    "plt.tight_layout()\n",
    "plt.show()"
   ]
  },
  {
   "cell_type": "markdown",
   "id": "de772264",
   "metadata": {},
   "source": [
    "### 4.1.2 적합값과 잔차\n",
    "- 오차항 $e_i$: 모든 데이터가 정확히 한 직선 안에 들어오지는 않는다. 따라서 회귀식은 명시적으로 오차항을 포함한다. <br><br>\n",
    "                                                          \n",
    " $$Y_i = b_0 + b_1X + e_i$$ \n",
    "\n",
    "- $\\hat{Y}_i$: 적합값(예측값)\n",
    "- $\\hat{b}_0, \\hat{b}_1$: 추정을 통해 얻은 값을 의미 \n",
    "\n",
    " $$\\hat{Y}_i = \\hat{b}_0 + \\hat{b}_1X_i $$ \n",
    "- $\\hat{e}_i$: 잔차 \n",
    "\n",
    " $$\\hat{e}_i = Y - \\hat{Y}_i$$"
   ]
  },
  {
   "cell_type": "code",
   "execution_count": 6,
   "id": "0d34fc53",
   "metadata": {},
   "outputs": [
    {
     "name": "stdout",
     "output_type": "stream",
     "text": [
      "[424.58280657 424.58280657 424.58280657 424.58280657 420.39823009\n",
      " 416.2136536  416.2136536  416.2136536  412.02907712 412.02907712\n",
      " 412.02907712 412.02907712 412.02907712 412.02907712 407.84450063\n",
      " 407.84450063 407.84450063 407.84450063 407.84450063 407.84450063\n",
      " 403.65992415 399.47534766 399.47534766 399.47534766 399.47534766\n",
      " 399.47534766 395.29077118 395.29077118 395.29077118 395.29077118\n",
      " 395.29077118 395.29077118 395.29077118 391.10619469 386.9216182\n",
      " 382.73704172 382.73704172 382.73704172 374.36788875 374.36788875\n",
      " 370.18331226 370.18331226 370.18331226 370.18331226 370.18331226\n",
      " 370.18331226 370.18331226 370.18331226 365.99873578 365.99873578\n",
      " 365.99873578 365.99873578 365.99873578 365.99873578 361.81415929\n",
      " 361.81415929 361.81415929 357.62958281 357.62958281 353.44500632\n",
      " 353.44500632 353.44500632 353.44500632 353.44500632 353.44500632\n",
      " 349.26042984 349.26042984 349.26042984 349.26042984 345.07585335\n",
      " 345.07585335 345.07585335 345.07585335 345.07585335 345.07585335\n",
      " 345.07585335 345.07585335 345.07585335 345.07585335 345.07585335\n",
      " 345.07585335 345.07585335 340.89127686 340.89127686 340.89127686\n",
      " 340.89127686 340.89127686 340.89127686 340.89127686 340.89127686\n",
      " 340.89127686 340.89127686 340.89127686 340.89127686 340.89127686\n",
      " 340.89127686 340.89127686 340.89127686 340.89127686 340.89127686\n",
      " 340.89127686 340.89127686 340.89127686 340.89127686 336.70670038\n",
      " 336.70670038 336.70670038 336.70670038 336.70670038 336.70670038\n",
      " 336.70670038 336.70670038 336.70670038 336.70670038 332.52212389\n",
      " 332.52212389 332.52212389 332.52212389 332.52212389 332.52212389\n",
      " 328.33754741 328.33754741] 0      -34.582807\n",
      "1      -14.582807\n",
      "2        5.417193\n",
      "3       35.417193\n",
      "4       -0.398230\n",
      "          ...    \n",
      "117    117.477876\n",
      "118    157.477876\n",
      "119    167.477876\n",
      "120     41.662453\n",
      "121     61.662453\n",
      "Name: PEFR, Length: 122, dtype: float64\n"
     ]
    }
   ],
   "source": [
    "fitted = model.predict(lung[predictors])\n",
    "residuals = lung[outcome] - fitted\n",
    "\n",
    "print(fitted, residuals)"
   ]
  },
  {
   "cell_type": "code",
   "execution_count": 7,
   "id": "952f3282",
   "metadata": {},
   "outputs": [
    {
     "data": {
      "image/png": "[encoded data removed]",
      "text/plain": [
       "<Figure size 288x288 with 1 Axes>"
      ]
     },
     "metadata": {
      "needs_background": "light"
     },
     "output_type": "display_data"
    }
   ],
   "source": [
    "## [그림 4-3] 회귀선에 대한 잔차\n",
    "ax = lung.plot.scatter(x='Exposure', y='PEFR', figsize=(4, 4))\n",
    "ax.plot(lung.Exposure, fitted)\n",
    "for x, yactual, yfitted in zip(lung.Exposure, lung.PEFR, fitted): \n",
    "    ax.plot((x, x), (yactual, yfitted), '--', color='C1')\n",
    "\n",
    "ax.set_title('회귀선에 대한 잔차')\n",
    "\n",
    "plt.tight_layout()\n",
    "plt.show()"
   ]
  },
  {
   "cell_type": "markdown",
   "id": "e1b7a3a1",
   "metadata": {},
   "source": [
    "### 4.1.3 최소제곱\n",
    "\n",
    "- 최소제곱법: 잔차제곱합(RSS, residual sum of squares)을 최소화하는 선으로 회귀선을 추정하는 방법 (유의어:최소제곱회귀, 보통최소제곱, OLS)\n",
    "\n",
    "$$ RSS = \\sum_i^N (Y_i - \\hat{Y}_i)^2 = \\sum_i^N (Y_i - \\hat{b}_0 - \\hat{b}_iX_i)^2 $$"
   ]
  },
  {
   "cell_type": "markdown",
   "id": "26fb0c5e",
   "metadata": {},
   "source": [
    "### 4.1.4 예측 대 설명(프로파일링)\n",
    "\n",
    "\n",
    "###### 주요개념\n",
    "- 회귀방정식은 응답변수 $Y$와 예측변수 $X$간의 관계를 선형함수로 모델링한다.\n",
    "- 회귀모형은 적합값과 잔차, 즉 반응에 대한 예측과 그 예측 오차를 산출한다.\n",
    "- 회귀모형은 일반적으로 최소제곱법을 이용해 피팅한다.\n",
    "- 회귀는 예측과 설명 모두에 사용된다."
   ]
  },
  {
   "cell_type": "markdown",
   "id": "02823e58",
   "metadata": {},
   "source": [
    "## 4.2 다중선형회귀\n",
    "- 예측변수가 여러개인 경우\n",
    "- 더 이상 직선의 형태는 아니지만, 각 계수와 그 변수(특징)들 사이의 관계는 여전이 선형이므로 선형모형이다.\n",
    "\n",
    "$$ Y = b_0 + b_1X_1 + b_2X_2 + ... b_pX_p + e $$\n",
    "\n",
    "- 다른 모든 변수 $X_k(k =!= j)$가 고정되었다고 가정했을 때, $X_j$가 변하는 정도에 따라 예측값 $\\hat{Y}$도 $b_j$에 비례해 변화한다.\n",
    "\n",
    "===========================================================================================================\n",
    "###### 용어정리\n",
    "- 제곱근평균제곱오차(RMSE, root mean squared error): 회귀 시 평균제곱오차의 제곱근. 회귀모형을 평가하는 데 가장 널리 사용되는 측정 지표\n",
    "- 잔차 표준오차(RSE, residual standard error): 평균제곱오차(MSE)와 동일하지만 자유도에 따라 보정된 값\n",
    "- $R^2$(r-squared): 0에서 1까지 모델에 의해 설명된 분산의 비율(유의어: 결정계수(coefficient of determination, R 제곱)\n",
    "- t-statistic(t 통계량): 계수의 표준오차로 나눈 예측변수의 계수, 모델에서 변수의 중요도를 비교하는 기준이 된다.\n",
    "- 가중회귀(weighted regression): 다른 가중치를 가진 레코드들을 회귀하는 방법\n",
    "\n",
    "==========================================================================================================="
   ]
  },
  {
   "cell_type": "markdown",
   "id": "1a1c2f7d",
   "metadata": {},
   "source": [
    "### 4.2.1 킹 카운티 주택 정보 예제\n"
   ]
  },
  {
   "cell_type": "code",
   "execution_count": 8,
   "id": "178b7614",
   "metadata": {},
   "outputs": [
    {
     "name": "stdout",
     "output_type": "stream",
     "text": [
      "   AdjSalePrice  SqFtTotLiving  SqFtLot  Bathrooms  Bedrooms  BldgGrade\n",
      "1      300805.0           2400     9373       3.00         6          7\n",
      "2     1076162.0           3764    20156       3.75         4         10\n",
      "3      761805.0           2060    26036       1.75         4          8\n",
      "4      442065.0           3200     8618       3.75         5          7\n",
      "5      297065.0           1720     8620       1.75         4          7\n"
     ]
    }
   ],
   "source": [
    "# 예제: 판매 금액 예측\n",
    "subset = ['AdjSalePrice', 'SqFtTotLiving', 'SqFtLot', 'Bathrooms', 'Bedrooms', 'BldgGrade']\n",
    "\n",
    "house = pd.read_csv('C:/data/stats_for_ds/house_sales.csv', sep='\\t')\n",
    "print(house[subset].head())"
   ]
  },
  {
   "cell_type": "code",
   "execution_count": 9,
   "id": "bb19d0c9",
   "metadata": {},
   "outputs": [
    {
     "name": "stdout",
     "output_type": "stream",
     "text": [
      "Intercept: -521871.368\n",
      "Coefficients:\n",
      " SqFtTotLiving: 228.8306036024074\n",
      " SqFtLot: -0.06046682065303883\n",
      " Bathrooms: -19442.840398321023\n",
      " Bedrooms: -47769.95518521431\n",
      " BldgGrade: 106106.96307898095\n"
     ]
    }
   ],
   "source": [
    "predictors = ['SqFtTotLiving', 'SqFtLot', 'Bathrooms', 'Bedrooms', 'BldgGrade']\n",
    "outcome = 'AdjSalePrice'\n",
    "\n",
    "house_lm = LinearRegression()\n",
    "house_lm.fit(house[predictors], house[outcome])\n",
    "\n",
    "print(f'Intercept: {house_lm.intercept_:.3f}')\n",
    "print('Coefficients:')\n",
    "for name, coef in zip(predictors, house_lm.coef_):\n",
    "    print(f' {name}: {coef}')"
   ]
  },
  {
   "cell_type": "markdown",
   "id": "9a27db1c",
   "metadata": {},
   "source": [
    "### 4.2.2 모형 평가\n",
    "- RMSE(제곱근평균제곱오차): 예측된 $\\hat{y}_i$값들의 평균제곱오차의 제곱근\n",
    "- RMSE를 활용하여 전반적인 모델의 정확도를 측정하고 다른 모델(ML로 학습된 모델 포함)과 비교하기 위한 기준이 된다.\n",
    "\n",
    "$$ RMSE = \\sqrt{ \\frac{ \\sum_i^n(y_i - \\hat{y}_i)^2} {n} } $$\n",
    "\n",
    "- RSE(잔차표준오차) ($p$ = 예측변수의 갯수)\n",
    "- 분모가 데이터 수가 아닌 자유도\n",
    "\n",
    "$$ RSE = \\sqrt { \\frac {\\sum_i^n(y_i - \\hat{y}_i)^2) } { (n-p-1) } } $$\n",
    "\n",
    "- 실무에서 선형회귀분석을 할 때, $RMSE$와 $RSE$의 차이는 아주 작다. 특히 빅데이터 분야에서는 더 그렇다"
   ]
  },
  {
   "cell_type": "code",
   "execution_count": 10,
   "id": "3ce1f075",
   "metadata": {},
   "outputs": [],
   "source": [
    "from sklearn.metrics import r2_score, mean_squared_error"
   ]
  },
  {
   "cell_type": "code",
   "execution_count": 11,
   "id": "6e1ff4fb",
   "metadata": {},
   "outputs": [
    {
     "name": "stdout",
     "output_type": "stream",
     "text": [
      "RMSE: 261220\n",
      "r2: 0.5406\n"
     ]
    }
   ],
   "source": [
    "fitted = house_lm.predict(house[predictors])\n",
    "RMSE = np.sqrt(mean_squared_error(house[outcome], fitted))\n",
    "r2 = r2_score(house[outcome], fitted)\n",
    "print(f'RMSE: {RMSE:.0f}')\n",
    "print(f'r2: {r2:.4f}')"
   ]
  },
  {
   "cell_type": "code",
   "execution_count": 12,
   "id": "75e25453",
   "metadata": {},
   "outputs": [],
   "source": [
    "# 회귀모형에 대한 더 자세한 분석을 하려면 statsmodels를 사용\n",
    "import statsmodels.api as sm"
   ]
  },
  {
   "cell_type": "code",
   "execution_count": 13,
   "id": "4c951f81",
   "metadata": {},
   "outputs": [
    {
     "name": "stdout",
     "output_type": "stream",
     "text": [
      "                            OLS Regression Results                            \n",
      "==============================================================================\n",
      "Dep. Variable:           AdjSalePrice   R-squared:                       0.541\n",
      "Model:                            OLS   Adj. R-squared:                  0.540\n",
      "Method:                 Least Squares   F-statistic:                     5338.\n",
      "Date:                Fri, 22 Oct 2021   Prob (F-statistic):               0.00\n",
      "Time:                        02:09:29   Log-Likelihood:            -3.1517e+05\n",
      "No. Observations:               22687   AIC:                         6.304e+05\n",
      "Df Residuals:                   22681   BIC:                         6.304e+05\n",
      "Df Model:                           5                                         \n",
      "Covariance Type:            nonrobust                                         \n",
      "=================================================================================\n",
      "                    coef    std err          t      P>|t|      [0.025      0.975]\n",
      "---------------------------------------------------------------------------------\n",
      "SqFtTotLiving   228.8306      3.899     58.694      0.000     221.189     236.472\n",
      "SqFtLot          -0.0605      0.061     -0.988      0.323      -0.180       0.059\n",
      "Bathrooms     -1.944e+04   3625.388     -5.363      0.000   -2.65e+04   -1.23e+04\n",
      "Bedrooms      -4.777e+04   2489.732    -19.187      0.000   -5.27e+04   -4.29e+04\n",
      "BldgGrade      1.061e+05   2396.445     44.277      0.000    1.01e+05    1.11e+05\n",
      "const         -5.219e+05   1.57e+04    -33.342      0.000   -5.53e+05   -4.91e+05\n",
      "==============================================================================\n",
      "Omnibus:                    29676.557   Durbin-Watson:                   1.247\n",
      "Prob(Omnibus):                  0.000   Jarque-Bera (JB):         19390738.346\n",
      "Skew:                           6.889   Prob(JB):                         0.00\n",
      "Kurtosis:                     145.559   Cond. No.                     2.86e+05\n",
      "==============================================================================\n",
      "\n",
      "Notes:\n",
      "[1] Standard Errors assume that the covariance matrix of the errors is correctly specified.\n",
      "[2] The condition number is large, 2.86e+05. This might indicate that there are\n",
      "strong multicollinearity or other numerical problems.\n"
     ]
    }
   ],
   "source": [
    "model = sm.OLS(house[outcome], house[predictors].assign(const=1)) # assign메서드는 값이 1인 상수열을 예측변수에 추가. 절편 모델링을 위해 필요\n",
    "results = model.fit()\n",
    "print(results.summary())"
   ]
  },
  {
   "cell_type": "markdown",
   "id": "eb53408f",
   "metadata": {},
   "source": [
    "- <b> 결정계수($R^2$) </b>\n",
    " - 0 ~ 1 사이의 값으로 모델 데이터의 변동률을 측정. \n",
    " - 모델이 데이터에 얼마나 적합한지 평가하고자 할 때, 회귀분석을 설명하기 위한 용도로 활용\n",
    "\n",
    "$$ R^2 = 1 - \\frac {\\sum_i^n (y_i - \\hat{y}_i)^2 } {\\sum_i^n (y_i - \\bar{y}_i)^2 } $$\n",
    "\n",
    "- <b> 수정된 결정계수 (adjusted R-squared, $R_a^2$) </b>\n",
    " - 더 많은 예측변수를 추가하는 것에 대해 효과적으로 페널티를 가한다.\n",
    " - 큰 데이터 집합에 대한 다중회귀분석에서 일반 R 제곱과 크게 다르지 않다. <br>\n",
    "\n",
    "\n",
    "- <b> t-statistic, 계수의 표준오차(SE) </b>\n",
    " $$ t_b = \\frac {\\hat{b}} {SE(\\hat{b})} $$"
   ]
  },
  {
   "cell_type": "markdown",
   "id": "dd76aebf",
   "metadata": {},
   "source": [
    "### 4.2.3 교차타당성 검사\n",
    "- <b> 교차타당성검사(cross-validation) </b>\n",
    " - 홀드아웃 샘플 아이디어를 여러 개의 연속된 홀드아웃 샘플로 확장한 것 \n",
    " \n",
    " <br>\n",
    " \n",
    "- <b> 기본적인 k-fold cross-validation 알고리즘 </b> <br>\n",
    "  1. 1/$k$개의 데이터를 홀드아웃 샘플로 따로 뗴어놓는다.\n",
    "  2. 남아있는 데이터로 모델을 훈련시킨다.\n",
    "  3. 모델을 1/$k$ 홀드아웃에 적용 (점수를 매김)하고 필요한 모델 평가 지표를 기록한다.\n",
    "  4. 데이터의 첫 번째 1/$k$를 복원하고 다음 1/$k$(앞에서 선택했던 레코드는 제외)을 따로 보관한다.\n",
    "  5. 2~3단계를 반복한다.\n",
    "  6. 모든 레코드가 홀드아웃 샘플로 사용될 때까지 반복한다.\n",
    "  7. 모델 평가 지표들을 평균과 같은 방식으로 결합한다.\n",
    "  \n",
    " *훈련을 위한 샘플과 홀드아웃 샘플로 데이터를 나누는 것을 fold라고 한다.*"
   ]
  },
  {
   "cell_type": "markdown",
   "id": "f5276af7",
   "metadata": {},
   "source": [
    "### 4.2.4 모형 선택 및 단계적 회귀\n",
    "- 예측변수의 수를 추가한다고 해서 꼭 더 좋은 모델을 얻는것은 아니다.\n",
    "- 통계학자들은 모델 선택을 위한 지침으로 <b>오컴의 면도날</b> 원리를 사용한다. 모든 것이 동일한 조건에서는, 복잡한 모델보다 단순한 모델을 우선 사용해야 한다는 원리이다."
   ]
  },
  {
   "cell_type": "code",
   "execution_count": 14,
   "id": "281177da",
   "metadata": {},
   "outputs": [
    {
     "name": "stdout",
     "output_type": "stream",
     "text": [
      "                            OLS Regression Results                            \n",
      "==============================================================================\n",
      "Dep. Variable:           AdjSalePrice   R-squared:                       0.595\n",
      "Model:                            OLS   Adj. R-squared:                  0.594\n",
      "Method:                 Least Squares   F-statistic:                     2771.\n",
      "Date:                Fri, 22 Oct 2021   Prob (F-statistic):               0.00\n",
      "Time:                        02:09:32   Log-Likelihood:            -3.1375e+05\n",
      "No. Observations:               22687   AIC:                         6.275e+05\n",
      "Df Residuals:                   22674   BIC:                         6.276e+05\n",
      "Df Model:                          12                                         \n",
      "Covariance Type:            nonrobust                                         \n",
      "==============================================================================================\n",
      "                                 coef    std err          t      P>|t|      [0.025      0.975]\n",
      "----------------------------------------------------------------------------------------------\n",
      "SqFtTotLiving                198.6364      4.234     46.920      0.000     190.338     206.934\n",
      "SqFtLot                        0.0771      0.058      1.330      0.184      -0.037       0.191\n",
      "Bathrooms                   4.286e+04   3808.114     11.255      0.000    3.54e+04    5.03e+04\n",
      "Bedrooms                   -5.187e+04   2396.904    -21.638      0.000   -5.66e+04   -4.72e+04\n",
      "BldgGrade                   1.373e+05   2441.242     56.228      0.000    1.32e+05    1.42e+05\n",
      "NbrLivingUnits              5723.8438   1.76e+04      0.326      0.744   -2.87e+04    4.01e+04\n",
      "SqFtFinBasement                7.0611      4.627      1.526      0.127      -2.009      16.131\n",
      "YrBuilt                    -3574.2210     77.228    -46.282      0.000   -3725.593   -3422.849\n",
      "YrRenovated                   -2.5311      3.924     -0.645      0.519     -10.222       5.160\n",
      "NewConstruction            -2489.1122   5936.692     -0.419      0.675   -1.41e+04    9147.211\n",
      "PropertyType_Single Family  2.997e+04   2.61e+04      1.149      0.251   -2.12e+04    8.11e+04\n",
      "PropertyType_Townhouse      9.286e+04    2.7e+04      3.438      0.001    3.99e+04    1.46e+05\n",
      "const                       6.182e+06   1.55e+05     39.902      0.000    5.88e+06    6.49e+06\n",
      "==============================================================================\n",
      "Omnibus:                    31006.128   Durbin-Watson:                   1.393\n",
      "Prob(Omnibus):                  0.000   Jarque-Bera (JB):         26251977.078\n",
      "Skew:                           7.427   Prob(JB):                         0.00\n",
      "Kurtosis:                     168.984   Cond. No.                     2.98e+06\n",
      "==============================================================================\n",
      "\n",
      "Notes:\n",
      "[1] Standard Errors assume that the covariance matrix of the errors is correctly specified.\n",
      "[2] The condition number is large, 2.98e+06. This might indicate that there are\n",
      "strong multicollinearity or other numerical problems.\n"
     ]
    }
   ],
   "source": [
    "predictors = ['SqFtTotLiving', 'SqFtLot', 'Bathrooms', 'Bedrooms',\n",
    "              'BldgGrade', 'PropertyType', 'NbrLivingUnits',\n",
    "              'SqFtFinBasement', 'YrBuilt', 'YrRenovated', \n",
    "              'NewConstruction']\n",
    "\n",
    "X = pd.get_dummies(house[predictors], drop_first=True)\n",
    "X['NewConstruction'] = [1 if nc else 0 for nc in X['NewConstruction']]\n",
    "\n",
    "house_full = sm.OLS(house[outcome], X.assign(const=1))\n",
    "results = house_full.fit()\n",
    "print(results.summary())"
   ]
  },
  {
   "cell_type": "markdown",
   "id": "15ac8400",
   "metadata": {},
   "source": [
    "- 모델 적합성을 함께 고려하는 방법: \n",
    "\n",
    "1. $Adjusted R-squre$ 활용 ($n$: 레코드 수, $P$:변수 수)\n",
    "\n",
    "$$ R_a^2 = 1-(1-R^2) \\frac{n-1} {n-P-1} $$\n",
    "\n",
    "<br>\n",
    "\n",
    "2. $AIC$(Akaike's information criteria): 모델에 항을 추가할수록 불이익을 주는 것\n",
    " - 다음은 회귀분석에서의 AIC 형식($n$: 레코드 수, $P$:변수 수)\n",
    " - 목표는 AIC를 최소화하는 모델을 찾는 것\n",
    " - k개 변수를 추가하면 2k만큼의 불이익을 받는다.\n",
    " \n",
    " $$ AIC = sP + n \\log{RSS/n}$$\n",
    " \n",
    " ###### CAUTION_ $AIC, BIC$, 멜로즈 $C_p$\n",
    " AIC에 대한 수식은 살짝 이상할 수 있다. 하지만 사실 이 수식은 정보이론에서 나온 점진적 결론에 의한 것이다. AIC는 몇 가지 변형이 있다.\n",
    " - $AICc$: 크기가 작은 표본을 위해 수정된 $AIC$\n",
    " - $BIC$(Bayesian information criteria): $AIC$와 비슷하지만 변수 추가에 대해 더 강한 벌점을 주는 정보기준\n",
    " - 멜로즈 $C_p$: 콜린 링우드 멜로즈(Collin Lingwood Mallows)가 제안한 $AIC$ 변형\n",
    " <br>\n",
    " 이들은 일반적으로 표본 내 측정 지표(즉, 훈련 데이터)로 보고되며, 모델 평가를 위해 홀드아웃 데이터를 사용하는 데이터 과학자들은 보통 이와 같은 표본 내 측정 지표들 사이의 차이나 이들을 뒷받침하는 이론에 대해 크게 걱정하지 않아도 된다."
   ]
  },
  {
   "cell_type": "markdown",
   "id": "cc6f3dd4",
   "metadata": {},
   "source": [
    "<b>*최적의 회귀 모델을 찾는 방법*</b>\n",
    "1. 부분집합회귀(all subset regression)\n",
    " - 모든 가능한 모델을 검색하는 방법\n",
    " - 계산 비용이 많이 들며, 대용량 데이터와 변수가 많은 문제에 적합하지 않다.\n",
    " \n",
    " <br>\n",
    " \n",
    "2. 단계적 회귀(stepwise regression)\n",
    " - 부분집합회귀의 대안으로 <b>후진제거, 전진선택, 단계적 선택법</b>이 있다. <br>\n",
    " (1) 후진제거(Backward elimination): 전체 모델부터 시작하여 별로 의미 없는 변수들을 연속적으로 삭제 <br>\n",
    " (2) 전진선택(Forward Selection): 상수 모델에서 시작하여 연속적으로 변수 추가 <br>\n",
    " (3) 단계적 선택법(Bidiectional elimination): 예측변수를 연속적으로 추가/삭제하여 AIC를 낮추는 혹은 $R^2$을 높이는 모델을 찾을 수 있다. <br>\n",
    " \n",
    "3. 벌점회귀(penalized regression)\n",
    " - 개념적으로 AIC와 유사\n",
    " - 개별 모델 집합들을 명시적으로 검색하는 대신 모델 적합 방정식에 많은 변수(파라미터)에 대해 모델에 불이익을 주는 제약조건 추가\n",
    " - 단계적, 전진석택, 후진제거와 달리 계수 크기를 감소시키거나 경우에 따라 거의 0으로 만들어 벌점을 적용\n",
    " - 많이 사용되는 방법으로는 <b>능형회귀, 라소</b>가 있다.\n",
    " \n",
    "<br><br>\n",
    "\n",
    "- 단계적 회귀분석과 모든 부분집합회귀는 표본 내 방법.\n",
    "- 따라서, 새 데이터를 적용할 때 잘 맞지 않을 수 있음\n",
    "- 이를 방지하기 위한 공통적인 접근법 중 하나는 <b>교차타당성검사</b>를 통해 모델의 유효성을 알아보는 것"
   ]
  },
  {
   "cell_type": "code",
   "execution_count": 15,
   "id": "7b76a39d",
   "metadata": {},
   "outputs": [],
   "source": [
    "# 사이킷런은 단계적 회귀를 구현해놓지 않았다\n",
    "# dmba 패키지에는 stepwise_selection, forward_selection, backward_selection 함수를 구현했다.\n",
    "\n",
    "from dmba import stepwise_selection\n",
    "from dmba import AIC_score"
   ]
  },
  {
   "cell_type": "code",
   "execution_count": 16,
   "id": "1ca3ec57",
   "metadata": {},
   "outputs": [
    {
     "name": "stdout",
     "output_type": "stream",
     "text": [
      "Variables: SqFtTotLiving, SqFtLot, Bathrooms, Bedrooms, BldgGrade, NbrLivingUnits, SqFtFinBasement, YrBuilt, YrRenovated, NewConstruction, PropertyType_Single Family, PropertyType_Townhouse\n",
      "Start: score=647988.32, constant\n",
      "Step: score=633013.35, add SqFtTotLiving\n",
      "Step: score=630793.74, add BldgGrade\n",
      "Step: score=628230.29, add YrBuilt\n",
      "Step: score=627784.16, add Bedrooms\n",
      "Step: score=627602.21, add Bathrooms\n",
      "Step: score=627525.65, add PropertyType_Townhouse\n",
      "Step: score=627525.08, add SqFtFinBasement\n",
      "Step: score=627524.98, add PropertyType_Single Family\n",
      "Step: score=627524.98, unchanged None\n",
      "\n",
      "Intercept: 6178645.017\n",
      "Coefficients:\n",
      " SqFtTotLiving: 199.2775530420154\n",
      " BldgGrade: 137159.5602262004\n",
      " YrBuilt: -3565.424939249331\n",
      " Bedrooms: -51947.38367361374\n",
      " Bathrooms: 42396.16452771891\n",
      " PropertyType_Townhouse: 84479.16203300106\n",
      " SqFtFinBasement: 7.046974967571178\n",
      " PropertyType_Single Family: 22912.05518701787\n"
     ]
    }
   ],
   "source": [
    "y = house[outcome]\n",
    "\n",
    "# 1. 주어진 변수 집합에 대해 적합 모델을 반환하는 함수\n",
    "def train_model(variables):\n",
    "    if len(variables) == 0:\n",
    "        return None\n",
    "    model = LinearRegression()\n",
    "    model.fit(X[variables], y)\n",
    "    return model\n",
    "\n",
    "# 2.주어진 모델과 변수 세트에 대한 점수를 반환하는 함수 (dbma의 AIC_score 사용)\n",
    "def score_model(model, variables):\n",
    "    if len(variables) == 0:\n",
    "        return AIC_score(y, [y.mean()] * len(y), model, df=1)\n",
    "    return AIC_score(y, model.predict(X[variables]), model)\n",
    "\n",
    "best_model, best_variables = stepwise_selection(X.columns, train_model, score_model, \n",
    "                                                verbose=True)\n",
    "\n",
    "print()\n",
    "print(f'Intercept: {best_model.intercept_:.3f}')\n",
    "print('Coefficients:')\n",
    "for name, coef in zip(best_variables, best_model.coef_):\n",
    "    print(f' {name}: {coef}')"
   ]
  },
  {
   "cell_type": "markdown",
   "id": "5c626266",
   "metadata": {},
   "source": [
    "#### 4.2.5 가중회귀\n",
    "- 가중회귀의 유용성\n",
    " 1. 서로 다른 관측치를 다른 정밀도로 측정했을 때, 역분산 가중치를 얻을 수 있다. 분산이 높을수록 가중치가 낮다.\n",
    " 2. 가중치 변수가 집계된 데이터의 각 행이 나타내는 원본 관측치의 수를 인코딩하도록, 행이 여러 경우를 의미하는 데이터를 분석할 수 있다."
   ]
  },
  {
   "cell_type": "code",
   "execution_count": 17,
   "id": "25d455e5",
   "metadata": {},
   "outputs": [
    {
     "data": {
      "text/plain": [
       "LinearRegression()"
      ]
     },
     "execution_count": 17,
     "metadata": {},
     "output_type": "execute_result"
    }
   ],
   "source": [
    "# 주택 가격 데이터 예시\n",
    "'''\n",
    "오래된 매매 정보일수록 최근 정보보다는 신뢰하기 어렵다.\n",
    "따라서, 2005년 이래 지난 연수를 가중치로 사용할 수 있다.\n",
    "'''\n",
    "house['Year'] = [int(date.split('-')[0]) for date in house.DocumentDate]\n",
    "house['Year'] = house.DocumentDate.apply(lambda d: int(d.split('-')[0]))\n",
    "house['Weight'] = house.Year - 2005 \n",
    "\n",
    "predictors = ['SqFtTotLiving', 'SqFtLot', 'Bathrooms', \n",
    "              'Bedrooms', 'BldgGrade']\n",
    "outcome = 'AdjSalePrice'\n",
    "\n",
    "house_wt = LinearRegression()\n",
    "house_wt.fit(house[predictors], house[outcome], sample_weight=house.Weight)"
   ]
  },
  {
   "cell_type": "code",
   "execution_count": 18,
   "id": "7e9f1347",
   "metadata": {},
   "outputs": [
    {
     "data": {
      "text/html": [
       "<div>\n",
       "<style scoped>\n",
       "    .dataframe tbody tr th:only-of-type {\n",
       "        vertical-align: middle;\n",
       "    }\n",
       "\n",
       "    .dataframe tbody tr th {\n",
       "        vertical-align: top;\n",
       "    }\n",
       "\n",
       "    .dataframe thead th {\n",
       "        text-align: right;\n",
       "    }\n",
       "</style>\n",
       "<table border=\"1\" class=\"dataframe\">\n",
       "  <thead>\n",
       "    <tr style=\"text-align: right;\">\n",
       "      <th></th>\n",
       "      <th>predictor</th>\n",
       "      <th>house_lm</th>\n",
       "      <th>house_wt</th>\n",
       "    </tr>\n",
       "  </thead>\n",
       "  <tbody>\n",
       "    <tr>\n",
       "      <th>0</th>\n",
       "      <td>SqFtTotLiving</td>\n",
       "      <td>228.830604</td>\n",
       "      <td>245.024089</td>\n",
       "    </tr>\n",
       "    <tr>\n",
       "      <th>1</th>\n",
       "      <td>SqFtLot</td>\n",
       "      <td>-0.060467</td>\n",
       "      <td>-0.292415</td>\n",
       "    </tr>\n",
       "    <tr>\n",
       "      <th>2</th>\n",
       "      <td>Bathrooms</td>\n",
       "      <td>-19442.840398</td>\n",
       "      <td>-26085.970109</td>\n",
       "    </tr>\n",
       "    <tr>\n",
       "      <th>3</th>\n",
       "      <td>Bedrooms</td>\n",
       "      <td>-47769.955185</td>\n",
       "      <td>-53608.876436</td>\n",
       "    </tr>\n",
       "    <tr>\n",
       "      <th>4</th>\n",
       "      <td>BldgGrade</td>\n",
       "      <td>106106.963079</td>\n",
       "      <td>115242.434726</td>\n",
       "    </tr>\n",
       "    <tr>\n",
       "      <th>5</th>\n",
       "      <td>intercept</td>\n",
       "      <td>-521871.368188</td>\n",
       "      <td>-584189.329446</td>\n",
       "    </tr>\n",
       "  </tbody>\n",
       "</table>\n",
       "</div>"
      ],
      "text/plain": [
       "       predictor       house_lm       house_wt\n",
       "0  SqFtTotLiving     228.830604     245.024089\n",
       "1        SqFtLot      -0.060467      -0.292415\n",
       "2      Bathrooms  -19442.840398  -26085.970109\n",
       "3       Bedrooms  -47769.955185  -53608.876436\n",
       "4      BldgGrade  106106.963079  115242.434726\n",
       "5      intercept -521871.368188 -584189.329446"
      ]
     },
     "execution_count": 18,
     "metadata": {},
     "output_type": "execute_result"
    }
   ],
   "source": [
    "pd.DataFrame({\n",
    "    'predictor': predictors,\n",
    "    'house_lm': house_lm.coef_,\n",
    "    'house_wt': house_wt.coef_,\n",
    "}).append({\n",
    "    'predictor': 'intercept', \n",
    "    'house_lm': house_lm.intercept_,\n",
    "    'house_wt': house_wt.intercept_,\n",
    "}, ignore_index=True)"
   ]
  },
  {
   "cell_type": "code",
   "execution_count": 19,
   "id": "abf90557",
   "metadata": {},
   "outputs": [
    {
     "data": {
      "text/plain": [
       "LinearRegression()"
      ]
     },
     "execution_count": 19,
     "metadata": {},
     "output_type": "execute_result"
    }
   ],
   "source": [
    "#사이킷런의 대부분 모델은 fit메서드 호출 시, 키워드 인수 sample_weight로 가중치를 허용함\n",
    "predictors = ['SqFtTotLiving', 'SqFtLot', 'Bathrooms', 'Bedrooms', 'BldgGrade']\n",
    "outcome = 'AdjSalePrice'\n",
    "\n",
    "house_wt = LinearRegression()\n",
    "house_wt.fit(house[predictors], house[outcome], sample_weight=house.Weight)"
   ]
  },
  {
   "cell_type": "markdown",
   "id": "5cef956c",
   "metadata": {},
   "source": [
    "###### 주요개념\n",
    "- 다중선형회귀모형은 한 응답변수 $Y$와 여러 개의 예측변수 $(X_1, ... X_p)$간의 관계를 나타낸다.\n",
    "- 모델을 평가하는 가장 중요한 지표는 제곱근평균제곱오차($RMSE$)와 $R$ 제곱($R^2$)이다.\n",
    "- 계수들의 표준오차는 모델에 대한 변수 기여도의 신뢰도를 측정하는 데 사용된다.\n",
    "- 단계적 회귀는 모델을 만드는 데 필요한 변수들을 자동으로 결정하는 방법이다.\n",
    "- 가중회귀는 방정식을 피팅할 때 레코드별로 가중치를 주기 위해 사용한다.\n"
   ]
  },
  {
   "cell_type": "markdown",
   "id": "c71b2adc",
   "metadata": {},
   "source": [
    "### 4.3 회귀를 이용한 예측\n",
    "\n",
    "===============================================================================================================\n",
    "###### 용어 정리\n",
    "- 예측구간(prediction interval): 개별 예측값 주위의 불확실한 구간\n",
    "- 외삽법(extrapolation): 모델링에서 사용된 데이터 범위를 벗어잔 부분까지 모델을 확장하는 것\n",
    "\n",
    "================================================================================================================"
   ]
  },
  {
   "cell_type": "markdown",
   "id": "cc4832ef",
   "metadata": {},
   "source": [
    "#### 4.3.1 외삽의 위험\n",
    "- 회귀모형은 충분한 데이터 값이 있는 예측변수에 대해서만 유효하므로, 회귀모형을 데이터 범위를 초과하면서까지 외삽하는 데 사용해서는 안된다."
   ]
  },
  {
   "cell_type": "markdown",
   "id": "53094908",
   "metadata": {},
   "source": [
    "#### 4.3.2 신뢰구간과 예측구간\n",
    "\n",
    "<b> $P$개의 예측변수와 $n$개의 레코드(행)가 있는 데이터에 대해, 회귀 파라미터(계수)에 대한 신뢰구간을 생성하기 위한 부트스트랩 알고리즘 </b>\n",
    " 1. 각 행(결과변수를 포함)을 하나의 티켓으로 생각하고 개수가 모두 $n$n개인 티켓을 박스에 넣었다고 가정하자.\n",
    " 2. 무작위로 티켓을 뽑아 값을 기록하고 다시 박스에 넣는다.\n",
    " 3. 2번 과정을 $n$번 반복한다. 이를 통해, 부트스트랩 재표본을 하나 만든다.\n",
    " 4. 이 부트스트랩 표보능ㄹ 가지고 회귀모형을 구한다. 그리고 추정된 계수들을 기록한다.\n",
    " 5. 2~4번 과정을 1000번 반복한다.\n",
    " 6. 이제 각 계수에 대해 1000개의 부트스트랩 값을 갖게 된다. 각각에 대해 적합한 백분위수를 구한다(90% 신뢰구간을 위해 5번째에서 95번째 백분위수를 구한다)."
   ]
  },
  {
   "cell_type": "markdown",
   "id": "9f951a78",
   "metadata": {},
   "source": [
    "<b> 회귀모형에 따른 오차와 개별 데이터 값에 따른 오차를 모두 모델링하기 위한 부트스트랩 알고리즘 </b>\n",
    " 1. 데이터로부터 부트스트랩 표본을 뽑는다(앞에서 자세히 설명했다).\n",
    " 2. 회귀모형을 찾고 새로운 값을 예측한다.\n",
    " 3. 원래의 회귀 적합도에서 임의로 하나의 잔차를 취하여 예측값에 더하고 그 결과를 기록한다.\n",
    " 4. 1~3단계를 1000번 반복한다.\n",
    " 5. 결과의 2.5번째인 백분위수와 97.5번째 백분위수를 찾는다."
   ]
  },
  {
   "cell_type": "markdown",
   "id": "e9e78192",
   "metadata": {},
   "source": [
    "###### CAUTION_ 예측구간이냐, 신뢰구간이냐\n",
    "- 예측구간: 하나의 값에 대한 불확실성과 관련\n",
    "- 신뢰구간: 여러 값에서 계산된 평균이나 다른 통계량과 관련\n",
    "\n",
    "- 따라서 일반적으로 예측구간은 신뢰구간보다 훨씬 넓다.\n",
    "\n",
    "- 어느것을 사용해야 할까?\n",
    " - 상황과 분석 목적에 따라 다르지만 일반적으로 데이터 과학자는 특정 개별 예측에 관심이 있으므로 예측구간이 더 적절할 수 있다.\n",
    " - 예측구간을 사용해야 하는데 신뢰구간을 사용하면 주어진 예측값의 불확실성이 지나치게 낮은 것으로 나올 수 있다."
   ]
  },
  {
   "cell_type": "markdown",
   "id": "e9046cbb",
   "metadata": {},
   "source": [
    "###### 주요개념\n",
    "- 데이터 범위를 벗어나는 외삽은 오류를 유발할 수 잇다.\n",
    "- 신뢰구간은 회귀계수 주변의 불확실성을 정량화한다.\n",
    "- 예측구간은 개별 예측값의 불확실성을 정량화한다.\n",
    "- R을 포함한 대부분의 소프트웨어는 수식을 사용하여 예측/신뢰구간을 기본 또는 지정된 출력으로 생성한다.\n",
    "- 예측 및 신뢰 구간 생성을 위해 수식 대신 부트스트랩을 사용할 수도 있다. 해석은 개념과 같다."
   ]
  },
  {
   "cell_type": "markdown",
   "id": "5f9342e8",
   "metadata": {},
   "source": [
    "## 4.4 회귀에서의 요인변수(범주형 변수)\n",
    "- 요인변수(factor variable, 범주형 변수): 갯수가 제한된 이산값을 취한다. ex) 대출목적(부동산, 부채정리, 사업자금)\n",
    "- 이진변수(예/아니오) (aka 지표변수(indicator variable): 요인변수의 특수한 경우\n",
    "\n",
    "- 회귀분석에서는 수치 입력이 필요하므로 모델에 사용할 수 있도록 요인변수를 다시 수치화해야 한다.\n",
    "- 이를 위한 일반적인 방법: 변수를 이진 <b>가변수</b>로 변환하는 것\n",
    "\n",
    "===============================================================================================================\n",
    "###### 용어 정리\n",
    "- 가변수(dummy variable): 회귀나 다른 모델에서 요인 데이터를 사용하기 위해 0과 1의 이진변수로 부호화한 변수\n",
    "- 기준 부호화(reference coding): 통계학자들이 많이 사용ㅇ하는 부호화 형태. 여기서 한 요인을 기준으로 하고 다른 요인들이 이 기준에 따라 비교할 수 있도록 한다(유의어: 처리 부호화(treatment coding)).\n",
    "- 원-핫 인코딩(one-hot encoding): 머신러닝 분야에서 많이 사용되는 부호화. 모든 요인 수준이 계속 유지된다. 어떤 머신러닝 알고리즘에서는 유용한 반면, 다중선형회귀에는 적합하지 않다.\n",
    "- 편차 부호화(deviation coding): 기준 수준과는 반대로 전체 평균에 대해 각 수준을 비교하는 부호화 방법(유의어: 총합 대비(sum contrast)).\n",
    "\n",
    "================================================================================================================\n",
    "\n",
    "- 다항식 부호화(polynomial coding): 순서가 있는 요인 변수에 적합"
   ]
  },
  {
   "cell_type": "markdown",
   "id": "5dbc6675",
   "metadata": {},
   "source": [
    "### 4.4.1 가변수 표현\n",
    "- 최근접 이웃 알고리즘이나 트리 모델 같은 머신러닝 알고리즘에서, 요인변수를 표현하는 데 원-핫 인코딩을 많이 사용한다.\n",
    "\n",
    "- 회귀모형에는 대게 절편이 포함되어 있으므로 회귀분석에서 P개 개별 수준을 갖는 요인변수는 P-1개의 열을 갖는 행렬로 표시된다. \n",
    "- 절편이 있기 때문에 P-1개의 이진변수의 값을 정의하고 나면, P번째 값을 알 수 있고, 따라서 P번째 값까지 넣게 되면 이러한 중복성이 문제가 될 수 있다.\n",
    "- 즉, P번째 열을 추가하면 다중공선성 오류가 발생할 수 있다."
   ]
  },
  {
   "cell_type": "code",
   "execution_count": 20,
   "id": "4d7c0cbc",
   "metadata": {},
   "outputs": [
    {
     "data": {
      "text/plain": [
       "1        Multiplex\n",
       "2    Single Family\n",
       "3    Single Family\n",
       "4    Single Family\n",
       "5    Single Family\n",
       "Name: PropertyType, dtype: object"
      ]
     },
     "execution_count": 20,
     "metadata": {},
     "output_type": "execute_result"
    }
   ],
   "source": [
    "# 킹 카운티 주택 가격 데이터의 요인변수\n",
    "house.PropertyType.head()"
   ]
  },
  {
   "cell_type": "code",
   "execution_count": 21,
   "id": "abf67f89",
   "metadata": {},
   "outputs": [
    {
     "data": {
      "text/html": [
       "<div>\n",
       "<style scoped>\n",
       "    .dataframe tbody tr th:only-of-type {\n",
       "        vertical-align: middle;\n",
       "    }\n",
       "\n",
       "    .dataframe tbody tr th {\n",
       "        vertical-align: top;\n",
       "    }\n",
       "\n",
       "    .dataframe thead th {\n",
       "        text-align: right;\n",
       "    }\n",
       "</style>\n",
       "<table border=\"1\" class=\"dataframe\">\n",
       "  <thead>\n",
       "    <tr style=\"text-align: right;\">\n",
       "      <th></th>\n",
       "      <th>Multiplex</th>\n",
       "      <th>Single Family</th>\n",
       "      <th>Townhouse</th>\n",
       "    </tr>\n",
       "  </thead>\n",
       "  <tbody>\n",
       "    <tr>\n",
       "      <th>1</th>\n",
       "      <td>1</td>\n",
       "      <td>0</td>\n",
       "      <td>0</td>\n",
       "    </tr>\n",
       "    <tr>\n",
       "      <th>2</th>\n",
       "      <td>0</td>\n",
       "      <td>1</td>\n",
       "      <td>0</td>\n",
       "    </tr>\n",
       "    <tr>\n",
       "      <th>3</th>\n",
       "      <td>0</td>\n",
       "      <td>1</td>\n",
       "      <td>0</td>\n",
       "    </tr>\n",
       "    <tr>\n",
       "      <th>4</th>\n",
       "      <td>0</td>\n",
       "      <td>1</td>\n",
       "      <td>0</td>\n",
       "    </tr>\n",
       "    <tr>\n",
       "      <th>5</th>\n",
       "      <td>0</td>\n",
       "      <td>1</td>\n",
       "      <td>0</td>\n",
       "    </tr>\n",
       "  </tbody>\n",
       "</table>\n",
       "</div>"
      ],
      "text/plain": [
       "   Multiplex  Single Family  Townhouse\n",
       "1          1              0          0\n",
       "2          0              1          0\n",
       "3          0              1          0\n",
       "4          0              1          0\n",
       "5          0              1          0"
      ]
     },
     "execution_count": 21,
     "metadata": {},
     "output_type": "execute_result"
    }
   ],
   "source": [
    "pd.get_dummies(house['PropertyType']).head() # 기본적으로 범주형 변수의 원-핫 인코딩 반환"
   ]
  },
  {
   "cell_type": "code",
   "execution_count": 22,
   "id": "e82012ab",
   "metadata": {},
   "outputs": [
    {
     "data": {
      "text/html": [
       "<div>\n",
       "<style scoped>\n",
       "    .dataframe tbody tr th:only-of-type {\n",
       "        vertical-align: middle;\n",
       "    }\n",
       "\n",
       "    .dataframe tbody tr th {\n",
       "        vertical-align: top;\n",
       "    }\n",
       "\n",
       "    .dataframe thead th {\n",
       "        text-align: right;\n",
       "    }\n",
       "</style>\n",
       "<table border=\"1\" class=\"dataframe\">\n",
       "  <thead>\n",
       "    <tr style=\"text-align: right;\">\n",
       "      <th></th>\n",
       "      <th>Single Family</th>\n",
       "      <th>Townhouse</th>\n",
       "    </tr>\n",
       "  </thead>\n",
       "  <tbody>\n",
       "    <tr>\n",
       "      <th>1</th>\n",
       "      <td>0</td>\n",
       "      <td>0</td>\n",
       "    </tr>\n",
       "    <tr>\n",
       "      <th>2</th>\n",
       "      <td>1</td>\n",
       "      <td>0</td>\n",
       "    </tr>\n",
       "    <tr>\n",
       "      <th>3</th>\n",
       "      <td>1</td>\n",
       "      <td>0</td>\n",
       "    </tr>\n",
       "    <tr>\n",
       "      <th>4</th>\n",
       "      <td>1</td>\n",
       "      <td>0</td>\n",
       "    </tr>\n",
       "    <tr>\n",
       "      <th>5</th>\n",
       "      <td>1</td>\n",
       "      <td>0</td>\n",
       "    </tr>\n",
       "  </tbody>\n",
       "</table>\n",
       "</div>"
      ],
      "text/plain": [
       "   Single Family  Townhouse\n",
       "1              0          0\n",
       "2              1          0\n",
       "3              1          0\n",
       "4              1          0\n",
       "5              1          0"
      ]
     },
     "execution_count": 22,
     "metadata": {},
     "output_type": "execute_result"
    }
   ],
   "source": [
    "pd.get_dummies(house['PropertyType'], drop_first=True).head() # drop_first: P-1개 열 반환. 다중공선성 문제를 피하려면 이것을 사용한다."
   ]
  },
  {
   "cell_type": "code",
   "execution_count": 23,
   "id": "213049e2",
   "metadata": {},
   "outputs": [
    {
     "name": "stdout",
     "output_type": "stream",
     "text": [
      "Intercept: -446841.366\n",
      "Coefficients:\n",
      " SqFtTotLiving: 223.37362892503782\n",
      " SqFtLot: -0.07036798136812368\n",
      " Bathrooms: -15979.013473415225\n",
      " Bedrooms: -50889.732184830136\n",
      " BldgGrade: 109416.30516146185\n",
      " PropertyType_Single Family: -84678.2162954924\n",
      " PropertyType_Townhouse: -115121.97921609174\n"
     ]
    }
   ],
   "source": [
    "predictors = ['SqFtTotLiving', 'SqFtLot', 'Bathrooms', 'Bedrooms',\n",
    "              'BldgGrade', 'PropertyType']\n",
    "\n",
    "X = pd.get_dummies(house[predictors], drop_first=True)\n",
    "\n",
    "house_lm_factor = LinearRegression()\n",
    "house_lm_factor.fit(X, house[outcome])\n",
    "\n",
    "print(f'Intercept: {house_lm_factor.intercept_:.3f}')\n",
    "print('Coefficients:')\n",
    "for name, coef in zip(X.columns, house_lm_factor.coef_):\n",
    "    print(f' {name}: {coef}')"
   ]
  },
  {
   "cell_type": "markdown",
   "id": "66f66bd8",
   "metadata": {},
   "source": [
    "### 4.4.2 다수의 수준을 갖는 요인변수들\n",
    "- 대안: 그룹으로 묶는 것"
   ]
  },
  {
   "cell_type": "code",
   "execution_count": 24,
   "id": "bf993ef0",
   "metadata": {},
   "outputs": [
    {
     "data": {
      "text/html": [
       "<div>\n",
       "<style scoped>\n",
       "    .dataframe tbody tr th:only-of-type {\n",
       "        vertical-align: middle;\n",
       "    }\n",
       "\n",
       "    .dataframe tbody tr th {\n",
       "        vertical-align: top;\n",
       "    }\n",
       "\n",
       "    .dataframe thead th {\n",
       "        text-align: right;\n",
       "    }\n",
       "</style>\n",
       "<table border=\"1\" class=\"dataframe\">\n",
       "  <thead>\n",
       "    <tr style=\"text-align: right;\">\n",
       "      <th></th>\n",
       "      <th>98038</th>\n",
       "      <th>98103</th>\n",
       "      <th>98042</th>\n",
       "      <th>98115</th>\n",
       "      <th>98117</th>\n",
       "      <th>98052</th>\n",
       "      <th>98034</th>\n",
       "      <th>98033</th>\n",
       "      <th>98059</th>\n",
       "      <th>98074</th>\n",
       "      <th>...</th>\n",
       "      <th>98051</th>\n",
       "      <th>98024</th>\n",
       "      <th>98354</th>\n",
       "      <th>98050</th>\n",
       "      <th>98288</th>\n",
       "      <th>98057</th>\n",
       "      <th>98224</th>\n",
       "      <th>98113</th>\n",
       "      <th>98043</th>\n",
       "      <th>98068</th>\n",
       "    </tr>\n",
       "  </thead>\n",
       "  <tbody>\n",
       "    <tr>\n",
       "      <th>ZipCode</th>\n",
       "      <td>788</td>\n",
       "      <td>671</td>\n",
       "      <td>641</td>\n",
       "      <td>620</td>\n",
       "      <td>619</td>\n",
       "      <td>614</td>\n",
       "      <td>575</td>\n",
       "      <td>517</td>\n",
       "      <td>513</td>\n",
       "      <td>502</td>\n",
       "      <td>...</td>\n",
       "      <td>32</td>\n",
       "      <td>31</td>\n",
       "      <td>9</td>\n",
       "      <td>7</td>\n",
       "      <td>4</td>\n",
       "      <td>4</td>\n",
       "      <td>3</td>\n",
       "      <td>1</td>\n",
       "      <td>1</td>\n",
       "      <td>1</td>\n",
       "    </tr>\n",
       "  </tbody>\n",
       "</table>\n",
       "<p>1 rows × 80 columns</p>\n",
       "</div>"
      ],
      "text/plain": [
       "         98038  98103  98042  98115  98117  98052  98034  98033  98059  98074  \\\n",
       "ZipCode    788    671    641    620    619    614    575    517    513    502   \n",
       "\n",
       "         ...  98051  98024  98354  98050  98288  98057  98224  98113  98043  \\\n",
       "ZipCode  ...     32     31      9      7      4      4      3      1      1   \n",
       "\n",
       "         98068  \n",
       "ZipCode      1  \n",
       "\n",
       "[1 rows x 80 columns]"
      ]
     },
     "execution_count": 24,
     "metadata": {},
     "output_type": "execute_result"
    }
   ],
   "source": [
    "pd.DataFrame(house['ZipCode'].value_counts()).transpose()"
   ]
  },
  {
   "cell_type": "code",
   "execution_count": 25,
   "id": "725affe6",
   "metadata": {},
   "outputs": [
    {
     "data": {
      "text/plain": [
       "'\\n회귀 결과 잔차 중간값 활용\\n- 각 우편번호에 대한 잔차의 중간값을 계산하고, 중간값으로 정렬한 우편번호를 5개 그룹으로 분할\\n'"
      ]
     },
     "execution_count": 25,
     "metadata": {},
     "output_type": "execute_result"
    }
   ],
   "source": [
    "# 그룹으로 묶기\n",
    "'''\n",
    "회귀 결과 잔차 중간값 활용\n",
    "- 각 우편번호에 대한 잔차의 중간값을 계산하고, 중간값으로 정렬한 우편번호를 5개 그룹으로 분할\n",
    "'''"
   ]
  },
  {
   "cell_type": "code",
   "execution_count": 26,
   "id": "6f1f36a2",
   "metadata": {},
   "outputs": [
    {
     "data": {
      "text/plain": [
       "LinearRegression()"
      ]
     },
     "execution_count": 26,
     "metadata": {},
     "output_type": "execute_result"
    }
   ],
   "source": [
    "predictors = ['SqFtTotLiving', 'SqFtLot', 'Bathrooms', \n",
    "              'Bedrooms', 'BldgGrade']\n",
    "outcome = 'AdjSalePrice'\n",
    "\n",
    "house_lm = LinearRegression()\n",
    "house_lm.fit(house[predictors], house[outcome])"
   ]
  },
  {
   "cell_type": "code",
   "execution_count": 27,
   "id": "0a2910ee",
   "metadata": {},
   "outputs": [
    {
     "name": "stdout",
     "output_type": "stream",
     "text": [
      "0    16\n",
      "1    16\n",
      "2    16\n",
      "3    16\n",
      "4    16\n",
      "Name: ZipGroup, dtype: int64\n"
     ]
    }
   ],
   "source": [
    "zip_groups = pd.DataFrame([\n",
    "    *pd.DataFrame({\n",
    "        'ZipCode': house['ZipCode'],\n",
    "        'residual' : house[outcome] - house_lm.predict(house[predictors]),\n",
    "    })\n",
    "    .groupby(['ZipCode'])\n",
    "    .apply(lambda x: {\n",
    "        'ZipCode': x.iloc[0,0],\n",
    "        'count': len(x),\n",
    "        'median_residual': x.residual.median()\n",
    "    })\n",
    "]).sort_values('median_residual')\n",
    "zip_groups['cum_count'] = np.cumsum(zip_groups['count'])\n",
    "zip_groups['ZipGroup'] = pd.qcut(zip_groups['cum_count'], 5, labels=False, retbins=False)\n",
    "zip_groups.head()\n",
    "print(zip_groups.ZipGroup.value_counts().sort_index())\n",
    "\n",
    "to_join = zip_groups[['ZipCode', 'ZipGroup']].set_index('ZipCode')\n",
    "house = house.join(to_join, on='ZipCode')\n",
    "house['ZipGroup'] = house['ZipGroup'].astype('category')"
   ]
  },
  {
   "cell_type": "markdown",
   "id": "1edf29ac",
   "metadata": {},
   "source": [
    "#### 4.4.3 순서가 있는 요인변수\n",
    "- 순서 요인변수(ordered factor variable) aka순서 범주형 변수(ordered categorical variable)\n",
    " ex) 대출등급 A, B, C\n",
    " \n",
    "- 순서 요인변수는 숫자 값으로 변환하여 그대로 사용할 수 있음\n",
    "- 순서 요인변수를 수치형 변수로 다루는 것은, 그냥 요인변수로 다루면 잃어버릴 수 있는 순서에 담긴 정보를 유지학 ㅣ위함\n",
    "\n",
    "###### 주요개념\n",
    "- 요인변수는 회귀를 위해 수치형 변수로 변환해야 한다.\n",
    "- 요인변수를 P개의 개별 값으로 인코딩하기 위한 가장 흔한 방법은 P-1개의 가변수를 만들어 사용하는 것이다.\n",
    "- 다수의 수준을 갖는 요인변수의 경우, 더 적은 수의 수준을 갖는 변수가 되도록 수준들을 통합해야 한다.\n",
    "- 순서를 갖는 요인변수의 경우, 수치형 변수로 변환하여 사용할 수 있다."
   ]
  },
  {
   "cell_type": "markdown",
   "id": "a521ac52",
   "metadata": {},
   "source": [
    "## 4.5 회귀방정식 해석\n",
    "\n",
    "===============================================================================================================\n",
    "###### 용어 정리\n",
    "- 변수 간 상관(conrrelated variables): 변수들이 같은 방향으로 움직이려는 경향을 가짐(예를 들어 한 변수가 올라갈 때 다른 변수도 올라가고 그 반대 경우에도 동일하다. 부정적인 상관관계일 때는 한 변수가 올라갈 때 다른 변수는 내려간다). 예측변수끼리 높은 상관성을 가질 때는 개별 계수를 해석하는 것이 어렵다.\n",
    "- 다중공선성(multicollinearity): 예측변수들이 완벽하거나 거의 완벽에 가까운 상관성을 갖는다고 할 때, 회귀는 불안정하며 계산이 불가능하다.(유의어: 공선성collinearity)\n",
    "- 교란변수(confounding variable): 중요한 예측변수이지만 회귀방적식에 누락되어 결과를 잘못되게 이끄는 변수\n",
    "- 주효과(main effect): 다른 변수들과 독립된, 하나의 예측변수와 결과변수 사이의 관계\n",
    "- 상호작용(interaction): 둘 이상의 예측변수와 응답변수 사이의 상호 의존적인 관계\n",
    "\n",
    "================================================================================================================"
   ]
  },
  {
   "cell_type": "markdown",
   "id": "29a85106",
   "metadata": {},
   "source": [
    "### 4.5.1 예측변수 간 상관"
   ]
  },
  {
   "cell_type": "code",
   "execution_count": 28,
   "id": "ca08884e",
   "metadata": {},
   "outputs": [
    {
     "name": "stdout",
     "output_type": "stream",
     "text": [
      "\n",
      "Intercept: 6178645.017\n",
      "Coefficients:\n",
      " SqFtTotLiving: 199.2775530420154\n",
      " BldgGrade: 137159.5602262004\n",
      " YrBuilt: -3565.424939249331\n",
      " Bedrooms: -51947.38367361374\n",
      " Bathrooms: 42396.16452771891\n",
      " PropertyType_Townhouse: 84479.16203300106\n",
      " SqFtFinBasement: 7.046974967571178\n",
      " PropertyType_Single Family: 22912.05518701787\n"
     ]
    }
   ],
   "source": [
    "print()\n",
    "print(f'Intercept: {best_model.intercept_:.3f}')\n",
    "print('Coefficients:')\n",
    "for name, coef in zip(best_variables, best_model.coef_):\n",
    "    print(f' {name}: {coef}')"
   ]
  },
  {
   "cell_type": "code",
   "execution_count": 29,
   "id": "1c9e9056",
   "metadata": {},
   "outputs": [
    {
     "data": {
      "text/plain": [
       "LinearRegression()"
      ]
     },
     "execution_count": 29,
     "metadata": {},
     "output_type": "execute_result"
    }
   ],
   "source": [
    "predictors = ['Bedrooms', 'BldgGrade', 'PropertyType', 'YrBuilt']\n",
    "outcome = 'AdjSalePrice'\n",
    "\n",
    "X = pd.get_dummies(house[predictors], drop_first=True)\n",
    "\n",
    "reduced_lm = LinearRegression()\n",
    "reduced_lm.fit(X, house[outcome])"
   ]
  },
  {
   "cell_type": "code",
   "execution_count": 30,
   "id": "1a291054",
   "metadata": {},
   "outputs": [
    {
     "name": "stdout",
     "output_type": "stream",
     "text": [
      "Intercept: 4913973.344\n",
      "Coefficients:\n",
      " Bedrooms: 27150.537230214795\n",
      " BldgGrade: 248997.79366213776\n",
      " YrBuilt: -3211.7448621550716\n",
      " PropertyType_Single Family: -19898.49534050224\n",
      " PropertyType_Townhouse: -47355.436873344675\n"
     ]
    }
   ],
   "source": [
    "print(f'Intercept: {reduced_lm.intercept_:.3f}')\n",
    "print('Coefficients:')\n",
    "for name, coef in zip(X.columns, reduced_lm.coef_):\n",
    "    print(f' {name}: {coef}')"
   ]
  },
  {
   "cell_type": "markdown",
   "id": "50dacbc6",
   "metadata": {},
   "source": [
    "### 4.5.2 다중공선성\n",
    "\n",
    "- <b>다중공선성이 발생하는 경우</b>\n",
    " - 오류로 인해 한 변수가 여러 번 포함된 경우\n",
    " - 요인변수로부터 $P-1$개가 아닌 $P$개의 가변수가 만들어진 경우\n",
    " - 두 변수가 서로 거의 완벽하게 상관성이 있는 경우\n",
    " \n",
    "###### NOTE_ \n",
    "다중공선성은 트리, 클러스터링, 최근접 이웃 알고리즘 등 비선형회귀 유형이 아닌 방법에서는 그다지 문제가 되지 않으며, 이들 방법에서는 $P-1$개 대신 $P$개의 가변수를 유지하는 것이 좋다. 물론 이러한 방법에서도 예측변수의 비중복성을 유지하는 것이 여전히 미덕이다."
   ]
  },
  {
   "cell_type": "markdown",
   "id": "ea11849d",
   "metadata": {},
   "source": [
    "### 4.5.3 교란변수\n",
    "- 회귀방정식에 중요한 변수가 포함되지 못해서 생기는 누락의 문제"
   ]
  },
  {
   "cell_type": "code",
   "execution_count": 31,
   "id": "7f3a27cd",
   "metadata": {},
   "outputs": [
    {
     "name": "stdout",
     "output_type": "stream",
     "text": [
      "Intercept: -666637.469\n",
      "Coefficients:\n",
      " SqFtTotLiving: 210.6126600558018\n",
      " SqFtLot: 0.45498713854660255\n",
      " Bathrooms: 5928.425640001682\n",
      " Bedrooms: -41682.871840744934\n",
      " BldgGrade: 98541.18352725956\n",
      " PropertyType_Single Family: 19323.625287919665\n",
      " PropertyType_Townhouse: -78198.72092762368\n",
      " ZipGroup_1: 53317.17330659815\n",
      " ZipGroup_2: 116251.58883563579\n",
      " ZipGroup_3: 178360.53178793384\n",
      " ZipGroup_4: 338408.6018565202\n"
     ]
    }
   ],
   "source": [
    "predictors = ['SqFtTotLiving', 'SqFtLot', 'Bathrooms', 'Bedrooms',\n",
    "              'BldgGrade', 'PropertyType', 'ZipGroup']\n",
    "outcome = 'AdjSalePrice'\n",
    "\n",
    "X = pd.get_dummies(house[predictors], drop_first=True)\n",
    "\n",
    "confounding_lm = LinearRegression()\n",
    "confounding_lm.fit(X, house[outcome])\n",
    "\n",
    "print(f'Intercept: {confounding_lm.intercept_:.3f}')\n",
    "print('Coefficients:')\n",
    "for name, coef in zip(X.columns, confounding_lm.coef_):\n",
    "    print(f' {name}: {coef}')\n"
   ]
  },
  {
   "cell_type": "markdown",
   "id": "d1e16131",
   "metadata": {},
   "source": [
    "### 4.5.4 상호작용과 주효과\n",
    " - 주효과와 주효과 사이의 상호작용\n",
    " - 주효과는 회귀방정식에서 종종 예측변수라고 불림"
   ]
  },
  {
   "cell_type": "code",
   "execution_count": 32,
   "id": "63e8643c",
   "metadata": {},
   "outputs": [],
   "source": [
    "import statsmodels.api as sm\n",
    "import statsmodels.formula.api as smf"
   ]
  },
  {
   "cell_type": "code",
   "execution_count": 33,
   "id": "5fc79b71",
   "metadata": {},
   "outputs": [
    {
     "name": "stdout",
     "output_type": "stream",
     "text": [
      "                            OLS Regression Results                            \n",
      "==============================================================================\n",
      "Dep. Variable:           AdjSalePrice   R-squared:                       0.682\n",
      "Model:                            OLS   Adj. R-squared:                  0.682\n",
      "Method:                 Least Squares   F-statistic:                     3247.\n",
      "Date:                Fri, 22 Oct 2021   Prob (F-statistic):               0.00\n",
      "Time:                        02:10:00   Log-Likelihood:            -3.1098e+05\n",
      "No. Observations:               22687   AIC:                         6.220e+05\n",
      "Df Residuals:                   22671   BIC:                         6.221e+05\n",
      "Df Model:                          15                                         \n",
      "Covariance Type:            nonrobust                                         \n",
      "=================================================================================================\n",
      "                                    coef    std err          t      P>|t|      [0.025      0.975]\n",
      "-------------------------------------------------------------------------------------------------\n",
      "Intercept                     -4.853e+05   2.05e+04    -23.701      0.000   -5.25e+05   -4.45e+05\n",
      "ZipGroup[T.1]                 -1.113e+04   1.34e+04     -0.830      0.407   -3.74e+04    1.52e+04\n",
      "ZipGroup[T.2]                  2.032e+04   1.18e+04      1.717      0.086   -2877.441    4.35e+04\n",
      "ZipGroup[T.3]                   2.05e+04   1.21e+04      1.697      0.090   -3180.870    4.42e+04\n",
      "ZipGroup[T.4]                 -1.499e+05   1.13e+04    -13.285      0.000   -1.72e+05   -1.28e+05\n",
      "PropertyType[T.Single Family]  1.357e+04   1.39e+04      0.975      0.330   -1.37e+04    4.09e+04\n",
      "PropertyType[T.Townhouse]     -5.884e+04   1.51e+04     -3.888      0.000   -8.85e+04   -2.92e+04\n",
      "SqFtTotLiving                   114.7650      4.863     23.600      0.000     105.233     124.297\n",
      "SqFtTotLiving:ZipGroup[T.1]      32.6043      5.712      5.708      0.000      21.409      43.799\n",
      "SqFtTotLiving:ZipGroup[T.2]      41.7822      5.187      8.056      0.000      31.616      51.948\n",
      "SqFtTotLiving:ZipGroup[T.3]      69.3415      5.619     12.341      0.000      58.329      80.354\n",
      "SqFtTotLiving:ZipGroup[T.4]     226.6836      4.820     47.032      0.000     217.237     236.131\n",
      "SqFtLot                           0.6869      0.052     13.296      0.000       0.586       0.788\n",
      "Bathrooms                     -3619.4533   3202.296     -1.130      0.258   -9896.174    2657.267\n",
      "Bedrooms                       -4.18e+04   2120.279    -19.715      0.000    -4.6e+04   -3.76e+04\n",
      "BldgGrade                      1.047e+05   2069.472     50.592      0.000    1.01e+05    1.09e+05\n",
      "==============================================================================\n",
      "Omnibus:                    30927.394   Durbin-Watson:                   1.581\n",
      "Prob(Omnibus):                  0.000   Jarque-Bera (JB):         34361794.502\n",
      "Skew:                           7.279   Prob(JB):                         0.00\n",
      "Kurtosis:                     193.101   Cond. No.                     5.80e+05\n",
      "==============================================================================\n",
      "\n",
      "Notes:\n",
      "[1] Standard Errors assume that the covariance matrix of the errors is correctly specified.\n",
      "[2] The condition number is large, 5.8e+05. This might indicate that there are\n",
      "strong multicollinearity or other numerical problems.\n"
     ]
    }
   ],
   "source": [
    "model = smf.ols(formula='AdjSalePrice ~  SqFtTotLiving*ZipGroup + SqFtLot + ' +\n",
    "     'Bathrooms + Bedrooms + BldgGrade + PropertyType', data=house)\n",
    "results = model.fit()\n",
    "print(results.summary())"
   ]
  },
  {
   "cell_type": "markdown",
   "id": "e38aeccf",
   "metadata": {},
   "source": [
    "###### TIP_ 상호작용 항들을 이용한 모델 선택\n",
    "다수의 변수가 존재하는 문제의 경우, 모델에서 어떤 상호작용을 고려해야 할지 결정하기가 매우 어렵다. 이러한 문제에 접근하는 몇 가지 방법에 대해 알아보자\n",
    " - 어떤 문제에서는 사전 지식이나 직관이 이러한 상호작용을 결정하는 데 큰 도움이 된다.\n",
    " - 단계적 선택(4.2.4절 참고)을 사용해서 다양한 모델들을 걸러낼 수 있다.\n",
    " - 벌점을 부여하는 방식의 회귀 방법을 사용하여 자동으로 가능한 상호작용들을 최대한 가려내도록 한다.\n",
    " - 아마 가장 일반적으로 사용하는 방법은 <b>랜덤 포레스트</b>나 <b>그레디언트 부스팅 트리</b> 같은 <b>트리 모델</b>일 것이다. 이러한 모델들은 자동으로 최적의 상호작용 항들을 걸러낸다(6.2절 참고)."
   ]
  },
  {
   "cell_type": "markdown",
   "id": "4a750e28",
   "metadata": {},
   "source": [
    "###### 주요 개념\n",
    "- 예측변수들 사이의 상관성 때문에, 다중선형회귀에서 계수들을 해석할 때는 주의해야 한다.\n",
    "- 다중공선성은 회귀방정식을 피팅할 때, 수치 불안정성을 유발할 수 있다.\n",
    "- 교란변수란 모델에서 생략된 중요한 예측변수를 의미하며, 이에 따라 실제로 관계가 없는데 허위로 있는 것처럼 회귀 결과가 나올 수 있다. \n",
    "- 변수와 결과가 서로 의존적일 때, 두 변수 사이의 상호작용을 고려할 필요가 있다."
   ]
  },
  {
   "cell_type": "markdown",
   "id": "31a2708a",
   "metadata": {},
   "source": [
    "## 4.6 회귀진단\n",
    "\n",
    "===============================================================================================================\n",
    "###### 용어 정리\n",
    "- 표준화잔차(standardized residual): 잔차를 표준오차로 나눈 값\n",
    "- 특이값(outlier): 나머지 데이터(혹은 예측값)와 멀리 떨어진 레코드(혹은 출력값)\n",
    "- 영향값(influential value): 있을 때와 없을 때 회귀방정식이 큰 차이를 보이는 값 혹은 레코드\n",
    "- 지렛대(레버리지, leverage): 회귀식에 한 레코드가 미치는 영향력의 정도(유의어: 햇 값, hat-value)\n",
    "- 비정규 잔차(non-normal residual): 정규분포를 따르지 않는 잔차는 회귀분석의 요건을 무효로 만들 수 있다. 데이터 과학에서는 별로 중요하게 다루지 않는다.\n",
    "- 이분산성(heteroskedasticity): 어떤 범위 내 출력값의 잔차가 매우 높은 분산을 보이는 경향(어떤 예측변수를 회귀식이 놓치고 있다는 것을 의미할 수 있다.)\n",
    "- 편잔차그림(partial residual plot): 결과변수와 특정 예측변수 사이의 관계를 진단하는 그림(유의어: 추가변수 그림, added variable plot)\n",
    "\n",
    "================================================================================================================"
   ]
  },
  {
   "cell_type": "markdown",
   "id": "ae0b9a40",
   "metadata": {},
   "source": [
    "### 4.6.1 특잇값\n",
    "- 회귀에서의 특잇값은 실제 y값이 예측된 값에서 멀리 떨어져 있는 경우\n",
    "- 표준화잔차, 상자그림 등을 통해 특잇값을 검출할 수 있음"
   ]
  },
  {
   "cell_type": "code",
   "execution_count": 34,
   "id": "40b02901",
   "metadata": {},
   "outputs": [],
   "source": [
    "from statsmodels.stats.outliers_influence import OLSInfluence"
   ]
  },
  {
   "cell_type": "code",
   "execution_count": 34,
   "id": "b525b1f0",
   "metadata": {},
   "outputs": [
    {
     "name": "stdout",
     "output_type": "stream",
     "text": [
      "                            OLS Regression Results                            \n",
      "==============================================================================\n",
      "Dep. Variable:           AdjSalePrice   R-squared:                       0.795\n",
      "Model:                            OLS   Adj. R-squared:                  0.792\n",
      "Method:                 Least Squares   F-statistic:                     238.7\n",
      "Date:                Fri, 22 Oct 2021   Prob (F-statistic):          1.69e-103\n",
      "Time:                        02:10:03   Log-Likelihood:                -4226.0\n",
      "No. Observations:                 313   AIC:                             8464.\n",
      "Df Residuals:                     307   BIC:                             8486.\n",
      "Df Model:                           5                                         \n",
      "Covariance Type:            nonrobust                                         \n",
      "=================================================================================\n",
      "                    coef    std err          t      P>|t|      [0.025      0.975]\n",
      "---------------------------------------------------------------------------------\n",
      "SqFtTotLiving   209.6023     24.408      8.587      0.000     161.574     257.631\n",
      "SqFtLot          38.9333      5.330      7.305      0.000      28.445      49.421\n",
      "Bathrooms      2282.2641      2e+04      0.114      0.909    -3.7e+04    4.16e+04\n",
      "Bedrooms      -2.632e+04   1.29e+04     -2.043      0.042   -5.17e+04    -973.867\n",
      "BldgGrade        1.3e+05   1.52e+04      8.533      0.000       1e+05     1.6e+05\n",
      "const         -7.725e+05   9.83e+04     -7.861      0.000   -9.66e+05   -5.79e+05\n",
      "==============================================================================\n",
      "Omnibus:                       82.127   Durbin-Watson:                   1.508\n",
      "Prob(Omnibus):                  0.000   Jarque-Bera (JB):              586.561\n",
      "Skew:                           0.859   Prob(JB):                    4.26e-128\n",
      "Kurtosis:                       9.483   Cond. No.                     5.63e+04\n",
      "==============================================================================\n",
      "\n",
      "Notes:\n",
      "[1] Standard Errors assume that the covariance matrix of the errors is correctly specified.\n",
      "[2] The condition number is large, 5.63e+04. This might indicate that there are\n",
      "strong multicollinearity or other numerical problems.\n"
     ]
    }
   ],
   "source": [
    "# ZipCode==98105인 지역의 데이터만 가지고 회귀모형 구하기\n",
    "house_98105 = house.loc[house['ZipCode'] == 98105, ]\n",
    "\n",
    "predictors = ['SqFtTotLiving', 'SqFtLot', 'Bathrooms', 'Bedrooms', 'BldgGrade']\n",
    "outcome = 'AdjSalePrice'\n",
    "\n",
    "house_outlier = sm.OLS(house_98105[outcome], house_98105[predictors].assign(const=1))\n",
    "result_98105 = house_outlier.fit()\n",
    "print(result_98105.summary())"
   ]
  },
  {
   "cell_type": "code",
   "execution_count": 35,
   "id": "894a3809",
   "metadata": {},
   "outputs": [
    {
     "name": "stdout",
     "output_type": "stream",
     "text": [
      "24333 -4.326731804078567\n"
     ]
    }
   ],
   "source": [
    "# 잔차분석을 위해 statsmodel의 OLSInfluence 사용\n",
    "influence = OLSInfluence(result_98105)\n",
    "sresiduals = influence.resid_studentized_internal\n",
    "\n",
    "print(sresiduals.idxmin(), sresiduals.min())"
   ]
  },
  {
   "cell_type": "code",
   "execution_count": 36,
   "id": "6e2e15a2",
   "metadata": {},
   "outputs": [
    {
     "name": "stdout",
     "output_type": "stream",
     "text": [
      "-757753.6192115835\n"
     ]
    }
   ],
   "source": [
    "print(result_98105.resid.loc[sresiduals.idxmin()])"
   ]
  },
  {
   "cell_type": "code",
   "execution_count": 37,
   "id": "80c0b525",
   "metadata": {},
   "outputs": [
    {
     "name": "stdout",
     "output_type": "stream",
     "text": [
      "AdjSalePrice 119748.0\n",
      "SqFtTotLiving    2900\n",
      "SqFtLot          7276\n",
      "Bathrooms         3.0\n",
      "Bedrooms            6\n",
      "BldgGrade           7\n",
      "Name: 24333, dtype: object\n"
     ]
    }
   ],
   "source": [
    "outlier = house_98105.loc[sresiduals.idxmin(), :]\n",
    "print('AdjSalePrice', outlier[outcome])\n",
    "print(outlier[predictors])"
   ]
  },
  {
   "cell_type": "markdown",
   "id": "5bae0c80",
   "metadata": {},
   "source": [
    "*빅데이터의 경우, 예측을 위한 회귀에서는 특잇값이 그렇게 문제가 되지 않는다. BUT, outlier를 찾는 것이 주목적인 경우 매우 중요*\n",
    "*또한, 특잇값은 사기 사건이나 갑작스러운 사건 발생과도 관련이 있다. 따라서 특잇값을 발견하는 것은 사업적으로 아주 중요한 가치가 될 수 있다.*"
   ]
  },
  {
   "cell_type": "markdown",
   "id": "99dcccd8",
   "metadata": {},
   "source": [
    "## 4.6.2 영향값\n",
    "- 주영향관측값(influential observation): 회귀모형에서 제외됐을 때 모델에서 중요한 변화를 가져오는 값\n",
    "- 레버리지를 측정하는 척도\n",
    " - hat-value: $2(P+1)/n$이상의 값들은 레버리지가 높은 데이터를 의미\n",
    " - Cook's distance: 레버리지와 잔차의 크기를 합쳐서 영향력 판단. $4/(n-P-1)$보다 크면 영향력이 높다고 보는 편."
   ]
  },
  {
   "cell_type": "code",
   "execution_count": 38,
   "id": "47d915d5",
   "metadata": {},
   "outputs": [
    {
     "name": "stderr",
     "output_type": "stream",
     "text": [
      "C:\\Users\\minjw\\anaconda3\\lib\\site-packages\\matplotlib\\backends\\backend_agg.py:238: RuntimeWarning: Glyph 8722 missing from current font.\n",
      "  font.set_text(s, 0.0, flags=flags)\n",
      "C:\\Users\\minjw\\anaconda3\\lib\\site-packages\\matplotlib\\backends\\backend_agg.py:201: RuntimeWarning: Glyph 8722 missing from current font.\n",
      "  font.set_text(s, 0, flags=flags)\n"
     ]
    },
    {
     "data": {
      "image/png": "[encoded data removed]",
      "text/plain": [
       "<Figure size 360x360 with 1 Axes>"
      ]
     },
     "metadata": {
      "needs_background": "light"
     },
     "output_type": "display_data"
    }
   ],
   "source": [
    "# 영향력그림(influence plot) 혹은 거품그림(bubbple plot): 표준화잔차, 햇 값, 쿡의 거리를 모두 한 그림에 표현\n",
    "influence = OLSInfluence(result_98105)\n",
    "fig, ax = plt.subplots(figsize=(5, 5))\n",
    "ax.axhline(-2.5, linestyle='--', color='C1')\n",
    "ax.axhline(2.5, linestyle='--', color='C1')\n",
    "ax.scatter(influence.hat_matrix_diag, influence.resid_studentized_internal, \n",
    "           s=1000 * np.sqrt(influence.cooks_distance[0]),\n",
    "           alpha=0.5)\n",
    "\n",
    "ax.set_xlabel('hat values')\n",
    "ax.set_ylabel('studentized residuals')\n",
    "\n",
    "plt.tight_layout()\n",
    "plt.show()"
   ]
  },
  {
   "cell_type": "markdown",
   "id": "800ec573",
   "metadata": {},
   "source": [
    "### 4.6.3 이분산성, 비정규성, 오차 간 상관\n",
    "\n",
    " - 잔차의 분포는 주로 공식적인 통계적 추론(가설검정 및 P값)의 유효성과 관련이 있으므로 예측 정확도를 중요하게 생각하는 데이터 과학자들에게는 중요하지 않다.\n",
    " \n",
    " - 형식적 추론이 완전히 유효하려면 잔차는\n",
    "  - (1) 동일한 분산을 가지며\n",
    "  - (2) 정규분포를 따르고\n",
    "  - (3) 서로 독립이라는 가정\n",
    "\n",
    "- 이분산성: 다양한 범위의 예측값에 따라 잔차의 분산이 일정하지 않은 것\n",
    "\n"
   ]
  },
  {
   "cell_type": "code",
   "execution_count": 40,
   "id": "87d5719c",
   "metadata": {},
   "outputs": [],
   "source": [
    "import seaborn as sns"
   ]
  },
  {
   "cell_type": "code",
   "execution_count": 41,
   "id": "b4f015cf",
   "metadata": {},
   "outputs": [
    {
     "data": {
      "image/png": "[encoded data removed]",
      "text/plain": [
       "<Figure size 360x360 with 1 Axes>"
      ]
     },
     "metadata": {
      "needs_background": "light"
     },
     "output_type": "display_data"
    }
   ],
   "source": [
    "# [그림 4-7] 잔차의 절댓값과 예측값에 관한 산점도\n",
    "fig, ax = plt.subplots(figsize=(5, 5))\n",
    "sns.regplot(x=result_98105.fittedvalues, y=np.abs(result_98105.resid), \n",
    "            scatter_kws={'alpha': 0.25},\n",
    "            line_kws={'color': 'C1'},\n",
    "            lowess=True, ax=ax)\n",
    "ax.set_xlabel('predicted')\n",
    "ax.set_ylabel('abs(residual)')\n",
    "\n",
    "plt.tight_layout()\n",
    "plt.show()"
   ]
  },
  {
   "cell_type": "markdown",
   "id": "ef3f86eb",
   "metadata": {},
   "source": [
    "###### TIP_ 데이터 과학자가 이분산성에 관심을 가져야 할까?\n",
    "이분산성은 예측값이 어떤 경우에는 맞고 어떤 경우에는 틀리다는 것을 나타내며, 얻은 모델이 불완전하다는 것을 알려준다. 예를 들면 lm_98105의 이분산성은 회귀모형이 가격이 너무 높거나 낮은 주택에 대해서는 잘 설명하지 못한다는 것을 나타낸다."
   ]
  },
  {
   "cell_type": "code",
   "execution_count": 42,
   "id": "6465a22d",
   "metadata": {},
   "outputs": [
    {
     "name": "stderr",
     "output_type": "stream",
     "text": [
      "C:\\Users\\minjw\\anaconda3\\lib\\site-packages\\matplotlib\\backends\\backend_agg.py:238: RuntimeWarning: Glyph 8722 missing from current font.\n",
      "  font.set_text(s, 0.0, flags=flags)\n",
      "C:\\Users\\minjw\\anaconda3\\lib\\site-packages\\matplotlib\\backends\\backend_agg.py:201: RuntimeWarning: Glyph 8722 missing from current font.\n",
      "  font.set_text(s, 0, flags=flags)\n"
     ]
    },
    {
     "data": {
      "image/png": "[encoded data removed]",
      "text/plain": [
       "<Figure size 288x288 with 1 Axes>"
      ]
     },
     "metadata": {
      "needs_background": "light"
     },
     "output_type": "display_data"
    }
   ],
   "source": [
    "# [그림 4-8] 주택 데이터의 회귀모형으로부터 얻은 잔차에 대한 히스토그램\n",
    "fig, ax = plt.subplots(figsize=(4, 4))\n",
    "pd.Series(influence.resid_studentized_internal).hist(ax=ax)\n",
    "ax.set_xlabel('std. residual')\n",
    "ax.set_ylabel('Frequency')\n",
    "\n",
    "\n",
    "plt.tight_layout()\n",
    "plt.show()"
   ]
  },
  {
   "cell_type": "markdown",
   "id": "dbcd5694",
   "metadata": {},
   "source": [
    "###### NOTE_ 산점도 평활기\n",
    "회귀모형을 평가할 때 두 변수(응답변수와 예측변수) 사이의 관계를 시각적으로 강조하기 위해 <b>산점도 평활기, scatterplot smoother</b>를 사용하는 것이 좋다.\n",
    "\n",
    "<b>loess함수</b> - 일련의 구간별 지역 회귀모형을 구한 후 그것들을 연속적으로 부드럽개 만들어 내는 것. (이를 평활화라고 부름)"
   ]
  },
  {
   "cell_type": "markdown",
   "id": "cac9a1c7",
   "metadata": {},
   "source": [
    "### 4.6.4 편잔차그림과 비선형성\n",
    "<b>편잔차그림</b>\n",
    " - 예측모델이 예측변수와 결과변수 간의 관계를 얼마나 잘 설명하는지 시각화하는 방법\n",
    " - 기본 개념: 하나의 예측변수와 응답변수 사이의 관계를 다른 예측변수로부터 분리하는 것\n",
    "\n",
    "$$ 편잔차 = 잔차 +  \\hat{b}_iX_i $$"
   ]
  },
  {
   "cell_type": "code",
   "execution_count": 47,
   "id": "099ddcfa",
   "metadata": {},
   "outputs": [
    {
     "data": {
      "image/png": "[encoded data removed]",
      "text/plain": [
       "<Figure size 360x360 with 1 Axes>"
      ]
     },
     "metadata": {
      "needs_background": "light"
     },
     "output_type": "display_data"
    }
   ],
   "source": [
    "# [그림 4-9] SqFtTotLiving 변수에 대한 편잔차그림\n",
    "fig, ax = plt.subplots(figsize=(5, 5))\n",
    "fig = sm.graphics.plot_ccpr(result_98105, 'SqFtTotLiving', ax=ax)\n",
    "\n",
    "plt.tight_layout()\n",
    "plt.show()"
   ]
  },
  {
   "cell_type": "markdown",
   "id": "6b4916a1",
   "metadata": {},
   "source": [
    "###### 주요개념\n",
    " - 특이점은 데이터 크기가 작을 때 문제를 일으킬 수 있지만, 주요 관심사는 데이터에서 문제점을 발견한다든지 이상을 찾아내는 것이다.\n",
    " - 데이터 크기가 작을 때는 단일 레코드(회귀 특잇값 포함)가 회귀방정식에 큰 영향을 미치는 경우도 있다. 하지만 빅데이터에서는 이러한 효과가 대부분 사라진다.\n",
    " - 회귀모형을 일반적인 추론(p 값 등)을 위해 사용할 경우 잔차 분포에 대한 특정 가정을 확인해야 한다. 하지만 보통 데이터 과학에서 잔차의 분포는 그렇게 중요하지 않다.\n",
    " - 편잔차그림을 사용하여 각 회귀 항의 적합성을 정량적으로 평가할 수 있다. 즉 대체 모델에 대한 아이디어를 얻을 수 있다."
   ]
  },
  {
   "cell_type": "markdown",
   "id": "b1bb1ee6",
   "metadata": {},
   "source": [
    "## 4.7 다항회귀와 스플라인 회귀\n",
    "\n",
    "===============================================================================================================\n",
    "###### 용어 정리\n",
    "- 다항회귀(polynomial regression): 회귀모형에 다항식(제곱, 세제곱 등) 항을 추가한 방식\n",
    "- 스플라인 회귀(spline regression): 다항 구간들을 부드러운 곡선 형태로 피팅한다.\n",
    "- 매듭(knot): 스플라인 구간을 구분하는 값들\n",
    "- 일반화가법모형(GAM, generalized additive model): 자동으로 구간을 결정하는 스플라인 모델\n",
    "\n",
    "================================================================================================================\n",
    "\n",
    "###### TIP_ 비선형회귀(nonlinear regression)\n",
    " - 예측변수들의 선형결합 또는 일부 변환으로 응답변수를 표현할 수 없는 모든 모델\n",
    " - 비선형회귀모형은 수치 최적화가 필요하기 때문에 피팅하기 어렵고 더 많은 계산을 필요로 한다. 이러한 이유로 가능하면 선형모형을 이용하는 것이 일반적"
   ]
  },
  {
   "cell_type": "markdown",
   "id": "778a29f9",
   "metadata": {},
   "source": [
    "### 4.7.1 다항식\n",
    "$$ Y = b_0 + b_1X + b_2X^2 + e $$"
   ]
  },
  {
   "cell_type": "code",
   "execution_count": 49,
   "id": "196724f6",
   "metadata": {},
   "outputs": [
    {
     "name": "stdout",
     "output_type": "stream",
     "text": [
      "                            OLS Regression Results                            \n",
      "==============================================================================\n",
      "Dep. Variable:           AdjSalePrice   R-squared:                       0.806\n",
      "Model:                            OLS   Adj. R-squared:                  0.802\n",
      "Method:                 Least Squares   F-statistic:                     211.6\n",
      "Date:                Fri, 22 Oct 2021   Prob (F-statistic):          9.95e-106\n",
      "Time:                        02:49:58   Log-Likelihood:                -4217.9\n",
      "No. Observations:                 313   AIC:                             8450.\n",
      "Df Residuals:                     306   BIC:                             8476.\n",
      "Df Model:                           6                                         \n",
      "Covariance Type:            nonrobust                                         \n",
      "==============================================================================================\n",
      "                                 coef    std err          t      P>|t|      [0.025      0.975]\n",
      "----------------------------------------------------------------------------------------------\n",
      "Intercept                  -6.159e+05   1.03e+05     -5.953      0.000   -8.19e+05   -4.12e+05\n",
      "SqFtTotLiving                  7.4521     55.418      0.134      0.893    -101.597     116.501\n",
      "np.power(SqFtTotLiving, 2)     0.0388      0.010      4.040      0.000       0.020       0.058\n",
      "SqFtLot                       32.5594      5.436      5.990      0.000      21.863      43.256\n",
      "Bathrooms                  -1435.1231   1.95e+04     -0.074      0.941   -3.99e+04     3.7e+04\n",
      "Bedrooms                   -9191.9441   1.33e+04     -0.693      0.489   -3.53e+04    1.69e+04\n",
      "BldgGrade                   1.357e+05   1.49e+04      9.087      0.000    1.06e+05    1.65e+05\n",
      "==============================================================================\n",
      "Omnibus:                       75.161   Durbin-Watson:                   1.625\n",
      "Prob(Omnibus):                  0.000   Jarque-Bera (JB):              637.978\n",
      "Skew:                           0.699   Prob(JB):                    2.92e-139\n",
      "Kurtosis:                       9.853   Cond. No.                     7.37e+07\n",
      "==============================================================================\n",
      "\n",
      "Notes:\n",
      "[1] Standard Errors assume that the covariance matrix of the errors is correctly specified.\n",
      "[2] The condition number is large, 7.37e+07. This might indicate that there are\n",
      "strong multicollinearity or other numerical problems.\n"
     ]
    }
   ],
   "source": [
    "model_poly = smf.ols(formula='AdjSalePrice ~  SqFtTotLiving + np.power(SqFtTotLiving, 2) + ' + \n",
    "                'SqFtLot + Bathrooms + Bedrooms + BldgGrade', data=house_98105)\n",
    "result_poly = model_poly.fit()\n",
    "print(result_poly.summary())"
   ]
  },
  {
   "cell_type": "code",
   "execution_count": 50,
   "id": "532ba2fb",
   "metadata": {},
   "outputs": [
    {
     "name": "stderr",
     "output_type": "stream",
     "text": [
      "C:\\Users\\minjw\\anaconda3\\lib\\site-packages\\matplotlib\\backends\\backend_agg.py:238: RuntimeWarning: Glyph 8722 missing from current font.\n",
      "  font.set_text(s, 0.0, flags=flags)\n",
      "C:\\Users\\minjw\\anaconda3\\lib\\site-packages\\matplotlib\\backends\\backend_agg.py:201: RuntimeWarning: Glyph 8722 missing from current font.\n",
      "  font.set_text(s, 0, flags=flags)\n"
     ]
    },
    {
     "data": {
      "image/png": "[encoded data removed]",
      "text/plain": [
       "<Figure size 360x360 with 1 Axes>"
      ]
     },
     "metadata": {
      "needs_background": "light"
     },
     "output_type": "display_data"
    },
    {
     "name": "stdout",
     "output_type": "stream",
     "text": [
      "0.03879128168237239\n"
     ]
    }
   ],
   "source": [
    "# 편잔차그림\n",
    "def partialResidualPlot(model, df, outcome, feature, ax):\n",
    "    y_pred = model.predict(df)\n",
    "    copy_df = df.copy()\n",
    "    for c in copy_df.columns:\n",
    "        if c == feature:\n",
    "            continue\n",
    "        copy_df[c] = 0.0\n",
    "    feature_prediction = model.predict(copy_df)\n",
    "    results = pd.DataFrame({\n",
    "        'feature': df[feature],\n",
    "        'residual': df[outcome] - y_pred,\n",
    "        'ypartial': feature_prediction - model.params[0],\n",
    "    })\n",
    "    results = results.sort_values(by=['feature'])\n",
    "    smoothed = sm.nonparametric.lowess(results.ypartial, results.feature, frac=1/3)\n",
    "    \n",
    "    ax.scatter(results.feature, results.ypartial + results.residual)\n",
    "    ax.plot(smoothed[:, 0], smoothed[:, 1], color='gray')\n",
    "    ax.plot(results.feature, results.ypartial, color='black')\n",
    "    ax.set_xlabel(feature)\n",
    "    ax.set_ylabel(f'Residual + {feature} contribution')\n",
    "    return ax\n",
    "\n",
    "fig, ax = plt.subplots(figsize=(5, 5))\n",
    "partialResidualPlot(result_poly, house_98105, 'AdjSalePrice', 'SqFtTotLiving', ax)\n",
    "\n",
    "plt.tight_layout()\n",
    "plt.show()\n",
    "print(result_poly.params[2])\n"
   ]
  },
  {
   "cell_type": "markdown",
   "id": "40b5c8e3",
   "metadata": {},
   "source": [
    "### 4.7.2 스플라인\n",
    " - 구간별 다항식?\n",
    " - 비선형 관계를 모델링하는 또 다른 더 나은 방법\n",
    " - 고정된 점 사이를 부드럽게 보간하는 방법"
   ]
  },
  {
   "cell_type": "code",
   "execution_count": 51,
   "id": "7931e399",
   "metadata": {},
   "outputs": [
    {
     "name": "stdout",
     "output_type": "stream",
     "text": [
      "                            OLS Regression Results                            \n",
      "==============================================================================\n",
      "Dep. Variable:           AdjSalePrice   R-squared:                       0.814\n",
      "Model:                            OLS   Adj. R-squared:                  0.807\n",
      "Method:                 Least Squares   F-statistic:                     131.8\n",
      "Date:                Fri, 22 Oct 2021   Prob (F-statistic):          7.10e-104\n",
      "Time:                        02:52:41   Log-Likelihood:                -4211.4\n",
      "No. Observations:                 313   AIC:                             8445.\n",
      "Df Residuals:                     302   BIC:                             8486.\n",
      "Df Model:                          10                                         \n",
      "Covariance Type:            nonrobust                                         \n",
      "========================================================================================================\n",
      "                                           coef    std err          t      P>|t|      [0.025      0.975]\n",
      "--------------------------------------------------------------------------------------------------------\n",
      "Intercept                            -4.142e+05   1.43e+05     -2.899      0.004   -6.95e+05   -1.33e+05\n",
      "bs(SqFtTotLiving, df=6, degree=3)[0] -1.995e+05   1.86e+05     -1.076      0.283   -5.65e+05    1.66e+05\n",
      "bs(SqFtTotLiving, df=6, degree=3)[1] -1.206e+05   1.23e+05     -0.983      0.326   -3.62e+05    1.21e+05\n",
      "bs(SqFtTotLiving, df=6, degree=3)[2] -7.164e+04   1.36e+05     -0.525      0.600    -3.4e+05    1.97e+05\n",
      "bs(SqFtTotLiving, df=6, degree=3)[3]  1.957e+05   1.62e+05      1.212      0.227   -1.22e+05    5.14e+05\n",
      "bs(SqFtTotLiving, df=6, degree=3)[4]  8.452e+05   2.18e+05      3.878      0.000    4.16e+05    1.27e+06\n",
      "bs(SqFtTotLiving, df=6, degree=3)[5]  6.955e+05   2.14e+05      3.255      0.001    2.75e+05    1.12e+06\n",
      "SqFtLot                                 33.3258      5.454      6.110      0.000      22.592      44.059\n",
      "Bathrooms                            -4778.2080   1.94e+04     -0.246      0.806    -4.3e+04    3.34e+04\n",
      "Bedrooms                             -5778.7045   1.32e+04     -0.437      0.663   -3.18e+04    2.03e+04\n",
      "BldgGrade                             1.345e+05   1.52e+04      8.842      0.000    1.05e+05    1.64e+05\n",
      "==============================================================================\n",
      "Omnibus:                       58.816   Durbin-Watson:                   1.633\n",
      "Prob(Omnibus):                  0.000   Jarque-Bera (JB):              622.021\n",
      "Skew:                           0.330   Prob(JB):                    8.51e-136\n",
      "Kurtosis:                       9.874   Cond. No.                     1.97e+05\n",
      "==============================================================================\n",
      "\n",
      "Notes:\n",
      "[1] Standard Errors assume that the covariance matrix of the errors is correctly specified.\n",
      "[2] The condition number is large, 1.97e+05. This might indicate that there are\n",
      "strong multicollinearity or other numerical problems.\n"
     ]
    }
   ],
   "source": [
    "formula = ('AdjSalePrice ~ bs(SqFtTotLiving, df=6, degree=3) + ' + \n",
    "           'SqFtLot + Bathrooms + Bedrooms + BldgGrade')\n",
    "model_spline = smf.ols(formula=formula, data=house_98105)\n",
    "result_spline = model_spline.fit()\n",
    "print(result_spline.summary())"
   ]
  },
  {
   "cell_type": "code",
   "execution_count": 52,
   "id": "8bcf70f2",
   "metadata": {},
   "outputs": [
    {
     "name": "stderr",
     "output_type": "stream",
     "text": [
      "C:\\Users\\minjw\\anaconda3\\lib\\site-packages\\matplotlib\\backends\\backend_agg.py:238: RuntimeWarning: Glyph 8722 missing from current font.\n",
      "  font.set_text(s, 0.0, flags=flags)\n",
      "C:\\Users\\minjw\\anaconda3\\lib\\site-packages\\matplotlib\\backends\\backend_agg.py:201: RuntimeWarning: Glyph 8722 missing from current font.\n",
      "  font.set_text(s, 0, flags=flags)\n"
     ]
    },
    {
     "data": {
      "image/png": "[encoded data removed]",
      "text/plain": [
       "<Figure size 360x360 with 1 Axes>"
      ]
     },
     "metadata": {
      "needs_background": "light"
     },
     "output_type": "display_data"
    }
   ],
   "source": [
    "fig, ax = plt.subplots(figsize=(5, 5))\n",
    "partialResidualPlot(result_spline, house_98105, 'AdjSalePrice', 'SqFtTotLiving', ax)\n",
    "\n",
    "plt.tight_layout()\n",
    "plt.show()"
   ]
  },
  {
   "cell_type": "markdown",
   "id": "a89571d4",
   "metadata": {},
   "source": [
    "### 4.7.3 일반화가법모형(GAM, generalized additive model)\n",
    " - 스플라인 회귀를 자동으로 찾는 데 사용할 수 있는 유동적인 모델링 기술"
   ]
  },
  {
   "cell_type": "code",
   "execution_count": 55,
   "id": "4a4119d8",
   "metadata": {},
   "outputs": [
    {
     "name": "stdout",
     "output_type": "stream",
     "text": [
      "Collecting pygam\n",
      "  Downloading pygam-0.8.0-py2.py3-none-any.whl (1.8 MB)\n",
      "Requirement already satisfied: scipy in c:\\users\\minjw\\anaconda3\\lib\\site-packages (from pygam) (1.6.2)\n",
      "Requirement already satisfied: future in c:\\users\\minjw\\anaconda3\\lib\\site-packages (from pygam) (0.18.2)\n",
      "Collecting progressbar2\n",
      "  Downloading progressbar2-3.55.0-py2.py3-none-any.whl (26 kB)\n",
      "Requirement already satisfied: numpy in c:\\users\\minjw\\anaconda3\\lib\\site-packages (from pygam) (1.20.2)\n",
      "Requirement already satisfied: six in c:\\users\\minjw\\anaconda3\\lib\\site-packages (from progressbar2->pygam) (1.16.0)\n",
      "Collecting python-utils>=2.3.0\n",
      "  Downloading python_utils-2.5.6-py2.py3-none-any.whl (12 kB)\n",
      "Installing collected packages: python-utils, progressbar2, pygam\n",
      "Successfully installed progressbar2-3.55.0 pygam-0.8.0 python-utils-2.5.6\n",
      "Note: you may need to restart the kernel to use updated packages.\n"
     ]
    }
   ],
   "source": [
    "pip install pygam"
   ]
  },
  {
   "cell_type": "code",
   "execution_count": 56,
   "id": "55e536cc",
   "metadata": {},
   "outputs": [],
   "source": [
    "from pygam import LinearGAM, s, l"
   ]
  },
  {
   "cell_type": "code",
   "execution_count": 57,
   "id": "6221c90d",
   "metadata": {},
   "outputs": [
    {
     "name": "stderr",
     "output_type": "stream",
     "text": [
      "100% (11 of 11) |########################| Elapsed Time: 0:00:00 Time:  0:00:00\n"
     ]
    },
    {
     "name": "stdout",
     "output_type": "stream",
     "text": [
      "LinearGAM                                                                                                 \n",
      "=============================================== ==========================================================\n",
      "Distribution:                        NormalDist Effective DoF:                                      7.6772\n",
      "Link Function:                     IdentityLink Log Likelihood:                                 -7833.1159\n",
      "Number of Samples:                          313 AIC:                                            15683.5863\n",
      "                                                AICc:                                             15684.14\n",
      "                                                GCV:                                      30838885095.1708\n",
      "                                                Scale:                                    29480381715.8322\n",
      "                                                Pseudo R-Squared:                                   0.8117\n",
      "==========================================================================================================\n",
      "Feature Function                  Lambda               Rank         EDoF         P > x        Sig. Code   \n",
      "================================= ==================== ============ ============ ============ ============\n",
      "s(0)                              [15.8489]            12           4.3          1.11e-16     ***         \n",
      "l(1)                              [15.8489]            1            0.9          2.35e-10     ***         \n",
      "l(2)                              [15.8489]            1            0.8          8.45e-01                 \n",
      "l(3)                              [15.8489]            1            0.9          3.79e-01                 \n",
      "l(4)                              [15.8489]            1            0.8          1.11e-16     ***         \n",
      "intercept                                              1            0.0          9.14e-01                 \n",
      "==========================================================================================================\n",
      "Significance codes:  0 '***' 0.001 '**' 0.01 '*' 0.05 '.' 0.1 ' ' 1\n",
      "\n",
      "WARNING: Fitting splines and a linear function to a feature introduces a model identifiability problem\n",
      "         which can cause p-values to appear significant when they are not.\n",
      "\n",
      "WARNING: p-values calculated in this manner behave correctly for un-penalized models or models with\n",
      "         known smoothing parameters, but when smoothing parameters have been estimated, the p-values\n",
      "         are typically lower than they should be, meaning that the tests reject the null too readily.\n",
      "None\n"
     ]
    },
    {
     "name": "stderr",
     "output_type": "stream",
     "text": [
      "<ipython-input-57-2454e06428fa>:10: UserWarning: KNOWN BUG: p-values computed in this summary are likely much smaller than they should be. \n",
      " \n",
      "Please do not make inferences based on these values! \n",
      "\n",
      "Collaborate on a solution, and stay up to date at: \n",
      "github.com/dswah/pyGAM/issues/163 \n",
      "\n",
      "  print(gam.summary())\n"
     ]
    }
   ],
   "source": [
    "predictors = ['SqFtTotLiving', 'SqFtLot', 'Bathrooms', \n",
    "              'Bedrooms', 'BldgGrade']\n",
    "outcome = 'AdjSalePrice'\n",
    "X = house_98105[predictors].values\n",
    "y = house_98105[outcome]\n",
    "\n",
    "## model\n",
    "gam = LinearGAM(s(0, n_splines=12) + l(1) + l(2) + l(3) + l(4))\n",
    "gam.gridsearch(X, y)\n",
    "print(gam.summary())\n"
   ]
  },
  {
   "cell_type": "code",
   "execution_count": 58,
   "id": "d3e570ce",
   "metadata": {},
   "outputs": [
    {
     "name": "stderr",
     "output_type": "stream",
     "text": [
      "C:\\Users\\minjw\\anaconda3\\lib\\site-packages\\matplotlib\\backends\\backend_agg.py:238: RuntimeWarning: Glyph 8722 missing from current font.\n",
      "  font.set_text(s, 0.0, flags=flags)\n",
      "C:\\Users\\minjw\\anaconda3\\lib\\site-packages\\matplotlib\\backends\\backend_agg.py:201: RuntimeWarning: Glyph 8722 missing from current font.\n",
      "  font.set_text(s, 0, flags=flags)\n"
     ]
    },
    {
     "data": {
      "image/png": "[encoded data removed]",
      "text/plain": [
       "<Figure size 576x576 with 6 Axes>"
      ]
     },
     "metadata": {
      "needs_background": "light"
     },
     "output_type": "display_data"
    }
   ],
   "source": [
    "fig, axes = plt.subplots(figsize=(8, 8), ncols=2, nrows=3)\n",
    "\n",
    "titles = ['SqFtTotLiving', 'SqFtLot', 'Bathrooms', 'Bedrooms', 'BldgGrade']\n",
    "for i, title in enumerate(titles):\n",
    "    ax = axes[i // 2, i % 2]\n",
    "    XX = gam.generate_X_grid(term=i)\n",
    "    ax.plot(XX[:, i], gam.partial_dependence(term=i, X=XX))\n",
    "    ax.plot(XX[:, i], gam.partial_dependence(term=i, X=XX, width=.95)[1], c='r', ls='--')\n",
    "    ax.set_title(titles[i]);\n",
    "    \n",
    "axes[2][1].set_visible(False)\n",
    "\n",
    "plt.tight_layout()\n",
    "plt.show()\n"
   ]
  },
  {
   "cell_type": "markdown",
   "id": "280c1df6",
   "metadata": {},
   "source": [
    "###### 주요개념\n",
    " - 회귀분석에서 특잇값은 잔차가 큰 레코드를 말한다.\n",
    " - 다중공선성은 회귀방정식을 피팅할 때 수치 불안정성을 가져올 수 있다.\n",
    " - 교란변수는 모델에서 생략된 중요한 예측변수이며 허위 관계를 보여주는 회귀 결과를 낳을 수 있다.\n",
    " - 한 변수의 효과가 다른 변수의 <b>수준</b>에 영향을 받는다면 두 변수 사이의 상호작용을 고려할 항이 필요하다.\n",
    " - 다항회귀분석은 예측변수와 결과변수 간의 비선형성 관계를 검증할 수 있다.\n",
    " - 스플라인은 매듭들로 함께 묶여 있는 일련의 구간별 다항식을 말한다.\n",
    " - 일반화기법모형(GAM)을 사용하여 스플라인의 매듭을 자동으로 결정할 수 있다."
   ]
  }
 ],
 "metadata": {
  "kernelspec": {
   "display_name": "Python 3",
   "language": "python",
   "name": "python3"
  },
  "language_info": {
   "codemirror_mode": {
    "name": "ipython",
    "version": 3
   },
   "file_extension": ".py",
   "mimetype": "text/x-python",
   "name": "python",
   "nbconvert_exporter": "python",
   "pygments_lexer": "ipython3",
   "version": "3.8.8"
  }
 },
 "nbformat": 4,
 "nbformat_minor": 5
}
