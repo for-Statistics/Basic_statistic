{
 "cells": [
  {
   "cell_type": "markdown",
   "id": "7aaf29c6",
   "metadata": {},
   "source": [
    "# CH5. 분류(Classification)\n",
    " - 여러 카테고리 중 어디에 속할지 예측하는 것이 목표\n",
    " \n",
    " - 모델에 단순히 이진 분류 결과를 할당하는 대신, 대부분의 알고리즘은 관심 클래스에 속할 확률 점수(경향, propensity)을 반환\n",
    " \n",
    " \n",
    " - 일반적인 접근 방식:\n",
    " 1. 어떤 레코드가 속할 거라고 생각되는 관심 클래스에 대한 컷오프 확률 정의\n",
    " 2. 레코드가 관심 클래스에 속할 확률을 (모든 모델과 함께) 추정\n",
    " 3. 그 확률이 컷오프 확률 이상이면 관심 클래스에 해당 레코드 할당"
   ]
  },
  {
   "cell_type": "code",
   "execution_count": 7,
   "id": "e7ae54a7",
   "metadata": {},
   "outputs": [
    {
     "name": "stdout",
     "output_type": "stream",
     "text": [
      "Requirement already satisfied: numpy in c:\\users\\minjw\\anaconda3\\lib\\site-packages (1.21.3)\n",
      "Note: you may need to restart the kernel to use updated packages.\n"
     ]
    },
    {
     "name": "stderr",
     "output_type": "stream",
     "text": [
      "WARNING: Ignoring invalid distribution -umpy (c:\\users\\minjw\\anaconda3\\lib\\site-packages)\n",
      "WARNING: Ignoring invalid distribution -umpy (c:\\users\\minjw\\anaconda3\\lib\\site-packages)\n",
      "WARNING: Ignoring invalid distribution -umpy (c:\\users\\minjw\\anaconda3\\lib\\site-packages)\n",
      "WARNING: Ignoring invalid distribution -umpy (c:\\users\\minjw\\anaconda3\\lib\\site-packages)\n",
      "WARNING: Ignoring invalid distribution -umpy (c:\\users\\minjw\\anaconda3\\lib\\site-packages)\n",
      "WARNING: Ignoring invalid distribution -umpy (c:\\users\\minjw\\anaconda3\\lib\\site-packages)\n"
     ]
    }
   ],
   "source": [
    "pip install --upgrade numpy"
   ]
  },
  {
   "cell_type": "code",
   "execution_count": 1,
   "id": "ea66eb89",
   "metadata": {},
   "outputs": [],
   "source": [
    "import pandas as pd\n",
    "import numpy as np\n",
    "\n",
    "import seaborn as sns\n",
    "import matplotlib.pyplot as plt\n",
    "\n",
    "from sklearn.naive_bayes import MultinomialNB\n",
    "from sklearn.discriminant_analysis import LinearDiscriminantAnalysis\n",
    "from sklearn.linear_model import LogisticRegression #, LogisticRegressionCV\n",
    "from sklearn.metrics import confusion_matrix, precision_recall_fscore_support\n",
    "from sklearn.metrics import roc_curve, accuracy_score, roc_auc_score\n",
    "\n",
    "import statsmodels.api as sm"
   ]
  },
  {
   "cell_type": "markdown",
   "id": "86106081",
   "metadata": {},
   "source": [
    "## 5.1 나이브베이즈(naive Bayes)\n",
    " - <b>나이브 베이즈</b> 알고리즘: 주어진 결과에 대해 예측변숫값을 관찰할 확률을 사용하여, 예측변수가 주어졌을 때 결과 $Y=i$를 관찰할 확률, 즉 정말 관심 있는 것을 추정한다.\n",
    " \n",
    " ===============================================================================================================\n",
    " ###### 용어정리\n",
    "  - 조건부확률(conditional probability): 어떤 사건($Y=i$)이 주어졌을 때, 해당 사건($X=i$)을 관찰할 확률 $P(X_i|Y_i)$\n",
    "  - 사후확률(posterior probability): 예츠 정보를 통합한 후 결과의 확률(이와 달리, <b>사전확률</b>에서는 예측변수에 대한 정보를 고려하지 않는다.)\n",
    "  \n",
    " ===============================================================================================================\n",
    " \n",
    " - 베이즈 분류\n",
    " 1. 예측변수 프로파일이 동일한(즉, 예측변수와 값이 동일한) 모든 레코드 찾기\n",
    " 2. 해당 레코드들이 가장 많이 속한 (즉, 가능성이 높은) 클래스 정하기\n",
    " 3. 새 레코드에 해당 클래스 지정\n",
    " \n",
    "###### NOTE_ \n",
    "표준 나이브 베이즈 알고리즘에서 예측변수는 범주형 변수(요인변수)여야 함. 연속형 변수를 다루는 두 방법은 5.1.3에서 설명"
   ]
  },
  {
   "cell_type": "markdown",
   "id": "01544d72",
   "metadata": {},
   "source": [
    "### 5.1.1 나이브하지 않은 베이즈 분류는 왜 현실성이 없을까?\n",
    " - 데이터가 커질수록 프로파일이 동일한 레코드가 희박함\n",
    " \n",
    "*naive: (경험, 지식 등의 부족으로)순진한, 순진해 빠진, 순진무구한*"
   ]
  },
  {
   "cell_type": "markdown",
   "id": "4800957e",
   "metadata": {},
   "source": [
    "### 5.1.2 나이브한 해법\n",
    "- <b>나이브 베이즈 방법</b>\n",
    "1. 이진 응답 $Y=i(i=0 또는 1)$에 대해, 각 예측변수에 대한 조건부확률 $P(X_j|Y=i)$를 구한다. 이것은 $Y=i$가 주어질 때, 예측변수의 값이 나올 확률이다. 이 확률은 훈련 데이터(training set)에서 $Y=i$인 레코드들 중 $X_j$값의 비율로 구할 수 있다.\n",
    "2. 각 확률값을 곱한 다음, $Y=i$에 속한 레코드들의 비율을 곱한다.\n",
    "3. 모든 클래스에 대해 1~2단계를 반복한다.\n",
    "4. 2단계에서 모든 클래스에 대해 구한 확률값을 모두 더한 값으로 클래스 $i$의 확률을 나누면 결과 $i$의 확률을 구할 수 있다.\n",
    "5. 이 예측변수에 대해 가장 높은 확률을 갖는 클래스를 해당 레코드에 할당한다.\n",
    "\n",
    "<br>\n",
    "\n",
    "- 나이브 베이즈 분류기는 편향된 추정 결과를 예측하는 것으로 잘 알려져 있다.\n",
    "- 하지만 $Y=1$인 확률에 따라 레코드들에 순위를 매기는 것이 목적이므로 확률의 비편향된 추정치를 굳이 구할 필요가 없다면, 나이브 베이즈도 나름 우수한 결과를 보인다."
   ]
  },
  {
   "cell_type": "code",
   "execution_count": 2,
   "id": "670f8afd",
   "metadata": {},
   "outputs": [],
   "source": [
    "from sklearn.naive_bayes import MultinomialNB"
   ]
  },
  {
   "cell_type": "code",
   "execution_count": 3,
   "id": "94d57ba7",
   "metadata": {},
   "outputs": [
    {
     "data": {
      "text/html": [
       "<div>\n",
       "<style scoped>\n",
       "    .dataframe tbody tr th:only-of-type {\n",
       "        vertical-align: middle;\n",
       "    }\n",
       "\n",
       "    .dataframe tbody tr th {\n",
       "        vertical-align: top;\n",
       "    }\n",
       "\n",
       "    .dataframe thead th {\n",
       "        text-align: right;\n",
       "    }\n",
       "</style>\n",
       "<table border=\"1\" class=\"dataframe\">\n",
       "  <thead>\n",
       "    <tr style=\"text-align: right;\">\n",
       "      <th></th>\n",
       "      <th>Unnamed: 0</th>\n",
       "      <th>status</th>\n",
       "      <th>loan_amnt</th>\n",
       "      <th>term</th>\n",
       "      <th>annual_inc</th>\n",
       "      <th>dti</th>\n",
       "      <th>payment_inc_ratio</th>\n",
       "      <th>revol_bal</th>\n",
       "      <th>revol_util</th>\n",
       "      <th>purpose</th>\n",
       "      <th>...</th>\n",
       "      <th>delinq_2yrs_zero</th>\n",
       "      <th>pub_rec_zero</th>\n",
       "      <th>open_acc</th>\n",
       "      <th>grade</th>\n",
       "      <th>outcome</th>\n",
       "      <th>emp_length</th>\n",
       "      <th>purpose_</th>\n",
       "      <th>home_</th>\n",
       "      <th>emp_len_</th>\n",
       "      <th>borrower_score</th>\n",
       "    </tr>\n",
       "  </thead>\n",
       "  <tbody>\n",
       "    <tr>\n",
       "      <th>0</th>\n",
       "      <td>1</td>\n",
       "      <td>Charged Off</td>\n",
       "      <td>2500</td>\n",
       "      <td>60 months</td>\n",
       "      <td>30000</td>\n",
       "      <td>1.00</td>\n",
       "      <td>2.39320</td>\n",
       "      <td>1687</td>\n",
       "      <td>9.4</td>\n",
       "      <td>car</td>\n",
       "      <td>...</td>\n",
       "      <td>1</td>\n",
       "      <td>1</td>\n",
       "      <td>3</td>\n",
       "      <td>4.8</td>\n",
       "      <td>default</td>\n",
       "      <td>1</td>\n",
       "      <td>major_purchase</td>\n",
       "      <td>RENT</td>\n",
       "      <td>&gt; 1 Year</td>\n",
       "      <td>0.65</td>\n",
       "    </tr>\n",
       "    <tr>\n",
       "      <th>1</th>\n",
       "      <td>2</td>\n",
       "      <td>Charged Off</td>\n",
       "      <td>5600</td>\n",
       "      <td>60 months</td>\n",
       "      <td>40000</td>\n",
       "      <td>5.55</td>\n",
       "      <td>4.57170</td>\n",
       "      <td>5210</td>\n",
       "      <td>32.6</td>\n",
       "      <td>small_business</td>\n",
       "      <td>...</td>\n",
       "      <td>1</td>\n",
       "      <td>1</td>\n",
       "      <td>11</td>\n",
       "      <td>1.4</td>\n",
       "      <td>default</td>\n",
       "      <td>5</td>\n",
       "      <td>small_business</td>\n",
       "      <td>OWN</td>\n",
       "      <td>&gt; 1 Year</td>\n",
       "      <td>0.80</td>\n",
       "    </tr>\n",
       "    <tr>\n",
       "      <th>2</th>\n",
       "      <td>3</td>\n",
       "      <td>Charged Off</td>\n",
       "      <td>5375</td>\n",
       "      <td>60 months</td>\n",
       "      <td>15000</td>\n",
       "      <td>18.08</td>\n",
       "      <td>9.71600</td>\n",
       "      <td>9279</td>\n",
       "      <td>36.5</td>\n",
       "      <td>other</td>\n",
       "      <td>...</td>\n",
       "      <td>1</td>\n",
       "      <td>1</td>\n",
       "      <td>2</td>\n",
       "      <td>6.0</td>\n",
       "      <td>default</td>\n",
       "      <td>1</td>\n",
       "      <td>other</td>\n",
       "      <td>RENT</td>\n",
       "      <td>&gt; 1 Year</td>\n",
       "      <td>0.60</td>\n",
       "    </tr>\n",
       "    <tr>\n",
       "      <th>3</th>\n",
       "      <td>4</td>\n",
       "      <td>Charged Off</td>\n",
       "      <td>9000</td>\n",
       "      <td>36 months</td>\n",
       "      <td>30000</td>\n",
       "      <td>10.08</td>\n",
       "      <td>12.21520</td>\n",
       "      <td>10452</td>\n",
       "      <td>91.7</td>\n",
       "      <td>debt_consolidation</td>\n",
       "      <td>...</td>\n",
       "      <td>1</td>\n",
       "      <td>1</td>\n",
       "      <td>4</td>\n",
       "      <td>4.2</td>\n",
       "      <td>default</td>\n",
       "      <td>1</td>\n",
       "      <td>debt_consolidation</td>\n",
       "      <td>RENT</td>\n",
       "      <td>&gt; 1 Year</td>\n",
       "      <td>0.50</td>\n",
       "    </tr>\n",
       "    <tr>\n",
       "      <th>4</th>\n",
       "      <td>5</td>\n",
       "      <td>Charged Off</td>\n",
       "      <td>10000</td>\n",
       "      <td>36 months</td>\n",
       "      <td>100000</td>\n",
       "      <td>7.06</td>\n",
       "      <td>3.90888</td>\n",
       "      <td>11997</td>\n",
       "      <td>55.5</td>\n",
       "      <td>other</td>\n",
       "      <td>...</td>\n",
       "      <td>1</td>\n",
       "      <td>1</td>\n",
       "      <td>14</td>\n",
       "      <td>5.4</td>\n",
       "      <td>default</td>\n",
       "      <td>4</td>\n",
       "      <td>other</td>\n",
       "      <td>RENT</td>\n",
       "      <td>&gt; 1 Year</td>\n",
       "      <td>0.55</td>\n",
       "    </tr>\n",
       "    <tr>\n",
       "      <th>...</th>\n",
       "      <td>...</td>\n",
       "      <td>...</td>\n",
       "      <td>...</td>\n",
       "      <td>...</td>\n",
       "      <td>...</td>\n",
       "      <td>...</td>\n",
       "      <td>...</td>\n",
       "      <td>...</td>\n",
       "      <td>...</td>\n",
       "      <td>...</td>\n",
       "      <td>...</td>\n",
       "      <td>...</td>\n",
       "      <td>...</td>\n",
       "      <td>...</td>\n",
       "      <td>...</td>\n",
       "      <td>...</td>\n",
       "      <td>...</td>\n",
       "      <td>...</td>\n",
       "      <td>...</td>\n",
       "      <td>...</td>\n",
       "      <td>...</td>\n",
       "    </tr>\n",
       "    <tr>\n",
       "      <th>45337</th>\n",
       "      <td>45338</td>\n",
       "      <td>Fully Paid</td>\n",
       "      <td>8000</td>\n",
       "      <td>36 months</td>\n",
       "      <td>72000</td>\n",
       "      <td>18.97</td>\n",
       "      <td>4.57850</td>\n",
       "      <td>9725</td>\n",
       "      <td>58.2</td>\n",
       "      <td>credit_card</td>\n",
       "      <td>...</td>\n",
       "      <td>1</td>\n",
       "      <td>0</td>\n",
       "      <td>9</td>\n",
       "      <td>4.2</td>\n",
       "      <td>paid off</td>\n",
       "      <td>8</td>\n",
       "      <td>credit_card</td>\n",
       "      <td>RENT</td>\n",
       "      <td>&gt; 1 Year</td>\n",
       "      <td>0.35</td>\n",
       "    </tr>\n",
       "    <tr>\n",
       "      <th>45338</th>\n",
       "      <td>45339</td>\n",
       "      <td>Fully Paid</td>\n",
       "      <td>2000</td>\n",
       "      <td>36 months</td>\n",
       "      <td>25200</td>\n",
       "      <td>13.24</td>\n",
       "      <td>3.20333</td>\n",
       "      <td>4925</td>\n",
       "      <td>40.7</td>\n",
       "      <td>wedding</td>\n",
       "      <td>...</td>\n",
       "      <td>0</td>\n",
       "      <td>1</td>\n",
       "      <td>13</td>\n",
       "      <td>4.2</td>\n",
       "      <td>paid off</td>\n",
       "      <td>3</td>\n",
       "      <td>other</td>\n",
       "      <td>MORTGAGE</td>\n",
       "      <td>&gt; 1 Year</td>\n",
       "      <td>0.50</td>\n",
       "    </tr>\n",
       "    <tr>\n",
       "      <th>45339</th>\n",
       "      <td>45340</td>\n",
       "      <td>Fully Paid</td>\n",
       "      <td>4375</td>\n",
       "      <td>36 months</td>\n",
       "      <td>20000</td>\n",
       "      <td>7.95</td>\n",
       "      <td>9.98460</td>\n",
       "      <td>6574</td>\n",
       "      <td>73.0</td>\n",
       "      <td>debt_consolidation</td>\n",
       "      <td>...</td>\n",
       "      <td>1</td>\n",
       "      <td>1</td>\n",
       "      <td>8</td>\n",
       "      <td>2.4</td>\n",
       "      <td>paid off</td>\n",
       "      <td>1</td>\n",
       "      <td>debt_consolidation</td>\n",
       "      <td>MORTGAGE</td>\n",
       "      <td>&gt; 1 Year</td>\n",
       "      <td>0.55</td>\n",
       "    </tr>\n",
       "    <tr>\n",
       "      <th>45340</th>\n",
       "      <td>45341</td>\n",
       "      <td>Fully Paid</td>\n",
       "      <td>8000</td>\n",
       "      <td>36 months</td>\n",
       "      <td>48000</td>\n",
       "      <td>26.91</td>\n",
       "      <td>6.45250</td>\n",
       "      <td>10303</td>\n",
       "      <td>32.4</td>\n",
       "      <td>debt_consolidation</td>\n",
       "      <td>...</td>\n",
       "      <td>1</td>\n",
       "      <td>1</td>\n",
       "      <td>10</td>\n",
       "      <td>5.2</td>\n",
       "      <td>paid off</td>\n",
       "      <td>1</td>\n",
       "      <td>debt_consolidation</td>\n",
       "      <td>MORTGAGE</td>\n",
       "      <td>&gt; 1 Year</td>\n",
       "      <td>0.65</td>\n",
       "    </tr>\n",
       "    <tr>\n",
       "      <th>45341</th>\n",
       "      <td>45342</td>\n",
       "      <td>Fully Paid</td>\n",
       "      <td>35000</td>\n",
       "      <td>60 months</td>\n",
       "      <td>100000</td>\n",
       "      <td>7.82</td>\n",
       "      <td>11.87150</td>\n",
       "      <td>16676</td>\n",
       "      <td>91.6</td>\n",
       "      <td>debt_consolidation</td>\n",
       "      <td>...</td>\n",
       "      <td>0</td>\n",
       "      <td>1</td>\n",
       "      <td>13</td>\n",
       "      <td>0.4</td>\n",
       "      <td>paid off</td>\n",
       "      <td>9</td>\n",
       "      <td>debt_consolidation</td>\n",
       "      <td>MORTGAGE</td>\n",
       "      <td>&gt; 1 Year</td>\n",
       "      <td>0.50</td>\n",
       "    </tr>\n",
       "  </tbody>\n",
       "</table>\n",
       "<p>45342 rows × 21 columns</p>\n",
       "</div>"
      ],
      "text/plain": [
       "       Unnamed: 0       status  loan_amnt       term  annual_inc    dti  \\\n",
       "0               1  Charged Off       2500  60 months       30000   1.00   \n",
       "1               2  Charged Off       5600  60 months       40000   5.55   \n",
       "2               3  Charged Off       5375  60 months       15000  18.08   \n",
       "3               4  Charged Off       9000  36 months       30000  10.08   \n",
       "4               5  Charged Off      10000  36 months      100000   7.06   \n",
       "...           ...          ...        ...        ...         ...    ...   \n",
       "45337       45338   Fully Paid       8000  36 months       72000  18.97   \n",
       "45338       45339   Fully Paid       2000  36 months       25200  13.24   \n",
       "45339       45340   Fully Paid       4375  36 months       20000   7.95   \n",
       "45340       45341   Fully Paid       8000  36 months       48000  26.91   \n",
       "45341       45342   Fully Paid      35000  60 months      100000   7.82   \n",
       "\n",
       "       payment_inc_ratio  revol_bal  revol_util             purpose  ...  \\\n",
       "0                2.39320       1687         9.4                 car  ...   \n",
       "1                4.57170       5210        32.6      small_business  ...   \n",
       "2                9.71600       9279        36.5               other  ...   \n",
       "3               12.21520      10452        91.7  debt_consolidation  ...   \n",
       "4                3.90888      11997        55.5               other  ...   \n",
       "...                  ...        ...         ...                 ...  ...   \n",
       "45337            4.57850       9725        58.2         credit_card  ...   \n",
       "45338            3.20333       4925        40.7             wedding  ...   \n",
       "45339            9.98460       6574        73.0  debt_consolidation  ...   \n",
       "45340            6.45250      10303        32.4  debt_consolidation  ...   \n",
       "45341           11.87150      16676        91.6  debt_consolidation  ...   \n",
       "\n",
       "      delinq_2yrs_zero  pub_rec_zero  open_acc  grade   outcome emp_length  \\\n",
       "0                    1             1         3    4.8   default          1   \n",
       "1                    1             1        11    1.4   default          5   \n",
       "2                    1             1         2    6.0   default          1   \n",
       "3                    1             1         4    4.2   default          1   \n",
       "4                    1             1        14    5.4   default          4   \n",
       "...                ...           ...       ...    ...       ...        ...   \n",
       "45337                1             0         9    4.2  paid off          8   \n",
       "45338                0             1        13    4.2  paid off          3   \n",
       "45339                1             1         8    2.4  paid off          1   \n",
       "45340                1             1        10    5.2  paid off          1   \n",
       "45341                0             1        13    0.4  paid off          9   \n",
       "\n",
       "                 purpose_     home_   emp_len_ borrower_score  \n",
       "0          major_purchase      RENT   > 1 Year           0.65  \n",
       "1          small_business       OWN   > 1 Year           0.80  \n",
       "2                   other      RENT   > 1 Year           0.60  \n",
       "3      debt_consolidation      RENT   > 1 Year           0.50  \n",
       "4                   other      RENT   > 1 Year           0.55  \n",
       "...                   ...       ...        ...            ...  \n",
       "45337         credit_card      RENT   > 1 Year           0.35  \n",
       "45338               other  MORTGAGE   > 1 Year           0.50  \n",
       "45339  debt_consolidation  MORTGAGE   > 1 Year           0.55  \n",
       "45340  debt_consolidation  MORTGAGE   > 1 Year           0.65  \n",
       "45341  debt_consolidation  MORTGAGE   > 1 Year           0.50  \n",
       "\n",
       "[45342 rows x 21 columns]"
      ]
     },
     "execution_count": 3,
     "metadata": {},
     "output_type": "execute_result"
    }
   ],
   "source": [
    "loan_data = pd.read_csv('C:/data/stats_for_ds/loan_data.csv') ;loan_data"
   ]
  },
  {
   "cell_type": "code",
   "execution_count": 4,
   "id": "1859b2c0",
   "metadata": {},
   "outputs": [],
   "source": [
    "# convert to categorical\n",
    "loan_data.outcome = loan_data.outcome.astype('category')\n",
    "loan_data.outcome.cat.reorder_categories(['paid off', 'default'])\n",
    "loan_data.purpose_ = loan_data.purpose_.astype('category')\n",
    "loan_data.home_ = loan_data.home_.astype('category')\n",
    "loan_data.emp_len_ = loan_data.emp_len_.astype('category')\n",
    "\n",
    "predictors = ['purpose_', 'home_', 'emp_len_']\n",
    "outcome = 'outcome'\n",
    "X = pd.get_dummies(loan_data[predictors], prefix='', prefix_sep='')\n",
    "y = loan_data[outcome]"
   ]
  },
  {
   "cell_type": "code",
   "execution_count": 5,
   "id": "de078d23",
   "metadata": {},
   "outputs": [
    {
     "name": "stdout",
     "output_type": "stream",
     "text": [
      "predicted class:  default\n"
     ]
    },
    {
     "name": "stderr",
     "output_type": "stream",
     "text": [
      "C:\\Users\\minjw\\anaconda3\\lib\\site-packages\\sklearn\\naive_bayes.py:508: UserWarning: alpha too small will result in numeric errors, setting alpha = 1.0e-10\n",
      "  warnings.warn('alpha too small will result in numeric errors, '\n"
     ]
    }
   ],
   "source": [
    "naive_model = MultinomialNB(alpha=0.01, fit_prior=True)\n",
    "naive_model = MultinomialNB(alpha=0, fit_prior=False)\n",
    "naive_model.fit(X, y)\n",
    "\n",
    "new_loan = X.loc[146:146, :]\n",
    "print('predicted class: ', naive_model.predict(new_loan)[0])"
   ]
  },
  {
   "cell_type": "code",
   "execution_count": 6,
   "id": "39aa9fd0",
   "metadata": {},
   "outputs": [
    {
     "name": "stdout",
     "output_type": "stream",
     "text": [
      "predicted probabilities\n",
      "    default  paid off\n",
      "0  0.653699  0.346301\n"
     ]
    }
   ],
   "source": [
    "probabilities = pd.DataFrame(naive_model.predict_proba(new_loan),\n",
    "                             columns=naive_model.classes_)\n",
    "print('predicted probabilities',)\n",
    "print(probabilities)"
   ]
  },
  {
   "cell_type": "markdown",
   "id": "27d2b3cc",
   "metadata": {},
   "source": [
    "### 5.1.3 수치형 예측변수\n",
    "<b>수치형 변수에 나이브 베이즈 방법을 적용하기 위해 다음 두 가지 접근법 중 하나를 따라야 한다.</b>\n",
    "1. 수치형 예측변수를 비닝(binning)하여 범주형으로 변환한 뒤, 알고리즘 적용\n",
    "2. 조건부 확률 $P(X_j|Y=i)$를 추정하기 위해 정규분포 같은 확률모형 사용\n",
    "\n",
    "###### CAUTION_\n",
    "훈련 데이터에 예측변수의 특정 카테고리에 해당하는 데이터가 없을 때에는, 다른 기법들처럼 이 변수를 무시하고 다른 변수들의 정보를 사용하는 대신, 나이브 베이즈 알고리즘은 새 데이터 결과에 대한 <b>확률을 0으로</b> 할당한다. 나이브 베이즈를 구현한 대부분의 경우에는 이를 방지하기 위해 평활화 인수(라플라스 평활화)를 사용한다.\n",
    "\n",
    "###### 주요개념\n",
    "- 나이브 베이즈는 예측변수와 결과변수 모두 범주형(요인)이어야 한다.\n",
    "- '각 출력 카테고리 안에서, 어떤 예측변수의 카테고리가 가장 가능성이 높은가?'가 답하고자 하는 질문이다.\n",
    "- 그리고 이 정보는 주어진 예측변수 값에 대해, 결과 카테고리의 확률을 추정하는 것으로 바뀐다."
   ]
  },
  {
   "cell_type": "markdown",
   "id": "47969edd",
   "metadata": {},
   "source": [
    "## 5.2 판별분석(discriminant analysis)\n",
    "\n",
    "==========================================================================================================\n",
    "###### 용어정리\n",
    "- 공분산(covariance): 하나의 변수가 다른 변수와 함께 변화하는 정도(유사한 크기와 방향)를 측정하는 지표\n",
    "- 판별함수(discriminant function): 예측변수에 적용했을 때, 클래스 구분을 최대화하는 함수\n",
    "- 판별 가중치(discriminant weight): 판별함수를 적용하여 얻은 점수를 말하며, 어떤 클래스에 속할 확률을 추정하는 데 사용된다.\n",
    "\n",
    "==========================================================================================================\n",
    "\n",
    "- 가장 일반적으로 사용되는 것: <b>선형판별분석</b>(LDA, linear discriminant analysis)\n",
    "- 트리 모델이나 로지스틱 회귀와 같은 더 정교한 기법이 출현한 이후로는 LDA를 그렇게 많이 사용하지 않는다.\n",
    "- But, 여전히 일부 응용 분야에서 사용되고 있으며, 주성분분석과 같이 아직도 많이 사용되는 다른 방법들과도 연결된다.\n"
   ]
  },
  {
   "cell_type": "markdown",
   "id": "106ac479",
   "metadata": {},
   "source": [
    "### 5.2.1 공분산행렬\n",
    "- 변수 $x$와 $z$사이의 공분산 $S_{x,z}$:\n",
    "$$ S_{x,z} = \\frac { \\sum_{i=1}^n{(x_i-\\bar{x})(z_i-\\bar{z})} } {n-1} $$\n",
    "\n",
    "###### NOTE_\n",
    "변수를 $z$ 점수로 변환할 때 표준편차를 사용했던 것을 떠올려보자. 이를 확장하여 다변량분석에서 표준화 처리를 하기 위해 공분산행렬을 사용하는 것이다. 이를 마할라노비스 거리라고 부르며 LDA함수와 관련이 있다."
   ]
  },
  {
   "cell_type": "markdown",
   "id": "14ec8fae",
   "metadata": {},
   "source": [
    "### 5.2.2 피셔의 선형판별\n",
    "ex. 두 개의 연속형 변수 $(x, z)$를 사용하여 이진 결과변수 $y$를 예측하려는 분류문제\n",
    "- 선형판별분석(LDA)는 '내부' 제곱합 $SS_{내부}$(그룹 안의 변동을 측정)에 대한 '사이' 제곱합 $SS_{사이}$(두 그룹 사이의 편차를 측정)의 비율을 최대화 하는 것을 목표로 함\n",
    "- 즉, $\\frac {SS_{사이}} {SS_{내부}}$ (제곱합 비율)을 최대화 하는 선형결합 $w_xx+w_zz$을 찾는다."
   ]
  },
  {
   "cell_type": "markdown",
   "id": "f129d8d2",
   "metadata": {},
   "source": [
    "### 5.2.3 간단한 예"
   ]
  },
  {
   "cell_type": "code",
   "execution_count": 7,
   "id": "ae647aff",
   "metadata": {},
   "outputs": [
    {
     "data": {
      "text/html": [
       "<div>\n",
       "<style scoped>\n",
       "    .dataframe tbody tr th:only-of-type {\n",
       "        vertical-align: middle;\n",
       "    }\n",
       "\n",
       "    .dataframe tbody tr th {\n",
       "        vertical-align: top;\n",
       "    }\n",
       "\n",
       "    .dataframe thead th {\n",
       "        text-align: right;\n",
       "    }\n",
       "</style>\n",
       "<table border=\"1\" class=\"dataframe\">\n",
       "  <thead>\n",
       "    <tr style=\"text-align: right;\">\n",
       "      <th></th>\n",
       "      <th>Unnamed: 0</th>\n",
       "      <th>outcome</th>\n",
       "      <th>purpose_</th>\n",
       "      <th>dti</th>\n",
       "      <th>borrower_score</th>\n",
       "      <th>payment_inc_ratio</th>\n",
       "    </tr>\n",
       "  </thead>\n",
       "  <tbody>\n",
       "    <tr>\n",
       "      <th>0</th>\n",
       "      <td>32109</td>\n",
       "      <td>paid off</td>\n",
       "      <td>debt_consolidation</td>\n",
       "      <td>21.23</td>\n",
       "      <td>0.40</td>\n",
       "      <td>5.11135</td>\n",
       "    </tr>\n",
       "    <tr>\n",
       "      <th>1</th>\n",
       "      <td>16982</td>\n",
       "      <td>default</td>\n",
       "      <td>credit_card</td>\n",
       "      <td>15.49</td>\n",
       "      <td>0.40</td>\n",
       "      <td>5.43165</td>\n",
       "    </tr>\n",
       "    <tr>\n",
       "      <th>2</th>\n",
       "      <td>25335</td>\n",
       "      <td>paid off</td>\n",
       "      <td>debt_consolidation</td>\n",
       "      <td>27.30</td>\n",
       "      <td>0.70</td>\n",
       "      <td>9.23003</td>\n",
       "    </tr>\n",
       "    <tr>\n",
       "      <th>3</th>\n",
       "      <td>34580</td>\n",
       "      <td>paid off</td>\n",
       "      <td>major_purchase</td>\n",
       "      <td>21.11</td>\n",
       "      <td>0.40</td>\n",
       "      <td>2.33482</td>\n",
       "    </tr>\n",
       "    <tr>\n",
       "      <th>4</th>\n",
       "      <td>14424</td>\n",
       "      <td>default</td>\n",
       "      <td>debt_consolidation</td>\n",
       "      <td>16.46</td>\n",
       "      <td>0.45</td>\n",
       "      <td>12.10320</td>\n",
       "    </tr>\n",
       "    <tr>\n",
       "      <th>...</th>\n",
       "      <td>...</td>\n",
       "      <td>...</td>\n",
       "      <td>...</td>\n",
       "      <td>...</td>\n",
       "      <td>...</td>\n",
       "      <td>...</td>\n",
       "    </tr>\n",
       "    <tr>\n",
       "      <th>2995</th>\n",
       "      <td>36589</td>\n",
       "      <td>paid off</td>\n",
       "      <td>debt_consolidation</td>\n",
       "      <td>13.30</td>\n",
       "      <td>0.50</td>\n",
       "      <td>18.36620</td>\n",
       "    </tr>\n",
       "    <tr>\n",
       "      <th>2996</th>\n",
       "      <td>43889</td>\n",
       "      <td>paid off</td>\n",
       "      <td>other</td>\n",
       "      <td>6.09</td>\n",
       "      <td>0.60</td>\n",
       "      <td>1.80421</td>\n",
       "    </tr>\n",
       "    <tr>\n",
       "      <th>2997</th>\n",
       "      <td>7219</td>\n",
       "      <td>default</td>\n",
       "      <td>debt_consolidation</td>\n",
       "      <td>16.13</td>\n",
       "      <td>0.20</td>\n",
       "      <td>15.42180</td>\n",
       "    </tr>\n",
       "    <tr>\n",
       "      <th>2998</th>\n",
       "      <td>8987</td>\n",
       "      <td>default</td>\n",
       "      <td>debt_consolidation</td>\n",
       "      <td>18.39</td>\n",
       "      <td>0.45</td>\n",
       "      <td>8.92335</td>\n",
       "    </tr>\n",
       "    <tr>\n",
       "      <th>2999</th>\n",
       "      <td>11117</td>\n",
       "      <td>default</td>\n",
       "      <td>credit_card</td>\n",
       "      <td>26.67</td>\n",
       "      <td>0.40</td>\n",
       "      <td>12.88190</td>\n",
       "    </tr>\n",
       "  </tbody>\n",
       "</table>\n",
       "<p>3000 rows × 6 columns</p>\n",
       "</div>"
      ],
      "text/plain": [
       "      Unnamed: 0   outcome            purpose_    dti  borrower_score  \\\n",
       "0          32109  paid off  debt_consolidation  21.23            0.40   \n",
       "1          16982   default         credit_card  15.49            0.40   \n",
       "2          25335  paid off  debt_consolidation  27.30            0.70   \n",
       "3          34580  paid off      major_purchase  21.11            0.40   \n",
       "4          14424   default  debt_consolidation  16.46            0.45   \n",
       "...          ...       ...                 ...    ...             ...   \n",
       "2995       36589  paid off  debt_consolidation  13.30            0.50   \n",
       "2996       43889  paid off               other   6.09            0.60   \n",
       "2997        7219   default  debt_consolidation  16.13            0.20   \n",
       "2998        8987   default  debt_consolidation  18.39            0.45   \n",
       "2999       11117   default         credit_card  26.67            0.40   \n",
       "\n",
       "      payment_inc_ratio  \n",
       "0               5.11135  \n",
       "1               5.43165  \n",
       "2               9.23003  \n",
       "3               2.33482  \n",
       "4              12.10320  \n",
       "...                 ...  \n",
       "2995           18.36620  \n",
       "2996            1.80421  \n",
       "2997           15.42180  \n",
       "2998            8.92335  \n",
       "2999           12.88190  \n",
       "\n",
       "[3000 rows x 6 columns]"
      ]
     },
     "execution_count": 7,
     "metadata": {},
     "output_type": "execute_result"
    }
   ],
   "source": [
    "from sklearn.discriminant_analysis import LinearDiscriminantAnalysis\n",
    "\n",
    "loan3000 = pd.read_csv('C:/data/stats_for_ds/loan3000.csv') ;loan3000"
   ]
  },
  {
   "cell_type": "code",
   "execution_count": 8,
   "id": "055cf309",
   "metadata": {},
   "outputs": [
    {
     "name": "stdout",
     "output_type": "stream",
     "text": [
      "                          0\n",
      "borrower_score     7.175839\n",
      "payment_inc_ratio -0.099676\n"
     ]
    }
   ],
   "source": [
    "loan3000.outcome = loan3000.outcome.astype('category')\n",
    "\n",
    "predictors = ['borrower_score', 'payment_inc_ratio']\n",
    "outcome = 'outcome'\n",
    "\n",
    "X = loan3000[predictors]\n",
    "y = loan3000[outcome]\n",
    "\n",
    "loan_lda = LinearDiscriminantAnalysis()\n",
    "loan_lda.fit(X, y)\n",
    "print(pd.DataFrame(loan_lda.scalings_, index=X.columns))\n"
   ]
  },
  {
   "cell_type": "code",
   "execution_count": 9,
   "id": "aa1f24a8",
   "metadata": {},
   "outputs": [
    {
     "name": "stdout",
     "output_type": "stream",
     "text": [
      "    default  paid off\n",
      "0  0.553544  0.446456\n",
      "1  0.558953  0.441047\n",
      "2  0.272696  0.727304\n",
      "3  0.506254  0.493746\n",
      "4  0.609952  0.390048\n"
     ]
    }
   ],
   "source": [
    "pred = pd.DataFrame(loan_lda.predict_proba(loan3000[predictors]),\n",
    "                    columns=loan_lda.classes_)\n",
    "print(pred.head())"
   ]
  },
  {
   "cell_type": "code",
   "execution_count": 10,
   "id": "c9a80078",
   "metadata": {},
   "outputs": [
    {
     "data": {
      "image/png": "[encoded data removed]",
      "text/plain": [
       "<Figure size 288x288 with 1 Axes>"
      ]
     },
     "metadata": {
      "needs_background": "light"
     },
     "output_type": "display_data"
    }
   ],
   "source": [
    "# [그림 5-1] 두 변수(채무자의 신용점수와 소득에 대한 지급 비율)를 사용한 연체에 대한 LDA 예측 결과\n",
    "center = np.mean(loan_lda.means_, axis=0)\n",
    "slope = - loan_lda.scalings_[0] / loan_lda.scalings_[1]\n",
    "intercept = center[1] - center[0] * slope\n",
    "\n",
    "# payment_inc_ratio for borrower_score of 0 and 20\n",
    "x_0 = (0 - intercept) / slope\n",
    "x_20 = (20 - intercept) / slope\n",
    "\n",
    "lda_df = pd.concat([loan3000, pred['default']], axis=1)\n",
    "lda_df.head()\n",
    "\n",
    "fig, ax = plt.subplots(figsize=(4, 4))\n",
    "g = sns.scatterplot(x='borrower_score', y='payment_inc_ratio',\n",
    "                    hue='default', data=lda_df, \n",
    "                    palette=sns.diverging_palette(240, 10, n=9, as_cmap=True),\n",
    "                    ax=ax, legend=False)\n",
    "\n",
    "ax.set_ylim(0, 20)\n",
    "ax.set_xlim(0.15, 0.8)\n",
    "ax.plot((x_0, x_20), (0, 20), linewidth=3)\n",
    "ax.plot(*loan_lda.means_.transpose())\n",
    "\n",
    "plt.tight_layout()\n",
    "plt.show()"
   ]
  },
  {
   "cell_type": "markdown",
   "id": "8952135a",
   "metadata": {},
   "source": [
    "###### 주요개념\n",
    "- 판별분석은 예측변수나 결과변수가 범주형이든 연속형이든 상관없이 잘 동작한다.\n",
    "- 공분산행렬을 사용하여 한 클래스와 다른 클래스에 속한 데이터들을 구분하는 <b>선형판별함수, linear discriminant function</b>를 계산할 수 있다.\n",
    "- 이 함수를 통해 각 레코드가 어떤 클래스에 속할 가중치 혹은 점수(각 클래스당 점수)를 구한다."
   ]
  },
  {
   "cell_type": "markdown",
   "id": "02d577b7",
   "metadata": {},
   "source": [
    "## 5.3 로지스틱 회귀\n",
    "\n",
    "==========================================================================================================\n",
    "###### 용어정리\n",
    "- 로짓(logit): (0~1)이 아니라 +-무한대의 범위에서 어떤 클래스에 속할 확률을 결정하는 함수 (유의어: 로그오즈)\n",
    "- 오즈(odds): '실패'(0)에 대한 '성공'(1)의 비율\n",
    "- 로그 오즈(log odds): 변환 모델(선형)의 응답변수. 이 값을 통해 확률을 구한다.\n",
    "\n",
    "=========================================================================================================="
   ]
  },
  {
   "cell_type": "markdown",
   "id": "bae3b958",
   "metadata": {},
   "source": [
    "### 5.3.1 로지스틱 반응 함수와 로짓\n",
    " - 로그 오즈 함수, 또는 로짓 함수는 0과 1 사이의 확률 $p$를 -무한대 ~ +무한대까지의 값으로 매핑해준다.\n",
    " \n",
    "$$ odds(Y=1) = \\frac {p} {1-p} $$\n",
    "\n",
    "$$ p = \\frac {odds} {1+odds} $$\n",
    "\n",
    "$$ odds(Y=1) = e^{\\beta_0+\\beta_1x_1+\\beta_2x_2 + ... + \\beta_qx_q} $$\n",
    "\n",
    "$$ log(odds(Y=1)) = \\beta_0+\\beta_1x_1+\\beta_2x_2 + ... + \\beta_qx_q $$"
   ]
  },
  {
   "cell_type": "markdown",
   "id": "a43acf2c",
   "metadata": {},
   "source": [
    "### 5.3.2 로지스틱 회귀와 GLM"
   ]
  },
  {
   "cell_type": "code",
   "execution_count": 11,
   "id": "8f2e9e2b",
   "metadata": {},
   "outputs": [],
   "source": [
    "from sklearn.linear_model import LogisticRegression #, LogisticRegressionCV"
   ]
  },
  {
   "cell_type": "code",
   "execution_count": 12,
   "id": "8ea39ed2",
   "metadata": {},
   "outputs": [
    {
     "data": {
      "text/plain": [
       "LogisticRegression(C=1e+42, solver='liblinear')"
      ]
     },
     "execution_count": 12,
     "metadata": {},
     "output_type": "execute_result"
    }
   ],
   "source": [
    "predictors = ['payment_inc_ratio', 'purpose_', 'home_', 'emp_len_', \n",
    "              'borrower_score']\n",
    "outcome = 'outcome'\n",
    "X = pd.get_dummies(loan_data[predictors], prefix='', prefix_sep='', \n",
    "                   drop_first=True)\n",
    "y = loan_data[outcome] # .cat.categories\n",
    "\n",
    "logit_reg = LogisticRegression(penalty='l2', C=1e42, solver='liblinear')\n",
    "logit_reg.fit(X, y)\n"
   ]
  },
  {
   "cell_type": "code",
   "execution_count": 13,
   "id": "53856a4a",
   "metadata": {},
   "outputs": [
    {
     "name": "stdout",
     "output_type": "stream",
     "text": [
      "intercept  -1.6378907886011287\n",
      "classes ['default' 'paid off']\n"
     ]
    },
    {
     "data": {
      "text/html": [
       "<div>\n",
       "<style scoped>\n",
       "    .dataframe tbody tr th:only-of-type {\n",
       "        vertical-align: middle;\n",
       "    }\n",
       "\n",
       "    .dataframe tbody tr th {\n",
       "        vertical-align: top;\n",
       "    }\n",
       "\n",
       "    .dataframe thead th {\n",
       "        text-align: right;\n",
       "    }\n",
       "</style>\n",
       "<table border=\"1\" class=\"dataframe\">\n",
       "  <thead>\n",
       "    <tr style=\"text-align: right;\">\n",
       "      <th></th>\n",
       "      <th>coeff</th>\n",
       "    </tr>\n",
       "  </thead>\n",
       "  <tbody>\n",
       "    <tr>\n",
       "      <th>payment_inc_ratio</th>\n",
       "      <td>-0.079739</td>\n",
       "    </tr>\n",
       "    <tr>\n",
       "      <th>borrower_score</th>\n",
       "      <td>4.612183</td>\n",
       "    </tr>\n",
       "    <tr>\n",
       "      <th>debt_consolidation</th>\n",
       "      <td>-0.249414</td>\n",
       "    </tr>\n",
       "    <tr>\n",
       "      <th>home_improvement</th>\n",
       "      <td>-0.407734</td>\n",
       "    </tr>\n",
       "    <tr>\n",
       "      <th>major_purchase</th>\n",
       "      <td>-0.229710</td>\n",
       "    </tr>\n",
       "    <tr>\n",
       "      <th>medical</th>\n",
       "      <td>-0.510744</td>\n",
       "    </tr>\n",
       "    <tr>\n",
       "      <th>other</th>\n",
       "      <td>-0.620800</td>\n",
       "    </tr>\n",
       "    <tr>\n",
       "      <th>small_business</th>\n",
       "      <td>-1.214936</td>\n",
       "    </tr>\n",
       "    <tr>\n",
       "      <th>OWN</th>\n",
       "      <td>-0.048211</td>\n",
       "    </tr>\n",
       "    <tr>\n",
       "      <th>RENT</th>\n",
       "      <td>-0.157288</td>\n",
       "    </tr>\n",
       "    <tr>\n",
       "      <th>&gt; 1 Year</th>\n",
       "      <td>0.356794</td>\n",
       "    </tr>\n",
       "  </tbody>\n",
       "</table>\n",
       "</div>"
      ],
      "text/plain": [
       "                       coeff\n",
       "payment_inc_ratio  -0.079739\n",
       "borrower_score      4.612183\n",
       "debt_consolidation -0.249414\n",
       "home_improvement   -0.407734\n",
       "major_purchase     -0.229710\n",
       "medical            -0.510744\n",
       "other              -0.620800\n",
       "small_business     -1.214936\n",
       "OWN                -0.048211\n",
       "RENT               -0.157288\n",
       " > 1 Year           0.356794"
      ]
     },
     "execution_count": 13,
     "metadata": {},
     "output_type": "execute_result"
    }
   ],
   "source": [
    "print('intercept ', logit_reg.intercept_[0])\n",
    "print('classes', logit_reg.classes_)\n",
    "pd.DataFrame({'coeff': logit_reg.coef_[0]}, \n",
    "             index=X.columns)"
   ]
  },
  {
   "cell_type": "markdown",
   "id": "3bc5bb71",
   "metadata": {},
   "source": [
    "### 5.3.3 일반화선형모형\n",
    "<b>일반화선형모형(GLM, generalized linear model)</b>은 다음 두 가지 주요 구성 요소로 특징지어진다.\n",
    " - 확률분포 또는 분포군(로지스틱 회귀의 경우 이항분포)\n",
    " - 응답을 예측변수에 매핑하는 연결(혹은 변형) 함수(로지스틱 회귀의 경우 로짓)"
   ]
  },
  {
   "cell_type": "markdown",
   "id": "a054692e",
   "metadata": {},
   "source": [
    "### 5.3.4 로지스틱 회귀의 예측값\n",
    "\n",
    "$$ \\hat{Y} = log(odds(Y=1)) $$\n",
    "\n",
    "$$ \\hat{p} = \\frac {1} {1+e^{-\\hat{Y}}} $$"
   ]
  },
  {
   "cell_type": "code",
   "execution_count": 14,
   "id": "cc795b4a",
   "metadata": {},
   "outputs": [
    {
     "name": "stdout",
     "output_type": "stream",
     "text": [
      "            default      paid off\n",
      "count  45342.000000  45342.000000\n",
      "mean      -0.757872     -0.760434\n",
      "std        0.378093      0.390456\n",
      "min       -2.769376     -3.538593\n",
      "25%       -0.985739     -0.977207\n",
      "50%       -0.697406     -0.688907\n",
      "75%       -0.472183     -0.467069\n",
      "max       -0.029485     -0.064753\n"
     ]
    }
   ],
   "source": [
    "pred = pd.DataFrame(logit_reg.predict_log_proba(X),\n",
    "                    columns=logit_reg.classes_)\n",
    "print(pred.describe())"
   ]
  },
  {
   "cell_type": "code",
   "execution_count": 15,
   "id": "b1244f86",
   "metadata": {},
   "outputs": [
    {
     "name": "stdout",
     "output_type": "stream",
     "text": [
      "            default      paid off\n",
      "count  45342.000000  45342.000000\n",
      "mean       0.500000      0.500000\n",
      "std        0.167354      0.167354\n",
      "min        0.062701      0.029054\n",
      "25%        0.373163      0.376361\n",
      "50%        0.497875      0.502125\n",
      "75%        0.623639      0.626837\n",
      "max        0.970946      0.937299\n"
     ]
    }
   ],
   "source": [
    "pred = pd.DataFrame(logit_reg.predict_proba(X),\n",
    "                    columns=logit_reg.classes_)\n",
    "print(pred.describe())"
   ]
  },
  {
   "cell_type": "markdown",
   "id": "2c1dd474",
   "metadata": {},
   "source": [
    "### 5.3.5 계수와 오즈비 해석하기\n",
    "- <b>오즈비</b>\n",
    "$$ Odds Ratio = \\frac {odds(Y=1|X=1)} {odds(Y=1|X=0)} $$\n",
    "\n",
    "- 이진 요인변수 $X$가 있을 때, 위 식은 \n",
    "- $X=1$일 때 $Y=1$인 경우의 오즈와 $X=0$일 때 $Y=1$인 경우의 오즈를 비교한 것\n",
    "- 만약 오즈비가 2이면, 이것은 $X=1$일 때 $Y=1$인 경우의 오즈가 $X=0$일 때보다 두 배 더 높음을 의미"
   ]
  },
  {
   "cell_type": "markdown",
   "id": "e051280f",
   "metadata": {},
   "source": [
    "### 5.3.6 선형회귀와 로지스틱 회귀: 유사점과 차이점\n",
    "- 공통점:\n",
    " - 예측변수와 응답변수를 선형 관계로 가정\n",
    " - 최적의 모델 탐색 과정도 유사\n",
    " - 스플라인 변환 방법은 로지스틱에도 적용 가능\n",
    " \n",
    "- 차이점(로지스틱 회귀가 갖는 특징): \n",
    " - 모델을 피팅하는 방식(최소제곱 사용 불가)\n",
    " - 모델에서 잔차의 특징과 분석\n",
    " \n",
    "#### 모델피팅 \n",
    " - <b>최대우도추정(MLE, maximum likelihood estimation)</b> 활용 모델 피팅 \n",
    " - 최대우도추정이란, 우리가 보고 있는 데이터를 생성했을 가능성이 가장 큰 모델을 찾는  프로세스\n",
    " - 로지스틱 회귀식에서 응답변수는 0/1이 아니라, 응답이 1인 로그 오즈비의 추정치\n",
    " - MLE는 예상 로그 오즈비가 관찰된 결과를 가장 잘 설명하는 모델을 찾는다."
   ]
  },
  {
   "cell_type": "markdown",
   "id": "8577f015",
   "metadata": {},
   "source": [
    "### 3.5.7 모델 평가하기\n"
   ]
  },
  {
   "cell_type": "code",
   "execution_count": 16,
   "id": "eccd207e",
   "metadata": {},
   "outputs": [],
   "source": [
    "import statsmodels.api as sm"
   ]
  },
  {
   "cell_type": "code",
   "execution_count": 17,
   "id": "c0d7caf6",
   "metadata": {},
   "outputs": [
    {
     "name": "stdout",
     "output_type": "stream",
     "text": [
      "                 Generalized Linear Model Regression Results                  \n",
      "==============================================================================\n",
      "Dep. Variable:                      y   No. Observations:                45342\n",
      "Model:                            GLM   Df Residuals:                    45330\n",
      "Model Family:                Binomial   Df Model:                           11\n",
      "Link Function:                  logit   Scale:                          1.0000\n",
      "Method:                          IRLS   Log-Likelihood:                -28757.\n",
      "Date:                Mon, 25 Oct 2021   Deviance:                       57515.\n",
      "Time:                        00:56:13   Pearson chi2:                 4.54e+04\n",
      "No. Iterations:                     4                                         \n",
      "Covariance Type:            nonrobust                                         \n",
      "======================================================================================\n",
      "                         coef    std err          z      P>|z|      [0.025      0.975]\n",
      "--------------------------------------------------------------------------------------\n",
      "payment_inc_ratio      0.0797      0.002     32.058      0.000       0.075       0.085\n",
      "borrower_score        -4.6126      0.084    -55.203      0.000      -4.776      -4.449\n",
      "debt_consolidation     0.2494      0.028      9.030      0.000       0.195       0.303\n",
      "home_improvement       0.4077      0.047      8.747      0.000       0.316       0.499\n",
      "major_purchase         0.2296      0.054      4.277      0.000       0.124       0.335\n",
      "medical                0.5105      0.087      5.882      0.000       0.340       0.681\n",
      "other                  0.6207      0.039     15.738      0.000       0.543       0.698\n",
      "small_business         1.2153      0.063     19.192      0.000       1.091       1.339\n",
      "OWN                    0.0483      0.038      1.271      0.204      -0.026       0.123\n",
      "RENT                   0.1573      0.021      7.420      0.000       0.116       0.199\n",
      " > 1 Year             -0.3567      0.053     -6.779      0.000      -0.460      -0.254\n",
      "const                  1.6381      0.074     22.224      0.000       1.494       1.783\n",
      "======================================================================================\n"
     ]
    }
   ],
   "source": [
    "y_numbers = [1 if yi == 'default' else 0 for yi in y]\n",
    "logit_reg_sm = sm.GLM(y_numbers, X.assign(const=1), \n",
    "                      family=sm.families.Binomial())\n",
    "logit_result = logit_reg_sm.fit()\n",
    "print(logit_result.summary())"
   ]
  },
  {
   "cell_type": "code",
   "execution_count": 18,
   "id": "47aa542c",
   "metadata": {},
   "outputs": [
    {
     "name": "stdout",
     "output_type": "stream",
     "text": [
      "                             Generalized Linear Model Regression Results                             \n",
      "=====================================================================================================\n",
      "Dep. Variable:     ['outcome[default]', 'outcome[paid off]']   No. Observations:                45342\n",
      "Model:                                                   GLM   Df Residuals:                    45321\n",
      "Model Family:                                       Binomial   Df Model:                           20\n",
      "Link Function:                                         logit   Scale:                          1.0000\n",
      "Method:                                                 IRLS   Log-Likelihood:                -28731.\n",
      "Date:                                       Mon, 25 Oct 2021   Deviance:                       57462.\n",
      "Time:                                               00:56:14   Pearson chi2:                 4.54e+04\n",
      "No. Iterations:                                            6                                         \n",
      "Covariance Type:                                   nonrobust                                         \n",
      "==================================================================================================\n",
      "                                     coef    std err          z      P>|z|      [0.025      0.975]\n",
      "--------------------------------------------------------------------------------------------------\n",
      "Intercept                          1.5756      0.331      4.765      0.000       0.928       2.224\n",
      "purpose_[T.debt_consolidation]     0.2486      0.028      8.998      0.000       0.194       0.303\n",
      "purpose_[T.home_improvement]       0.4097      0.047      8.757      0.000       0.318       0.501\n",
      "purpose_[T.major_purchase]         0.2382      0.054      4.416      0.000       0.132       0.344\n",
      "purpose_[T.medical]                0.5206      0.087      5.980      0.000       0.350       0.691\n",
      "purpose_[T.other]                  0.6284      0.040     15.781      0.000       0.550       0.706\n",
      "purpose_[T.small_business]         1.2250      0.063     19.305      0.000       1.101       1.349\n",
      "home_[T.OWN]                       0.0498      0.038      1.309      0.191      -0.025       0.124\n",
      "home_[T.RENT]                      0.1577      0.021      7.431      0.000       0.116       0.199\n",
      "emp_len_[T. > 1 Year]             -0.3526      0.053     -6.699      0.000      -0.456      -0.249\n",
      "bs(payment_inc_ratio, df=8)[0]     0.7042      0.342      2.060      0.039       0.034       1.374\n",
      "bs(payment_inc_ratio, df=8)[1]     0.6621      0.198      3.351      0.001       0.275       1.049\n",
      "bs(payment_inc_ratio, df=8)[2]     0.8118      0.245      3.309      0.001       0.331       1.293\n",
      "bs(payment_inc_ratio, df=8)[3]     1.0377      0.223      4.644      0.000       0.600       1.476\n",
      "bs(payment_inc_ratio, df=8)[4]     1.1901      0.233      5.112      0.000       0.734       1.646\n",
      "bs(payment_inc_ratio, df=8)[5]     2.8404      0.316      8.980      0.000       2.220       3.460\n",
      "bs(payment_inc_ratio, df=8)[6]    -1.3427      1.229     -1.092      0.275      -3.752       1.067\n",
      "bs(payment_inc_ratio, df=8)[7]     7.1094      6.393      1.112      0.266      -5.420      19.639\n",
      "bs(borrower_score, df=3)[0]       -2.9011      0.533     -5.448      0.000      -3.945      -1.857\n",
      "bs(borrower_score, df=3)[1]       -2.6056      0.196    -13.284      0.000      -2.990      -2.221\n",
      "bs(borrower_score, df=3)[2]       -5.7421      0.508    -11.313      0.000      -6.737      -4.747\n",
      "==================================================================================================\n"
     ]
    }
   ],
   "source": [
    "import statsmodels.formula.api as smf\n",
    "formula = ('outcome ~ bs(payment_inc_ratio, df=8) + purpose_ + ' +\n",
    "           'home_ + emp_len_ + bs(borrower_score, df=3)')\n",
    "model = smf.glm(formula=formula, data=loan_data, family=sm.families.Binomial())\n",
    "results = model.fit()\n",
    "print(results.summary())"
   ]
  },
  {
   "cell_type": "markdown",
   "id": "642f5a4d",
   "metadata": {},
   "source": [
    "#### 잔차분석"
   ]
  },
  {
   "cell_type": "code",
   "execution_count": 19,
   "id": "64f7ae80",
   "metadata": {},
   "outputs": [],
   "source": [
    "from statsmodels.genmod.generalized_linear_model import GLMResults\n",
    "def partialResidualPlot(model, df, outcome, feature, fig, ax):\n",
    "    y_actual = [0 if s == 'default' else 1 for s in df[outcome]]\n",
    "    y_pred = model.predict(df)\n",
    "    org_params = model.params.copy()\n",
    "    zero_params = model.params.copy()\n",
    "    # set model parametes of other features to 0\n",
    "    for i, name in enumerate(zero_params.index):\n",
    "        if feature in name:\n",
    "            continue\n",
    "        zero_params[i] = 0.0\n",
    "    model.initialize(model.model, zero_params)\n",
    "    feature_prediction = model.predict(df)\n",
    "    ypartial = -np.log(1/feature_prediction - 1)\n",
    "    ypartial = ypartial - np.mean(ypartial)\n",
    "    model.initialize(model.model, org_params)\n",
    "    results = pd.DataFrame({\n",
    "        'feature': df[feature],\n",
    "        'residual': -2 * (y_actual - y_pred),\n",
    "        'ypartial': ypartial/ 2,\n",
    "    })\n",
    "    results = results.sort_values(by=['feature'])\n",
    "\n",
    "    ax.scatter(results.feature, results.residual, marker=\".\", s=72./fig.dpi)\n",
    "    ax.plot(results.feature, results.ypartial, color='black')\n",
    "    ax.set_xlabel(feature)\n",
    "    ax.set_ylabel(f'Residual + {feature} contribution')\n",
    "    return ax"
   ]
  },
  {
   "cell_type": "code",
   "execution_count": 20,
   "id": "c7b2af9f",
   "metadata": {},
   "outputs": [
    {
     "data": {
      "image/png": "[encoded data removed]",
      "text/plain": [
       "<Figure size 360x360 with 1 Axes>"
      ]
     },
     "metadata": {
      "needs_background": "light"
     },
     "output_type": "display_data"
    }
   ],
   "source": [
    "fig, ax = plt.subplots(figsize=(5, 5))\n",
    "partialResidualPlot(results, loan_data, 'outcome', 'payment_inc_ratio', fig, ax)\n",
    "ax.set_xlim(0, 25)\n",
    "ax.set_ylim(-2.5, 2.5)\n",
    "\n",
    "plt.tight_layout()\n",
    "plt.show()"
   ]
  },
  {
   "cell_type": "markdown",
   "id": "b66414ac",
   "metadata": {},
   "source": [
    "###### 주요개념\n",
    "- 로지스틱 회귀는 출력이 이진변수라는 점만 빼면, 선형회귀와 매우 비슷하다.\n",
    "- 선형모형과 비슷한 형태의 모델을 만들기 위해, 응답변수로 오즈비의 로그값을 사용하는 등의 몇 가지 변환이 필요하다.\n",
    "- 반복 과정을 통해 선형모형을 피팅하고 나면, 로그 오즈비는 다시 확률값으로 변환된다.\n",
    "- 로지스틱 회귀는 계산 속도가 빠르고 새로운 데이터에 대해서도 간단한 산술연산으로 빠르게 결과를 구할 수 있다는 장점 때문에 많이 사용된다."
   ]
  },
  {
   "cell_type": "markdown",
   "id": "c0d0549c",
   "metadata": {},
   "source": [
    "## 5.4 분류 모델 평가하기\n",
    "\n",
    "==========================================================================================================\n",
    "###### 용어정리\n",
    "- 정확도(accuracy): 정확히 분류된 비율\n",
    "- 혼동행렬(confusion matrix): 분류에서 예측된 결과와 실제 결과에 대한 레코드의 개수를 표시한 테이블(이진형인 경우 2 x 2)\n",
    "- 민감도(sensitivity): 1을 정확히 1로 분류한 비율(유의어: 재현율, recall)\n",
    "- 특이도(specificity): 0을 정확히 0으로 분류한 비율\n",
    "- 정밀도(precision): 1이라고 예측한 것들 중에 1이 맞는 경우의 비율\n",
    "- ROC곡선(ROC curve): 민감도와 특이성을 표시한 그림\n",
    "- 리프트(lift): 모델이 다른 확률 컷오프에 대해 (비교적 드문) 1을 얼마나 더 효과적으로 구분하는지 나타내는 측정 지표\n",
    "\n",
    "==========================================================================================================\n",
    "\n",
    "$$ accuracy = \\frac {\\sum{True Positive}+\\sum{True Negative}} {n} $$"
   ]
  },
  {
   "cell_type": "markdown",
   "id": "50f65798",
   "metadata": {},
   "source": [
    "### 5.4.1 혼동행렬"
   ]
  },
  {
   "cell_type": "code",
   "execution_count": 21,
   "id": "795e7d85",
   "metadata": {},
   "outputs": [
    {
     "name": "stdout",
     "output_type": "stream",
     "text": [
      "              Yhat = default  Yhat = paid off\n",
      "Y = default            14337             8334\n",
      "Y = paid off            8149            14522\n"
     ]
    },
    {
     "data": {
      "text/plain": [
       "'\\ncol: 예측값\\nrow: 실제 결과\\n'"
      ]
     },
     "execution_count": 21,
     "metadata": {},
     "output_type": "execute_result"
    }
   ],
   "source": [
    "# Confusion matrix\n",
    "pred = logit_reg.predict(X)\n",
    "pred_y = logit_reg.predict(X) == 'default'\n",
    "true_y = y == 'default'\n",
    "true_pos = true_y & pred_y\n",
    "true_neg = ~true_y & ~pred_y\n",
    "false_pos = ~true_y & pred_y\n",
    "false_neg = true_y & ~pred_y\n",
    "\n",
    "conf_mat = pd.DataFrame([[np.sum(true_pos), np.sum(false_neg)], [np.sum(false_pos), np.sum(true_neg)]],\n",
    "                       index=['Y = default', 'Y = paid off'],\n",
    "                       columns=['Yhat = default', 'Yhat = paid off'])\n",
    "print(conf_mat)\n",
    "\n",
    "'''\n",
    "col: 예측값\n",
    "row: 실제 결과\n",
    "'''"
   ]
  },
  {
   "cell_type": "code",
   "execution_count": 22,
   "id": "6969ee64",
   "metadata": {},
   "outputs": [],
   "source": [
    "from IPython.display import Image"
   ]
  },
  {
   "cell_type": "code",
   "execution_count": 23,
   "id": "c9415cd9",
   "metadata": {},
   "outputs": [
    {
     "data": {
      "image/jpeg": "[encoded data removed]",
      "text/plain": [
       "<IPython.core.display.Image object>"
      ]
     },
     "execution_count": 23,
     "metadata": {},
     "output_type": "execute_result"
    }
   ],
   "source": [
    "Image('C:/jupyter/[STUDY]statistics for ds/Basic_statistic/JawonMin/confusion_matrix.jpg')"
   ]
  },
  {
   "cell_type": "markdown",
   "id": "d740e278",
   "metadata": {},
   "source": [
    "### 5.4.2 회귀클래스 문제\n",
    " - 분류해야 할 클래스 간 불균형이 존재하는 사례. 즉, 한 클래수의 경우의 수가 다른 클래스보다 훨씬 많은 경우\n",
    " - 이 경우 <b>정확도</b>가 높은 모델이더라도 활용성이 떨어질 수 있다."
   ]
  },
  {
   "cell_type": "markdown",
   "id": "8a988b9b",
   "metadata": {},
   "source": [
    "### 5.4.3 정밀도, 재현율, 특이도\n",
    " - 정밀도: 예측된 양성 결과의 정확도\n",
    " - 재현율(recall, 민감도): 양성 결과를 예측하는 모델 능력 평가\n",
    " - 특이도: 음성 결과를 정확히 예측하는 능력\n",
    "\n",
    "$$ 정밀도 = \\frac {\\sum{참 양성(TP)}} {\\sum{참 양성(TP)} + \\sum{거짓 양성(FP)}} $$\n",
    "\n",
    "$$ 재현율 = \\frac {\\sum{참 양성(TP)}} {\\sum{참 양성(TP)} + \\sum{거짓 음성(FN)}} $$ \n",
    "\n",
    "$$ 특이도 = \\frac {\\sum{참 음성(TN)}} {\\sum{참 음성(TN)} + \\sum{거짓 양성(FP)}} $$ "
   ]
  },
  {
   "cell_type": "code",
   "execution_count": 24,
   "id": "6f27c411",
   "metadata": {},
   "outputs": [],
   "source": [
    "from sklearn.metrics import confusion_matrix, precision_recall_fscore_support"
   ]
  },
  {
   "cell_type": "code",
   "execution_count": 25,
   "id": "d78cdd51",
   "metadata": {},
   "outputs": [
    {
     "name": "stdout",
     "output_type": "stream",
     "text": [
      "Precision 0.6375967268522637\n",
      "Recall 0.6323938070662961\n",
      "Specificity 0.640554011733051\n"
     ]
    },
    {
     "data": {
      "text/plain": [
       "(array([0.63759673, 0.63536927]),\n",
       " array([0.63239381, 0.64055401]),\n",
       " array([0.63498461, 0.63795111]),\n",
       " array([22671, 22671], dtype=int64))"
      ]
     },
     "execution_count": 25,
     "metadata": {},
     "output_type": "execute_result"
    }
   ],
   "source": [
    "conf_mat = confusion_matrix(y, logit_reg.predict(X))\n",
    "print('Precision', conf_mat[0, 0] / sum(conf_mat[:, 0]))\n",
    "print('Recall', conf_mat[0, 0] / sum(conf_mat[0, :]))\n",
    "print('Specificity', conf_mat[1, 1] / sum(conf_mat[1, :]))\n",
    "\n",
    "precision_recall_fscore_support(y, logit_reg.predict(X), \n",
    "                                labels=['default', 'paid off'])"
   ]
  },
  {
   "cell_type": "markdown",
   "id": "56972435",
   "metadata": {},
   "source": [
    "### 5.4.4 ROC 곡선\n",
    " - 재현율과 특이도는 트레이드 오프 관계\n",
    " - 이상적인 분류기랑 0을 1이라고 잘못 분류하지 않으면서 동시에 1을 정말 잘 분류하는 분류기\n",
    " \n",
    "###### <b>ROC곡선(receiver operating characteristic)</b>\n",
    " - x축의 특이도에 대한 y축의 재현율 표시\n",
    " - y축에 재현율을 표시하면서, x축에는 다음과 같은 두 가지 형태로 표시할 수 있다.\n",
    "  - x축 왼쪽에 1부터 오른쪽아 0까지 특이도 표시\n",
    "  - x축 왼쪽에 0부터 오른쪽에 1까지 1-특이도 표시\n",
    " - ROC곡선 계산 과정\n",
    "  - 1. 1로 예측할 확률에 따라 가장 1이 되기 쉬운 것부터 1이 되기 어려운 순으로 레코드 정렬\n",
    "  - 2. 정렬된 순서대로 점증적으로 특이도와 재현율 계산"
   ]
  },
  {
   "cell_type": "code",
   "execution_count": 26,
   "id": "f3880d1a",
   "metadata": {},
   "outputs": [],
   "source": [
    "from sklearn.metrics import roc_curve, accuracy_score, roc_auc_score"
   ]
  },
  {
   "cell_type": "code",
   "execution_count": 27,
   "id": "6aa7a3dc",
   "metadata": {},
   "outputs": [
    {
     "data": {
      "image/png": "[encoded data removed]",
      "text/plain": [
       "<Figure size 288x288 with 1 Axes>"
      ]
     },
     "metadata": {
      "needs_background": "light"
     },
     "output_type": "display_data"
    },
    {
     "data": {
      "text/plain": [
       "'\\n - 노란선: 랜덤으로 예측했을 때의 결과\\n - 극단적으로 효과적인 분류기: ROC 곡선이 왼쪽 상단에 가까운 형태를 보일 것.\\n'"
      ]
     },
     "execution_count": 27,
     "metadata": {},
     "output_type": "execute_result"
    }
   ],
   "source": [
    "# [그림 5-6] 대출 데이터에 대한 ROC 곡선\n",
    "fpr, tpr, thresholds = roc_curve(y, logit_reg.predict_proba(X)[:, 0], \n",
    "                                 pos_label='default')\n",
    "roc_df = pd.DataFrame({'recall': tpr, 'specificity': 1 - fpr})\n",
    "\n",
    "ax = roc_df.plot(x='specificity', y='recall', figsize=(4, 4), legend=False)\n",
    "ax.set_ylim(0, 1)\n",
    "ax.set_xlim(1, 0)\n",
    "ax.plot((1, 0), (0, 1))\n",
    "ax.set_xlabel('specificity')\n",
    "ax.set_ylabel('recall')\n",
    "\n",
    "plt.tight_layout()\n",
    "plt.show()\n",
    "\n",
    "'''\n",
    " - 노란선: 랜덤으로 예측했을 때의 결과\n",
    " - 극단적으로 효과적인 분류기: ROC 곡선이 왼쪽 상단에 가까운 형태를 보일 것.\n",
    "'''"
   ]
  },
  {
   "cell_type": "markdown",
   "id": "871318fa",
   "metadata": {},
   "source": [
    "### 5.4.5 AUC\n",
    " - <b>AUC(area underneath the curve)</b>: ROC곡선의 아래쪽 면적을 의미하며, AUC값이 높을수록 더 좋은 분류기를 의미"
   ]
  },
  {
   "cell_type": "code",
   "execution_count": 28,
   "id": "126c9465",
   "metadata": {},
   "outputs": [
    {
     "name": "stdout",
     "output_type": "stream",
     "text": [
      "0.6917107135725116\n",
      "0.6917107913974233\n"
     ]
    }
   ],
   "source": [
    "print(np.sum(roc_df.recall[:-1] * np.diff(1 - roc_df.specificity)))\n",
    "print(roc_auc_score([1 if yi == 'default' else 0 for yi in y], logit_reg.predict_proba(X)[:, 0]))\n"
   ]
  },
  {
   "cell_type": "code",
   "execution_count": 29,
   "id": "8730a5e3",
   "metadata": {},
   "outputs": [
    {
     "data": {
      "image/png": "[encoded data removed]",
      "text/plain": [
       "<Figure size 288x288 with 1 Axes>"
      ]
     },
     "metadata": {
      "needs_background": "light"
     },
     "output_type": "display_data"
    }
   ],
   "source": [
    "fpr, tpr, thresholds = roc_curve(y, logit_reg.predict_proba(X)[:,0], \n",
    "                                 pos_label='default')\n",
    "roc_df = pd.DataFrame({'recall': tpr, 'specificity': 1 - fpr})\n",
    "\n",
    "ax = roc_df.plot(x='specificity', y='recall', figsize=(4, 4), legend=False)\n",
    "ax.set_ylim(0, 1)\n",
    "ax.set_xlim(1, 0)\n",
    "# ax.plot((1, 0), (0, 1))\n",
    "ax.set_xlabel('specificity')\n",
    "ax.set_ylabel('recall')\n",
    "ax.fill_between(roc_df.specificity, 0, roc_df.recall, alpha=0.3)\n",
    "\n",
    "\n",
    "plt.tight_layout()\n",
    "plt.show()"
   ]
  },
  {
   "cell_type": "markdown",
   "id": "c9b31cbd",
   "metadata": {},
   "source": [
    "###### CAUTION_ 거짓 양성 비율에 대한 혼동\n",
    "거짓 양성/음성 비율은 종종 특이도나 민감도와 혼동되어 설명된다. 때로 거짓 양성비율은 검사 결과가 양성으로 잘못 나온 음성 데이터의 비율로 정의되기도 한다. 예를들어 네트워크 침입 탐지 등에서 실제 음성인 신호가 양성으로 탐지된 신호의 비율을 나타내는 데 사용된다."
   ]
  },
  {
   "cell_type": "markdown",
   "id": "175a6a6f",
   "metadata": {},
   "source": [
    "### 5.4.6 리프트\n",
    " - 누적 이득 차트(cumulative gains chart): y축에 재현율, x축에 총 레코드 수\n",
    " - 리프트 곡선(lift curve): 임의 선택을 의미하는 대각선에 대한 누적 이들의 비율\n",
    " - 십분위 이득 차트(decline gains chart)\n",
    " \n",
    "###### CAUTION_ 업리프트\n",
    "업리프트(uplift)\n",
    "- A/B검정을 수행하고, 처리 A나 B 가운데 하나를 예측변수로 사용하는 예측 모델에서 사용\n",
    "- 처리 A와 처리 B 사이의 개별적인 한 케이스에 대해 예측된 결과의 향상을 의미\n",
    "\n",
    "###### 주요개념\n",
    " - 정확도(예측한 분류 결과가 몇 퍼센트 정확한지)는 모델을 평가하는 가장 기본적인 단계이다.\n",
    " - 다른 평가 지표들(재현율, 특이도, 정밀도)은 좀 더 세부적인 성능 특성들을 나타낸다.(예를들면 재현율은 모델이 1을 얼마나 정확히 분류하는지를 나타낸다.)\n",
    " - AUC(ROC 곡선 아래 면적)는 모델의 1과 0을 구분하는 능력을 보여주기 위해 가장 보편적으로 사용되는 지표이다.\n",
    " - 이와 비슷하게, 리프트는 모델이 1을 얼마나 효과적으로 분류해내는지를 측정한다. 가장 1로 분류될 가능성이 높은 것부터 매 십분위마다 이를 계산한다."
   ]
  },
  {
   "cell_type": "markdown",
   "id": "af696793",
   "metadata": {},
   "source": [
    "## 5.5 불균형 데이터 다루기\n",
    "\n",
    "==========================================================================================================\n",
    "###### 용어정리\n",
    "- 과소표본(undersample): 분류 모델에서 개수가 많은 클래스 데이터 중 일부 소수만을 사용하는 것(유의어: 다운샘플)\n",
    "- 과잉표본(oversample): 분류 모델에서 회귀 클래스 데이터를 중복하여, 필요하면 부트스트랩해서 사용하는 것(유의어: 업샘플)\n",
    "- 상향 가중치(up weight) 혹은 하양 가중치(down weight): 모델에서 희귀(혹은 다수) 클래스에 높은(혹은 낮은) 가중치를 주는 것\n",
    "- 데이터 생성(data generation): 부트스트랩과 비슷하게 다시 샘플링한 레코드를 빼고 원래 원본과 살짝 다르게 데이터를 생성하는 것\n",
    "- z 점수(z-score): 표준화 결과\n",
    "- k: 최근접 이웃 알고리즘에서 이웃들의 개수\n",
    "\n",
    "\n",
    "=========================================================================================================="
   ]
  },
  {
   "cell_type": "markdown",
   "id": "e2e76757",
   "metadata": {},
   "source": [
    "### 5.5.1 과소표본추출\n",
    "- 과소표본추출의 기본 아이디어: 다수의 클래스에 속한 데이터들 중 중복된 레코드가 많을 것이라는 사실에서 출발\n",
    "- 작지만 더 균형 잡힌 데이터는 모델 성능에 좋은 영향을 주고, 데이터를 준비하는 과정이나 모델을 검증하는 과정이 좀 더 수월해진다."
   ]
  },
  {
   "cell_type": "code",
   "execution_count": 30,
   "id": "7c691ea6",
   "metadata": {},
   "outputs": [
    {
     "data": {
      "text/html": [
       "<div>\n",
       "<style scoped>\n",
       "    .dataframe tbody tr th:only-of-type {\n",
       "        vertical-align: middle;\n",
       "    }\n",
       "\n",
       "    .dataframe tbody tr th {\n",
       "        vertical-align: top;\n",
       "    }\n",
       "\n",
       "    .dataframe thead th {\n",
       "        text-align: right;\n",
       "    }\n",
       "</style>\n",
       "<table border=\"1\" class=\"dataframe\">\n",
       "  <thead>\n",
       "    <tr style=\"text-align: right;\">\n",
       "      <th></th>\n",
       "      <th>status</th>\n",
       "      <th>loan_amnt</th>\n",
       "      <th>term</th>\n",
       "      <th>annual_inc</th>\n",
       "      <th>dti</th>\n",
       "      <th>payment_inc_ratio</th>\n",
       "      <th>revol_bal</th>\n",
       "      <th>revol_util</th>\n",
       "      <th>purpose</th>\n",
       "      <th>home_ownership</th>\n",
       "      <th>delinq_2yrs_zero</th>\n",
       "      <th>pub_rec_zero</th>\n",
       "      <th>open_acc</th>\n",
       "      <th>grade</th>\n",
       "      <th>outcome</th>\n",
       "      <th>emp_length</th>\n",
       "      <th>purpose_</th>\n",
       "      <th>home_</th>\n",
       "      <th>emp_len_</th>\n",
       "    </tr>\n",
       "  </thead>\n",
       "  <tbody>\n",
       "    <tr>\n",
       "      <th>0</th>\n",
       "      <td>Fully Paid</td>\n",
       "      <td>5000</td>\n",
       "      <td>36 months</td>\n",
       "      <td>24000</td>\n",
       "      <td>27.65</td>\n",
       "      <td>8.14350</td>\n",
       "      <td>13648.0</td>\n",
       "      <td>83.7</td>\n",
       "      <td>credit_card</td>\n",
       "      <td>RENT</td>\n",
       "      <td>1</td>\n",
       "      <td>1</td>\n",
       "      <td>3</td>\n",
       "      <td>5.4</td>\n",
       "      <td>paid off</td>\n",
       "      <td>11</td>\n",
       "      <td>credit_card</td>\n",
       "      <td>RENT</td>\n",
       "      <td>&gt; 1 Year</td>\n",
       "    </tr>\n",
       "    <tr>\n",
       "      <th>1</th>\n",
       "      <td>Charged Off</td>\n",
       "      <td>2500</td>\n",
       "      <td>60 months</td>\n",
       "      <td>30000</td>\n",
       "      <td>1.00</td>\n",
       "      <td>2.39320</td>\n",
       "      <td>1687.0</td>\n",
       "      <td>9.4</td>\n",
       "      <td>car</td>\n",
       "      <td>RENT</td>\n",
       "      <td>1</td>\n",
       "      <td>1</td>\n",
       "      <td>3</td>\n",
       "      <td>4.8</td>\n",
       "      <td>default</td>\n",
       "      <td>1</td>\n",
       "      <td>major_purchase</td>\n",
       "      <td>RENT</td>\n",
       "      <td>&gt; 1 Year</td>\n",
       "    </tr>\n",
       "    <tr>\n",
       "      <th>2</th>\n",
       "      <td>Fully Paid</td>\n",
       "      <td>2400</td>\n",
       "      <td>36 months</td>\n",
       "      <td>12252</td>\n",
       "      <td>8.72</td>\n",
       "      <td>8.25955</td>\n",
       "      <td>2956.0</td>\n",
       "      <td>98.5</td>\n",
       "      <td>small_business</td>\n",
       "      <td>RENT</td>\n",
       "      <td>1</td>\n",
       "      <td>1</td>\n",
       "      <td>2</td>\n",
       "      <td>5.0</td>\n",
       "      <td>paid off</td>\n",
       "      <td>11</td>\n",
       "      <td>small_business</td>\n",
       "      <td>RENT</td>\n",
       "      <td>&gt; 1 Year</td>\n",
       "    </tr>\n",
       "    <tr>\n",
       "      <th>3</th>\n",
       "      <td>Fully Paid</td>\n",
       "      <td>10000</td>\n",
       "      <td>36 months</td>\n",
       "      <td>49200</td>\n",
       "      <td>20.00</td>\n",
       "      <td>8.27585</td>\n",
       "      <td>5598.0</td>\n",
       "      <td>21.0</td>\n",
       "      <td>other</td>\n",
       "      <td>RENT</td>\n",
       "      <td>1</td>\n",
       "      <td>1</td>\n",
       "      <td>10</td>\n",
       "      <td>4.2</td>\n",
       "      <td>paid off</td>\n",
       "      <td>11</td>\n",
       "      <td>other</td>\n",
       "      <td>RENT</td>\n",
       "      <td>&gt; 1 Year</td>\n",
       "    </tr>\n",
       "    <tr>\n",
       "      <th>4</th>\n",
       "      <td>Fully Paid</td>\n",
       "      <td>5000</td>\n",
       "      <td>36 months</td>\n",
       "      <td>36000</td>\n",
       "      <td>11.20</td>\n",
       "      <td>5.21533</td>\n",
       "      <td>7963.0</td>\n",
       "      <td>28.3</td>\n",
       "      <td>wedding</td>\n",
       "      <td>RENT</td>\n",
       "      <td>1</td>\n",
       "      <td>1</td>\n",
       "      <td>9</td>\n",
       "      <td>6.8</td>\n",
       "      <td>paid off</td>\n",
       "      <td>4</td>\n",
       "      <td>other</td>\n",
       "      <td>RENT</td>\n",
       "      <td>&gt; 1 Year</td>\n",
       "    </tr>\n",
       "    <tr>\n",
       "      <th>...</th>\n",
       "      <td>...</td>\n",
       "      <td>...</td>\n",
       "      <td>...</td>\n",
       "      <td>...</td>\n",
       "      <td>...</td>\n",
       "      <td>...</td>\n",
       "      <td>...</td>\n",
       "      <td>...</td>\n",
       "      <td>...</td>\n",
       "      <td>...</td>\n",
       "      <td>...</td>\n",
       "      <td>...</td>\n",
       "      <td>...</td>\n",
       "      <td>...</td>\n",
       "      <td>...</td>\n",
       "      <td>...</td>\n",
       "      <td>...</td>\n",
       "      <td>...</td>\n",
       "      <td>...</td>\n",
       "    </tr>\n",
       "    <tr>\n",
       "      <th>119982</th>\n",
       "      <td>Fully Paid</td>\n",
       "      <td>7000</td>\n",
       "      <td>36 months</td>\n",
       "      <td>46200</td>\n",
       "      <td>30.05</td>\n",
       "      <td>6.11325</td>\n",
       "      <td>6835.0</td>\n",
       "      <td>43.0</td>\n",
       "      <td>debt_consolidation</td>\n",
       "      <td>MORTGAGE</td>\n",
       "      <td>1</td>\n",
       "      <td>1</td>\n",
       "      <td>12</td>\n",
       "      <td>5.8</td>\n",
       "      <td>paid off</td>\n",
       "      <td>11</td>\n",
       "      <td>debt_consolidation</td>\n",
       "      <td>MORTGAGE</td>\n",
       "      <td>&gt; 1 Year</td>\n",
       "    </tr>\n",
       "    <tr>\n",
       "      <th>119983</th>\n",
       "      <td>Fully Paid</td>\n",
       "      <td>21000</td>\n",
       "      <td>60 months</td>\n",
       "      <td>91800</td>\n",
       "      <td>8.04</td>\n",
       "      <td>6.82092</td>\n",
       "      <td>12187.0</td>\n",
       "      <td>23.9</td>\n",
       "      <td>medical</td>\n",
       "      <td>RENT</td>\n",
       "      <td>1</td>\n",
       "      <td>1</td>\n",
       "      <td>14</td>\n",
       "      <td>3.2</td>\n",
       "      <td>paid off</td>\n",
       "      <td>3</td>\n",
       "      <td>medical</td>\n",
       "      <td>RENT</td>\n",
       "      <td>&gt; 1 Year</td>\n",
       "    </tr>\n",
       "    <tr>\n",
       "      <th>119984</th>\n",
       "      <td>Fully Paid</td>\n",
       "      <td>28775</td>\n",
       "      <td>60 months</td>\n",
       "      <td>60000</td>\n",
       "      <td>13.72</td>\n",
       "      <td>15.40780</td>\n",
       "      <td>16542.0</td>\n",
       "      <td>78.4</td>\n",
       "      <td>home_improvement</td>\n",
       "      <td>MORTGAGE</td>\n",
       "      <td>1</td>\n",
       "      <td>0</td>\n",
       "      <td>14</td>\n",
       "      <td>2.2</td>\n",
       "      <td>paid off</td>\n",
       "      <td>11</td>\n",
       "      <td>home_improvement</td>\n",
       "      <td>MORTGAGE</td>\n",
       "      <td>&gt; 1 Year</td>\n",
       "    </tr>\n",
       "    <tr>\n",
       "      <th>119985</th>\n",
       "      <td>Fully Paid</td>\n",
       "      <td>6000</td>\n",
       "      <td>36 months</td>\n",
       "      <td>57500</td>\n",
       "      <td>23.61</td>\n",
       "      <td>4.25113</td>\n",
       "      <td>5188.0</td>\n",
       "      <td>31.6</td>\n",
       "      <td>debt_consolidation</td>\n",
       "      <td>RENT</td>\n",
       "      <td>0</td>\n",
       "      <td>1</td>\n",
       "      <td>12</td>\n",
       "      <td>6.0</td>\n",
       "      <td>paid off</td>\n",
       "      <td>4</td>\n",
       "      <td>debt_consolidation</td>\n",
       "      <td>RENT</td>\n",
       "      <td>&gt; 1 Year</td>\n",
       "    </tr>\n",
       "    <tr>\n",
       "      <th>119986</th>\n",
       "      <td>Fully Paid</td>\n",
       "      <td>3600</td>\n",
       "      <td>36 months</td>\n",
       "      <td>70000</td>\n",
       "      <td>4.01</td>\n",
       "      <td>1.95977</td>\n",
       "      <td>3135.0</td>\n",
       "      <td>8.3</td>\n",
       "      <td>debt_consolidation</td>\n",
       "      <td>MORTGAGE</td>\n",
       "      <td>1</td>\n",
       "      <td>1</td>\n",
       "      <td>6</td>\n",
       "      <td>7.0</td>\n",
       "      <td>paid off</td>\n",
       "      <td>6</td>\n",
       "      <td>debt_consolidation</td>\n",
       "      <td>MORTGAGE</td>\n",
       "      <td>&gt; 1 Year</td>\n",
       "    </tr>\n",
       "  </tbody>\n",
       "</table>\n",
       "<p>119987 rows × 19 columns</p>\n",
       "</div>"
      ],
      "text/plain": [
       "             status  loan_amnt       term  annual_inc    dti  \\\n",
       "0        Fully Paid       5000  36 months       24000  27.65   \n",
       "1       Charged Off       2500  60 months       30000   1.00   \n",
       "2        Fully Paid       2400  36 months       12252   8.72   \n",
       "3        Fully Paid      10000  36 months       49200  20.00   \n",
       "4        Fully Paid       5000  36 months       36000  11.20   \n",
       "...             ...        ...        ...         ...    ...   \n",
       "119982   Fully Paid       7000  36 months       46200  30.05   \n",
       "119983   Fully Paid      21000  60 months       91800   8.04   \n",
       "119984   Fully Paid      28775  60 months       60000  13.72   \n",
       "119985   Fully Paid       6000  36 months       57500  23.61   \n",
       "119986   Fully Paid       3600  36 months       70000   4.01   \n",
       "\n",
       "        payment_inc_ratio  revol_bal  revol_util             purpose  \\\n",
       "0                 8.14350    13648.0        83.7         credit_card   \n",
       "1                 2.39320     1687.0         9.4                 car   \n",
       "2                 8.25955     2956.0        98.5      small_business   \n",
       "3                 8.27585     5598.0        21.0               other   \n",
       "4                 5.21533     7963.0        28.3             wedding   \n",
       "...                   ...        ...         ...                 ...   \n",
       "119982            6.11325     6835.0        43.0  debt_consolidation   \n",
       "119983            6.82092    12187.0        23.9             medical   \n",
       "119984           15.40780    16542.0        78.4    home_improvement   \n",
       "119985            4.25113     5188.0        31.6  debt_consolidation   \n",
       "119986            1.95977     3135.0         8.3  debt_consolidation   \n",
       "\n",
       "       home_ownership  delinq_2yrs_zero  pub_rec_zero  open_acc  grade  \\\n",
       "0                RENT                 1             1         3    5.4   \n",
       "1                RENT                 1             1         3    4.8   \n",
       "2                RENT                 1             1         2    5.0   \n",
       "3                RENT                 1             1        10    4.2   \n",
       "4                RENT                 1             1         9    6.8   \n",
       "...               ...               ...           ...       ...    ...   \n",
       "119982       MORTGAGE                 1             1        12    5.8   \n",
       "119983           RENT                 1             1        14    3.2   \n",
       "119984       MORTGAGE                 1             0        14    2.2   \n",
       "119985           RENT                 0             1        12    6.0   \n",
       "119986       MORTGAGE                 1             1         6    7.0   \n",
       "\n",
       "         outcome  emp_length            purpose_     home_   emp_len_  \n",
       "0       paid off          11         credit_card      RENT   > 1 Year  \n",
       "1        default           1      major_purchase      RENT   > 1 Year  \n",
       "2       paid off          11      small_business      RENT   > 1 Year  \n",
       "3       paid off          11               other      RENT   > 1 Year  \n",
       "4       paid off           4               other      RENT   > 1 Year  \n",
       "...          ...         ...                 ...       ...        ...  \n",
       "119982  paid off          11  debt_consolidation  MORTGAGE   > 1 Year  \n",
       "119983  paid off           3             medical      RENT   > 1 Year  \n",
       "119984  paid off          11    home_improvement  MORTGAGE   > 1 Year  \n",
       "119985  paid off           4  debt_consolidation      RENT   > 1 Year  \n",
       "119986  paid off           6  debt_consolidation  MORTGAGE   > 1 Year  \n",
       "\n",
       "[119987 rows x 19 columns]"
      ]
     },
     "execution_count": 30,
     "metadata": {},
     "output_type": "execute_result"
    }
   ],
   "source": [
    "full_train_set = pd.read_csv('C:/data/stats_for_ds/full_train_set.csv') ;full_train_set"
   ]
  },
  {
   "cell_type": "code",
   "execution_count": 31,
   "id": "2659cb70",
   "metadata": {},
   "outputs": [
    {
     "name": "stdout",
     "output_type": "stream",
     "text": [
      "18.894546909248504\n",
      "percentage of loans in default:  None\n"
     ]
    }
   ],
   "source": [
    "print('percentage of loans in default: ', \n",
    "print(      100 * np.mean(full_train_set.outcome == 'default')))"
   ]
  },
  {
   "cell_type": "code",
   "execution_count": 32,
   "id": "edbfb6d0",
   "metadata": {},
   "outputs": [
    {
     "name": "stdout",
     "output_type": "stream",
     "text": [
      "0.0\n",
      "percentage of loans predicted to default:  None\n"
     ]
    }
   ],
   "source": [
    "# 모델 학습에 전체 데이터를 사용하는 경우\n",
    "predictors = ['payment_inc_ratio', 'purpose_', 'home_', 'emp_len_', \n",
    "              'dti', 'revol_bal', 'revol_util']\n",
    "outcome = 'outcome'\n",
    "X = pd.get_dummies(full_train_set[predictors], prefix='', prefix_sep='', \n",
    "                   drop_first=True)\n",
    "y = full_train_set[outcome]\n",
    "\n",
    "full_model = LogisticRegression(penalty='l2', C=1e42, solver='liblinear')\n",
    "full_model.fit(X, y)\n",
    "print('percentage of loans predicted to default: ', \n",
    "print(      100 * np.mean(full_model.predict(X) == 'default')))\n"
   ]
  },
  {
   "cell_type": "markdown",
   "id": "6771d128",
   "metadata": {},
   "source": [
    "### 5.5.2 과잉표본추출과 상향/하향 가중치\n",
    " - 과소클래스의 단점: 버려진 일부 데이터를 활용하지 못한다는 점. 버려진 데이터에 유용한 데이터가 있을 수 있음\n",
    " - 과잉표본추출: 복원추출 방식(부트스트랩)으로 희귀 클래스의 데이터를 업샘플링하는 것. 데이터에 가중치를 적용하는 방식으로 이와 비슷한 효과를 얻을 수 있음"
   ]
  },
  {
   "cell_type": "code",
   "execution_count": 33,
   "id": "006863b7",
   "metadata": {},
   "outputs": [
    {
     "name": "stdout",
     "output_type": "stream",
     "text": [
      "61.20246360022335\n",
      "percentage of loans predicted to default (weighting):  None\n"
     ]
    }
   ],
   "source": [
    "default_wt = 1 / np.mean(full_train_set.outcome == 'default')\n",
    "wt = [default_wt if outcome == 'default' else 1 for outcome in full_train_set.outcome]\n",
    "\n",
    "full_model = LogisticRegression(penalty=\"l2\", C=1e42, solver='liblinear')\n",
    "full_model.fit(X, y, wt)\n",
    "print('percentage of loans predicted to default (weighting): ', \n",
    "print(      100 * np.mean(full_model.predict(X) == 'default')))"
   ]
  },
  {
   "cell_type": "markdown",
   "id": "9cc37093",
   "metadata": {},
   "source": [
    "### 5.5.3 데이터 생성\n",
    "##### SMOTE 알고리즘 (합성 소수 과잉표본 기법, synthetic minority oversampling technique)\n",
    " - 업샘플링된 레코드와 비슷한 레코드를 찾고, 원래 레코드와 이웃 레코드의 랜덤 가중평균으로 새로운 합성 레코드를 만듦\n",
    " - 여기에 대해 각각의 예측변수에 대해 개별적으로 가중치 생성\n",
    " - 새로 합성된 업샘플 레코드의 개수는 데이터의 균형을 맞추기 위해 필요한 업샘플링 비율에 따라 달라짐"
   ]
  },
  {
   "cell_type": "markdown",
   "id": "f1f0ae63",
   "metadata": {},
   "source": [
    "### 5.5.4 비용 기반 분류\n",
    " - 때론 실무에서 분류 규칙을 정하는 데 정확도나 AUC만으로 충분하지 않을 수 있다.\n",
    " - 목적에 맞게 분류 규칙을 설정해야 함"
   ]
  },
  {
   "cell_type": "markdown",
   "id": "c51652b3",
   "metadata": {},
   "source": [
    "### 5.5.5 예측 결과 분석\n",
    " - AUC와 같은 단일 성능 지표로는 모델 적합성을 여러 측면에서 보기 어려울 수 있다.\n"
   ]
  },
  {
   "cell_type": "markdown",
   "id": "c6c44964",
   "metadata": {},
   "source": [
    "###### 주요개념\n",
    "- 데이터의 심각한 불균형(즉, 관심 있는 결과의 데이터가 희박할 때)은 분류 알고리즘에서 문제가 될 수 있다.\n",
    "- 불균형 데이터를 다루는 한 가지 방법은 다수의 데이터를 다운샘플링하거나 희귀한 데이터를 업샘플링해서 학습 데이터의 균형을 맞추는 것이다.\n",
    "- 갖고 있는 1의 데이터를 모두 사용해도 그 개수가 너무 적을 때는, 희귀한 데이터에 대해 부트스트랩 방식을 사용하거나 기존의 데이터와 유사한 합성 데이터를 만들기 위해 SMOTE를 사용한다.\n",
    "- 데이터에 불균형이 존재할 경우 보통은 어느 한쪽(1의 클래스)을 정확히 분류하는 것에 더 높은 점수를 주게 되어 있고, 이러한 가치 비율이 평가 지표에 반영되어야 한다."
   ]
  }
 ],
 "metadata": {
  "kernelspec": {
   "display_name": "Python 3",
   "language": "python",
   "name": "python3"
  },
  "language_info": {
   "codemirror_mode": {
    "name": "ipython",
    "version": 3
   },
   "file_extension": ".py",
   "mimetype": "text/x-python",
   "name": "python",
   "nbconvert_exporter": "python",
   "pygments_lexer": "ipython3",
   "version": "3.8.8"
  }
 },
 "nbformat": 4,
 "nbformat_minor": 5
}
