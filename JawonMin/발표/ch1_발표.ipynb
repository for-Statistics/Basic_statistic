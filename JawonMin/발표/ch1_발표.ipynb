{
 "cells": [
  {
   "cell_type": "markdown",
   "id": "3a0c3e89",
   "metadata": {},
   "source": [
    "# CH1. 탐색적 데이터 분석(EDA)\n",
    " - 데이터를 다양한 각도에서 관찰함으로써 데이터를 이해하는 과정"
   ]
  },
  {
   "cell_type": "code",
   "execution_count": 1,
   "id": "9c1798f0",
   "metadata": {},
   "outputs": [],
   "source": [
    "import numpy as np\n",
    "import pandas as pd\n",
    "\n",
    "import matplotlib.pylab as plt\n",
    "\n",
    "from IPython.display import Image"
   ]
  },
  {
   "cell_type": "markdown",
   "id": "87b75301",
   "metadata": {},
   "source": [
    "###### 데이터\n",
    "- Kaggle's House Prices - Advanced Regression Techniques\n",
    "- 주택정보를 기반으로 거래가격을 예측하는 것을 목표로 하는 getting started competition\n",
    "\n",
    "https://www.kaggle.com/c/house-prices-advanced-regression-techniques"
   ]
  },
  {
   "cell_type": "code",
   "execution_count": 2,
   "id": "74bf5fd9",
   "metadata": {},
   "outputs": [
    {
     "data": {
      "text/html": [
       "<div>\n",
       "<style scoped>\n",
       "    .dataframe tbody tr th:only-of-type {\n",
       "        vertical-align: middle;\n",
       "    }\n",
       "\n",
       "    .dataframe tbody tr th {\n",
       "        vertical-align: top;\n",
       "    }\n",
       "\n",
       "    .dataframe thead th {\n",
       "        text-align: right;\n",
       "    }\n",
       "</style>\n",
       "<table border=\"1\" class=\"dataframe\">\n",
       "  <thead>\n",
       "    <tr style=\"text-align: right;\">\n",
       "      <th></th>\n",
       "      <th>Id</th>\n",
       "      <th>MSSubClass</th>\n",
       "      <th>MSZoning</th>\n",
       "      <th>LotFrontage</th>\n",
       "      <th>LotArea</th>\n",
       "      <th>Street</th>\n",
       "      <th>Alley</th>\n",
       "      <th>LotShape</th>\n",
       "      <th>LandContour</th>\n",
       "      <th>Utilities</th>\n",
       "      <th>...</th>\n",
       "      <th>PoolArea</th>\n",
       "      <th>PoolQC</th>\n",
       "      <th>Fence</th>\n",
       "      <th>MiscFeature</th>\n",
       "      <th>MiscVal</th>\n",
       "      <th>MoSold</th>\n",
       "      <th>YrSold</th>\n",
       "      <th>SaleType</th>\n",
       "      <th>SaleCondition</th>\n",
       "      <th>SalePrice</th>\n",
       "    </tr>\n",
       "  </thead>\n",
       "  <tbody>\n",
       "    <tr>\n",
       "      <th>0</th>\n",
       "      <td>1</td>\n",
       "      <td>60</td>\n",
       "      <td>RL</td>\n",
       "      <td>65.0</td>\n",
       "      <td>8450</td>\n",
       "      <td>Pave</td>\n",
       "      <td>NaN</td>\n",
       "      <td>Reg</td>\n",
       "      <td>Lvl</td>\n",
       "      <td>AllPub</td>\n",
       "      <td>...</td>\n",
       "      <td>0</td>\n",
       "      <td>NaN</td>\n",
       "      <td>NaN</td>\n",
       "      <td>NaN</td>\n",
       "      <td>0</td>\n",
       "      <td>2</td>\n",
       "      <td>2008</td>\n",
       "      <td>WD</td>\n",
       "      <td>Normal</td>\n",
       "      <td>208500</td>\n",
       "    </tr>\n",
       "    <tr>\n",
       "      <th>1</th>\n",
       "      <td>2</td>\n",
       "      <td>20</td>\n",
       "      <td>RL</td>\n",
       "      <td>80.0</td>\n",
       "      <td>9600</td>\n",
       "      <td>Pave</td>\n",
       "      <td>NaN</td>\n",
       "      <td>Reg</td>\n",
       "      <td>Lvl</td>\n",
       "      <td>AllPub</td>\n",
       "      <td>...</td>\n",
       "      <td>0</td>\n",
       "      <td>NaN</td>\n",
       "      <td>NaN</td>\n",
       "      <td>NaN</td>\n",
       "      <td>0</td>\n",
       "      <td>5</td>\n",
       "      <td>2007</td>\n",
       "      <td>WD</td>\n",
       "      <td>Normal</td>\n",
       "      <td>181500</td>\n",
       "    </tr>\n",
       "    <tr>\n",
       "      <th>2</th>\n",
       "      <td>3</td>\n",
       "      <td>60</td>\n",
       "      <td>RL</td>\n",
       "      <td>68.0</td>\n",
       "      <td>11250</td>\n",
       "      <td>Pave</td>\n",
       "      <td>NaN</td>\n",
       "      <td>IR1</td>\n",
       "      <td>Lvl</td>\n",
       "      <td>AllPub</td>\n",
       "      <td>...</td>\n",
       "      <td>0</td>\n",
       "      <td>NaN</td>\n",
       "      <td>NaN</td>\n",
       "      <td>NaN</td>\n",
       "      <td>0</td>\n",
       "      <td>9</td>\n",
       "      <td>2008</td>\n",
       "      <td>WD</td>\n",
       "      <td>Normal</td>\n",
       "      <td>223500</td>\n",
       "    </tr>\n",
       "    <tr>\n",
       "      <th>3</th>\n",
       "      <td>4</td>\n",
       "      <td>70</td>\n",
       "      <td>RL</td>\n",
       "      <td>60.0</td>\n",
       "      <td>9550</td>\n",
       "      <td>Pave</td>\n",
       "      <td>NaN</td>\n",
       "      <td>IR1</td>\n",
       "      <td>Lvl</td>\n",
       "      <td>AllPub</td>\n",
       "      <td>...</td>\n",
       "      <td>0</td>\n",
       "      <td>NaN</td>\n",
       "      <td>NaN</td>\n",
       "      <td>NaN</td>\n",
       "      <td>0</td>\n",
       "      <td>2</td>\n",
       "      <td>2006</td>\n",
       "      <td>WD</td>\n",
       "      <td>Abnorml</td>\n",
       "      <td>140000</td>\n",
       "    </tr>\n",
       "    <tr>\n",
       "      <th>4</th>\n",
       "      <td>5</td>\n",
       "      <td>60</td>\n",
       "      <td>RL</td>\n",
       "      <td>84.0</td>\n",
       "      <td>14260</td>\n",
       "      <td>Pave</td>\n",
       "      <td>NaN</td>\n",
       "      <td>IR1</td>\n",
       "      <td>Lvl</td>\n",
       "      <td>AllPub</td>\n",
       "      <td>...</td>\n",
       "      <td>0</td>\n",
       "      <td>NaN</td>\n",
       "      <td>NaN</td>\n",
       "      <td>NaN</td>\n",
       "      <td>0</td>\n",
       "      <td>12</td>\n",
       "      <td>2008</td>\n",
       "      <td>WD</td>\n",
       "      <td>Normal</td>\n",
       "      <td>250000</td>\n",
       "    </tr>\n",
       "    <tr>\n",
       "      <th>...</th>\n",
       "      <td>...</td>\n",
       "      <td>...</td>\n",
       "      <td>...</td>\n",
       "      <td>...</td>\n",
       "      <td>...</td>\n",
       "      <td>...</td>\n",
       "      <td>...</td>\n",
       "      <td>...</td>\n",
       "      <td>...</td>\n",
       "      <td>...</td>\n",
       "      <td>...</td>\n",
       "      <td>...</td>\n",
       "      <td>...</td>\n",
       "      <td>...</td>\n",
       "      <td>...</td>\n",
       "      <td>...</td>\n",
       "      <td>...</td>\n",
       "      <td>...</td>\n",
       "      <td>...</td>\n",
       "      <td>...</td>\n",
       "      <td>...</td>\n",
       "    </tr>\n",
       "    <tr>\n",
       "      <th>1455</th>\n",
       "      <td>1456</td>\n",
       "      <td>60</td>\n",
       "      <td>RL</td>\n",
       "      <td>62.0</td>\n",
       "      <td>7917</td>\n",
       "      <td>Pave</td>\n",
       "      <td>NaN</td>\n",
       "      <td>Reg</td>\n",
       "      <td>Lvl</td>\n",
       "      <td>AllPub</td>\n",
       "      <td>...</td>\n",
       "      <td>0</td>\n",
       "      <td>NaN</td>\n",
       "      <td>NaN</td>\n",
       "      <td>NaN</td>\n",
       "      <td>0</td>\n",
       "      <td>8</td>\n",
       "      <td>2007</td>\n",
       "      <td>WD</td>\n",
       "      <td>Normal</td>\n",
       "      <td>175000</td>\n",
       "    </tr>\n",
       "    <tr>\n",
       "      <th>1456</th>\n",
       "      <td>1457</td>\n",
       "      <td>20</td>\n",
       "      <td>RL</td>\n",
       "      <td>85.0</td>\n",
       "      <td>13175</td>\n",
       "      <td>Pave</td>\n",
       "      <td>NaN</td>\n",
       "      <td>Reg</td>\n",
       "      <td>Lvl</td>\n",
       "      <td>AllPub</td>\n",
       "      <td>...</td>\n",
       "      <td>0</td>\n",
       "      <td>NaN</td>\n",
       "      <td>MnPrv</td>\n",
       "      <td>NaN</td>\n",
       "      <td>0</td>\n",
       "      <td>2</td>\n",
       "      <td>2010</td>\n",
       "      <td>WD</td>\n",
       "      <td>Normal</td>\n",
       "      <td>210000</td>\n",
       "    </tr>\n",
       "    <tr>\n",
       "      <th>1457</th>\n",
       "      <td>1458</td>\n",
       "      <td>70</td>\n",
       "      <td>RL</td>\n",
       "      <td>66.0</td>\n",
       "      <td>9042</td>\n",
       "      <td>Pave</td>\n",
       "      <td>NaN</td>\n",
       "      <td>Reg</td>\n",
       "      <td>Lvl</td>\n",
       "      <td>AllPub</td>\n",
       "      <td>...</td>\n",
       "      <td>0</td>\n",
       "      <td>NaN</td>\n",
       "      <td>GdPrv</td>\n",
       "      <td>Shed</td>\n",
       "      <td>2500</td>\n",
       "      <td>5</td>\n",
       "      <td>2010</td>\n",
       "      <td>WD</td>\n",
       "      <td>Normal</td>\n",
       "      <td>266500</td>\n",
       "    </tr>\n",
       "    <tr>\n",
       "      <th>1458</th>\n",
       "      <td>1459</td>\n",
       "      <td>20</td>\n",
       "      <td>RL</td>\n",
       "      <td>68.0</td>\n",
       "      <td>9717</td>\n",
       "      <td>Pave</td>\n",
       "      <td>NaN</td>\n",
       "      <td>Reg</td>\n",
       "      <td>Lvl</td>\n",
       "      <td>AllPub</td>\n",
       "      <td>...</td>\n",
       "      <td>0</td>\n",
       "      <td>NaN</td>\n",
       "      <td>NaN</td>\n",
       "      <td>NaN</td>\n",
       "      <td>0</td>\n",
       "      <td>4</td>\n",
       "      <td>2010</td>\n",
       "      <td>WD</td>\n",
       "      <td>Normal</td>\n",
       "      <td>142125</td>\n",
       "    </tr>\n",
       "    <tr>\n",
       "      <th>1459</th>\n",
       "      <td>1460</td>\n",
       "      <td>20</td>\n",
       "      <td>RL</td>\n",
       "      <td>75.0</td>\n",
       "      <td>9937</td>\n",
       "      <td>Pave</td>\n",
       "      <td>NaN</td>\n",
       "      <td>Reg</td>\n",
       "      <td>Lvl</td>\n",
       "      <td>AllPub</td>\n",
       "      <td>...</td>\n",
       "      <td>0</td>\n",
       "      <td>NaN</td>\n",
       "      <td>NaN</td>\n",
       "      <td>NaN</td>\n",
       "      <td>0</td>\n",
       "      <td>6</td>\n",
       "      <td>2008</td>\n",
       "      <td>WD</td>\n",
       "      <td>Normal</td>\n",
       "      <td>147500</td>\n",
       "    </tr>\n",
       "  </tbody>\n",
       "</table>\n",
       "<p>1460 rows × 81 columns</p>\n",
       "</div>"
      ],
      "text/plain": [
       "        Id  MSSubClass MSZoning  LotFrontage  LotArea Street Alley LotShape  \\\n",
       "0        1          60       RL         65.0     8450   Pave   NaN      Reg   \n",
       "1        2          20       RL         80.0     9600   Pave   NaN      Reg   \n",
       "2        3          60       RL         68.0    11250   Pave   NaN      IR1   \n",
       "3        4          70       RL         60.0     9550   Pave   NaN      IR1   \n",
       "4        5          60       RL         84.0    14260   Pave   NaN      IR1   \n",
       "...    ...         ...      ...          ...      ...    ...   ...      ...   \n",
       "1455  1456          60       RL         62.0     7917   Pave   NaN      Reg   \n",
       "1456  1457          20       RL         85.0    13175   Pave   NaN      Reg   \n",
       "1457  1458          70       RL         66.0     9042   Pave   NaN      Reg   \n",
       "1458  1459          20       RL         68.0     9717   Pave   NaN      Reg   \n",
       "1459  1460          20       RL         75.0     9937   Pave   NaN      Reg   \n",
       "\n",
       "     LandContour Utilities  ... PoolArea PoolQC  Fence MiscFeature MiscVal  \\\n",
       "0            Lvl    AllPub  ...        0    NaN    NaN         NaN       0   \n",
       "1            Lvl    AllPub  ...        0    NaN    NaN         NaN       0   \n",
       "2            Lvl    AllPub  ...        0    NaN    NaN         NaN       0   \n",
       "3            Lvl    AllPub  ...        0    NaN    NaN         NaN       0   \n",
       "4            Lvl    AllPub  ...        0    NaN    NaN         NaN       0   \n",
       "...          ...       ...  ...      ...    ...    ...         ...     ...   \n",
       "1455         Lvl    AllPub  ...        0    NaN    NaN         NaN       0   \n",
       "1456         Lvl    AllPub  ...        0    NaN  MnPrv         NaN       0   \n",
       "1457         Lvl    AllPub  ...        0    NaN  GdPrv        Shed    2500   \n",
       "1458         Lvl    AllPub  ...        0    NaN    NaN         NaN       0   \n",
       "1459         Lvl    AllPub  ...        0    NaN    NaN         NaN       0   \n",
       "\n",
       "     MoSold YrSold  SaleType  SaleCondition  SalePrice  \n",
       "0         2   2008        WD         Normal     208500  \n",
       "1         5   2007        WD         Normal     181500  \n",
       "2         9   2008        WD         Normal     223500  \n",
       "3         2   2006        WD        Abnorml     140000  \n",
       "4        12   2008        WD         Normal     250000  \n",
       "...     ...    ...       ...            ...        ...  \n",
       "1455      8   2007        WD         Normal     175000  \n",
       "1456      2   2010        WD         Normal     210000  \n",
       "1457      5   2010        WD         Normal     266500  \n",
       "1458      4   2010        WD         Normal     142125  \n",
       "1459      6   2008        WD         Normal     147500  \n",
       "\n",
       "[1460 rows x 81 columns]"
      ]
     },
     "execution_count": 2,
     "metadata": {},
     "output_type": "execute_result"
    }
   ],
   "source": [
    "data = pd.read_csv('C:/data/train.csv'); data"
   ]
  },
  {
   "cell_type": "markdown",
   "id": "ac882414",
   "metadata": {},
   "source": [
    "## 1.1 정형화된 데이터의 요소\n",
    " - 테이블 형태 데이터: raw 데이터를 활용 가능한 형태로 변환할 때(즉, 정형화된 형태로 변환할 때) 가장 일반적으로 활용되는 형태로 행과 열이 존재\n",
    " \n",
    "#### 자료형\n",
    "1. <b>수치형(numeric)</b>: 숫자를 이용해 표현할 수 있는 데이터 <br>\n",
    " (1) 연속형(continuous): 일정 범위 안에서 어떤 값이든 취할 수 있는 데이터(ex. 키, 몸무게, LotArea) <br>\n",
    " (2) 이산형(discrete): 횟수와 같은 정수 값만 취할 수 있는 데이터 (ex. 방의 수) <br> \n",
    "<br>\n",
    "2. <b>범주형(categorical)</b>: 가능한 범주 안의 값만을 취하는 데이터 (ex. HouseStyle)\n",
    " (1) 이진형(binary): 두개의 값만을 갖는 범주형 데이터의 특수한 경우 (ex. 성공여부, 1:성공, 0:실패)\n",
    " (2) 순서형(ordial): 값들 사이에 분명한 순위가 있는 범주형 데이터 (ex. 성적)"
   ]
  },
  {
   "cell_type": "code",
   "execution_count": 3,
   "id": "6ed448d1",
   "metadata": {},
   "outputs": [
    {
     "data": {
      "text/plain": [
       "count      1460.000000\n",
       "mean      10516.828082\n",
       "std        9981.264932\n",
       "min        1300.000000\n",
       "25%        7553.500000\n",
       "50%        9478.500000\n",
       "75%       11601.500000\n",
       "max      215245.000000\n",
       "Name: LotArea, dtype: float64"
      ]
     },
     "execution_count": 3,
     "metadata": {},
     "output_type": "execute_result"
    }
   ],
   "source": [
    "# 수치형 - 연속형\n",
    "data['LotArea'] # 주택 부지 면적\n",
    "data['LotArea'].describe()"
   ]
  },
  {
   "cell_type": "code",
   "execution_count": 4,
   "id": "3bc97514",
   "metadata": {},
   "outputs": [
    {
     "data": {
      "text/plain": [
       "2       1\n",
       "3      17\n",
       "4      97\n",
       "5     275\n",
       "6     402\n",
       "7     329\n",
       "8     187\n",
       "9      75\n",
       "10     47\n",
       "11     18\n",
       "12     11\n",
       "14      1\n",
       "Name: TotRmsAbvGrd, dtype: int64"
      ]
     },
     "execution_count": 4,
     "metadata": {},
     "output_type": "execute_result"
    }
   ],
   "source": [
    "# 수치형 - 이산형\n",
    "data['TotRmsAbvGrd'] # 지상층 방 갯수\n",
    "data['TotRmsAbvGrd'].value_counts().sort_index()"
   ]
  },
  {
   "cell_type": "code",
   "execution_count": 5,
   "id": "cf974914",
   "metadata": {},
   "outputs": [
    {
     "data": {
      "text/plain": [
       "1Story    726\n",
       "2Story    445\n",
       "1.5Fin    154\n",
       "SLvl       65\n",
       "SFoyer     37\n",
       "1.5Unf     14\n",
       "2.5Unf     11\n",
       "2.5Fin      8\n",
       "Name: HouseStyle, dtype: int64"
      ]
     },
     "execution_count": 5,
     "metadata": {},
     "output_type": "execute_result"
    }
   ],
   "source": [
    "# 명목형\n",
    "data['HouseStyle']\n",
    "data['HouseStyle'].value_counts()"
   ]
  },
  {
   "cell_type": "code",
   "execution_count": 6,
   "id": "02216491",
   "metadata": {},
   "outputs": [
    {
     "data": {
      "text/plain": [
       "Y    1365\n",
       "N      95\n",
       "Name: CentralAir, dtype: int64"
      ]
     },
     "execution_count": 6,
     "metadata": {},
     "output_type": "execute_result"
    }
   ],
   "source": [
    "# 명목형 - 이진형\n",
    "data['CentralAir'] # 중앙에어컨 여부\n",
    "data['CentralAir'].value_counts()"
   ]
  },
  {
   "cell_type": "code",
   "execution_count": 7,
   "id": "55c3fb8d",
   "metadata": {},
   "outputs": [
    {
     "data": {
      "text/plain": [
       "1       2\n",
       "2       3\n",
       "3      20\n",
       "4     116\n",
       "5     397\n",
       "6     374\n",
       "7     319\n",
       "8     168\n",
       "9      43\n",
       "10     18\n",
       "Name: OverallQual, dtype: int64"
      ]
     },
     "execution_count": 7,
     "metadata": {},
     "output_type": "execute_result"
    }
   ],
   "source": [
    "# 명목형 - 순서형\n",
    "data['OverallQual'].value_counts().sort_index()"
   ]
  },
  {
   "cell_type": "code",
   "execution_count": 8,
   "id": "ba2b09d3",
   "metadata": {},
   "outputs": [
    {
     "data": {
      "text/plain": [
       "TA    735\n",
       "Gd    586\n",
       "Ex    100\n",
       "Fa     39\n",
       "Name: KitchenQual, dtype: int64"
      ]
     },
     "execution_count": 8,
     "metadata": {},
     "output_type": "execute_result"
    }
   ],
   "source": [
    "data['KitchenQual'].value_counts()"
   ]
  },
  {
   "cell_type": "markdown",
   "id": "ca13912b",
   "metadata": {},
   "source": [
    "## 1.3 위치추정\n",
    " - <b>대표값</b>을 통해 데이터를 살펴보는 것"
   ]
  },
  {
   "cell_type": "markdown",
   "id": "779cbe18",
   "metadata": {},
   "source": [
    "1. 평균 = $ \\bar{x} = \\frac{\\sum_{i=1}^n{x_i}} {n} $\n",
    " - 가장 기본적인 위치 추정 방법\n",
    " \n",
    " \n",
    "2. 절사평균 = $\\bar{x} = \\frac{\\sum_{i=1+1}^{n-p}{x_i}} {n-2p}$ \n",
    " - 크기 순으로 정렬 후, 양 끝에서 일정 개수의 값들을 삭제한 뒤 남은 값들로 구한 평균\n",
    " - 극단값 영향을 제거하는 효과가 있음\n",
    " \n",
    " \n",
    "3. 가중평균 = $ \\bar{x} = \\frac{\\sum_{i=1}^n{w_ix_i}} {\\sum_{i=1}^n{w_i}} $ \n",
    " - 어떤 값들이 본래 다른 값에 비해 큰 변화량을 가질 때, 작은 가중치를 부여함으로써 영향력을 통제하는 것\n",
    " - 데이터가 부족한 소수 그룹에 더 높은 가중치를 부여함으로써 보정하는 것\n",
    "\n",
    "\n",
    "4. 백분위수: 전체 데이터의 $P$%를 아래에 두는 값\n",
    "\n",
    "\n",
    "5. 중간값: 데이터에서 가장 가운데 위치하는 값\n",
    " - 특잇값에 로버스트하다\n",
    "\n",
    "6. 가중 중간값: 데이터 정렬 후, 각 가중치 값을 위에서부터 더할 때, 총합의 중간이 위치하는 데이터 값\n",
    " - 특잇값에 로버스트하다"
   ]
  },
  {
   "cell_type": "code",
   "execution_count": 9,
   "id": "050b517b",
   "metadata": {},
   "outputs": [
    {
     "data": {
      "text/plain": [
       "<AxesSubplot:>"
      ]
     },
     "execution_count": 9,
     "metadata": {},
     "output_type": "execute_result"
    },
    {
     "data": {
      "image/png": "[encoded data removed]",
      "text/plain": [
       "<Figure size 432x288 with 1 Axes>"
      ]
     },
     "metadata": {
      "needs_background": "light"
     },
     "output_type": "display_data"
    }
   ],
   "source": [
    "data['SalePrice'].hist()"
   ]
  },
  {
   "cell_type": "code",
   "execution_count": 10,
   "id": "b27021f6",
   "metadata": {},
   "outputs": [
    {
     "data": {
      "text/plain": [
       "count      1460.000000\n",
       "mean     180921.195890\n",
       "std       79442.502883\n",
       "min       34900.000000\n",
       "25%      129975.000000\n",
       "50%      163000.000000\n",
       "75%      214000.000000\n",
       "max      755000.000000\n",
       "Name: SalePrice, dtype: float64"
      ]
     },
     "execution_count": 10,
     "metadata": {},
     "output_type": "execute_result"
    }
   ],
   "source": [
    "data['SalePrice'].describe()"
   ]
  },
  {
   "cell_type": "code",
   "execution_count": 11,
   "id": "8d5f008e",
   "metadata": {},
   "outputs": [
    {
     "name": "stdout",
     "output_type": "stream",
     "text": [
      "절사평균, 10%:  170783.29109589042\n",
      "절사평균, 20%:  166531.81392694064\n",
      "절사평균, 30%:  163804.42465753425\n"
     ]
    }
   ],
   "source": [
    "# 절사평균\n",
    "from scipy.stats import trim_mean\n",
    "\n",
    "print('절사평균, 10%: ', trim_mean(data['SalePrice'], 0.1)) # 각 끝에서 10% 제외\n",
    "print('절사평균, 20%: ',trim_mean(data['SalePrice'], 0.2))\n",
    "print('절사평균, 30%: ',trim_mean(data['SalePrice'], 0.3))"
   ]
  },
  {
   "cell_type": "code",
   "execution_count": 12,
   "id": "690a0e06",
   "metadata": {},
   "outputs": [
    {
     "name": "stdout",
     "output_type": "stream",
     "text": [
      "평균:  180921.19589041095\n",
      "중간값:  163000.0\n"
     ]
    }
   ],
   "source": [
    "print('평균: ', data['SalePrice'].mean())\n",
    "print('중간값: ', data['SalePrice'].median())"
   ]
  },
  {
   "cell_type": "markdown",
   "id": "46afe086",
   "metadata": {},
   "source": [
    "## 1.4 변이추정\n",
    " - <b>변이(variability)</b>는 데이터 값이 얼마나 밀집해 있는지 혹은 퍼져 있는지를 나타내는 <b>산포도(dispersion)</b>를 나타냄\n",
    " - <b>변이를 측정하고, 이를 줄이고, 실제 변이와 랜덤을 구분하고, 실제 변이의 다양한 요인들을 알아보고, 변이가 있는 상황에서 결정을 내리는 등, 통계의 핵심에 이 변이가 있다.</b>"
   ]
  },
  {
   "cell_type": "markdown",
   "id": "a725c356",
   "metadata": {},
   "source": [
    "### 표준편차와 관련된 추정값들\n",
    "\n",
    "1. 편차: 관측값과 위치 추정값(평균, 중간값 등) 사이의 차이\n",
    "\n",
    "\n",
    "2. 평균절대편차 = $ \\frac{\\sum_{i=1}^n{|x_i - \\bar{x}|}} {n} $\n",
    "\n",
    "\n",
    "3. <b>분산</b> = $s^2 = \\frac {\\sum_{i=1}^n{(x_i - \\bar{x})^2}} {n-1}$\n",
    "\n",
    "\n",
    "4. <b>표준편차</b> = $s = \\sqrt{분산}$\n",
    "\n",
    "\n",
    "5. 중위절대편차(MAD) = $중간값(|x_1 - m|, |x_2 - m|, ..., |x_N - m|)$\n",
    " - 분산, 표준편차, 평균절대편차 모두 특잇값과 극단값에 로버스트하지 않다.\n",
    " - 분산과 표준편차는 제곱편차를 사용하기 때문에 특히 특잇값에 민감하다. \n",
    " - MAD드는 로버스트한 변이 추정값\n"
   ]
  },
  {
   "cell_type": "code",
   "execution_count": 13,
   "id": "fc421fbd",
   "metadata": {},
   "outputs": [
    {
     "name": "stdout",
     "output_type": "stream",
     "text": [
      "분산:  6311111264.297451\n",
      "표준편차:  79442.50288288663\n"
     ]
    }
   ],
   "source": [
    "# 분산과 표준편차\n",
    "print('분산: ', data['SalePrice'].var())\n",
    "print('표준편차: ', data['SalePrice'].std())"
   ]
  },
  {
   "cell_type": "code",
   "execution_count": 14,
   "id": "5f0b126f",
   "metadata": {},
   "outputs": [
    {
     "name": "stdout",
     "output_type": "stream",
     "text": [
      "MAD:  56338.88430321287\n"
     ]
    }
   ],
   "source": [
    "# MAD \n",
    "from statsmodels import robust\n",
    "\n",
    "print('MAD: ', robust.scale.mad(data['SalePrice']))"
   ]
  },
  {
   "cell_type": "markdown",
   "id": "d5bc4f0e",
   "metadata": {},
   "source": [
    "### 백분위수에 기초한 추정\n",
    "\n",
    " - 순서통계량: 정렬 데이터를 나타내는 통계량\n",
    "\n",
    "1. 범위: 최대값과 최소값 차이\n",
    " - 특잇값에 매우 민감하여 변이 측정에 유용하지 않음\n",
    " \n",
    "\n",
    "2. <b>사분위범위(IQR)</b>: 25번째 백분위수와 75번째 백분위수 차이\n",
    " - 변이를 측정하는 가장 대표적인 방법\n",
    " - 양 끝값을 제외하기때문에 로버스트하다\n",
    " - 데이터 집합이 클 경우, 근삿값을 사용\n"
   ]
  },
  {
   "cell_type": "code",
   "execution_count": 15,
   "id": "f0153a02",
   "metadata": {},
   "outputs": [
    {
     "data": {
      "image/png": "[encoded data removed]",
      "text/plain": [
       "<IPython.core.display.Image object>"
      ]
     },
     "execution_count": 15,
     "metadata": {},
     "output_type": "execute_result"
    }
   ],
   "source": [
    "Image(\"C:/jupyter/[STUDY]statistics for ds/Basic_statistic/JawonMin/iqr_quartiles.png\")"
   ]
  },
  {
   "cell_type": "code",
   "execution_count": 16,
   "id": "6d21eabb",
   "metadata": {},
   "outputs": [
    {
     "name": "stdout",
     "output_type": "stream",
     "text": [
      "IQR:  84025.0\n"
     ]
    }
   ],
   "source": [
    "print('IQR: ', data['SalePrice'].quantile(0.75) - data['SalePrice'].quantile(0.25))"
   ]
  },
  {
   "cell_type": "code",
   "execution_count": 17,
   "id": "187cf41c",
   "metadata": {},
   "outputs": [
    {
     "data": {
      "text/plain": [
       "count      1460.000000\n",
       "mean     180921.195890\n",
       "std       79442.502883\n",
       "min       34900.000000\n",
       "25%      129975.000000\n",
       "50%      163000.000000\n",
       "75%      214000.000000\n",
       "max      755000.000000\n",
       "Name: SalePrice, dtype: float64"
      ]
     },
     "execution_count": 17,
     "metadata": {},
     "output_type": "execute_result"
    }
   ],
   "source": [
    "data['SalePrice'].describe()\n",
    "# data['SalePrice'].describe()['75%'] - data['SalePrice'].describe()['25%']"
   ]
  },
  {
   "cell_type": "markdown",
   "id": "55091cf1",
   "metadata": {},
   "source": [
    "## 1.5 .1 백분위수와 상자그림\n",
    "\n",
    "###### 백분위수\n",
    " - 사분위수(quartile), 십분위수(decile)을 주로 사용하여 전체 분포를 알아본다.\n",
    " - 꼬리(tail)부분을 묘사하는데 제격"
   ]
  },
  {
   "cell_type": "code",
   "execution_count": 41,
   "id": "fe28f193",
   "metadata": {
    "scrolled": true
   },
   "outputs": [
    {
     "data": {
      "text/plain": [
       "0.00     34900.0\n",
       "0.25    129975.0\n",
       "0.50    163000.0\n",
       "0.75    214000.0\n",
       "1.00    755000.0\n",
       "Name: SalePrice, dtype: float64"
      ]
     },
     "execution_count": 41,
     "metadata": {},
     "output_type": "execute_result"
    }
   ],
   "source": [
    "# SalePrice 변수의 백분위수 - 4분위수\n",
    "data['SalePrice'].quantile([0, 0.25, 0.5, 0.75, 1])\n",
    "\n",
    "'''\n",
    "중앙값으로부터 최솟값, Q1, Q3, 최댓값까지의 거리를 봤을 때,\n",
    "Q1, Q3까지의 거리는 비슷하지만, 최댓값까지의 거리가 굉장히 멀다\n",
    "따라서 오른쪽으로 꼬리가 긴 분포를 예상할 수 있다.\n",
    "'''"
   ]
  },
  {
   "cell_type": "code",
   "execution_count": 42,
   "id": "d7890ec6",
   "metadata": {},
   "outputs": [
    {
     "data": {
      "text/plain": [
       "0.0     34900.0\n",
       "0.1    106475.0\n",
       "0.2    124000.0\n",
       "0.3    135500.0\n",
       "0.4    147000.0\n",
       "0.5    163000.0\n",
       "0.6    179280.0\n",
       "0.7    198620.0\n",
       "0.8    230000.0\n",
       "0.9    278000.0\n",
       "1.0    755000.0\n",
       "Name: SalePrice, dtype: float64"
      ]
     },
     "execution_count": 42,
     "metadata": {},
     "output_type": "execute_result"
    }
   ],
   "source": [
    "data['SalePrice'].quantile([0, 0.1, 0.2, 0.3, 0.4, 0.5, 0.6, 0.7, 0.8, 0.9, 1])\n",
    "\n",
    "'''\n",
    "하위 90% 지점의 데이터와 최대값의 차이가 크다. (약 50만)\n",
    "이상치가 있지 않을까?\n",
    "'''"
   ]
  },
  {
   "cell_type": "markdown",
   "id": "312b40fa",
   "metadata": {},
   "source": [
    "###### 상자그림(Box ploat)\n",
    " - 백분위수를 시각화한 것\n",
    " - IQR(Interquartile Range, 사분위범위) = Q3 - Q1\n",
    "   - 분포의 양 끝 1/4을 제외한 범위\n",
    " - 수염을 벗어난 값은 이상치(outlier)로 간주"
   ]
  },
  {
   "cell_type": "code",
   "execution_count": 21,
   "id": "8fadceb6",
   "metadata": {},
   "outputs": [
    {
     "data": {
      "image/png": "[encoded data removed]",
      "text/plain": [
       "<IPython.core.display.Image object>"
      ]
     },
     "execution_count": 21,
     "metadata": {},
     "output_type": "execute_result"
    }
   ],
   "source": [
    "Image(\"C:/jupyter/[STUDY]statistics for ds/Basic_statistic/JawonMin/boxplot.png\")"
   ]
  },
  {
   "cell_type": "code",
   "execution_count": 20,
   "id": "6c507547",
   "metadata": {},
   "outputs": [
    {
     "data": {
      "text/plain": [
       "<AxesSubplot:>"
      ]
     },
     "execution_count": 20,
     "metadata": {},
     "output_type": "execute_result"
    },
    {
     "data": {
      "image/png": "[encoded data removed]",
      "text/plain": [
       "<Figure size 432x288 with 1 Axes>"
      ]
     },
     "metadata": {
      "needs_background": "light"
     },
     "output_type": "display_data"
    }
   ],
   "source": [
    "# Box ploat\n",
    "data['SalePrice'].plot.box()"
   ]
  },
  {
   "cell_type": "markdown",
   "id": "f032cbf5",
   "metadata": {},
   "source": [
    "## 1.5.2 도수분포표와 히스토그램\n",
    "###### 도수분포표\n",
    " - 변수의 범위를 동일한 크기의 구간으로 나눈 다음, 각 구간마다 몇 개의 변수값이 존재하는지 보여줌\n",
    " - 도수분포표와 상자그림 모두 구간을 나눠 데이터를 살펴보는 접근방법\n",
    "   - 백분위수는 각 구간에 같은 수의 데이터가 포함되도록, 도수분포표는 각 구간의 크기가 같도록 나누는 것\n",
    " - 구간 크기를 변경해보며 살펴보기\n",
    " \n",
    " - 히스토그램 -> pd.qcut\n",
    " - 상자그림 -> pd.cut "
   ]
  },
  {
   "cell_type": "code",
   "execution_count": 22,
   "id": "03f9317b",
   "metadata": {},
   "outputs": [
    {
     "data": {
      "text/plain": [
       "(34179.9, 106910.0]     148\n",
       "(106910.0, 178920.0]    723\n",
       "(178920.0, 250930.0]    373\n",
       "(250930.0, 322940.0]    135\n",
       "(322940.0, 394950.0]     51\n",
       "(394950.0, 466960.0]     19\n",
       "(466960.0, 538970.0]      4\n",
       "(538970.0, 610980.0]      3\n",
       "(610980.0, 682990.0]      2\n",
       "(682990.0, 755000.0]      2\n",
       "Name: SalePrice, dtype: int64"
      ]
     },
     "execution_count": 22,
     "metadata": {},
     "output_type": "execute_result"
    }
   ],
   "source": [
    "binnedPrice = pd.cut(data['SalePrice'], 10)\n",
    "binnedPrice.value_counts().sort_index()"
   ]
  },
  {
   "cell_type": "markdown",
   "id": "2e261dae",
   "metadata": {},
   "source": [
    "###### 히스토그램\n",
    " - 도수분포표를 시각화하는 방법"
   ]
  },
  {
   "cell_type": "code",
   "execution_count": 50,
   "id": "dd5284ad",
   "metadata": {},
   "outputs": [
    {
     "data": {
      "text/plain": [
       "'\\n오른쪽으로 꼬리가 긴 분포\\n50만 이상인 구간부터 빈 구간이 잦음\\n'"
      ]
     },
     "execution_count": 50,
     "metadata": {},
     "output_type": "execute_result"
    },
    {
     "data": {
      "image/png": "[encoded data removed]",
      "text/plain": [
       "<Figure size 432x288 with 1 Axes>"
      ]
     },
     "metadata": {
      "needs_background": "light"
     },
     "output_type": "display_data"
    }
   ],
   "source": [
    "ax = data['SalePrice'].plot.hist(bins=50, figsize=(6, 4))\n",
    "\n",
    "'''\n",
    "오른쪽으로 꼬리가 긴 분포\n",
    "50만 이상인 구간부터 빈 구간이 잦음\n",
    "'''"
   ]
  },
  {
   "cell_type": "markdown",
   "id": "1f84b382",
   "metadata": {},
   "source": [
    "## 1.5.3 밀도 그림과 추정\n",
    "###### 밀도그림\n",
    " - 밀도추정: 관측된 데이터 분포를 통해 모집단 분포를 추정하는 것\n",
    " - 데이터의 분포를 연속된 선으로 보여줌. 즉, 부드러운 히스토그램이라고 생각할 수 있음"
   ]
  },
  {
   "cell_type": "code",
   "execution_count": 24,
   "id": "f770775f",
   "metadata": {},
   "outputs": [
    {
     "name": "stderr",
     "output_type": "stream",
     "text": [
      "C:\\Users\\minjw\\anaconda3\\lib\\site-packages\\numpy\\lib\\histograms.py:906: RuntimeWarning: invalid value encountered in true_divide\n",
      "  return n/db/n.sum(), bin_edges\n"
     ]
    },
    {
     "data": {
      "image/png": "[encoded data removed]",
      "text/plain": [
       "<Figure size 288x288 with 1 Axes>"
      ]
     },
     "metadata": {
      "needs_background": "light"
     },
     "output_type": "display_data"
    }
   ],
   "source": [
    "ax = data['SalePrice'].plot.hist(density=True, \n",
    "                                    bins=range(1,12), figsize=(4, 4))\n",
    "data['SalePrice'].plot.density(ax=ax)\n",
    "\n",
    "plt.tight_layout()\n",
    "plt.show()"
   ]
  },
  {
   "cell_type": "markdown",
   "id": "529a6f30",
   "metadata": {},
   "source": [
    "# 1.6 이진 데이터와 범주 데이터 탐색하기\n",
    " - 이진변수: 범주 비율 확인\n",
    " - 주로 막대 그래프 활용하여 시각화"
   ]
  },
  {
   "cell_type": "code",
   "execution_count": 25,
   "id": "582b9888",
   "metadata": {},
   "outputs": [
    {
     "data": {
      "text/plain": [
       "<AxesSubplot:>"
      ]
     },
     "execution_count": 25,
     "metadata": {},
     "output_type": "execute_result"
    },
    {
     "data": {
      "image/png": "[encoded data removed]",
      "text/plain": [
       "<Figure size 432x288 with 1 Axes>"
      ]
     },
     "metadata": {
      "needs_background": "light"
     },
     "output_type": "display_data"
    }
   ],
   "source": [
    "data['HouseStyle'].value_counts().plot.bar()"
   ]
  },
  {
   "cell_type": "markdown",
   "id": "e137b6ba",
   "metadata": {},
   "source": [
    " - 최빈값: 1Story\n",
    " - 기댓값: $ E(X) = \\sum{xP(x)} $  *ex. 주사위던지기*\n",
    " - 사건이 발생할 확률: 상황이 수없이 반복될 경우 사건이 발생할 비율"
   ]
  },
  {
   "cell_type": "markdown",
   "id": "88246ca1",
   "metadata": {},
   "source": [
    "# 1.7 상관관계\n",
    " \n",
    "#### 상관계수\n",
    " - 상관 행렬을 통해 여러 변수들 사이의 관계를 시각화 할 수 있다.\n",
    " - 두 변수의 공분산을 각각의 표준편차의 곱으로 나눈 값\n",
    " - -1과 1사이 값을 가지며, <0인 경우 음의 상관관계, >0인경우 양의 상관관계를 갖는다고 함\n",
    " \n",
    " ###### 피어슨 상관계수\n",
    "  - 일반적인 상관계수로, 두 수치형 변수 사이의 선형관계를 측정\n",
    " \n",
    "  $$ r = \\frac {\\sum_{i=1}^n{(x_i - \\bar{x})(y_i - \\bar{y})}} {(n-1)s_xs_y} $$ \n",
    "  \n",
    " ###### 스피어만 상관계수\n",
    "  - 서열형 변수를 포함하고 있는 경우 스피어만 상관계수를 사용\n",
    "  - 비모수적 접근방법\n",
    "  - 선형적 상관관계를 나타내는것이 아닌, 단순히 한 변수가 증가할 때 다른 변수의 증감에 대한 관계를 나타냄\n",
    "  \n",
    "  \n",
    " *참고자료: https://m.blog.naver.com/istech7/50153047118*"
   ]
  },
  {
   "cell_type": "code",
   "execution_count": 26,
   "id": "35f850ee",
   "metadata": {},
   "outputs": [],
   "source": [
    "import seaborn as sns"
   ]
  },
  {
   "cell_type": "code",
   "execution_count": 27,
   "id": "cd656b2f",
   "metadata": {},
   "outputs": [
    {
     "data": {
      "image/png": "[encoded data removed]",
      "text/plain": [
       "<Figure size 360x288 with 2 Axes>"
      ]
     },
     "metadata": {
      "needs_background": "light"
     },
     "output_type": "display_data"
    }
   ],
   "source": [
    "cols = ['SalePrice', 'GarageCars', 'TotRmsAbvGrd', 'FullBath', 'HalfBath', 'GrLivArea', 'TotalBsmtSF', 'LotArea']\n",
    "\n",
    "fig, ax = plt.subplots(figsize=(5, 4))\n",
    "ax = sns.heatmap(data[cols].corr(), vmin=-1, vmax=1, \n",
    "                 cmap=sns.diverging_palette(20, 220, as_cmap=True),\n",
    "                 ax=ax)"
   ]
  },
  {
   "cell_type": "code",
   "execution_count": 28,
   "id": "78cf7951",
   "metadata": {},
   "outputs": [
    {
     "data": {
      "image/png": "[encoded data removed]",
      "text/plain": [
       "<Figure size 288x288 with 1 Axes>"
      ]
     },
     "metadata": {
      "needs_background": "light"
     },
     "output_type": "display_data"
    },
    {
     "data": {
      "text/plain": [
       "'\\n양의 상관성을 보인다\\n'"
      ]
     },
     "execution_count": 28,
     "metadata": {},
     "output_type": "execute_result"
    }
   ],
   "source": [
    "# 산점도 \n",
    "ax = data.plot.scatter(x='SalePrice', y='GrLivArea', figsize=(4, 4), marker='$\\u25EF$')\n",
    "ax.set_xlabel('SalePrice')\n",
    "ax.set_ylabel('GrLivArea')\n",
    "\n",
    "plt.tight_layout()\n",
    "plt.show()\n",
    "\n",
    "'''\n",
    "양의 상관성을 보인다\n",
    "'''"
   ]
  },
  {
   "cell_type": "markdown",
   "id": "51036357",
   "metadata": {},
   "source": [
    "# 1.8 두 개 이상 변수 탐색하기"
   ]
  },
  {
   "cell_type": "markdown",
   "id": "3f05ee16",
   "metadata": {},
   "source": [
    "## 1.8.1 육각형 구간과 등고선 (수치형 vs 수치형)\n",
    " - 데이터의 개수가 많아 산점도로 파악하기 힘든 경우"
   ]
  },
  {
   "cell_type": "code",
   "execution_count": 29,
   "id": "bec47271",
   "metadata": {},
   "outputs": [],
   "source": [
    "# temp = data.loc[data['SalePrice']<data['SalePrice'].quantile(0.9)]\n",
    "\n",
    "temp = data.loc[(data['SalePrice']>data['SalePrice'].quantile(0.25)) &\n",
    "                (data['SalePrice']<data['SalePrice'].quantile(0.75))]"
   ]
  },
  {
   "cell_type": "code",
   "execution_count": 30,
   "id": "5e334c3a",
   "metadata": {},
   "outputs": [
    {
     "data": {
      "image/png": "[encoded data removed]",
      "text/plain": [
       "<Figure size 360x288 with 2 Axes>"
      ]
     },
     "metadata": {
      "needs_background": "light"
     },
     "output_type": "display_data"
    }
   ],
   "source": [
    "ax = temp.plot.hexbin(x='GrLivArea', y='SalePrice',\n",
    "                         gridsize=30, sharex=False, figsize=(5, 4))\n",
    "ax.set_xlabel('Ground Live Area (SF)')\n",
    "ax.set_ylabel('Sale Price')\n",
    "\n",
    "plt.tight_layout()\n",
    "plt.show()"
   ]
  },
  {
   "cell_type": "markdown",
   "id": "45934959",
   "metadata": {},
   "source": [
    "###### 등고선 도표 \n",
    " - 등고선 위의 점들은 밀도가 같다\n",
    " - 꼭대기쪽으로 갈수록 밀도가 높아진다"
   ]
  },
  {
   "cell_type": "code",
   "execution_count": 31,
   "id": "abecac05",
   "metadata": {},
   "outputs": [
    {
     "data": {
      "image/png": "[encoded data removed]",
      "text/plain": [
       "<Figure size 288x288 with 1 Axes>"
      ]
     },
     "metadata": {
      "needs_background": "light"
     },
     "output_type": "display_data"
    }
   ],
   "source": [
    "fig, ax = plt.subplots(figsize=(4, 4))\n",
    "#sns.kdeplot(data=data, x='GrLivArea', y='SalePrice', ax=ax)\n",
    "sns.kdeplot(data=temp, x='GrLivArea', y='SalePrice', ax=ax)\n",
    "ax.set_xlabel('Ground Live Area (SF)')\n",
    "ax.set_ylabel('Sale Price')\n",
    "\n",
    "plt.tight_layout()\n",
    "plt.show()"
   ]
  },
  {
   "cell_type": "code",
   "execution_count": 32,
   "id": "57723f5b",
   "metadata": {},
   "outputs": [],
   "source": [
    "del temp"
   ]
  },
  {
   "cell_type": "markdown",
   "id": "bc760862",
   "metadata": {},
   "source": [
    "## 1.8.2 범주형 변수 대 범주형 변수\n",
    "\n",
    "###### 분할표\n",
    " - 범주별 빈도수 기록한 표\n",
    " - 두 범주형 변수를 요약하는 데 효과적"
   ]
  },
  {
   "cell_type": "code",
   "execution_count": 33,
   "id": "89e69433",
   "metadata": {},
   "outputs": [],
   "source": [
    "cols = ['OverallQual', 'OverallCond'] # OverallQual: 주택 마감과 자재 상태에 대한 전반적 평가 점수\n",
    "                                      # OverallCond: 주택의 전반적인 컨디션 평가 점수\n",
    "\n",
    "crosstab = data[cols].pivot_table(index='OverallQual', columns='OverallCond', \n",
    "                                  aggfunc= lambda x: len(x),  # 각 셀에 해당하는 데이터 갯수 \n",
    "                                  margins=True) # 열과 행의 합계"
   ]
  },
  {
   "cell_type": "code",
   "execution_count": 34,
   "id": "596c984f",
   "metadata": {},
   "outputs": [],
   "source": [
    "crosstab.loc[:, 1:9] = crosstab.loc[:, 1:9].div(crosstab['All'], axis=0)"
   ]
  },
  {
   "cell_type": "code",
   "execution_count": 35,
   "id": "42fd7321",
   "metadata": {},
   "outputs": [
    {
     "data": {
      "text/html": [
       "<div>\n",
       "<style scoped>\n",
       "    .dataframe tbody tr th:only-of-type {\n",
       "        vertical-align: middle;\n",
       "    }\n",
       "\n",
       "    .dataframe tbody tr th {\n",
       "        vertical-align: top;\n",
       "    }\n",
       "\n",
       "    .dataframe thead th {\n",
       "        text-align: right;\n",
       "    }\n",
       "</style>\n",
       "<table border=\"1\" class=\"dataframe\">\n",
       "  <thead>\n",
       "    <tr style=\"text-align: right;\">\n",
       "      <th>OverallCond</th>\n",
       "      <th>1</th>\n",
       "      <th>2</th>\n",
       "      <th>3</th>\n",
       "      <th>4</th>\n",
       "      <th>5</th>\n",
       "      <th>6</th>\n",
       "      <th>7</th>\n",
       "      <th>8</th>\n",
       "      <th>9</th>\n",
       "      <th>All</th>\n",
       "    </tr>\n",
       "    <tr>\n",
       "      <th>OverallQual</th>\n",
       "      <th></th>\n",
       "      <th></th>\n",
       "      <th></th>\n",
       "      <th></th>\n",
       "      <th></th>\n",
       "      <th></th>\n",
       "      <th></th>\n",
       "      <th></th>\n",
       "      <th></th>\n",
       "      <th></th>\n",
       "    </tr>\n",
       "  </thead>\n",
       "  <tbody>\n",
       "    <tr>\n",
       "      <th>1</th>\n",
       "      <td>0.500000</td>\n",
       "      <td>NaN</td>\n",
       "      <td>0.500000</td>\n",
       "      <td>NaN</td>\n",
       "      <td>NaN</td>\n",
       "      <td>NaN</td>\n",
       "      <td>NaN</td>\n",
       "      <td>NaN</td>\n",
       "      <td>NaN</td>\n",
       "      <td>0.000685</td>\n",
       "    </tr>\n",
       "    <tr>\n",
       "      <th>2</th>\n",
       "      <td>NaN</td>\n",
       "      <td>NaN</td>\n",
       "      <td>0.666667</td>\n",
       "      <td>NaN</td>\n",
       "      <td>0.333333</td>\n",
       "      <td>NaN</td>\n",
       "      <td>NaN</td>\n",
       "      <td>NaN</td>\n",
       "      <td>NaN</td>\n",
       "      <td>0.001027</td>\n",
       "    </tr>\n",
       "    <tr>\n",
       "      <th>3</th>\n",
       "      <td>NaN</td>\n",
       "      <td>0.100000</td>\n",
       "      <td>0.150000</td>\n",
       "      <td>0.300000</td>\n",
       "      <td>0.100000</td>\n",
       "      <td>0.250000</td>\n",
       "      <td>0.050000</td>\n",
       "      <td>0.050000</td>\n",
       "      <td>NaN</td>\n",
       "      <td>0.006849</td>\n",
       "    </tr>\n",
       "    <tr>\n",
       "      <th>4</th>\n",
       "      <td>NaN</td>\n",
       "      <td>0.008621</td>\n",
       "      <td>0.043103</td>\n",
       "      <td>0.172414</td>\n",
       "      <td>0.379310</td>\n",
       "      <td>0.206897</td>\n",
       "      <td>0.163793</td>\n",
       "      <td>0.017241</td>\n",
       "      <td>0.008621</td>\n",
       "      <td>0.039726</td>\n",
       "    </tr>\n",
       "    <tr>\n",
       "      <th>5</th>\n",
       "      <td>NaN</td>\n",
       "      <td>0.002519</td>\n",
       "      <td>0.017632</td>\n",
       "      <td>0.052897</td>\n",
       "      <td>0.357683</td>\n",
       "      <td>0.261965</td>\n",
       "      <td>0.224181</td>\n",
       "      <td>0.073048</td>\n",
       "      <td>0.010076</td>\n",
       "      <td>0.135959</td>\n",
       "    </tr>\n",
       "    <tr>\n",
       "      <th>6</th>\n",
       "      <td>NaN</td>\n",
       "      <td>NaN</td>\n",
       "      <td>0.016043</td>\n",
       "      <td>0.016043</td>\n",
       "      <td>0.481283</td>\n",
       "      <td>0.221925</td>\n",
       "      <td>0.176471</td>\n",
       "      <td>0.080214</td>\n",
       "      <td>0.008021</td>\n",
       "      <td>0.128082</td>\n",
       "    </tr>\n",
       "    <tr>\n",
       "      <th>7</th>\n",
       "      <td>NaN</td>\n",
       "      <td>NaN</td>\n",
       "      <td>0.003135</td>\n",
       "      <td>0.009404</td>\n",
       "      <td>0.774295</td>\n",
       "      <td>0.087774</td>\n",
       "      <td>0.072100</td>\n",
       "      <td>0.025078</td>\n",
       "      <td>0.028213</td>\n",
       "      <td>0.109247</td>\n",
       "    </tr>\n",
       "    <tr>\n",
       "      <th>8</th>\n",
       "      <td>NaN</td>\n",
       "      <td>NaN</td>\n",
       "      <td>NaN</td>\n",
       "      <td>0.005952</td>\n",
       "      <td>0.880952</td>\n",
       "      <td>0.041667</td>\n",
       "      <td>0.041667</td>\n",
       "      <td>0.011905</td>\n",
       "      <td>0.017857</td>\n",
       "      <td>0.057534</td>\n",
       "    </tr>\n",
       "    <tr>\n",
       "      <th>9</th>\n",
       "      <td>NaN</td>\n",
       "      <td>0.023256</td>\n",
       "      <td>NaN</td>\n",
       "      <td>NaN</td>\n",
       "      <td>0.976744</td>\n",
       "      <td>NaN</td>\n",
       "      <td>NaN</td>\n",
       "      <td>NaN</td>\n",
       "      <td>NaN</td>\n",
       "      <td>0.014726</td>\n",
       "    </tr>\n",
       "    <tr>\n",
       "      <th>10</th>\n",
       "      <td>NaN</td>\n",
       "      <td>NaN</td>\n",
       "      <td>NaN</td>\n",
       "      <td>NaN</td>\n",
       "      <td>0.833333</td>\n",
       "      <td>0.055556</td>\n",
       "      <td>NaN</td>\n",
       "      <td>NaN</td>\n",
       "      <td>0.111111</td>\n",
       "      <td>0.006164</td>\n",
       "    </tr>\n",
       "    <tr>\n",
       "      <th>All</th>\n",
       "      <td>0.000685</td>\n",
       "      <td>0.003425</td>\n",
       "      <td>0.017123</td>\n",
       "      <td>0.039041</td>\n",
       "      <td>0.562329</td>\n",
       "      <td>0.172603</td>\n",
       "      <td>0.140411</td>\n",
       "      <td>0.049315</td>\n",
       "      <td>0.015068</td>\n",
       "      <td>0.500000</td>\n",
       "    </tr>\n",
       "  </tbody>\n",
       "</table>\n",
       "</div>"
      ],
      "text/plain": [
       "OverallCond         1         2         3         4         5         6  \\\n",
       "OverallQual                                                               \n",
       "1            0.500000       NaN  0.500000       NaN       NaN       NaN   \n",
       "2                 NaN       NaN  0.666667       NaN  0.333333       NaN   \n",
       "3                 NaN  0.100000  0.150000  0.300000  0.100000  0.250000   \n",
       "4                 NaN  0.008621  0.043103  0.172414  0.379310  0.206897   \n",
       "5                 NaN  0.002519  0.017632  0.052897  0.357683  0.261965   \n",
       "6                 NaN       NaN  0.016043  0.016043  0.481283  0.221925   \n",
       "7                 NaN       NaN  0.003135  0.009404  0.774295  0.087774   \n",
       "8                 NaN       NaN       NaN  0.005952  0.880952  0.041667   \n",
       "9                 NaN  0.023256       NaN       NaN  0.976744       NaN   \n",
       "10                NaN       NaN       NaN       NaN  0.833333  0.055556   \n",
       "All          0.000685  0.003425  0.017123  0.039041  0.562329  0.172603   \n",
       "\n",
       "OverallCond         7         8         9       All  \n",
       "OverallQual                                          \n",
       "1                 NaN       NaN       NaN  0.000685  \n",
       "2                 NaN       NaN       NaN  0.001027  \n",
       "3            0.050000  0.050000       NaN  0.006849  \n",
       "4            0.163793  0.017241  0.008621  0.039726  \n",
       "5            0.224181  0.073048  0.010076  0.135959  \n",
       "6            0.176471  0.080214  0.008021  0.128082  \n",
       "7            0.072100  0.025078  0.028213  0.109247  \n",
       "8            0.041667  0.011905  0.017857  0.057534  \n",
       "9                 NaN       NaN       NaN  0.014726  \n",
       "10                NaN       NaN  0.111111  0.006164  \n",
       "All          0.140411  0.049315  0.015068  0.500000  "
      ]
     },
     "execution_count": 35,
     "metadata": {},
     "output_type": "execute_result"
    }
   ],
   "source": [
    "crosstab['All'] = crosstab['All'] / sum(crosstab['All']) ;crosstab"
   ]
  },
  {
   "cell_type": "markdown",
   "id": "bc90af02",
   "metadata": {},
   "source": [
    "## 1.8.3 범주형 vs 수치형\n",
    " - 상자그림\n",
    " - 바이올린플롯\n",
    "   - 바이올린도표에서는 밀도를 확인할 수 있다"
   ]
  },
  {
   "cell_type": "code",
   "execution_count": 36,
   "id": "44148ccb",
   "metadata": {},
   "outputs": [
    {
     "data": {
      "image/png": "[encoded data removed]",
      "text/plain": [
       "<Figure size 864x576 with 1 Axes>"
      ]
     },
     "metadata": {
      "needs_background": "light"
     },
     "output_type": "display_data"
    }
   ],
   "source": [
    "data.boxplot(by='Neighborhood', column='SalePrice', figsize=(12, 8))\n",
    "plt.xticks(rotation=90)\n",
    "plt.tight_layout()\n",
    "plt.show()"
   ]
  },
  {
   "cell_type": "code",
   "execution_count": 37,
   "id": "76d755d5",
   "metadata": {},
   "outputs": [
    {
     "name": "stderr",
     "output_type": "stream",
     "text": [
      "C:\\Users\\minjw\\anaconda3\\lib\\site-packages\\seaborn\\_decorators.py:36: FutureWarning: Pass the following variables as keyword args: x, y. From version 0.12, the only valid positional argument will be `data`, and passing other arguments without an explicit keyword will result in an error or misinterpretation.\n",
      "  warnings.warn(\n"
     ]
    },
    {
     "data": {
      "text/plain": [
       "<AxesSubplot:xlabel='HouseStyle', ylabel='SalePrice'>"
      ]
     },
     "execution_count": 37,
     "metadata": {},
     "output_type": "execute_result"
    },
    {
     "data": {
      "image/png": "[encoded data removed]",
      "text/plain": [
       "<Figure size 432x288 with 1 Axes>"
      ]
     },
     "metadata": {
      "needs_background": "light"
     },
     "output_type": "display_data"
    }
   ],
   "source": [
    "sns.violinplot(data.HouseStyle, data.SalePrice)"
   ]
  },
  {
   "cell_type": "markdown",
   "id": "b177a084",
   "metadata": {},
   "source": [
    "## 1.8.4 다변수 시각화하기\n",
    " - 조건화 개념을 활용\n",
    "   - ex. 주택크기와 과세 평가액 간 관계를 볼 때, 지리적 요인을 추가하여 살펴보는것\n",
    "   \n",
    "   \n",
    " -  **kwargs\n",
    "   - keyword argument의 줄임말로 (Keyword = value)의 형태로 입력하여 함수 안에서 활용할 수 있는 형태\n",
    "   \n",
    "  \n",
    " - sns.FacetGrid\n",
    "   - Multi-plot grid for plotting conditional relationships\n",
    " \n",
    " \n",
    " *참고자료* <br>\n",
    " *https://brunch.co.kr/@princox/180 (**kwargs)* <br>\n",
    " *https://seaborn.pydata.org/generated/seaborn.FacetGrid.html*"
   ]
  },
  {
   "cell_type": "code",
   "execution_count": 38,
   "id": "9b0d3686",
   "metadata": {},
   "outputs": [
    {
     "data": {
      "text/html": [
       "<div>\n",
       "<style scoped>\n",
       "    .dataframe tbody tr th:only-of-type {\n",
       "        vertical-align: middle;\n",
       "    }\n",
       "\n",
       "    .dataframe tbody tr th {\n",
       "        vertical-align: top;\n",
       "    }\n",
       "\n",
       "    .dataframe thead th {\n",
       "        text-align: right;\n",
       "    }\n",
       "</style>\n",
       "<table border=\"1\" class=\"dataframe\">\n",
       "  <thead>\n",
       "    <tr style=\"text-align: right;\">\n",
       "      <th></th>\n",
       "      <th>Id</th>\n",
       "      <th>MSSubClass</th>\n",
       "      <th>MSZoning</th>\n",
       "      <th>LotFrontage</th>\n",
       "      <th>LotArea</th>\n",
       "      <th>Street</th>\n",
       "      <th>Alley</th>\n",
       "      <th>LotShape</th>\n",
       "      <th>LandContour</th>\n",
       "      <th>Utilities</th>\n",
       "      <th>...</th>\n",
       "      <th>PoolArea</th>\n",
       "      <th>PoolQC</th>\n",
       "      <th>Fence</th>\n",
       "      <th>MiscFeature</th>\n",
       "      <th>MiscVal</th>\n",
       "      <th>MoSold</th>\n",
       "      <th>YrSold</th>\n",
       "      <th>SaleType</th>\n",
       "      <th>SaleCondition</th>\n",
       "      <th>SalePrice</th>\n",
       "    </tr>\n",
       "  </thead>\n",
       "  <tbody>\n",
       "    <tr>\n",
       "      <th>4</th>\n",
       "      <td>5</td>\n",
       "      <td>60</td>\n",
       "      <td>RL</td>\n",
       "      <td>84.0</td>\n",
       "      <td>14260</td>\n",
       "      <td>Pave</td>\n",
       "      <td>NaN</td>\n",
       "      <td>IR1</td>\n",
       "      <td>Lvl</td>\n",
       "      <td>AllPub</td>\n",
       "      <td>...</td>\n",
       "      <td>0</td>\n",
       "      <td>NaN</td>\n",
       "      <td>NaN</td>\n",
       "      <td>NaN</td>\n",
       "      <td>0</td>\n",
       "      <td>12</td>\n",
       "      <td>2008</td>\n",
       "      <td>WD</td>\n",
       "      <td>Normal</td>\n",
       "      <td>250000</td>\n",
       "    </tr>\n",
       "    <tr>\n",
       "      <th>11</th>\n",
       "      <td>12</td>\n",
       "      <td>60</td>\n",
       "      <td>RL</td>\n",
       "      <td>85.0</td>\n",
       "      <td>11924</td>\n",
       "      <td>Pave</td>\n",
       "      <td>NaN</td>\n",
       "      <td>IR1</td>\n",
       "      <td>Lvl</td>\n",
       "      <td>AllPub</td>\n",
       "      <td>...</td>\n",
       "      <td>0</td>\n",
       "      <td>NaN</td>\n",
       "      <td>NaN</td>\n",
       "      <td>NaN</td>\n",
       "      <td>0</td>\n",
       "      <td>7</td>\n",
       "      <td>2006</td>\n",
       "      <td>New</td>\n",
       "      <td>Partial</td>\n",
       "      <td>345000</td>\n",
       "    </tr>\n",
       "    <tr>\n",
       "      <th>20</th>\n",
       "      <td>21</td>\n",
       "      <td>60</td>\n",
       "      <td>RL</td>\n",
       "      <td>101.0</td>\n",
       "      <td>14215</td>\n",
       "      <td>Pave</td>\n",
       "      <td>NaN</td>\n",
       "      <td>IR1</td>\n",
       "      <td>Lvl</td>\n",
       "      <td>AllPub</td>\n",
       "      <td>...</td>\n",
       "      <td>0</td>\n",
       "      <td>NaN</td>\n",
       "      <td>NaN</td>\n",
       "      <td>NaN</td>\n",
       "      <td>0</td>\n",
       "      <td>11</td>\n",
       "      <td>2006</td>\n",
       "      <td>New</td>\n",
       "      <td>Partial</td>\n",
       "      <td>325300</td>\n",
       "    </tr>\n",
       "    <tr>\n",
       "      <th>25</th>\n",
       "      <td>26</td>\n",
       "      <td>20</td>\n",
       "      <td>RL</td>\n",
       "      <td>110.0</td>\n",
       "      <td>14230</td>\n",
       "      <td>Pave</td>\n",
       "      <td>NaN</td>\n",
       "      <td>Reg</td>\n",
       "      <td>Lvl</td>\n",
       "      <td>AllPub</td>\n",
       "      <td>...</td>\n",
       "      <td>0</td>\n",
       "      <td>NaN</td>\n",
       "      <td>NaN</td>\n",
       "      <td>NaN</td>\n",
       "      <td>0</td>\n",
       "      <td>7</td>\n",
       "      <td>2009</td>\n",
       "      <td>WD</td>\n",
       "      <td>Normal</td>\n",
       "      <td>256300</td>\n",
       "    </tr>\n",
       "    <tr>\n",
       "      <th>27</th>\n",
       "      <td>28</td>\n",
       "      <td>20</td>\n",
       "      <td>RL</td>\n",
       "      <td>98.0</td>\n",
       "      <td>11478</td>\n",
       "      <td>Pave</td>\n",
       "      <td>NaN</td>\n",
       "      <td>Reg</td>\n",
       "      <td>Lvl</td>\n",
       "      <td>AllPub</td>\n",
       "      <td>...</td>\n",
       "      <td>0</td>\n",
       "      <td>NaN</td>\n",
       "      <td>NaN</td>\n",
       "      <td>NaN</td>\n",
       "      <td>0</td>\n",
       "      <td>5</td>\n",
       "      <td>2010</td>\n",
       "      <td>WD</td>\n",
       "      <td>Normal</td>\n",
       "      <td>306000</td>\n",
       "    </tr>\n",
       "    <tr>\n",
       "      <th>...</th>\n",
       "      <td>...</td>\n",
       "      <td>...</td>\n",
       "      <td>...</td>\n",
       "      <td>...</td>\n",
       "      <td>...</td>\n",
       "      <td>...</td>\n",
       "      <td>...</td>\n",
       "      <td>...</td>\n",
       "      <td>...</td>\n",
       "      <td>...</td>\n",
       "      <td>...</td>\n",
       "      <td>...</td>\n",
       "      <td>...</td>\n",
       "      <td>...</td>\n",
       "      <td>...</td>\n",
       "      <td>...</td>\n",
       "      <td>...</td>\n",
       "      <td>...</td>\n",
       "      <td>...</td>\n",
       "      <td>...</td>\n",
       "      <td>...</td>\n",
       "    </tr>\n",
       "    <tr>\n",
       "      <th>1359</th>\n",
       "      <td>1360</td>\n",
       "      <td>20</td>\n",
       "      <td>RL</td>\n",
       "      <td>129.0</td>\n",
       "      <td>16737</td>\n",
       "      <td>Pave</td>\n",
       "      <td>NaN</td>\n",
       "      <td>Reg</td>\n",
       "      <td>Lvl</td>\n",
       "      <td>AllPub</td>\n",
       "      <td>...</td>\n",
       "      <td>0</td>\n",
       "      <td>NaN</td>\n",
       "      <td>NaN</td>\n",
       "      <td>NaN</td>\n",
       "      <td>0</td>\n",
       "      <td>9</td>\n",
       "      <td>2006</td>\n",
       "      <td>WD</td>\n",
       "      <td>Normal</td>\n",
       "      <td>315000</td>\n",
       "    </tr>\n",
       "    <tr>\n",
       "      <th>1373</th>\n",
       "      <td>1374</td>\n",
       "      <td>20</td>\n",
       "      <td>RL</td>\n",
       "      <td>NaN</td>\n",
       "      <td>11400</td>\n",
       "      <td>Pave</td>\n",
       "      <td>NaN</td>\n",
       "      <td>Reg</td>\n",
       "      <td>Lvl</td>\n",
       "      <td>AllPub</td>\n",
       "      <td>...</td>\n",
       "      <td>0</td>\n",
       "      <td>NaN</td>\n",
       "      <td>NaN</td>\n",
       "      <td>NaN</td>\n",
       "      <td>0</td>\n",
       "      <td>3</td>\n",
       "      <td>2007</td>\n",
       "      <td>WD</td>\n",
       "      <td>Normal</td>\n",
       "      <td>466500</td>\n",
       "    </tr>\n",
       "    <tr>\n",
       "      <th>1417</th>\n",
       "      <td>1418</td>\n",
       "      <td>60</td>\n",
       "      <td>RL</td>\n",
       "      <td>NaN</td>\n",
       "      <td>16545</td>\n",
       "      <td>Pave</td>\n",
       "      <td>NaN</td>\n",
       "      <td>IR1</td>\n",
       "      <td>Lvl</td>\n",
       "      <td>AllPub</td>\n",
       "      <td>...</td>\n",
       "      <td>0</td>\n",
       "      <td>NaN</td>\n",
       "      <td>NaN</td>\n",
       "      <td>NaN</td>\n",
       "      <td>0</td>\n",
       "      <td>5</td>\n",
       "      <td>2009</td>\n",
       "      <td>WD</td>\n",
       "      <td>Normal</td>\n",
       "      <td>340000</td>\n",
       "    </tr>\n",
       "    <tr>\n",
       "      <th>1426</th>\n",
       "      <td>1427</td>\n",
       "      <td>60</td>\n",
       "      <td>RL</td>\n",
       "      <td>81.0</td>\n",
       "      <td>10944</td>\n",
       "      <td>Pave</td>\n",
       "      <td>NaN</td>\n",
       "      <td>IR1</td>\n",
       "      <td>Lvl</td>\n",
       "      <td>AllPub</td>\n",
       "      <td>...</td>\n",
       "      <td>0</td>\n",
       "      <td>NaN</td>\n",
       "      <td>NaN</td>\n",
       "      <td>NaN</td>\n",
       "      <td>0</td>\n",
       "      <td>8</td>\n",
       "      <td>2008</td>\n",
       "      <td>WD</td>\n",
       "      <td>Normal</td>\n",
       "      <td>271000</td>\n",
       "    </tr>\n",
       "    <tr>\n",
       "      <th>1437</th>\n",
       "      <td>1438</td>\n",
       "      <td>20</td>\n",
       "      <td>RL</td>\n",
       "      <td>96.0</td>\n",
       "      <td>12444</td>\n",
       "      <td>Pave</td>\n",
       "      <td>NaN</td>\n",
       "      <td>Reg</td>\n",
       "      <td>Lvl</td>\n",
       "      <td>AllPub</td>\n",
       "      <td>...</td>\n",
       "      <td>0</td>\n",
       "      <td>NaN</td>\n",
       "      <td>NaN</td>\n",
       "      <td>NaN</td>\n",
       "      <td>0</td>\n",
       "      <td>11</td>\n",
       "      <td>2008</td>\n",
       "      <td>New</td>\n",
       "      <td>Partial</td>\n",
       "      <td>394617</td>\n",
       "    </tr>\n",
       "  </tbody>\n",
       "</table>\n",
       "<p>118 rows × 81 columns</p>\n",
       "</div>"
      ],
      "text/plain": [
       "        Id  MSSubClass MSZoning  LotFrontage  LotArea Street Alley LotShape  \\\n",
       "4        5          60       RL         84.0    14260   Pave   NaN      IR1   \n",
       "11      12          60       RL         85.0    11924   Pave   NaN      IR1   \n",
       "20      21          60       RL        101.0    14215   Pave   NaN      IR1   \n",
       "25      26          20       RL        110.0    14230   Pave   NaN      Reg   \n",
       "27      28          20       RL         98.0    11478   Pave   NaN      Reg   \n",
       "...    ...         ...      ...          ...      ...    ...   ...      ...   \n",
       "1359  1360          20       RL        129.0    16737   Pave   NaN      Reg   \n",
       "1373  1374          20       RL          NaN    11400   Pave   NaN      Reg   \n",
       "1417  1418          60       RL          NaN    16545   Pave   NaN      IR1   \n",
       "1426  1427          60       RL         81.0    10944   Pave   NaN      IR1   \n",
       "1437  1438          20       RL         96.0    12444   Pave   NaN      Reg   \n",
       "\n",
       "     LandContour Utilities  ... PoolArea PoolQC Fence MiscFeature MiscVal  \\\n",
       "4            Lvl    AllPub  ...        0    NaN   NaN         NaN       0   \n",
       "11           Lvl    AllPub  ...        0    NaN   NaN         NaN       0   \n",
       "20           Lvl    AllPub  ...        0    NaN   NaN         NaN       0   \n",
       "25           Lvl    AllPub  ...        0    NaN   NaN         NaN       0   \n",
       "27           Lvl    AllPub  ...        0    NaN   NaN         NaN       0   \n",
       "...          ...       ...  ...      ...    ...   ...         ...     ...   \n",
       "1359         Lvl    AllPub  ...        0    NaN   NaN         NaN       0   \n",
       "1373         Lvl    AllPub  ...        0    NaN   NaN         NaN       0   \n",
       "1417         Lvl    AllPub  ...        0    NaN   NaN         NaN       0   \n",
       "1426         Lvl    AllPub  ...        0    NaN   NaN         NaN       0   \n",
       "1437         Lvl    AllPub  ...        0    NaN   NaN         NaN       0   \n",
       "\n",
       "     MoSold YrSold  SaleType  SaleCondition  SalePrice  \n",
       "4        12   2008        WD         Normal     250000  \n",
       "11        7   2006       New        Partial     345000  \n",
       "20       11   2006       New        Partial     325300  \n",
       "25        7   2009        WD         Normal     256300  \n",
       "27        5   2010        WD         Normal     306000  \n",
       "...     ...    ...       ...            ...        ...  \n",
       "1359      9   2006        WD         Normal     315000  \n",
       "1373      3   2007        WD         Normal     466500  \n",
       "1417      5   2009        WD         Normal     340000  \n",
       "1426      8   2008        WD         Normal     271000  \n",
       "1437     11   2008       New        Partial     394617  \n",
       "\n",
       "[118 rows x 81 columns]"
      ]
     },
     "execution_count": 38,
     "metadata": {},
     "output_type": "execute_result"
    }
   ],
   "source": [
    "neighbor = ['NoRidge', 'NridgHt']\n",
    "data_nhbr = data.loc[data.Neighborhood.isin(neighbor), :] ;data_nhbr"
   ]
  },
  {
   "cell_type": "code",
   "execution_count": 39,
   "id": "df872e86",
   "metadata": {},
   "outputs": [],
   "source": [
    "def hexbin(x, y, color, **kwargs):\n",
    "    cmap = sns.light_palette(color, as_cmap=True)\n",
    "    plt.hexbin(x, y, gridsize=25, cmap=cmap, **kwargs)"
   ]
  },
  {
   "cell_type": "code",
   "execution_count": 40,
   "id": "c0e65cd0",
   "metadata": {},
   "outputs": [
    {
     "data": {
      "text/plain": [
       "<seaborn.axisgrid.FacetGrid at 0x1600eec9b20>"
      ]
     },
     "execution_count": 40,
     "metadata": {},
     "output_type": "execute_result"
    },
    {
     "data": {
      "image/png": "[encoded data removed]",
      "text/plain": [
       "<Figure size 432x216 with 2 Axes>"
      ]
     },
     "metadata": {
      "needs_background": "light"
     },
     "output_type": "display_data"
    }
   ],
   "source": [
    "g = sns.FacetGrid(data_nhbr, col='Neighborhood', col_wrap=2)\n",
    "g.map(hexbin, 'SalePrice', 'GrLivArea')\n",
    "g.set_axis_labels('Sale Price', 'Ground Live Area (SF)')"
   ]
  }
 ],
 "metadata": {
  "kernelspec": {
   "display_name": "Python 3",
   "language": "python",
   "name": "python3"
  },
  "language_info": {
   "codemirror_mode": {
    "name": "ipython",
    "version": 3
   },
   "file_extension": ".py",
   "mimetype": "text/x-python",
   "name": "python",
   "nbconvert_exporter": "python",
   "pygments_lexer": "ipython3",
   "version": "3.8.8"
  }
 },
 "nbformat": 4,
 "nbformat_minor": 5
}
