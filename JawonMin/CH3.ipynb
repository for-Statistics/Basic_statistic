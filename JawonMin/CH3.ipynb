{
 "cells": [
  {
   "cell_type": "markdown",
   "id": "52b6b3b8",
   "metadata": {},
   "source": [
    "# CH3. 통계적 실험과 유의성 검정\n",
    "\n",
    "- 추론(inference): 제한된 데이터로 주어진 실험 결과를ㄹ 더 큰 과정 또는 묍단에 적용하려는 의도"
   ]
  },
  {
   "cell_type": "markdown",
   "id": "422263de",
   "metadata": {},
   "source": [
    "## 3.1 A/B 검정\n",
    "\n",
    "===================================================================================================\n",
    "###### 용어정리\n",
    "- 처리(treatment): 어떤 대상에 주어지는 특별한 환경이나 조건(약, 가격, 인터넷 뉴스 제목)\n",
    "- 처리군(처리 그룹, treatment group): 특정 처리에 노출된 대상들의 집단\n",
    "- 대조군(대조 그룹, control group): 어떤 처리도 하지 않은 대상들의 지받ㄴ\n",
    "- 임의화(랜덤화, randomization): 처리를 적용할 대상을 임의로 결정하는 과정\n",
    "- 대상(subject): 처리를 적용할 개체 대상(유의어: 피실험자)\n",
    "- 검정통계량(test statistic): 처리 효과를 측정하기 위한 지표\n",
    "\n",
    "==================================================================================================="
   ]
  },
  {
   "cell_type": "markdown",
   "id": "4429985a",
   "metadata": {},
   "source": [
    "### 3.1.1 대조군은 왜 필요할까?\n",
    "- 관심있는 처리를 제외한 다른 모든 조건이 동일하게 적용되게 하기 위해서 대조군이 필요. \n",
    "- 대조군이 없다면 어떤 차이가 처리때문인지 우연인지 확신할 수 없음\n",
    "<br>\n",
    "\n",
    "- 단일 지표 또는 검정통계량을 사전에 미리 정해두어야 함\n",
    "- 실험을 수행한 뒤 나중에 검정통계량을 선택하면 연구자 편향이라는 함정에 빠질 수 있음\n",
    "\n",
    "#### NOTE_ 연구를 위한 눈가림\n",
    "- 눈가림(맹검) 연구(blind study): 피실험자가 처리 A나 처리 B 중 어느것을 받고있는지 알지 못하도록 하는 연구 방식. 특정 처리를 받는 것에 대한 인식이 반응에 영향을 줄 수 있기 때문\n",
    "- 이중눈가림(이중맹검) 연구(double blind study): 조사자와 진행자 모두가 어떤 대상이 어떤 처리를 받았는지 모르게 하는 연구. "
   ]
  },
  {
   "cell_type": "markdown",
   "id": "d56ae623",
   "metadata": {},
   "source": [
    "### 3.1.2 왜 하필 A/B일까? C, D, ... 가 아니라?\n",
    "- 데이터 과학 분야에서는 전통적인 의미의 통계적 실험설계보다 현실적인 결과를 알아내는 데 더 관심이 있다.\n",
    "*ex) 가격 A와 가격 B의 차이가 통계적으로 유의한가? <<< 가능한 여러 가격 중에서 가장 좋은 가격은 얼마일까?\n",
    "\n",
    "###### 주요개념\n",
    "- 연구 대상을 두 가지 이상의 그룹 중 하나에 할당한다. 여기서 서로 다른 처리 조건을 제외한 나머지 조건들은 정확히 동일하게 처리된다.\n",
    "- 이상적으로, 대상들은 그룹에 무작위로 배정된다.\n"
   ]
  },
  {
   "cell_type": "markdown",
   "id": "30dd1cfb",
   "metadata": {},
   "source": [
    "## 3.2 가설검정\n",
    "- 그룹 A와 그룹 B 사이에서 보이는차이가 우연에 의한 것인지를 평가하기 위해 A/B검정이나 더 나아가 그 외 여러 무작위 실험을 포함하는 분석\n",
    "\n",
    "===================================================================================================\n",
    "###### 용어정리\n",
    "- 귀무가설(null hypothesis): 우연때문이라는 가설(유의어: 영가설)\n",
    "- 대립가설(alternative hypothesis): 귀무가설과의 대조(증명하고자 하는 가설)\n",
    "- 일원검정(one-way test): 한 방향으로만 우연히 일어날 확률을 계산하는 가설검정\n",
    "- 이원검정(two-way test): 양방향으로 우연히 일어날 확률을 계산하는 가설검정\n",
    "\n",
    "==================================================================================================="
   ]
  },
  {
   "cell_type": "markdown",
   "id": "dd978337",
   "metadata": {},
   "source": [
    "###### 주요개념\n",
    "- 귀무가설은 우리가 관찰한 어떤 효과가 특별한 것이 아니고 우연에 의해 발생한 것이라는 개념을 구체화하는 일종의 논리적 구조이다.\n",
    "- 가설검정은 귀무가설이 사실이라고 가정하고, '영모형null model'(확률모형probability model)을 생성하여 관찰한 효과가 해당 모델로부터 합리적으로 나올 수 있는 결과인지를 검증하는 것이다."
   ]
  },
  {
   "cell_type": "markdown",
   "id": "8a760f92",
   "metadata": {},
   "source": [
    "## 3.3 재표본추출\n",
    "\n",
    "===================================================================================================\n",
    "###### 용어정리\n",
    "- 순열검정(permutation test): 두 개 이상의 표본을 함께 결합하여 관측값들을 무작위로(또는 전부를) 재표본으로 추출하는 과정 (유의어: 임의화검정, 임의순열검정, 정확검정)\n",
    "- 재표본추출: 관측 데이터로부터 반복해서 표본추출하는 과정\n",
    "- 복원/비복원(with or without replacement): 표본을 추출할 때, 이미 한 번 뽑은 데이터를 다음번 추출을 위해 다시 제자리에 돌려 놓거나/다음 추출에서 제외하는 표본추출 방법\n",
    "\n",
    "==================================================================================================="
   ]
  },
  {
   "cell_type": "markdown",
   "id": "724ca77e",
   "metadata": {},
   "source": [
    "### 3.3.1 순열검정\n",
    "\n",
    "*순서를 바꾼다(permute)\n",
    "\n",
    "###### 순열 절차\n",
    "1. 여러 그룹의 결과를 단일 데이터 집합으로 결합\n",
    "2. 결합된 데이터를 잘 섞은 후, 그룹 A와 동일한 크기의 표본을 무작위로(비복원) 추출\n",
    "3. 나머지 데이터에서 그룹 B와 동일한 크기의 샘플을 무작위(비복원) 추출\n",
    "4. C, D 등의 그룹에 대해서도 동일한 작업 수행. 이제 원본 표본의 크기를 반영하는 재표본을 수집했다.\n",
    "5. 원래 샘플에 대해 구한 통계량 또는 추정치가 무엇이었든 간에 지금 추출한 재표본에 대해 모두 다시 계산하고 기록. 이것으로 한 번의 순열 반복이 진행된다.\n",
    "6. 앞선 단계들을 R번 반복하여 검정통계량의 순열 분포를 얻는다.\n",
    "7. 실험을 통해 관찰했던 그룹 간 차이점과, 순열 과정에서 얻은 집합에서의 차이를 비교하여 가설을 검증한다"
   ]
  },
  {
   "cell_type": "markdown",
   "id": "b9d007fd",
   "metadata": {},
   "source": [
    "### 3.3.2 예제: 웹 점착성\n",
    "\n",
    "###### TIP_ 대리변수(proxy variable)\n",
    "- 참된 관심 변수를 대신하는 변수\n",
    "- 관심 변수를 직접 얻을 수 없거나, 측정하는 데 많은 비용이나 시간이 소요될 경우 이를 대체하여 사용됨"
   ]
  },
  {
   "cell_type": "code",
   "execution_count": 1,
   "id": "26695bd5",
   "metadata": {},
   "outputs": [],
   "source": [
    "from pathlib import Path\n",
    "import random\n",
    "\n",
    "import pandas as pd\n",
    "import numpy as np\n",
    "\n",
    "from scipy import stats\n",
    "import statsmodels.api as sm\n",
    "import statsmodels.formula.api as smf\n",
    "from statsmodels.stats import power\n",
    "\n",
    "import matplotlib.pylab as plt"
   ]
  },
  {
   "cell_type": "code",
   "execution_count": 15,
   "id": "38bc6d49",
   "metadata": {},
   "outputs": [
    {
     "data": {
      "text/html": [
       "<div>\n",
       "<style scoped>\n",
       "    .dataframe tbody tr th:only-of-type {\n",
       "        vertical-align: middle;\n",
       "    }\n",
       "\n",
       "    .dataframe tbody tr th {\n",
       "        vertical-align: top;\n",
       "    }\n",
       "\n",
       "    .dataframe thead th {\n",
       "        text-align: right;\n",
       "    }\n",
       "</style>\n",
       "<table border=\"1\" class=\"dataframe\">\n",
       "  <thead>\n",
       "    <tr style=\"text-align: right;\">\n",
       "      <th></th>\n",
       "      <th>Page</th>\n",
       "      <th>Time</th>\n",
       "    </tr>\n",
       "  </thead>\n",
       "  <tbody>\n",
       "    <tr>\n",
       "      <th>0</th>\n",
       "      <td>Page A</td>\n",
       "      <td>0.21</td>\n",
       "    </tr>\n",
       "    <tr>\n",
       "      <th>1</th>\n",
       "      <td>Page B</td>\n",
       "      <td>2.53</td>\n",
       "    </tr>\n",
       "    <tr>\n",
       "      <th>2</th>\n",
       "      <td>Page A</td>\n",
       "      <td>0.35</td>\n",
       "    </tr>\n",
       "    <tr>\n",
       "      <th>3</th>\n",
       "      <td>Page B</td>\n",
       "      <td>0.71</td>\n",
       "    </tr>\n",
       "    <tr>\n",
       "      <th>4</th>\n",
       "      <td>Page A</td>\n",
       "      <td>0.67</td>\n",
       "    </tr>\n",
       "    <tr>\n",
       "      <th>5</th>\n",
       "      <td>Page B</td>\n",
       "      <td>0.85</td>\n",
       "    </tr>\n",
       "    <tr>\n",
       "      <th>6</th>\n",
       "      <td>Page A</td>\n",
       "      <td>2.11</td>\n",
       "    </tr>\n",
       "    <tr>\n",
       "      <th>7</th>\n",
       "      <td>Page B</td>\n",
       "      <td>2.46</td>\n",
       "    </tr>\n",
       "    <tr>\n",
       "      <th>8</th>\n",
       "      <td>Page A</td>\n",
       "      <td>1.32</td>\n",
       "    </tr>\n",
       "    <tr>\n",
       "      <th>9</th>\n",
       "      <td>Page B</td>\n",
       "      <td>1.49</td>\n",
       "    </tr>\n",
       "    <tr>\n",
       "      <th>10</th>\n",
       "      <td>Page A</td>\n",
       "      <td>0.68</td>\n",
       "    </tr>\n",
       "    <tr>\n",
       "      <th>11</th>\n",
       "      <td>Page B</td>\n",
       "      <td>0.75</td>\n",
       "    </tr>\n",
       "    <tr>\n",
       "      <th>12</th>\n",
       "      <td>Page A</td>\n",
       "      <td>3.21</td>\n",
       "    </tr>\n",
       "    <tr>\n",
       "      <th>13</th>\n",
       "      <td>Page B</td>\n",
       "      <td>3.33</td>\n",
       "    </tr>\n",
       "    <tr>\n",
       "      <th>14</th>\n",
       "      <td>Page A</td>\n",
       "      <td>1.47</td>\n",
       "    </tr>\n",
       "    <tr>\n",
       "      <th>15</th>\n",
       "      <td>Page B</td>\n",
       "      <td>1.87</td>\n",
       "    </tr>\n",
       "    <tr>\n",
       "      <th>16</th>\n",
       "      <td>Page A</td>\n",
       "      <td>0.95</td>\n",
       "    </tr>\n",
       "    <tr>\n",
       "      <th>17</th>\n",
       "      <td>Page B</td>\n",
       "      <td>1.26</td>\n",
       "    </tr>\n",
       "    <tr>\n",
       "      <th>18</th>\n",
       "      <td>Page A</td>\n",
       "      <td>0.45</td>\n",
       "    </tr>\n",
       "    <tr>\n",
       "      <th>19</th>\n",
       "      <td>Page B</td>\n",
       "      <td>0.48</td>\n",
       "    </tr>\n",
       "    <tr>\n",
       "      <th>20</th>\n",
       "      <td>Page A</td>\n",
       "      <td>1.18</td>\n",
       "    </tr>\n",
       "    <tr>\n",
       "      <th>21</th>\n",
       "      <td>Page B</td>\n",
       "      <td>1.47</td>\n",
       "    </tr>\n",
       "    <tr>\n",
       "      <th>22</th>\n",
       "      <td>Page A</td>\n",
       "      <td>3.42</td>\n",
       "    </tr>\n",
       "    <tr>\n",
       "      <th>23</th>\n",
       "      <td>Page B</td>\n",
       "      <td>3.57</td>\n",
       "    </tr>\n",
       "    <tr>\n",
       "      <th>24</th>\n",
       "      <td>Page A</td>\n",
       "      <td>1.97</td>\n",
       "    </tr>\n",
       "    <tr>\n",
       "      <th>25</th>\n",
       "      <td>Page B</td>\n",
       "      <td>2.23</td>\n",
       "    </tr>\n",
       "    <tr>\n",
       "      <th>26</th>\n",
       "      <td>Page A</td>\n",
       "      <td>0.39</td>\n",
       "    </tr>\n",
       "    <tr>\n",
       "      <th>27</th>\n",
       "      <td>Page B</td>\n",
       "      <td>0.43</td>\n",
       "    </tr>\n",
       "    <tr>\n",
       "      <th>28</th>\n",
       "      <td>Page A</td>\n",
       "      <td>0.65</td>\n",
       "    </tr>\n",
       "    <tr>\n",
       "      <th>29</th>\n",
       "      <td>Page B</td>\n",
       "      <td>0.87</td>\n",
       "    </tr>\n",
       "    <tr>\n",
       "      <th>30</th>\n",
       "      <td>Page A</td>\n",
       "      <td>1.73</td>\n",
       "    </tr>\n",
       "    <tr>\n",
       "      <th>31</th>\n",
       "      <td>Page A</td>\n",
       "      <td>0.74</td>\n",
       "    </tr>\n",
       "    <tr>\n",
       "      <th>32</th>\n",
       "      <td>Page A</td>\n",
       "      <td>0.86</td>\n",
       "    </tr>\n",
       "    <tr>\n",
       "      <th>33</th>\n",
       "      <td>Page A</td>\n",
       "      <td>1.18</td>\n",
       "    </tr>\n",
       "    <tr>\n",
       "      <th>34</th>\n",
       "      <td>Page A</td>\n",
       "      <td>2.06</td>\n",
       "    </tr>\n",
       "    <tr>\n",
       "      <th>35</th>\n",
       "      <td>Page A</td>\n",
       "      <td>0.93</td>\n",
       "    </tr>\n",
       "  </tbody>\n",
       "</table>\n",
       "</div>"
      ],
      "text/plain": [
       "      Page  Time\n",
       "0   Page A  0.21\n",
       "1   Page B  2.53\n",
       "2   Page A  0.35\n",
       "3   Page B  0.71\n",
       "4   Page A  0.67\n",
       "5   Page B  0.85\n",
       "6   Page A  2.11\n",
       "7   Page B  2.46\n",
       "8   Page A  1.32\n",
       "9   Page B  1.49\n",
       "10  Page A  0.68\n",
       "11  Page B  0.75\n",
       "12  Page A  3.21\n",
       "13  Page B  3.33\n",
       "14  Page A  1.47\n",
       "15  Page B  1.87\n",
       "16  Page A  0.95\n",
       "17  Page B  1.26\n",
       "18  Page A  0.45\n",
       "19  Page B  0.48\n",
       "20  Page A  1.18\n",
       "21  Page B  1.47\n",
       "22  Page A  3.42\n",
       "23  Page B  3.57\n",
       "24  Page A  1.97\n",
       "25  Page B  2.23\n",
       "26  Page A  0.39\n",
       "27  Page B  0.43\n",
       "28  Page A  0.65\n",
       "29  Page B  0.87\n",
       "30  Page A  1.73\n",
       "31  Page A  0.74\n",
       "32  Page A  0.86\n",
       "33  Page A  1.18\n",
       "34  Page A  2.06\n",
       "35  Page A  0.93"
      ]
     },
     "execution_count": 15,
     "metadata": {},
     "output_type": "execute_result"
    }
   ],
   "source": [
    "session_times = pd.read_csv('C:/data/stats_for_ds/web_page_data.csv') ;session_times\n",
    "four_sessions = pd.read_csv('C:/data/stats_for_ds/four_sessions.csv') ;four_sessions\n",
    "click_rates = pd.read_csv('C:/data/stats_for_ds/click_rates.csv') ;click_rates\n",
    "imanishi_data = pd.read_csv('C:/data/stats_for_ds/imanishi_data.csv') ;imanishi_data\n",
    "\n",
    "session_times"
   ]
  },
  {
   "cell_type": "code",
   "execution_count": 16,
   "id": "d128fd1f",
   "metadata": {},
   "outputs": [
    {
     "data": {
      "text/plain": [
       "Text(0.5, 0.98, '')"
      ]
     },
     "execution_count": 16,
     "metadata": {},
     "output_type": "execute_result"
    },
    {
     "data": {
      "image/png": "[encoded data removed]",
      "text/plain": [
       "<Figure size 432x288 with 1 Axes>"
      ]
     },
     "metadata": {
      "needs_background": "light"
     },
     "output_type": "display_data"
    }
   ],
   "source": [
    "# [그림 3-3] 웹페이지 A와 B의 세션시간\n",
    "ax = session_times.boxplot(by='Page', column='Time')\n",
    "ax.set_xlabel('')\n",
    "ax.set_ylabel('Time (in second)')\n",
    "plt.suptitle('')"
   ]
  },
  {
   "cell_type": "code",
   "execution_count": 20,
   "id": "57c35936",
   "metadata": {},
   "outputs": [
    {
     "data": {
      "text/plain": [
       "0.35666666666666713"
      ]
     },
     "execution_count": 20,
     "metadata": {},
     "output_type": "execute_result"
    }
   ],
   "source": [
    "# 페이지 A와 B의 평균 세션시간 차이 \n",
    "mean_a = session_times[session_times.Page=='Page A'].Time.mean()\n",
    "mean_b = session_times[session_times.Page=='Page B'].Time.mean()\n",
    "mean_b - mean_a # B>A"
   ]
  },
  {
   "cell_type": "code",
   "execution_count": 23,
   "id": "2d38d594",
   "metadata": {},
   "outputs": [],
   "source": [
    "# 순열검정\n",
    "def perm_fun(x, nA, nB):\n",
    "    n = nA + nB\n",
    "    idx_B = set(random.sample(range(n), nB)) # 1. 비복원 추출 방식으로 nB개의 표본을 추출하여 그룹 B에 할당\n",
    "    idx_A = set(range(n)) - idx_B # 2. 나머지 nA개는 그룹 A에 할당\n",
    "    return x.loc[idx_B].mean() - x.loc[idx_A].mean() # 두 그룹 간 평균 차이 계산"
   ]
  },
  {
   "cell_type": "code",
   "execution_count": 31,
   "id": "2ac41515",
   "metadata": {},
   "outputs": [
    {
     "data": {
      "text/plain": [
       "Text(0, 0.5, 'Frequency')"
      ]
     },
     "execution_count": 31,
     "metadata": {},
     "output_type": "execute_result"
    },
    {
     "data": {
      "image/png": "[encoded data removed]",
      "text/plain": [
       "<Figure size 360x360 with 1 Axes>"
      ]
     },
     "metadata": {
      "needs_background": "light"
     },
     "output_type": "display_data"
    }
   ],
   "source": [
    "# perm_fun 함수를 R번 호출하여 세션시간 차이 히스토그램으로 표시\n",
    "\n",
    "nA = session_times[session_times.Page == 'Page A'].shape[0]\n",
    "nB = session_times[session_times.Page == 'Page B'].shape[0]\n",
    "\n",
    "perm_diffs = [perm_fun(session_times.Time, nA, nB) for _ in range(1000)]\n",
    "\n",
    "fig, ax = plt.subplots(figsize=(5, 5))\n",
    "ax.hist(perm_diffs, bins=11, rwidth=0.9)\n",
    "ax.axvline(x=mean_b - mean_a, color='black', lw=2)\n",
    "# ax.text(50, 190, 'Observed/ndifference', bbox={'facecolor': 'white'})\n",
    "ax.set_xlabel('Session time differences (in seconds)')\n",
    "ax.set_ylabel('Frequency')"
   ]
  },
  {
   "cell_type": "markdown",
   "id": "0b29012a",
   "metadata": {},
   "source": [
    "### 3.3.3 전체 및 부트스트랩 순열검정\n",
    "- 앞서 살펴본 랜덤 셔플링 절차를 <b>임의순열검정(random permutation test) 또는 임의화검정(randomization test</b>라고 부르며\n",
    "- 이외에도 순열검정에는 두 가지 변종이 존재 => <b>전체순열검정(exhaustive permutation test), 부트스트랩 순열검정(bootstrap permutation test)</b>\n",
    "\n",
    "\n",
    "<b>1. 전체순열검정</b>\n",
    "\n",
    "- 데이터를 무작위로 섞고 나누는 대신 실제로 나눌 수 있는 모든 가증한 조합을 찾는다. (샘플 크기가 작을때만 실용적)\n",
    "- 영모형이 어떤 유의수준 이상으로 '더 유의미하다'라는 식의 다소 애매한 결론이 아닌 좀 더 정확한 결론을 보장하는 통계적 속성 때문에 <b>정확검정(exact test)</b>이라고도 함\n",
    "\n",
    "<br>\n",
    "\n",
    "\n",
    "<b>2. 부트스트랩 순영검정</b>\n",
    "\n",
    "- 무작위 순열검정에서 비복원으로 하던 것을 복원 추출로 수행함으로써 임의성 보장"
   ]
  },
  {
   "cell_type": "markdown",
   "id": "7773759e",
   "metadata": {},
   "source": [
    "### 3.3.4 순열검정: 데이터 과학의 최종 결론\n",
    "- 랜덤한 변이가 어떤 역할을 하는지 알아보기 위해 사용되는 휴리스틱한 절차\n",
    "\n",
    "###### 주요개념\n",
    "- 순열검정에서는 여러 표본을 결합한 다음 잘 섞는다\n",
    "- 그런 다음 섞인 값들을 이용해 재표본추출 과정을 거쳐, 관심 있는 표본통계량을 계산한다.\n",
    "- 이 과정을 반복하고 재표본추출한 통계를 도표화한다.\n",
    "- 관측된 통계량을 재표본추출한 분포와 비교하면 샘플 간에 관찰된 차이가 우연에 의한 것인지를 판단할 수 있다."
   ]
  },
  {
   "cell_type": "markdown",
   "id": "b5d6657e",
   "metadata": {},
   "source": [
    "## 3.4 통계적 유의성과 p값\n",
    "\n",
    "===================================================================================================\n",
    "###### 용어정리\n",
    "- p값(p-value): 귀무가설을 구체화한 기회 모델이 주어졌을 때 관측된 결과와 같이 특이하거나 극단적인 결과를 얻을 확률\n",
    "- 알파(alpha): 실제 결과가 통계적으로 의미있는 것으로 간주되기 위해, 우연에 의한 결과가 능가해야 하는 '비정상적인' 가능성의 임계 확률\n",
    "- 제 1종 오류(type I error): 우연에 의한 효과를 실제 효과라고 잘못 결론 내리는 것(귀무가설이 참일 때 귀무가설을 기각하는 것)\n",
    "- 제 2종 오류(type II error): 실제 효과를 우연에 의한 효과라고 잘못 결론 내리는 것(귀무가설이 거짓일 때 귀무가설을 받아들이는 것)\n",
    "\n",
    "==================================================================================================="
   ]
  },
  {
   "cell_type": "code",
   "execution_count": 32,
   "id": "eec391ea",
   "metadata": {},
   "outputs": [
    {
     "name": "stdout",
     "output_type": "stream",
     "text": [
      "Observed difference: 0.0368%\n"
     ]
    },
    {
     "data": {
      "image/png": "[encoded data removed]",
      "text/plain": [
       "<Figure size 360x360 with 1 Axes>"
      ]
     },
     "metadata": {
      "needs_background": "light"
     },
     "output_type": "display_data"
    }
   ],
   "source": [
    "# p127 예제\n",
    "\n",
    "# [그림 3-5] 가격 A와 가격 B사이의 전환율 차이에 대한 도수분포\n",
    "obs_pct_diff = 100 * (200 / 23739 - 182 / 22588)\n",
    "print(f'Observed difference: {obs_pct_diff:.4f}%')\n",
    "\n",
    "conversion = [0] * 45945\n",
    "conversion.extend([1] * 382)\n",
    "conversion = pd.Series(conversion)\n",
    "\n",
    "perm_diffs = [100 * perm_fun(conversion, 23739, 22588) \n",
    "              for _ in range(1000)]\n",
    "\n",
    "fig, ax = plt.subplots(figsize=(5, 5))\n",
    "ax.hist(perm_diffs, bins=11, rwidth=0.9)\n",
    "ax.axvline(x=obs_pct_diff, color='black', lw=2)\n",
    "ax.text(0.06, 200, 'Observed\\ndifference', bbox={'facecolor':'white'})\n",
    "ax.set_xlabel('Conversion rate (percent)')\n",
    "ax.set_ylabel('Frequency')\n",
    "\n",
    "plt.tight_layout()\n",
    "plt.show()"
   ]
  },
  {
   "cell_type": "markdown",
   "id": "e93fd254",
   "metadata": {},
   "source": [
    "위 그래프를 통해 0.0368%의 차이(observed difference)는 랜덤 변이의 범위 내에 있는 것으로 파악할 수 있다"
   ]
  },
  {
   "cell_type": "markdown",
   "id": "4ec24b31",
   "metadata": {},
   "source": [
    "### 3.4.1 p값\n",
    "\n",
    "- 그래프를 눈으로 보는 것보다는 p-value와 같이 통계적 유의성을 정확히 측정학 ㅣ위한 지표가 필요하다.\n",
    "\n",
    "*사실 위 예제의 경우, p-value를 얻기 위해 순열검정할 필요가 없다. 가설이 이항분포를 ㅏㄸ르기 때문에 p-value를 근사할 수 있다."
   ]
  },
  {
   "cell_type": "code",
   "execution_count": 33,
   "id": "b87b43ea",
   "metadata": {},
   "outputs": [
    {
     "name": "stdout",
     "output_type": "stream",
     "text": [
      "p-value for single sided test: 0.3498\n"
     ]
    }
   ],
   "source": [
    "survivors = np.array([[200, 23739 - 200], [182, 22588 - 182]])\n",
    "chi2, p_value, df, _ = stats.chi2_contingency(survivors)\n",
    "\n",
    "print(f'p-value for single sided test: {p_value / 2:.4f}')"
   ]
  },
  {
   "cell_type": "markdown",
   "id": "393eaa31",
   "metadata": {},
   "source": [
    "### 3.4.2 유의수준\n",
    "\n",
    "<b> p-value에 관하여</b>\n",
    "- *NOT 결과가 우연에서 비롯될 확률 *BUT <b>랜덤 모델이 주어졌을 때</b>, 그 결과가 관찰된 결과보다 더 극단적일 확률\n",
    "- p-value가 유의미하다고해서 그것이 바로 '증거가'되는 것은 아님\n",
    "- 결과가 통계적으로 유의미하다고해서 실제적으로 유의미하다는 뜻은 아님\n",
    "\n",
    "*p131 참고 (미국통계협회의 성명서 - p value 사용에 대한 경고를 촉구하는"
   ]
  },
  {
   "cell_type": "markdown",
   "id": "e606df6b",
   "metadata": {},
   "source": [
    "### 3.4.3 제1종 오류와 제2종 오류\n",
    "- 제 1종 오류: 어떤 효과가 우연히 발생한 것인데, 그것이 사실이라고 잘못 판단하는 경우\n",
    "- 제 2종 오류: 어떤 효과가 실제로 있는 것인데, 그것이 우연히 발생한 것이라고 잘못 판단하는 경우\n",
    "<br>\n",
    "\n",
    "- 보통은 1종 오류를 최소화하도록 가설을 설계한다"
   ]
  },
  {
   "cell_type": "markdown",
   "id": "ae02aaee",
   "metadata": {},
   "source": [
    "### 3.4.4 데이터 과학과 p값\n",
    "- 데이터 과학에서의 p-value: 관심 있고 유용한 모델의 결과가 일반적인 랜덤 변이의 범위 내에 있는지를 알고싶을 때 유용한 측정 지표\n",
    "\n",
    "###### 주요개념\n",
    "- 유의성검정은 관찰된 효과가 귀무가설 모형에 대한 무작위 변이의 범위 내에 있는지 결정하는 데 사용된다.\n",
    "- p value는 귀무가설로부터 나올 수 없는 결과가 관찰된 결과만큼 극단적으로 나타날 확률이다.\n",
    "- 유의수준(알파)이란, 귀무가설 모델에서 '비정상'이라고 판단할 임계값을 말한다.\n",
    "- 유의성검정은 데이터 과학보다는 좀 더 공식적인 연구 보고와 관련이 있다(그러나 공식적인 연구 보고의 경우에도 최근에는 중요성이 희미해지고 있다)."
   ]
  }
 ],
 "metadata": {
  "kernelspec": {
   "display_name": "Python 3",
   "language": "python",
   "name": "python3"
  },
  "language_info": {
   "codemirror_mode": {
    "name": "ipython",
    "version": 3
   },
   "file_extension": ".py",
   "mimetype": "text/x-python",
   "name": "python",
   "nbconvert_exporter": "python",
   "pygments_lexer": "ipython3",
   "version": "3.8.8"
  }
 },
 "nbformat": 4,
 "nbformat_minor": 5
}
